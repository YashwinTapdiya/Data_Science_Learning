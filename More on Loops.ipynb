{
 "cells": [
  {
   "cell_type": "markdown",
   "id": "a24072d5",
   "metadata": {},
   "source": [
    "# For loops and range method"
   ]
  },
  {
   "cell_type": "code",
   "execution_count": 1,
   "id": "85a32a8e",
   "metadata": {},
   "outputs": [
    {
     "name": "stdout",
     "output_type": "stream",
     "text": [
      "a\n",
      "b\n",
      "c\n",
      "d\n"
     ]
    }
   ],
   "source": [
    "s =\"abcd\"\n",
    "for c in s:\n",
    "    print(c)"
   ]
  },
  {
   "cell_type": "code",
   "execution_count": 2,
   "id": "37d365bf",
   "metadata": {},
   "outputs": [
    {
     "name": "stdout",
     "output_type": "stream",
     "text": [
      "10\n",
      "1\n",
      "2\n",
      "3\n",
      "4\n",
      "5\n",
      "6\n",
      "7\n",
      "8\n",
      "9\n",
      "10\n"
     ]
    }
   ],
   "source": [
    "#print first n natural n numbers\n",
    "#range(start,stop,stirde)\n",
    "\n",
    "#giving all three values to range\n",
    "n = int(input())\n",
    "for i in range(1,n+1,1):\n",
    "    print(i)"
   ]
  },
  {
   "cell_type": "code",
   "execution_count": 3,
   "id": "4880e784",
   "metadata": {},
   "outputs": [
    {
     "name": "stdout",
     "output_type": "stream",
     "text": [
      "5\n",
      "0\n",
      "1\n",
      "2\n",
      "3\n",
      "4\n",
      "5\n"
     ]
    }
   ],
   "source": [
    "#Only one value to range and it uses it as stop and by default 0 for start and 1 for stride\n",
    "n = int(input())\n",
    "for i in range(n+1):\n",
    "    print(i)"
   ]
  },
  {
   "cell_type": "code",
   "execution_count": 4,
   "id": "784776d7",
   "metadata": {},
   "outputs": [
    {
     "name": "stdout",
     "output_type": "stream",
     "text": [
      "5\n",
      "1\n",
      "2\n",
      "3\n",
      "4\n",
      "5\n"
     ]
    }
   ],
   "source": [
    "#Only tow value to range and it uses first argument as start \n",
    "#and second argument as stop and by default take 1 for stride(step).\n",
    "n = int(input())\n",
    "for i in range(1,n+1):\n",
    "    print(i)"
   ]
  },
  {
   "cell_type": "code",
   "execution_count": 5,
   "id": "63c6f80e",
   "metadata": {},
   "outputs": [
    {
     "name": "stdout",
     "output_type": "stream",
     "text": [
      "5\n",
      "5\n",
      "4\n",
      "3\n",
      "2\n",
      "1\n"
     ]
    }
   ],
   "source": [
    "#numbers from n to 1\n",
    "n = int(input())\n",
    "for i in range(n,0,-1):\n",
    "    print(i)"
   ]
  },
  {
   "cell_type": "code",
   "execution_count": 6,
   "id": "91899056",
   "metadata": {},
   "outputs": [
    {
     "name": "stdout",
     "output_type": "stream",
     "text": [
      "4\n",
      "55\n",
      "6\n",
      "9\n",
      "12\n",
      "15\n",
      "18\n",
      "21\n",
      "24\n",
      "27\n",
      "30\n",
      "33\n",
      "36\n",
      "39\n",
      "42\n",
      "45\n",
      "48\n",
      "51\n",
      "54\n"
     ]
    }
   ],
   "source": [
    "#print multiple of 3 between a to b:\n",
    "a = int(input())\n",
    "b= int(input())\n",
    "for i in range(a,b+1,1):\n",
    "    if(i%3==0):\n",
    "        print(i)"
   ]
  },
  {
   "cell_type": "code",
   "execution_count": 7,
   "id": "4426f588",
   "metadata": {},
   "outputs": [
    {
     "name": "stdout",
     "output_type": "stream",
     "text": [
      "2\n",
      "15\n",
      "3\n",
      "6\n",
      "9\n",
      "12\n",
      "15\n"
     ]
    }
   ],
   "source": [
    "#print multiple of 3 between a to b:\n",
    "a = int(input())\n",
    "b = int(input())\n",
    "if a%3==1:\n",
    "    a=a+2\n",
    "elif a%3==2:\n",
    "    a=a+1\n",
    "for i in range(a,b+1,3):\n",
    "    if(i%3==0):\n",
    "        print(i)"
   ]
  },
  {
   "cell_type": "code",
   "execution_count": 9,
   "id": "cf39ece6",
   "metadata": {},
   "outputs": [
    {
     "name": "stdout",
     "output_type": "stream",
     "text": [
      "4\n"
     ]
    }
   ],
   "source": [
    "#Write a program to print first x terms of the series 3N + 2 which are not multiples of 4.\n",
    "x=int(input())\n",
    "count = 0\n",
    "for num in range(1,True ,1):\n",
    "    #TODO\n",
    "    pass"
   ]
  },
  {
   "cell_type": "code",
   "execution_count": 10,
   "id": "4fab056a",
   "metadata": {},
   "outputs": [
    {
     "name": "stdout",
     "output_type": "stream",
     "text": [
      "54\n",
      "Not Prime\n"
     ]
    }
   ],
   "source": [
    "#check if number is prime\n",
    "n=int(input())\n",
    "flag=False\n",
    "for d in range(2,n,1):\n",
    "    if(n%d==0):\n",
    "        flag=True\n",
    "if flag:\n",
    "    print(\"Not Prime\")\n",
    "else:\n",
    "    print(\"prime\")"
   ]
  },
  {
   "cell_type": "code",
   "execution_count": 11,
   "id": "b8edfbf8",
   "metadata": {},
   "outputs": [
    {
     "name": "stdout",
     "output_type": "stream",
     "text": [
      "5\n",
      "    1\n",
      "   232\n",
      "  34543\n",
      " 4567654\n",
      "567898765\n"
     ]
    }
   ],
   "source": [
    "#   1\n",
    "#  232\n",
    "# 34543\n",
    "#4567654\n",
    "n =int(input())\n",
    "for i in range(1,n+1,1):\n",
    "    for s in range(n-i):\n",
    "        print(\" \",end='')\n",
    "    for j in range(i,2*i,1):\n",
    "        print(j,end='')\n",
    "    for j in range(2*i-2,i-1,-1):\n",
    "        print(j,end='')\n",
    "    print()"
   ]
  },
  {
   "cell_type": "code",
   "execution_count": 12,
   "id": "b6392b11",
   "metadata": {},
   "outputs": [
    {
     "name": "stdout",
     "output_type": "stream",
     "text": [
      "6\n",
      "2\n",
      "720\n"
     ]
    }
   ],
   "source": [
    "n=int(input())\n",
    "c=int(input())\n",
    "if(c==1):\n",
    "    sum=0\n",
    "    for i in range(1,n+1,1):\n",
    "        sum=sum+i\n",
    "    print(sum)\n",
    "elif(c==2):\n",
    "    product=1\n",
    "    for i in range(1,n+1,1):\n",
    "        product=product*i\n",
    "    print(product)\n",
    "else:\n",
    "    print(\"-1\")"
   ]
  },
  {
   "cell_type": "markdown",
   "id": "a8bd1f92",
   "metadata": {},
   "source": [
    "## Break Key word"
   ]
  },
  {
   "cell_type": "code",
   "execution_count": 13,
   "id": "cd76cbba",
   "metadata": {},
   "outputs": [
    {
     "name": "stdout",
     "output_type": "stream",
     "text": [
      "75\n",
      "Not Prime\n"
     ]
    }
   ],
   "source": [
    "n=int(input())\n",
    "d=2\n",
    "flag=False\n",
    "while(d<n):\n",
    "    if(n%d==0):\n",
    "        flag=True\n",
    "        break\n",
    "    d=d+1\n",
    "if flag:\n",
    "    print(\"Not Prime\")\n",
    "else :\n",
    "    print(\"prime\")"
   ]
  },
  {
   "cell_type": "code",
   "execution_count": 14,
   "id": "64fa5e38",
   "metadata": {},
   "outputs": [
    {
     "name": "stdout",
     "output_type": "stream",
     "text": [
      "75\n",
      "2\n",
      "3\n",
      "5\n",
      "7\n",
      "11\n",
      "13\n",
      "17\n",
      "19\n",
      "23\n",
      "29\n",
      "31\n",
      "37\n",
      "41\n",
      "43\n",
      "47\n",
      "53\n",
      "59\n",
      "61\n",
      "67\n",
      "71\n",
      "73\n"
     ]
    }
   ],
   "source": [
    "# print all prime number form 1 to n\n",
    "n=int(input())\n",
    "k=2\n",
    "while(k<=n):\n",
    "    d=2\n",
    "    flag=False\n",
    "    while(d<k):\n",
    "        if(k%d==0):\n",
    "            flag=True\n",
    "            break\n",
    "        d=d+1\n",
    "    if(not(flag)):\n",
    "        print(k)\n",
    "    k=k+1"
   ]
  },
  {
   "cell_type": "code",
   "execution_count": 15,
   "id": "00c23378",
   "metadata": {},
   "outputs": [
    {
     "name": "stdout",
     "output_type": "stream",
     "text": [
      "9\n",
      "3\n"
     ]
    }
   ],
   "source": [
    "#square root of N(only integral part)\n",
    "n=int(input())\n",
    "ans = 1\n",
    "for i in range(1,n,1):\n",
    "    if(i*i>n):\n",
    "        ans=i-1\n",
    "        break\n",
    "print(ans)"
   ]
  },
  {
   "cell_type": "markdown",
   "id": "3224e2a7",
   "metadata": {},
   "source": [
    "## Else keyword with loops"
   ]
  },
  {
   "cell_type": "code",
   "execution_count": 16,
   "id": "e14dbaf3",
   "metadata": {},
   "outputs": [
    {
     "name": "stdout",
     "output_type": "stream",
     "text": [
      "1\n",
      "2\n",
      "3\n",
      "4\n",
      "this will be printed once at the end\n"
     ]
    }
   ],
   "source": [
    "#code inside else will not be exceuted if while/for loop\n",
    "#is finished because of break statement\n",
    "i=1\n",
    "while(i<5):\n",
    "    print(i)\n",
    "    i=i+1\n",
    "else:\n",
    "    print(\"this will be printed once at the end\")"
   ]
  },
  {
   "cell_type": "code",
   "execution_count": 17,
   "id": "4c20b963",
   "metadata": {},
   "outputs": [
    {
     "name": "stdout",
     "output_type": "stream",
     "text": [
      "1\n",
      "2\n",
      "3\n",
      "4\n",
      "5\n",
      "6\n",
      "7\n",
      "8\n",
      "9\n",
      "this will be printed once at the end\n"
     ]
    }
   ],
   "source": [
    "for i in range(1,10):\n",
    "    print(i)\n",
    "else:\n",
    "    print(\"this will be printed once at the end\")"
   ]
  },
  {
   "cell_type": "code",
   "execution_count": 18,
   "id": "fe423813",
   "metadata": {},
   "outputs": [
    {
     "name": "stdout",
     "output_type": "stream",
     "text": [
      "1\n",
      "2\n",
      "3\n",
      "4\n",
      "5\n"
     ]
    }
   ],
   "source": [
    "i=1\n",
    "while(i<10):\n",
    "    print(i)\n",
    "    if(i==5):\n",
    "        break\n",
    "    i=i+1\n",
    "else:\n",
    "    print(\"this will be printed once at the end\")"
   ]
  },
  {
   "cell_type": "code",
   "execution_count": 20,
   "id": "79496a42",
   "metadata": {},
   "outputs": [
    {
     "name": "stdout",
     "output_type": "stream",
     "text": [
      "13\n",
      "Prime Number\n"
     ]
    }
   ],
   "source": [
    "n=int(input())\n",
    "for d in range(2,n,1):\n",
    "    if(n%d==0):\n",
    "        break\n",
    "else:\n",
    "    print(\"Prime Number\")"
   ]
  },
  {
   "cell_type": "markdown",
   "id": "b21d1f1f",
   "metadata": {},
   "source": [
    "## Continue keyword"
   ]
  },
  {
   "cell_type": "code",
   "execution_count": 21,
   "id": "e54539f2",
   "metadata": {},
   "outputs": [],
   "source": [
    "#continue is used when we want to skip an iteration\n"
   ]
  },
  {
   "cell_type": "code",
   "execution_count": 22,
   "id": "4f001a7a",
   "metadata": {},
   "outputs": [
    {
     "name": "stdout",
     "output_type": "stream",
     "text": [
      "43\n",
      "2\n",
      "4\n",
      "6\n",
      "8\n",
      "10\n",
      "12\n",
      "16\n",
      "18\n",
      "20\n",
      "22\n",
      "24\n",
      "26\n",
      "30\n",
      "32\n",
      "34\n",
      "36\n",
      "38\n",
      "40\n"
     ]
    }
   ],
   "source": [
    "#print all even number till n and not multiple of 7\n",
    "n=int(input())\n",
    "for i in range(2,n+1,2):\n",
    "    if(i%7==0):\n",
    "        continue\n",
    "    print(i)"
   ]
  },
  {
   "cell_type": "markdown",
   "id": "bae8fc57",
   "metadata": {},
   "source": [
    "## pass statement"
   ]
  },
  {
   "cell_type": "code",
   "execution_count": 24,
   "id": "2b94c0ee",
   "metadata": {},
   "outputs": [
    {
     "name": "stdout",
     "output_type": "stream",
     "text": [
      "hey\n"
     ]
    }
   ],
   "source": [
    "i=3\n",
    "if(i<7):\n",
    "    print(\"hey\")"
   ]
  },
  {
   "cell_type": "code",
   "execution_count": 25,
   "id": "f57f3e71",
   "metadata": {},
   "outputs": [
    {
     "name": "stdout",
     "output_type": "stream",
     "text": [
      "hey\n"
     ]
    }
   ],
   "source": [
    "i=3\n",
    "if(i<7):\n",
    "    pass\n",
    "print(\"hey\")"
   ]
  }
 ],
 "metadata": {
  "kernelspec": {
   "display_name": "Python 3 (ipykernel)",
   "language": "python",
   "name": "python3"
  },
  "language_info": {
   "codemirror_mode": {
    "name": "ipython",
    "version": 3
   },
   "file_extension": ".py",
   "mimetype": "text/x-python",
   "name": "python",
   "nbconvert_exporter": "python",
   "pygments_lexer": "ipython3",
   "version": "3.9.13"
  }
 },
 "nbformat": 4,
 "nbformat_minor": 5
}
