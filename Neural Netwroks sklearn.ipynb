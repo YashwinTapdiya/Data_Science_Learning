{
 "cells": [
  {
   "cell_type": "code",
   "execution_count": 1,
   "id": "b8971db1",
   "metadata": {},
   "outputs": [],
   "source": [
    "from sklearn import datasets\n",
    "from sklearn.model_selection import train_test_split"
   ]
  },
  {
   "cell_type": "code",
   "execution_count": 2,
   "id": "a0c606a6",
   "metadata": {},
   "outputs": [],
   "source": [
    "iris = datasets.load_iris()"
   ]
  },
  {
   "cell_type": "code",
   "execution_count": 3,
   "id": "596df70b",
   "metadata": {},
   "outputs": [],
   "source": [
    "x = iris.data\n",
    "y = iris.target"
   ]
  },
  {
   "cell_type": "code",
   "execution_count": 4,
   "id": "a0ce8345",
   "metadata": {},
   "outputs": [],
   "source": [
    "x_train,x_test,y_train,y_test = train_test_split(x,y)"
   ]
  },
  {
   "cell_type": "code",
   "execution_count": 5,
   "id": "503527d4",
   "metadata": {},
   "outputs": [],
   "source": [
    "from sklearn.neural_network import MLPClassifier"
   ]
  },
  {
   "cell_type": "code",
   "execution_count": 6,
   "id": "0d9bfadb",
   "metadata": {},
   "outputs": [
    {
     "name": "stderr",
     "output_type": "stream",
     "text": [
      "C:\\Users\\yashw\\New folder\\lib\\site-packages\\sklearn\\neural_network\\_multilayer_perceptron.py:686: ConvergenceWarning: Stochastic Optimizer: Maximum iterations (200) reached and the optimization hasn't converged yet.\n",
      "  warnings.warn(\n"
     ]
    },
    {
     "data": {
      "text/html": [
       "<style>#sk-container-id-1 {color: black;background-color: white;}#sk-container-id-1 pre{padding: 0;}#sk-container-id-1 div.sk-toggleable {background-color: white;}#sk-container-id-1 label.sk-toggleable__label {cursor: pointer;display: block;width: 100%;margin-bottom: 0;padding: 0.3em;box-sizing: border-box;text-align: center;}#sk-container-id-1 label.sk-toggleable__label-arrow:before {content: \"▸\";float: left;margin-right: 0.25em;color: #696969;}#sk-container-id-1 label.sk-toggleable__label-arrow:hover:before {color: black;}#sk-container-id-1 div.sk-estimator:hover label.sk-toggleable__label-arrow:before {color: black;}#sk-container-id-1 div.sk-toggleable__content {max-height: 0;max-width: 0;overflow: hidden;text-align: left;background-color: #f0f8ff;}#sk-container-id-1 div.sk-toggleable__content pre {margin: 0.2em;color: black;border-radius: 0.25em;background-color: #f0f8ff;}#sk-container-id-1 input.sk-toggleable__control:checked~div.sk-toggleable__content {max-height: 200px;max-width: 100%;overflow: auto;}#sk-container-id-1 input.sk-toggleable__control:checked~label.sk-toggleable__label-arrow:before {content: \"▾\";}#sk-container-id-1 div.sk-estimator input.sk-toggleable__control:checked~label.sk-toggleable__label {background-color: #d4ebff;}#sk-container-id-1 div.sk-label input.sk-toggleable__control:checked~label.sk-toggleable__label {background-color: #d4ebff;}#sk-container-id-1 input.sk-hidden--visually {border: 0;clip: rect(1px 1px 1px 1px);clip: rect(1px, 1px, 1px, 1px);height: 1px;margin: -1px;overflow: hidden;padding: 0;position: absolute;width: 1px;}#sk-container-id-1 div.sk-estimator {font-family: monospace;background-color: #f0f8ff;border: 1px dotted black;border-radius: 0.25em;box-sizing: border-box;margin-bottom: 0.5em;}#sk-container-id-1 div.sk-estimator:hover {background-color: #d4ebff;}#sk-container-id-1 div.sk-parallel-item::after {content: \"\";width: 100%;border-bottom: 1px solid gray;flex-grow: 1;}#sk-container-id-1 div.sk-label:hover label.sk-toggleable__label {background-color: #d4ebff;}#sk-container-id-1 div.sk-serial::before {content: \"\";position: absolute;border-left: 1px solid gray;box-sizing: border-box;top: 0;bottom: 0;left: 50%;z-index: 0;}#sk-container-id-1 div.sk-serial {display: flex;flex-direction: column;align-items: center;background-color: white;padding-right: 0.2em;padding-left: 0.2em;position: relative;}#sk-container-id-1 div.sk-item {position: relative;z-index: 1;}#sk-container-id-1 div.sk-parallel {display: flex;align-items: stretch;justify-content: center;background-color: white;position: relative;}#sk-container-id-1 div.sk-item::before, #sk-container-id-1 div.sk-parallel-item::before {content: \"\";position: absolute;border-left: 1px solid gray;box-sizing: border-box;top: 0;bottom: 0;left: 50%;z-index: -1;}#sk-container-id-1 div.sk-parallel-item {display: flex;flex-direction: column;z-index: 1;position: relative;background-color: white;}#sk-container-id-1 div.sk-parallel-item:first-child::after {align-self: flex-end;width: 50%;}#sk-container-id-1 div.sk-parallel-item:last-child::after {align-self: flex-start;width: 50%;}#sk-container-id-1 div.sk-parallel-item:only-child::after {width: 0;}#sk-container-id-1 div.sk-dashed-wrapped {border: 1px dashed gray;margin: 0 0.4em 0.5em 0.4em;box-sizing: border-box;padding-bottom: 0.4em;background-color: white;}#sk-container-id-1 div.sk-label label {font-family: monospace;font-weight: bold;display: inline-block;line-height: 1.2em;}#sk-container-id-1 div.sk-label-container {text-align: center;}#sk-container-id-1 div.sk-container {/* jupyter's `normalize.less` sets `[hidden] { display: none; }` but bootstrap.min.css set `[hidden] { display: none !important; }` so we also need the `!important` here to be able to override the default hidden behavior on the sphinx rendered scikit-learn.org. See: https://github.com/scikit-learn/scikit-learn/issues/21755 */display: inline-block !important;position: relative;}#sk-container-id-1 div.sk-text-repr-fallback {display: none;}</style><div id=\"sk-container-id-1\" class=\"sk-top-container\"><div class=\"sk-text-repr-fallback\"><pre>MLPClassifier()</pre><b>In a Jupyter environment, please rerun this cell to show the HTML representation or trust the notebook. <br />On GitHub, the HTML representation is unable to render, please try loading this page with nbviewer.org.</b></div><div class=\"sk-container\" hidden><div class=\"sk-item\"><div class=\"sk-estimator sk-toggleable\"><input class=\"sk-toggleable__control sk-hidden--visually\" id=\"sk-estimator-id-1\" type=\"checkbox\" checked><label for=\"sk-estimator-id-1\" class=\"sk-toggleable__label sk-toggleable__label-arrow\">MLPClassifier</label><div class=\"sk-toggleable__content\"><pre>MLPClassifier()</pre></div></div></div></div></div>"
      ],
      "text/plain": [
       "MLPClassifier()"
      ]
     },
     "execution_count": 6,
     "metadata": {},
     "output_type": "execute_result"
    }
   ],
   "source": [
    "clf = MLPClassifier()\n",
    "clf.fit(x_train,y_train)"
   ]
  },
  {
   "cell_type": "code",
   "execution_count": 7,
   "id": "87e98cef",
   "metadata": {},
   "outputs": [
    {
     "data": {
      "text/plain": [
       "0.9473684210526315"
      ]
     },
     "execution_count": 7,
     "metadata": {},
     "output_type": "execute_result"
    }
   ],
   "source": [
    "clf.score(x_test,y_test)"
   ]
  },
  {
   "cell_type": "code",
   "execution_count": 13,
   "id": "e26e6871",
   "metadata": {},
   "outputs": [
    {
     "data": {
      "text/plain": [
       "0.9736842105263158"
      ]
     },
     "execution_count": 13,
     "metadata": {},
     "output_type": "execute_result"
    }
   ],
   "source": [
    "clf = MLPClassifier(hidden_layer_sizes = (20,),max_iter=3000)\n",
    "clf.fit(x_train,y_train)\n",
    "clf.score(x_test,y_test)"
   ]
  },
  {
   "cell_type": "code",
   "execution_count": 14,
   "id": "a4afbb65",
   "metadata": {},
   "outputs": [
    {
     "data": {
      "text/plain": [
       "[array([[-4.00113394e-13, -3.82877284e-02,  2.40708978e-01,\n",
       "          5.14459718e-19,  2.60737754e-01,  4.16693318e-01,\n",
       "         -1.58564798e-02,  1.09219386e-01,  2.36186768e-01,\n",
       "         -1.87797648e-01, -2.05952080e-01,  5.58491002e-01,\n",
       "         -4.89090679e-02,  3.75265510e-02,  1.11034876e-01,\n",
       "          2.09778830e-02,  3.99581896e-01, -5.95758040e-02,\n",
       "         -3.44655201e-01,  2.17460011e-01],\n",
       "        [-2.13611025e-03,  8.85487897e-02,  4.58368692e-01,\n",
       "         -4.48435314e-02, -6.63141477e-02,  4.90763809e-01,\n",
       "          4.51762125e-02,  3.22400300e-01, -4.04241326e-01,\n",
       "          4.46061117e-01, -6.96522403e-01, -1.54190529e-02,\n",
       "         -4.14596142e-02,  9.14600434e-01, -4.73200312e-02,\n",
       "          6.01281586e-01,  5.89084888e-01, -1.42088990e-02,\n",
       "         -2.86239820e-01,  2.24944451e-01],\n",
       "        [-2.92445174e-02,  1.95368001e-01, -2.54724314e-01,\n",
       "         -1.18241265e-04,  6.12218606e-02, -6.61478109e-01,\n",
       "          3.41151711e-01,  2.24898558e-01,  4.58060101e-01,\n",
       "          1.92300674e-01,  6.29626507e-01, -5.55529115e-01,\n",
       "          2.43757792e-04, -6.07686157e-01, -2.30108469e-01,\n",
       "         -3.15879510e-01, -6.80019192e-01, -1.13191348e-02,\n",
       "          5.67306757e-01,  8.70628036e-01],\n",
       "        [-1.42721276e-05,  4.02828820e-02,  1.55016877e-01,\n",
       "         -2.88709618e-07, -6.83964334e-01, -6.45681671e-01,\n",
       "          5.06943889e-01,  5.18394483e-01,  7.10046915e-01,\n",
       "          2.97687706e-01,  9.39326647e-01,  1.59449072e-01,\n",
       "          4.99366402e-02, -6.02185993e-01, -4.12920352e-01,\n",
       "         -5.43085135e-01, -6.99500117e-01, -3.77996804e-02,\n",
       "          6.57820378e-01,  4.15481500e-01]]),\n",
       " array([[ 2.08313528e-02, -3.90622321e-18, -4.60341276e-03],\n",
       "        [ 1.18213559e-01,  4.19625332e-01,  1.36530930e-01],\n",
       "        [-2.05185818e-01,  9.55307216e-02, -6.07380697e-01],\n",
       "        [-1.73740779e-02,  2.78859225e-13, -1.53215009e-02],\n",
       "        [-3.38508519e-01,  8.35640086e-01, -1.04778542e+00],\n",
       "        [ 8.27669262e-01,  6.20909433e-01, -7.50380464e-01],\n",
       "        [-6.08675798e-01, -3.09518161e-01, -2.73197140e-01],\n",
       "        [-2.06920169e-01,  4.41825769e-01,  3.75676177e-01],\n",
       "        [-5.08438307e-01,  3.96261321e-02,  6.78129558e-01],\n",
       "        [ 1.23445913e-03, -3.12080406e-01,  6.41469004e-02],\n",
       "        [-4.32448600e-01, -9.86465249e-01,  6.05898376e-01],\n",
       "        [ 3.91062355e-01, -2.63737498e-01, -3.49252829e-01],\n",
       "        [-3.06376222e-03, -2.92415034e-04, -9.65190314e-04],\n",
       "        [ 5.29155657e-01, -9.94716865e-01,  7.91086437e-02],\n",
       "        [-2.98561337e-01,  1.43363864e-01,  1.78526070e-01],\n",
       "        [ 4.29790343e-01, -8.46725557e-01, -5.85495042e-01],\n",
       "        [ 9.40757218e-01,  7.04214526e-01, -7.48859509e-01],\n",
       "        [-3.18863222e-03, -5.28918849e-03,  1.92780667e-13],\n",
       "        [ 7.21271474e-02, -6.00655479e-01,  1.41601008e-01],\n",
       "        [-1.55161802e-01, -3.66487157e-03,  2.08051014e-01]])]"
      ]
     },
     "execution_count": 14,
     "metadata": {},
     "output_type": "execute_result"
    }
   ],
   "source": [
    "clf.coefs_"
   ]
  },
  {
   "cell_type": "code",
   "execution_count": 15,
   "id": "3b3fc09a",
   "metadata": {},
   "outputs": [
    {
     "data": {
      "text/plain": [
       "2"
      ]
     },
     "execution_count": 15,
     "metadata": {},
     "output_type": "execute_result"
    }
   ],
   "source": [
    "len(clf.coefs_)"
   ]
  },
  {
   "cell_type": "code",
   "execution_count": 16,
   "id": "3d12cb06",
   "metadata": {},
   "outputs": [
    {
     "data": {
      "text/plain": [
       "((4, 20), (20, 3))"
      ]
     },
     "execution_count": 16,
     "metadata": {},
     "output_type": "execute_result"
    }
   ],
   "source": [
    "clf.coefs_[0].shape, clf.coefs_[1].shape"
   ]
  },
  {
   "cell_type": "code",
   "execution_count": 17,
   "id": "d9e8bb31",
   "metadata": {},
   "outputs": [
    {
     "data": {
      "text/plain": [
       "((20,), (3,))"
      ]
     },
     "execution_count": 17,
     "metadata": {},
     "output_type": "execute_result"
    }
   ],
   "source": [
    "clf.intercepts_[0].shape, clf.intercepts_[1].shape"
   ]
  }
 ],
 "metadata": {
  "kernelspec": {
   "display_name": "Python 3 (ipykernel)",
   "language": "python",
   "name": "python3"
  },
  "language_info": {
   "codemirror_mode": {
    "name": "ipython",
    "version": 3
   },
   "file_extension": ".py",
   "mimetype": "text/x-python",
   "name": "python",
   "nbconvert_exporter": "python",
   "pygments_lexer": "ipython3",
   "version": "3.9.13"
  }
 },
 "nbformat": 4,
 "nbformat_minor": 5
}
