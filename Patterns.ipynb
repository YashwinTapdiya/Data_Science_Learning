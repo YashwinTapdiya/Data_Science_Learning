{
 "cells": [
  {
   "cell_type": "markdown",
   "id": "e9ad181e",
   "metadata": {},
   "source": [
    "****\n",
    "****\n",
    "****\n",
    "****"
   ]
  },
  {
   "cell_type": "code",
   "execution_count": 1,
   "id": "ba67be20",
   "metadata": {},
   "outputs": [
    {
     "name": "stdout",
     "output_type": "stream",
     "text": [
      "10\n",
      "**********\n",
      "**********\n",
      "**********\n",
      "**********\n",
      "**********\n",
      "**********\n",
      "**********\n",
      "**********\n",
      "**********\n",
      "**********\n"
     ]
    }
   ],
   "source": [
    "n = int(input())\n",
    "i = 1\n",
    "while( i<=n):\n",
    "    j = 1\n",
    "    while(j<=n):\n",
    "        #print jth column\n",
    "        print('*',end='')#print gives us way to how to end our line\n",
    "        j=j+1\n",
    "    print()    \n",
    "    i=i+1"
   ]
  },
  {
   "cell_type": "markdown",
   "id": "bc67f8a3",
   "metadata": {},
   "source": [
    "## Square patterns\n"
   ]
  },
  {
   "cell_type": "code",
   "execution_count": 2,
   "id": "bd1984c6",
   "metadata": {},
   "outputs": [
    {
     "name": "stdout",
     "output_type": "stream",
     "text": [
      "4\n",
      "1111\n",
      "2222\n",
      "3333\n",
      "4444\n"
     ]
    }
   ],
   "source": [
    "#pattern 1\n",
    "#1111\n",
    "#2222\n",
    "#3333\n",
    "#4444\n",
    "n = int(input())\n",
    "i = 1\n",
    "while(i<=n):\n",
    "    j = 1\n",
    "    while(j<=n):\n",
    "        print(i,end='')\n",
    "        j=j+1\n",
    "    print()\n",
    "    i=i+1"
   ]
  },
  {
   "cell_type": "code",
   "execution_count": 3,
   "id": "febc2669",
   "metadata": {},
   "outputs": [
    {
     "name": "stdout",
     "output_type": "stream",
     "text": [
      "4\n",
      "1234\n",
      "1234\n",
      "1234\n",
      "1234\n"
     ]
    }
   ],
   "source": [
    "#pattern 2\n",
    "#1234\n",
    "#1234\n",
    "#1234\n",
    "#1234\n",
    "n = int(input())\n",
    "i = 1\n",
    "while(i<=n):\n",
    "    j = 1\n",
    "    while(j<=n):\n",
    "        print(j,end='')\n",
    "        j=j+1\n",
    "    print()\n",
    "    i=i+1"
   ]
  },
  {
   "cell_type": "code",
   "execution_count": 4,
   "id": "5f7beb31",
   "metadata": {},
   "outputs": [
    {
     "name": "stdout",
     "output_type": "stream",
     "text": [
      "4\n",
      "4321\n",
      "4321\n",
      "4321\n",
      "4321\n"
     ]
    }
   ],
   "source": [
    "#pattern 3\n",
    "#4321\n",
    "#4321\n",
    "#4321\n",
    "#4321\n",
    "n = int(input())\n",
    "i = 1\n",
    "while(i<=n):\n",
    "    j = n\n",
    "    while(j>=1):\n",
    "        print(j,end='')\n",
    "        j=j-1\n",
    "    print()\n",
    "    i=i+1"
   ]
  },
  {
   "cell_type": "code",
   "execution_count": 5,
   "id": "2aab11e7",
   "metadata": {},
   "outputs": [
    {
     "name": "stdout",
     "output_type": "stream",
     "text": [
      "4\n",
      "4444\n",
      "4444\n",
      "4444\n",
      "4444\n"
     ]
    }
   ],
   "source": [
    "#pattern 4\n",
    "#4444\n",
    "#4444\n",
    "#4444\n",
    "#4444\n",
    "n = int(input())\n",
    "i = 1\n",
    "while(i<=n):\n",
    "    j=1\n",
    "    while(j<=n):\n",
    "        print(n,end='')\n",
    "        j=j+1\n",
    "    print()\n",
    "    i=i+1"
   ]
  },
  {
   "cell_type": "markdown",
   "id": "f28ca7ce",
   "metadata": {},
   "source": [
    "## Triangular Patterns"
   ]
  },
  {
   "cell_type": "code",
   "execution_count": 6,
   "id": "cb485950",
   "metadata": {},
   "outputs": [
    {
     "name": "stdout",
     "output_type": "stream",
     "text": [
      "4\n",
      "1\n",
      "12\n",
      "123\n",
      "1234\n"
     ]
    }
   ],
   "source": [
    "#patter 1\n",
    "#1\n",
    "#12\n",
    "#123\n",
    "#1234\n",
    "n = int(input())\n",
    "i = 1\n",
    "while(i<=n):\n",
    "    j=1\n",
    "    while(j<=i):\n",
    "        print(j,end='')\n",
    "        j=j+1\n",
    "    print()\n",
    "    i=i+1"
   ]
  },
  {
   "cell_type": "code",
   "execution_count": 7,
   "id": "3dd5f61e",
   "metadata": {},
   "outputs": [
    {
     "name": "stdout",
     "output_type": "stream",
     "text": [
      "4\n",
      "1\n",
      "23\n",
      "345\n",
      "4567\n"
     ]
    }
   ],
   "source": [
    "#patter 2\n",
    "#1\n",
    "#23\n",
    "#345\n",
    "#4567\n",
    "n = int(input())\n",
    "i = 1\n",
    "while(i<=n):\n",
    "    j=i\n",
    "    x=2*i-1\n",
    "    while(j<=x):\n",
    "        print(j,end='')\n",
    "        j=j+1\n",
    "    print()\n",
    "    i=i+1"
   ]
  },
  {
   "cell_type": "code",
   "execution_count": 8,
   "id": "6f3cf79c",
   "metadata": {},
   "outputs": [
    {
     "name": "stdout",
     "output_type": "stream",
     "text": [
      "4\n",
      "1\n",
      "23\n",
      "456\n",
      "78910\n"
     ]
    }
   ],
   "source": [
    "#patter 3\n",
    "#1\n",
    "#23\n",
    "#456\n",
    "#78910\n",
    "n = int(input())\n",
    "i = 1\n",
    "p=1\n",
    "while(i<=n):\n",
    "    j=1\n",
    "    while(j<=i):\n",
    "        print(p,end='')\n",
    "        j=j+1\n",
    "        p=p+1\n",
    "    i=i+1\n",
    "    print()"
   ]
  },
  {
   "cell_type": "code",
   "execution_count": 9,
   "id": "f1c9e3f9",
   "metadata": {},
   "outputs": [
    {
     "name": "stdout",
     "output_type": "stream",
     "text": [
      "4\n",
      "*\n",
      "**\n",
      "***\n",
      "****\n"
     ]
    }
   ],
   "source": [
    "#pattern 4\n",
    "#*\n",
    "#**\n",
    "#***\n",
    "#****\n",
    "n =int(input())\n",
    "i =1\n",
    "while(i<=n):\n",
    "    j =1\n",
    "    while(j<=i):\n",
    "        print('*',end='')\n",
    "        j=j+1\n",
    "    print()\n",
    "    i=i+1"
   ]
  },
  {
   "cell_type": "code",
   "execution_count": 10,
   "id": "527de0f2",
   "metadata": {},
   "outputs": [
    {
     "name": "stdout",
     "output_type": "stream",
     "text": [
      "4\n",
      "1\n",
      "22\n",
      "333\n",
      "4444\n"
     ]
    }
   ],
   "source": [
    "#patter 5\n",
    "#1\n",
    "#22\n",
    "#333\n",
    "#4444\n",
    "#55555\n",
    "n =int(input())\n",
    "i =1\n",
    "while(i<=n):\n",
    "    j =1\n",
    "    while(j<=i):\n",
    "        print(i,end='')\n",
    "        j=j+1\n",
    "    print()\n",
    "    i=i+1"
   ]
  },
  {
   "cell_type": "code",
   "execution_count": 11,
   "id": "c88406a7",
   "metadata": {},
   "outputs": [
    {
     "name": "stdout",
     "output_type": "stream",
     "text": [
      "4\n",
      "1\n",
      "21\n",
      "321\n",
      "4321\n"
     ]
    }
   ],
   "source": [
    "#patter 6\n",
    "#1\n",
    "#21\n",
    "#321\n",
    "#4321\n",
    "#54321\n",
    "n =int(input())\n",
    "i =1\n",
    "while(i<=n):\n",
    "    j = i\n",
    "    while(j>=1):\n",
    "        print(j,end='')\n",
    "        j=j-1\n",
    "    print()\n",
    "    i=i+1"
   ]
  },
  {
   "cell_type": "markdown",
   "id": "dd0db8c7",
   "metadata": {},
   "source": [
    "## Characteer Pattern"
   ]
  },
  {
   "cell_type": "code",
   "execution_count": 12,
   "id": "de683416",
   "metadata": {},
   "outputs": [
    {
     "name": "stdout",
     "output_type": "stream",
     "text": [
      "4\n"
     ]
    },
    {
     "data": {
      "text/plain": [
       "'D'"
      ]
     },
     "execution_count": 12,
     "metadata": {},
     "output_type": "execute_result"
    }
   ],
   "source": [
    "#print kth alphabet\n",
    "k = int(input())\n",
    "#'A'+k-1\n",
    "a = ord('A')\n",
    "chr(a+k-1)"
   ]
  },
  {
   "cell_type": "code",
   "execution_count": 13,
   "id": "2edbe6d5",
   "metadata": {},
   "outputs": [
    {
     "name": "stdout",
     "output_type": "stream",
     "text": [
      "5\n",
      "ABCDE\n",
      "ABCDE\n",
      "ABCDE\n",
      "ABCDE\n",
      "ABCDE\n"
     ]
    }
   ],
   "source": [
    "#pattern 1\n",
    "#ABCD\n",
    "#ABCD\n",
    "#ABCD\n",
    "#ABCD\n",
    "n = int(input())\n",
    "i =1\n",
    "a = ord('A')\n",
    "while(i<=n):\n",
    "    j=1\n",
    "    while(j<=n):\n",
    "        print(chr(a+j-1),end='')\n",
    "        j=j+1\n",
    "    i=i+1\n",
    "    print()"
   ]
  },
  {
   "cell_type": "code",
   "execution_count": 14,
   "id": "54fd5133",
   "metadata": {},
   "outputs": [
    {
     "name": "stdout",
     "output_type": "stream",
     "text": [
      "5\n",
      "ABCDE\n",
      "BCDEF\n",
      "CDEFG\n",
      "DEFGH\n",
      "EFGHI\n"
     ]
    }
   ],
   "source": [
    "#pattern 2\n",
    "#ABCD\n",
    "#BCDE\n",
    "#CDEF\n",
    "#DEFG\n",
    "n = int(input())\n",
    "i =1\n",
    "a = ord('A')\n",
    "while(i<=n):\n",
    "    j=i\n",
    "    while(j<n+i):\n",
    "        print(chr(a+j-1),end='')\n",
    "        j=j+1\n",
    "    i=i+1\n",
    "    print()"
   ]
  },
  {
   "cell_type": "code",
   "execution_count": 15,
   "id": "dfb92a46",
   "metadata": {},
   "outputs": [
    {
     "name": "stdout",
     "output_type": "stream",
     "text": [
      "5\n",
      "A\n",
      "BB\n",
      "CCC\n",
      "DDDD\n",
      "EEEEE\n"
     ]
    }
   ],
   "source": [
    "#pattern 3 (Alpha pattern)\n",
    "#A\n",
    "#BB\n",
    "#CCC\n",
    "n = int(input())\n",
    "i =1\n",
    "a = ord('A')\n",
    "while(i<=n):\n",
    "    j=1\n",
    "    while(j<=i):\n",
    "        print(chr(a+i-1),end='')\n",
    "        j=j+1\n",
    "    i=i+1\n",
    "    print()"
   ]
  },
  {
   "cell_type": "code",
   "execution_count": 16,
   "id": "a0fa55ba",
   "metadata": {},
   "outputs": [
    {
     "name": "stdout",
     "output_type": "stream",
     "text": [
      "5\n",
      "A\n",
      "BC\n",
      "CDE\n",
      "DEFG\n",
      "EFGHI\n"
     ]
    }
   ],
   "source": [
    "#pattern 4\n",
    "#A\n",
    "#BC\n",
    "#CDE\n",
    "#DEFG\n",
    "n = int(input())\n",
    "i =1\n",
    "a = ord('A')\n",
    "while(i<=n):\n",
    "    j=i\n",
    "    x=i\n",
    "    while(x>0):\n",
    "        print(chr(a+j-1),end='')\n",
    "        j=j+1\n",
    "        x=x-1\n",
    "    i=i+1\n",
    "    print()"
   ]
  },
  {
   "cell_type": "code",
   "execution_count": 17,
   "id": "6c2e6a6b",
   "metadata": {},
   "outputs": [
    {
     "name": "stdout",
     "output_type": "stream",
     "text": [
      "5\n",
      "EDCBA\n",
      "DCBA\n",
      "CBA\n",
      "BA\n",
      "A\n"
     ]
    }
   ],
   "source": [
    "#pattern 5\n",
    "#E\n",
    "#DE\n",
    "#CDE\n",
    "#BCDE\n",
    "#ABCDE\n",
    "n = int(input())\n",
    "i =n\n",
    "a = ord('A')\n",
    "while(i>0):\n",
    "    j=i\n",
    "    while(j>0):\n",
    "        print(chr(a+j-1),end='')\n",
    "        j=j-1\n",
    "    i=i-1\n",
    "    print()"
   ]
  },
  {
   "cell_type": "code",
   "execution_count": 18,
   "id": "1539e71c",
   "metadata": {},
   "outputs": [
    {
     "name": "stdout",
     "output_type": "stream",
     "text": [
      "A\n",
      "BA\n",
      "CBA\n",
      "DCBA\n",
      "EDCBA\n"
     ]
    }
   ],
   "source": [
    "def print_pattern(n):\n",
    "    for i in range(n):\n",
    "        for j in range(i, -1, -1):\n",
    "            print(chr(ord('A') + j), end='')\n",
    "        print()\n",
    "\n",
    "n = 5\n",
    "print_pattern(n)\n"
   ]
  },
  {
   "cell_type": "markdown",
   "id": "5bdb0603",
   "metadata": {},
   "source": [
    "## Inverted Pattern\n"
   ]
  },
  {
   "cell_type": "code",
   "execution_count": 19,
   "id": "19cddaf1",
   "metadata": {},
   "outputs": [
    {
     "name": "stdout",
     "output_type": "stream",
     "text": [
      "5\n",
      "*****\n",
      "****\n",
      "***\n",
      "**\n",
      "*\n"
     ]
    }
   ],
   "source": [
    "#****\n",
    "#***\n",
    "#**\n",
    "#*\n",
    "n =int(input())\n",
    "i=1\n",
    "while(i<=n):\n",
    "    j=n\n",
    "    while(j>=i):\n",
    "        print('*' , end='')\n",
    "        j=j-1\n",
    "    print()\n",
    "    i=i+1"
   ]
  },
  {
   "cell_type": "code",
   "execution_count": 20,
   "id": "593733a5",
   "metadata": {},
   "outputs": [
    {
     "name": "stdout",
     "output_type": "stream",
     "text": [
      "5\n",
      "55555\n",
      "4444\n",
      "333\n",
      "22\n",
      "1\n"
     ]
    }
   ],
   "source": [
    "#4444\n",
    "#333\n",
    "#22\n",
    "#1\n",
    "n = int(input())\n",
    "i=n\n",
    "k=0\n",
    "while(i>0):\n",
    "    j=1\n",
    "    while(j<=n-k):\n",
    "        print(i,end='')\n",
    "        j=j+1\n",
    "    print()\n",
    "    i=i-1\n",
    "    k=k+1"
   ]
  },
  {
   "cell_type": "markdown",
   "id": "32ccb0a6",
   "metadata": {},
   "source": [
    "## Reversed Pattern\n"
   ]
  },
  {
   "cell_type": "code",
   "execution_count": 21,
   "id": "f9a4ce77",
   "metadata": {},
   "outputs": [
    {
     "name": "stdout",
     "output_type": "stream",
     "text": [
      "5\n",
      "    *\n",
      "   **\n",
      "  ***\n",
      " ****\n",
      "*****\n"
     ]
    }
   ],
   "source": [
    "#   *\n",
    "#  **\n",
    "# ***\n",
    "#****\n",
    "n = int(input())\n",
    "i =1\n",
    "while(i<=n):\n",
    "    spaces=1\n",
    "    while(spaces<=n-i):\n",
    "        print(' ',end='')\n",
    "        spaces=spaces+1\n",
    "    stars=1\n",
    "    while(stars<=i):\n",
    "        print('*',end='')\n",
    "        stars=stars+1\n",
    "    print()\n",
    "    i=i+1"
   ]
  },
  {
   "cell_type": "code",
   "execution_count": 22,
   "id": "2fb96be3",
   "metadata": {},
   "outputs": [
    {
     "name": "stdout",
     "output_type": "stream",
     "text": [
      "5\n",
      "    1\n",
      "   12\n",
      "  123\n",
      " 1234\n",
      "12345\n"
     ]
    }
   ],
   "source": [
    "#   1\n",
    "#  12\n",
    "# 123\n",
    "#1234\n",
    "n= int(input())\n",
    "i=1\n",
    "while(i<=n):\n",
    "    spaces=1\n",
    "    while(spaces<=n-i):\n",
    "        print(' ',end='')\n",
    "        spaces=spaces+1\n",
    "    num=1\n",
    "    while(num<=i):\n",
    "        print(num,end='')\n",
    "        num=num+1\n",
    "    print()\n",
    "    i=i+1"
   ]
  },
  {
   "cell_type": "markdown",
   "id": "e317fb83",
   "metadata": {},
   "source": [
    "## iscosceles pattern\n"
   ]
  },
  {
   "cell_type": "code",
   "execution_count": 23,
   "id": "e7f37953",
   "metadata": {},
   "outputs": [
    {
     "name": "stdout",
     "output_type": "stream",
     "text": [
      "5\n",
      "    1\n",
      "   121\n",
      "  12321\n",
      " 1234321\n",
      "123454321\n"
     ]
    }
   ],
   "source": [
    "#   1\n",
    "#  121\n",
    "# 12321\n",
    "#1234321\n",
    "n =int(input())\n",
    "i =1\n",
    "while(i<=n):\n",
    "    spaces=1\n",
    "    while(spaces<=n-i):\n",
    "        print(' ',end='')\n",
    "        spaces=spaces+1\n",
    "    j=1\n",
    "    while(j<=i):\n",
    "        print(j,end='')\n",
    "        j=j+1\n",
    "    j=i-1\n",
    "    while(j>=1):\n",
    "        print(j,end='')\n",
    "        j=j-1\n",
    "    print()\n",
    "    i=i+1"
   ]
  },
  {
   "cell_type": "code",
   "execution_count": 24,
   "id": "4a7e3a65",
   "metadata": {},
   "outputs": [
    {
     "name": "stdout",
     "output_type": "stream",
     "text": [
      "5\n",
      "    *\n",
      "   ***\n",
      "  *****\n",
      " *******\n",
      "*********\n"
     ]
    }
   ],
   "source": [
    "#   *\n",
    "#  ***\n",
    "# *****\n",
    "#*******\n",
    "n =int(input())\n",
    "i =1\n",
    "while(i<=n):\n",
    "    spaces=1\n",
    "    while(spaces<=n-i):\n",
    "        print(' ',end='')\n",
    "        spaces=spaces+1\n",
    "    j=1\n",
    "    while(j<=i):\n",
    "        print(\"*\",end='')\n",
    "        j=j+1\n",
    "    j=i-1\n",
    "    while(j>=1):\n",
    "        print(\"*\",end='')\n",
    "        j=j-1\n",
    "    print()\n",
    "    i=i+1"
   ]
  },
  {
   "cell_type": "code",
   "execution_count": 25,
   "id": "26967bab",
   "metadata": {},
   "outputs": [
    {
     "name": "stdout",
     "output_type": "stream",
     "text": [
      "5\n",
      "    1\n",
      "   232\n",
      "  34543\n",
      " 4567654\n",
      "567898765\n"
     ]
    }
   ],
   "source": [
    "#   1\n",
    "#  232\n",
    "# 34543\n",
    "#4567654\n",
    "n =int(input())\n",
    "i =1\n",
    "while(i<=n):\n",
    "    spaces=1\n",
    "    while(spaces<=n-i):\n",
    "        print(' ',end='')\n",
    "        spaces=spaces+1\n",
    "    j=i\n",
    "    while(j<=2*i-1):\n",
    "        print(j,end='')\n",
    "        j=j+1\n",
    "    j=2*i-2\n",
    "    while(j>=i):\n",
    "        print(j,end='')\n",
    "        j=j-1\n",
    "    print()\n",
    "    i=i+1"
   ]
  },
  {
   "cell_type": "code",
   "execution_count": 26,
   "id": "2be33b29",
   "metadata": {},
   "outputs": [
    {
     "name": "stdout",
     "output_type": "stream",
     "text": [
      "5\n",
      "    *\n",
      "   ***\n",
      "  *****\n",
      " *******\n",
      "*********\n",
      " *******\n",
      "  *****\n",
      "   ***\n",
      "    *\n"
     ]
    }
   ],
   "source": [
    "#  *\n",
    "# ***\n",
    "#*****\n",
    "# ***\n",
    "#  *\n",
    "n= int(input())\n",
    "i = 1\n",
    "while i <= n:\n",
    "    spaces = abs(n - i)\n",
    "    stars = 2 * i - 1\n",
    "    print(' ' * spaces + '*' * stars)\n",
    "    i += 1\n",
    "i = n - 1\n",
    "while i >= 1:\n",
    "    spaces = abs(n - i)\n",
    "    stars = 2 * i - 1\n",
    "    print(' ' * spaces + '*' * stars)\n",
    "    i -= 1"
   ]
  }
 ],
 "metadata": {
  "kernelspec": {
   "display_name": "Python 3 (ipykernel)",
   "language": "python",
   "name": "python3"
  },
  "language_info": {
   "codemirror_mode": {
    "name": "ipython",
    "version": 3
   },
   "file_extension": ".py",
   "mimetype": "text/x-python",
   "name": "python",
   "nbconvert_exporter": "python",
   "pygments_lexer": "ipython3",
   "version": "3.9.13"
  }
 },
 "nbformat": 4,
 "nbformat_minor": 5
}
