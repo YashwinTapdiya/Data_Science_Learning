{
 "cells": [
  {
   "cell_type": "code",
   "execution_count": 1,
   "id": "29d2abd6",
   "metadata": {},
   "outputs": [
    {
     "name": "stdout",
     "output_type": "stream",
     "text": [
      "<class 'int'>\n"
     ]
    }
   ],
   "source": [
    "a = 10\n",
    "print(type(a))"
   ]
  },
  {
   "cell_type": "code",
   "execution_count": 2,
   "id": "67679bc4",
   "metadata": {},
   "outputs": [
    {
     "name": "stdout",
     "output_type": "stream",
     "text": [
      "<class 'list'>\n"
     ]
    }
   ],
   "source": [
    "l = [1,2,3]\n",
    "print(type(l))"
   ]
  },
  {
   "cell_type": "code",
   "execution_count": 3,
   "id": "19f8ca7e",
   "metadata": {},
   "outputs": [
    {
     "name": "stdout",
     "output_type": "stream",
     "text": [
      "<class '__main__.Student'>\n"
     ]
    }
   ],
   "source": [
    "# creating our own class\n",
    "class Student:\n",
    "    pass\n",
    "\n",
    "# now creating object of class\n",
    "s1 = Student()\n",
    "s2 = Student()\n",
    "s3 = Student()\n",
    "print(type(s1))"
   ]
  },
  {
   "cell_type": "markdown",
   "id": "8e69d4e5",
   "metadata": {},
   "source": [
    "#### Instance attribute"
   ]
  },
  {
   "cell_type": "code",
   "execution_count": 4,
   "id": "5c09bf93",
   "metadata": {},
   "outputs": [],
   "source": [
    "s1.name = \"Yashwin\"\n",
    "s1.age =  22"
   ]
  },
  {
   "cell_type": "code",
   "execution_count": 5,
   "id": "e7ab8c8c",
   "metadata": {},
   "outputs": [],
   "source": [
    "s2.rollNumber = 102"
   ]
  },
  {
   "cell_type": "code",
   "execution_count": 6,
   "id": "fc351689",
   "metadata": {},
   "outputs": [
    {
     "name": "stdout",
     "output_type": "stream",
     "text": [
      "{'name': 'Yashwin', 'age': 22}\n",
      "{'rollNumber': 102}\n",
      "{}\n"
     ]
    }
   ],
   "source": [
    "print(s1.__dict__)\n",
    "print(s2.__dict__)\n",
    "print(s3.__dict__)"
   ]
  },
  {
   "cell_type": "code",
   "execution_count": 7,
   "id": "697a3611",
   "metadata": {},
   "outputs": [
    {
     "name": "stdout",
     "output_type": "stream",
     "text": [
      "Yashwin\n"
     ]
    }
   ],
   "source": [
    "print(s1.name)"
   ]
  },
  {
   "cell_type": "code",
   "execution_count": 8,
   "id": "bac49f9c",
   "metadata": {},
   "outputs": [
    {
     "name": "stdout",
     "output_type": "stream",
     "text": [
      "True\n",
      "False\n"
     ]
    }
   ],
   "source": [
    "# hasattr -> takes two arguments\n",
    "# first-> object name and second-> attribute name\n",
    "print(hasattr(s1,'name'))\n",
    "print(hasattr(s2,'name'))"
   ]
  },
  {
   "cell_type": "code",
   "execution_count": 9,
   "id": "b8f82f27",
   "metadata": {},
   "outputs": [
    {
     "name": "stdout",
     "output_type": "stream",
     "text": [
      "Yashwin Tapdiya\n"
     ]
    }
   ],
   "source": [
    "# setattr\n",
    "setattr(s1,'name',\"Yashwin Tapdiya\")\n",
    "print(s1.name)"
   ]
  },
  {
   "cell_type": "code",
   "execution_count": 10,
   "id": "5d1d9827",
   "metadata": {},
   "outputs": [],
   "source": [
    "# delattr\n",
    "delattr(s2,'rollNumber')"
   ]
  },
  {
   "cell_type": "code",
   "execution_count": 11,
   "id": "794e70df",
   "metadata": {},
   "outputs": [
    {
     "name": "stdout",
     "output_type": "stream",
     "text": [
      "22\n",
      "25\n"
     ]
    }
   ],
   "source": [
    "# getattr\n",
    "print(getattr(s1,'age'))\n",
    "print(getattr(s3,'age',25))"
   ]
  },
  {
   "cell_type": "markdown",
   "id": "d4461633",
   "metadata": {},
   "source": [
    "#### Class attribute"
   ]
  },
  {
   "cell_type": "code",
   "execution_count": 12,
   "id": "fbf88d9c",
   "metadata": {},
   "outputs": [],
   "source": [
    "Student.totalStudents = 20"
   ]
  },
  {
   "cell_type": "code",
   "execution_count": 13,
   "id": "320badd6",
   "metadata": {},
   "outputs": [
    {
     "name": "stdout",
     "output_type": "stream",
     "text": [
      "{'__module__': '__main__', '__dict__': <attribute '__dict__' of 'Student' objects>, '__weakref__': <attribute '__weakref__' of 'Student' objects>, '__doc__': None, 'totalStudents': 20}\n"
     ]
    }
   ],
   "source": [
    "print(Student.__dict__)"
   ]
  },
  {
   "cell_type": "code",
   "execution_count": 14,
   "id": "74c772da",
   "metadata": {},
   "outputs": [],
   "source": [
    "class Student_1:\n",
    "    ## class attributes\n",
    "    totalStudents = 20\n",
    "    classTeacherName = \"Komal\"\n",
    "s1 = Student_1()\n",
    "s2 = Student_1()"
   ]
  },
  {
   "cell_type": "code",
   "execution_count": 15,
   "id": "00c53660",
   "metadata": {},
   "outputs": [
    {
     "name": "stdout",
     "output_type": "stream",
     "text": [
      "{'__module__': '__main__', 'totalStudents': 20, 'classTeacherName': 'Komal', '__dict__': <attribute '__dict__' of 'Student_1' objects>, '__weakref__': <attribute '__weakref__' of 'Student_1' objects>, '__doc__': None}\n",
      "{}\n",
      "{}\n",
      "20\n",
      "20\n",
      "20\n"
     ]
    }
   ],
   "source": [
    "print(Student_1.__dict__)\n",
    "print(s1.__dict__)\n",
    "print(s2.__dict__)\n",
    "print(Student_1.totalStudents)\n",
    "print(s1.totalStudents)\n",
    "print(s2.totalStudents)"
   ]
  },
  {
   "cell_type": "code",
   "execution_count": 16,
   "id": "8a05f1fe",
   "metadata": {},
   "outputs": [
    {
     "name": "stdout",
     "output_type": "stream",
     "text": [
      "30\n",
      "30\n",
      "30\n"
     ]
    }
   ],
   "source": [
    "Student_1.totalStudents = 30\n",
    "print(Student_1.totalStudents)\n",
    "print(s1.totalStudents)\n",
    "print(s2.totalStudents)"
   ]
  },
  {
   "cell_type": "code",
   "execution_count": 17,
   "id": "a0da77b2",
   "metadata": {},
   "outputs": [
    {
     "name": "stdout",
     "output_type": "stream",
     "text": [
      "30\n",
      "40\n",
      "30\n"
     ]
    }
   ],
   "source": [
    "s1.totalStudents = 40\n",
    "print(Student_1.totalStudents)\n",
    "print(s1.totalStudents)\n",
    "print(s2.totalStudents)"
   ]
  },
  {
   "cell_type": "code",
   "execution_count": 18,
   "id": "0492e461",
   "metadata": {},
   "outputs": [
    {
     "name": "stdout",
     "output_type": "stream",
     "text": [
      "{'totalStudents': 40}\n",
      "{}\n"
     ]
    }
   ],
   "source": [
    "print(s1.__dict__)\n",
    "print(s2.__dict__)"
   ]
  },
  {
   "cell_type": "markdown",
   "id": "e3c92bba",
   "metadata": {},
   "source": [
    "### Methods"
   ]
  },
  {
   "cell_type": "code",
   "execution_count": 19,
   "id": "5f1c5137",
   "metadata": {},
   "outputs": [],
   "source": [
    "class Student:\n",
    "    ## class attributes\n",
    "    totalStudents = 20\n",
    "    classTeacherName = \"Komal\"\n",
    "    \n",
    "    # Instance methods\n",
    "    def printHello():\n",
    "        print(\"Hello\")\n",
    "s1 = Student()\n",
    "s2 = Student()"
   ]
  },
  {
   "cell_type": "code",
   "execution_count": 20,
   "id": "ef6fedb1",
   "metadata": {},
   "outputs": [
    {
     "ename": "TypeError",
     "evalue": "printHello() takes 0 positional arguments but 1 was given",
     "output_type": "error",
     "traceback": [
      "\u001b[1;31m---------------------------------------------------------------------------\u001b[0m",
      "\u001b[1;31mTypeError\u001b[0m                                 Traceback (most recent call last)",
      "Cell \u001b[1;32mIn[20], line 1\u001b[0m\n\u001b[1;32m----> 1\u001b[0m \u001b[43ms1\u001b[49m\u001b[38;5;241;43m.\u001b[39;49m\u001b[43mprintHello\u001b[49m\u001b[43m(\u001b[49m\u001b[43m)\u001b[49m\n",
      "\u001b[1;31mTypeError\u001b[0m: printHello() takes 0 positional arguments but 1 was given"
     ]
    }
   ],
   "source": [
    "s1.printHello()\n",
    "# internally it is interpreted as:\n",
    "# Student.printHello(s1) and hence gives error"
   ]
  },
  {
   "cell_type": "code",
   "execution_count": 34,
   "id": "39799195",
   "metadata": {},
   "outputs": [],
   "source": [
    "class Student:\n",
    "    ## class attributes\n",
    "    totalStudents = 20\n",
    "    classTeacherName = \"Komal\"\n",
    "    \n",
    "    # Instance methods\n",
    "    def printHello(self):\n",
    "        print(\"Hello\")\n",
    "    def print(self,str):\n",
    "        print(str)\n",
    "    def printName(self):\n",
    "        print(self.name)\n",
    "s1 = Student()\n",
    "s2 = Student()"
   ]
  },
  {
   "cell_type": "code",
   "execution_count": 35,
   "id": "39ce0eae",
   "metadata": {},
   "outputs": [
    {
     "name": "stdout",
     "output_type": "stream",
     "text": [
      "Hello\n"
     ]
    }
   ],
   "source": [
    "s1.printHello()"
   ]
  },
  {
   "cell_type": "code",
   "execution_count": 36,
   "id": "ef4180fb",
   "metadata": {},
   "outputs": [
    {
     "name": "stdout",
     "output_type": "stream",
     "text": [
      "Hello Myself Yashwin\n"
     ]
    }
   ],
   "source": [
    "s1.print(\"Hello Myself Yashwin\")"
   ]
  },
  {
   "cell_type": "code",
   "execution_count": 37,
   "id": "fe8ab1bd",
   "metadata": {},
   "outputs": [
    {
     "name": "stdout",
     "output_type": "stream",
     "text": [
      "Hello\n"
     ]
    }
   ],
   "source": [
    "Student.printHello(s1)"
   ]
  },
  {
   "cell_type": "code",
   "execution_count": 38,
   "id": "ea056449",
   "metadata": {},
   "outputs": [],
   "source": [
    "s1.name = \"Yashwin\""
   ]
  },
  {
   "cell_type": "code",
   "execution_count": 39,
   "id": "563c57a9",
   "metadata": {},
   "outputs": [
    {
     "name": "stdout",
     "output_type": "stream",
     "text": [
      "Yashwin\n"
     ]
    }
   ],
   "source": [
    "s1.printName()"
   ]
  },
  {
   "cell_type": "code",
   "execution_count": 40,
   "id": "4d775a0a",
   "metadata": {},
   "outputs": [],
   "source": [
    "class Student:\n",
    "    ## class attributes\n",
    "    totalStudents = 20\n",
    "    classTeacherName = \"Komal\"\n",
    "    \n",
    "    # Instance methods\n",
    "    def printHello(self):\n",
    "        print(\"Hello\")\n",
    "    def print(self,str):\n",
    "        print(str)\n",
    "    def printName(self):\n",
    "        print(self.name)\n",
    "    def addName(self,name):\n",
    "        self.name = name\n",
    "s1 = Student()\n",
    "s2 = Student()"
   ]
  },
  {
   "cell_type": "code",
   "execution_count": 41,
   "id": "a499f50b",
   "metadata": {},
   "outputs": [
    {
     "name": "stdout",
     "output_type": "stream",
     "text": [
      "{}\n",
      "{}\n"
     ]
    }
   ],
   "source": [
    "print(s1.__dict__)\n",
    "print(s2.__dict__)"
   ]
  },
  {
   "cell_type": "code",
   "execution_count": 44,
   "id": "28baf9cc",
   "metadata": {},
   "outputs": [
    {
     "name": "stdout",
     "output_type": "stream",
     "text": [
      "{'name': 'Yashwin'}\n",
      "{}\n"
     ]
    }
   ],
   "source": [
    "s1.addName(\"Yashwin\")\n",
    "print(s1.__dict__)\n",
    "print(s2.__dict__)"
   ]
  },
  {
   "cell_type": "code",
   "execution_count": 45,
   "id": "10366a4c",
   "metadata": {},
   "outputs": [
    {
     "name": "stdout",
     "output_type": "stream",
     "text": [
      "{'name': 'Yashwin Tapdiya'}\n",
      "{}\n"
     ]
    }
   ],
   "source": [
    "s1.addName(\"Yashwin Tapdiya\")\n",
    "print(s1.__dict__)\n",
    "print(s2.__dict__)"
   ]
  },
  {
   "cell_type": "code",
   "execution_count": 46,
   "id": "c3991cc1",
   "metadata": {},
   "outputs": [],
   "source": [
    "class Student:\n",
    "    ## class attributes\n",
    "    totalStudents = 20\n",
    "    classTeacherName = \"Komal\"\n",
    "    \n",
    "    # Instance methods\n",
    "    def printHello(self):\n",
    "        print(\"Hello\")\n",
    "    def print(self,str):\n",
    "        print(str)\n",
    "    def printName(self):\n",
    "        print(self.name)\n",
    "    def addName(self,name):\n",
    "        self.name = name\n",
    "    def test(self):\n",
    "        Student.totalStudents = 25\n",
    "        print(Student.totalStudents)\n",
    "        Student.test_class = 90\n",
    "s1 = Student()\n",
    "s2 = Student()"
   ]
  },
  {
   "cell_type": "code",
   "execution_count": 47,
   "id": "13df5802",
   "metadata": {},
   "outputs": [
    {
     "name": "stdout",
     "output_type": "stream",
     "text": [
      "25\n",
      "{'__module__': '__main__', 'totalStudents': 25, 'classTeacherName': 'Komal', 'printHello': <function Student.printHello at 0x00000291E49CBB80>, 'print': <function Student.print at 0x00000291E66D0160>, 'printName': <function Student.printName at 0x00000291E66D04C0>, 'addName': <function Student.addName at 0x00000291E66D05E0>, 'test': <function Student.test at 0x00000291E66D0700>, '__dict__': <attribute '__dict__' of 'Student' objects>, '__weakref__': <attribute '__weakref__' of 'Student' objects>, '__doc__': None, 'test_class': 90}\n"
     ]
    }
   ],
   "source": [
    "s1.test()\n",
    "print(Student.__dict__)"
   ]
  },
  {
   "cell_type": "code",
   "execution_count": 48,
   "id": "e34e774e",
   "metadata": {},
   "outputs": [],
   "source": [
    "# with help of method we can create new instance attribute\n",
    "# we can update instance attribute, we can update class attribute\n",
    "# and we can create new class attributes"
   ]
  },
  {
   "cell_type": "markdown",
   "id": "3d743e21",
   "metadata": {},
   "source": [
    "### Constructor"
   ]
  },
  {
   "cell_type": "code",
   "execution_count": 50,
   "id": "34acf371",
   "metadata": {},
   "outputs": [
    {
     "name": "stdout",
     "output_type": "stream",
     "text": [
      "Constructor is called\n",
      "Constructor is called\n"
     ]
    }
   ],
   "source": [
    "class Student:\n",
    "    ## class attributes\n",
    "    totalStudents = 20\n",
    "    classTeacherName = \"Komal\"\n",
    "    \n",
    "    ## default constructor present\n",
    "    def __init__(self):\n",
    "        print(\"Constructor is called\")\n",
    "        pass\n",
    "    # Instance methods\n",
    "    def printHello(self):\n",
    "        print(\"Hello\")\n",
    "    def print(self,str):\n",
    "        print(str)\n",
    "    def printName(self):\n",
    "        print(self.name)\n",
    "    def addName(self,name):\n",
    "        self.name = name\n",
    "s1 = Student()\n",
    "s2 = Student()"
   ]
  },
  {
   "cell_type": "code",
   "execution_count": 52,
   "id": "91185a2d",
   "metadata": {},
   "outputs": [],
   "source": [
    "class Student:\n",
    "    ## class attributes\n",
    "    totalStudents = 20\n",
    "    classTeacherName = \"Komal\"\n",
    "    \n",
    "    ## default constructor present\n",
    "    def __init__(self,name,age,rollNumber):\n",
    "        self.name = name\n",
    "        self.age = age\n",
    "        self.rollNumbe = rollNumber\n",
    "    # Instance methods\n",
    "    def printHello(self):\n",
    "        print(\"Hello\")\n",
    "    def print(self,str):\n",
    "        print(str)\n",
    "    def printName(self):\n",
    "        print(self.name)\n",
    "    def addName(self,name):\n",
    "        self.name = name\n",
    "s1 = Student(\"Yashwin\",22,20119057)\n",
    "s2 = Student(\"Rohit\",35,20202020)"
   ]
  },
  {
   "cell_type": "code",
   "execution_count": 53,
   "id": "c5d6c4b3",
   "metadata": {},
   "outputs": [
    {
     "name": "stdout",
     "output_type": "stream",
     "text": [
      "{'name': 'Yashwin', 'age': 22, 'rollNumbe': 20119057}\n",
      "{'name': 'Rohit', 'age': 35, 'rollNumbe': 20202020}\n"
     ]
    }
   ],
   "source": [
    "print(s1.__dict__)\n",
    "print(s2.__dict__)"
   ]
  },
  {
   "cell_type": "markdown",
   "id": "45a3eb49",
   "metadata": {},
   "source": [
    "### Access Modifiers"
   ]
  },
  {
   "cell_type": "code",
   "execution_count": 62,
   "id": "273fab75",
   "metadata": {},
   "outputs": [],
   "source": [
    "class Student:\n",
    "    ## class attributes\n",
    "    totalStudents = 20\n",
    "    classTeacherName = \"Komal\"\n",
    "    \n",
    "    ## default constructor present\n",
    "    def __init__(self,name,age,rollNumber=101):\n",
    "        self.__name = name #name will be private now\n",
    "        self.age = age\n",
    "        self.rollNumber = rollNumber\n",
    "s1 = Student(\"Yashwin\",22,20119057)\n",
    "s2 = Student(\"Rohit\",35,20202020)\n",
    "s3 = Student(\"Nikhil\",23)"
   ]
  },
  {
   "cell_type": "code",
   "execution_count": 63,
   "id": "414834fc",
   "metadata": {
    "scrolled": true
   },
   "outputs": [
    {
     "name": "stdout",
     "output_type": "stream",
     "text": [
      "22 20119057\n"
     ]
    }
   ],
   "source": [
    "print(s1.age,s1.rollNumber)"
   ]
  },
  {
   "cell_type": "code",
   "execution_count": 64,
   "id": "e2ece521",
   "metadata": {},
   "outputs": [
    {
     "ename": "AttributeError",
     "evalue": "'Student' object has no attribute 'name'",
     "output_type": "error",
     "traceback": [
      "\u001b[1;31m---------------------------------------------------------------------------\u001b[0m",
      "\u001b[1;31mAttributeError\u001b[0m                            Traceback (most recent call last)",
      "Cell \u001b[1;32mIn[64], line 1\u001b[0m\n\u001b[1;32m----> 1\u001b[0m \u001b[38;5;28mprint\u001b[39m(\u001b[43ms1\u001b[49m\u001b[38;5;241;43m.\u001b[39;49m\u001b[43mname\u001b[49m)\n",
      "\u001b[1;31mAttributeError\u001b[0m: 'Student' object has no attribute 'name'"
     ]
    }
   ],
   "source": [
    "print(s1.name)\n",
    "# since name is private attribute we cannot access it \n",
    "# ouside the class"
   ]
  },
  {
   "cell_type": "code",
   "execution_count": 65,
   "id": "8e46dfdb",
   "metadata": {},
   "outputs": [],
   "source": [
    "class Student:\n",
    "    ## class attributes\n",
    "    totalStudents = 20\n",
    "    classTeacherName = \"Komal\"\n",
    "    \n",
    "    ## default constructor present\n",
    "    def __init__(self,name,age,rollNumber=101):\n",
    "        self.__name = name #name will be private now\n",
    "        self.age = age\n",
    "        self.rollNumber = rollNumber\n",
    "    def getName(self):\n",
    "        return self.__name\n",
    "    def setName(self,name):\n",
    "        self.__name = name\n",
    "s1 = Student(\"Yashwin\",22,20119057)\n",
    "s2 = Student(\"Rohit\",35,20202020)\n",
    "s3 = Student(\"Nikhil\",23)"
   ]
  },
  {
   "cell_type": "code",
   "execution_count": 67,
   "id": "8629f411",
   "metadata": {},
   "outputs": [
    {
     "name": "stdout",
     "output_type": "stream",
     "text": [
      "Yashwin 22 20119057\n",
      "Yashwin Tapdiya 22 20119057\n"
     ]
    }
   ],
   "source": [
    "print(s1.getName(),s1.age,s1.rollNumber)\n",
    "s1.setName(\"Yashwin Tapdiya\")\n",
    "print(s1.getName(),s1.age,s1.rollNumber)"
   ]
  },
  {
   "cell_type": "markdown",
   "id": "74bd6696",
   "metadata": {},
   "source": [
    "### Class methods and static methods"
   ]
  },
  {
   "cell_type": "code",
   "execution_count": 71,
   "id": "32152039",
   "metadata": {},
   "outputs": [],
   "source": [
    "class Student :\n",
    "    ## Class attributes\n",
    "    __totalStudents = 20\n",
    "    classTeacherName = 'Komal'\n",
    "    \n",
    "    def getTotalStudents(self) :\n",
    "        return Student.__totalStudents\n",
    "    \n",
    "    def __init__(self, name, age, rn = 101) :\n",
    "        self.__name = name\n",
    "        self.age = age\n",
    "        self.rollNumber = rn\n",
    "        \n",
    "    def getName(self) :\n",
    "        return self.__name\n",
    "    \n",
    "    def setName(self, name) :\n",
    "        if name == '' :\n",
    "            return\n",
    "        self.__name = name\n",
    "    \n",
    "s1 = Student('Mohit', 20, 101)\n",
    "s2 = Student('Aman', 21, 102)\n",
    "s3 = Student('Nikhil', 23)"
   ]
  },
  {
   "cell_type": "code",
   "execution_count": 72,
   "id": "12019725",
   "metadata": {},
   "outputs": [
    {
     "name": "stdout",
     "output_type": "stream",
     "text": [
      "20\n",
      "20\n"
     ]
    }
   ],
   "source": [
    "print(s1.getTotalStudents())\n",
    "print(Student.getTotalStudents(s1))"
   ]
  },
  {
   "cell_type": "code",
   "execution_count": 73,
   "id": "43563e61",
   "metadata": {},
   "outputs": [],
   "source": [
    "class Student :\n",
    "    ## Class attributes\n",
    "    __totalStudents = 20\n",
    "    classTeacherName = 'Komal'\n",
    "    \n",
    "    @classmethod # fucntion decortor\n",
    "    def getTotalStudents(cls) :\n",
    "        return Student.__totalStudents\n",
    "    \n",
    "    def __init__(self, name, age, rn = 101) :\n",
    "        self.__name = name\n",
    "        self.age = age\n",
    "        self.rollNumber = rn\n",
    "        \n",
    "    def getName(self) :\n",
    "        return self.__name\n",
    "    \n",
    "    def setName(self, name) :\n",
    "        if name == '' :\n",
    "            return\n",
    "        self.__name = name\n",
    "    \n",
    "s1 = Student('Mohit', 20, 101)\n",
    "s2 = Student('Aman', 21, 102)\n",
    "s3 = Student('Nikhil', 23)"
   ]
  },
  {
   "cell_type": "code",
   "execution_count": 74,
   "id": "f2b26f13",
   "metadata": {},
   "outputs": [
    {
     "name": "stdout",
     "output_type": "stream",
     "text": [
      "20\n"
     ]
    }
   ],
   "source": [
    "print(Student.getTotalStudents())"
   ]
  },
  {
   "cell_type": "code",
   "execution_count": 75,
   "id": "4184a1c4",
   "metadata": {},
   "outputs": [
    {
     "data": {
      "text/plain": [
       "['_Student__totalStudents',\n",
       " '__class__',\n",
       " '__delattr__',\n",
       " '__dict__',\n",
       " '__dir__',\n",
       " '__doc__',\n",
       " '__eq__',\n",
       " '__format__',\n",
       " '__ge__',\n",
       " '__getattribute__',\n",
       " '__gt__',\n",
       " '__hash__',\n",
       " '__init__',\n",
       " '__init_subclass__',\n",
       " '__le__',\n",
       " '__lt__',\n",
       " '__module__',\n",
       " '__ne__',\n",
       " '__new__',\n",
       " '__reduce__',\n",
       " '__reduce_ex__',\n",
       " '__repr__',\n",
       " '__setattr__',\n",
       " '__sizeof__',\n",
       " '__str__',\n",
       " '__subclasshook__',\n",
       " '__weakref__',\n",
       " 'classTeacherName',\n",
       " 'getName',\n",
       " 'getTotalStudents',\n",
       " 'setName']"
      ]
     },
     "execution_count": 75,
     "metadata": {},
     "output_type": "execute_result"
    }
   ],
   "source": [
    "dir(Student)"
   ]
  },
  {
   "cell_type": "markdown",
   "id": "035ffede",
   "metadata": {},
   "source": [
    "## Rectangel class"
   ]
  },
  {
   "cell_type": "code",
   "execution_count": 76,
   "id": "5482e8d6",
   "metadata": {},
   "outputs": [],
   "source": [
    "# Create a new Rectangle class for creating a rectangle object\n",
    "\n",
    "class Rectangle(object):\n",
    "    \n",
    "    # Constructor\n",
    "    def __init__(self, width=2, height=3, color='r'):\n",
    "        self.height = height \n",
    "        self.width = width\n",
    "        self.color = color\n",
    "    \n",
    "    # Method\n",
    "    def drawRectangle(self):\n",
    "        plt.gca().add_patch(plt.Rectangle((0, 0), self.width, self.height ,fc=self.color))\n",
    "        plt.axis('scaled')\n",
    "        plt.show()\n",
    "        "
   ]
  },
  {
   "cell_type": "code",
   "execution_count": 77,
   "id": "2593bfe3",
   "metadata": {},
   "outputs": [
    {
     "data": {
      "text/plain": [
       "3"
      ]
     },
     "execution_count": 77,
     "metadata": {},
     "output_type": "execute_result"
    }
   ],
   "source": [
    "# Create a new object rectangle\n",
    "\n",
    "SkinnyBlueRectangle = Rectangle(2, 3, 'blue')\n",
    "# Print the object attribute height\n",
    "\n",
    "SkinnyBlueRectangle.height "
   ]
  },
  {
   "cell_type": "code",
   "execution_count": 78,
   "id": "15da9bd6",
   "metadata": {},
   "outputs": [
    {
     "data": {
      "text/plain": [
       "2"
      ]
     },
     "execution_count": 78,
     "metadata": {},
     "output_type": "execute_result"
    }
   ],
   "source": [
    "# Print the object attribute width\n",
    "\n",
    "SkinnyBlueRectangle.width"
   ]
  },
  {
   "cell_type": "code",
   "execution_count": 79,
   "id": "128b7e67",
   "metadata": {},
   "outputs": [
    {
     "data": {
      "text/plain": [
       "'blue'"
      ]
     },
     "execution_count": 79,
     "metadata": {},
     "output_type": "execute_result"
    }
   ],
   "source": [
    "# Print the object attribute color\n",
    "\n",
    "SkinnyBlueRectangle.color"
   ]
  },
  {
   "cell_type": "code",
   "execution_count": 82,
   "id": "503bbcd3",
   "metadata": {},
   "outputs": [
    {
     "data": {
      "image/png": "[encoded data removed]",
      "text/plain": [
       "<Figure size 640x480 with 1 Axes>"
      ]
     },
     "metadata": {},
     "output_type": "display_data"
    }
   ],
   "source": [
    "# Import the library\n",
    "\n",
    "import matplotlib.pyplot as plt\n",
    "%matplotlib inline  \n",
    "# Use the drawRectangle method to draw the shape\n",
    "\n",
    "SkinnyBlueRectangle.drawRectangle()"
   ]
  },
  {
   "cell_type": "code",
   "execution_count": 83,
   "id": "e968071a",
   "metadata": {},
   "outputs": [
    {
     "data": {
      "text/plain": [
       "array([[2, 1],\n",
       "       [1, 2]])"
      ]
     },
     "execution_count": 83,
     "metadata": {},
     "output_type": "execute_result"
    }
   ],
   "source": [
    "import numpy as np\n",
    "x = np.array([[1,0],[0,1]])\n",
    "y = np.array([[2,1],[1,2]])\n",
    "z = np.dot(x,y)\n",
    "z"
   ]
  }
 ],
 "metadata": {
  "kernelspec": {
   "display_name": "Python 3 (ipykernel)",
   "language": "python",
   "name": "python3"
  },
  "language_info": {
   "codemirror_mode": {
    "name": "ipython",
    "version": 3
   },
   "file_extension": ".py",
   "mimetype": "text/x-python",
   "name": "python",
   "nbconvert_exporter": "python",
   "pygments_lexer": "ipython3",
   "version": "3.9.13"
  }
 },
 "nbformat": 4,
 "nbformat_minor": 5
}
