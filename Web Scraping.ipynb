{
 "cells": [
  {
   "cell_type": "code",
   "execution_count": 1,
   "id": "9b46f0c9",
   "metadata": {},
   "outputs": [],
   "source": [
    "html = '<!DOCTYPE html>\\\n",
    "<html>\\\n",
    "<head>\\\n",
    "<title> Testing Web Page </title>\\\n",
    "</head>\\\n",
    "<body>\\\n",
    "<h1> Web Scraping </h1>\\\n",
    "<p id = \"first_para\">\\\n",
    "Let\\'s start learning \\\n",
    "<b>\\\n",
    "Web Scraping\\\n",
    "</b>\\\n",
    "</p>\\\n",
    "<p class = \"abc\" id = \"second_para\">\\\n",
    "You can read more about BeautifulSoup from <a href=\"https://www.crummy.com/software/BeautifulSoup/bs4/doc/\"> here </a>\\\n",
    "</p>\\\n",
    "<p class = \"abc\">\\\n",
    "<a href = \"https://www.cricbuzz.com/\"> Cricbuzz</a>\\\n",
    "</p>\\\n",
    "</body>\\\n",
    "</html>'"
   ]
  },
  {
   "cell_type": "markdown",
   "id": "3da7e0b6",
   "metadata": {},
   "source": [
    "# BeautifulSoup"
   ]
  },
  {
   "cell_type": "code",
   "execution_count": 2,
   "id": "b5de8e2b",
   "metadata": {},
   "outputs": [],
   "source": [
    "from bs4 import BeautifulSoup"
   ]
  },
  {
   "cell_type": "code",
   "execution_count": 3,
   "id": "8405e5a9",
   "metadata": {},
   "outputs": [],
   "source": [
    "data = BeautifulSoup(html,'html.parser')"
   ]
  },
  {
   "cell_type": "code",
   "execution_count": 4,
   "id": "e9e6850a",
   "metadata": {},
   "outputs": [
    {
     "data": {
      "text/plain": [
       "<!DOCTYPE html>\n",
       "<html><head><title> Testing Web Page </title></head><body><h1> Web Scraping </h1><p id=\"first_para\">Let's start learning <b>Web Scraping</b></p><p class=\"abc\" id=\"second_para\">You can read more about BeautifulSoup from <a href=\"https://www.crummy.com/software/BeautifulSoup/bs4/doc/\"> here </a></p><p class=\"abc\"><a href=\"https://www.cricbuzz.com/\"> Cricbuzz</a></p></body></html>"
      ]
     },
     "execution_count": 4,
     "metadata": {},
     "output_type": "execute_result"
    }
   ],
   "source": [
    "data"
   ]
  },
  {
   "cell_type": "code",
   "execution_count": 5,
   "id": "8a185927",
   "metadata": {},
   "outputs": [
    {
     "data": {
      "text/plain": [
       "bs4.BeautifulSoup"
      ]
     },
     "execution_count": 5,
     "metadata": {},
     "output_type": "execute_result"
    }
   ],
   "source": [
    "type(data)"
   ]
  },
  {
   "cell_type": "code",
   "execution_count": 6,
   "id": "b23e6e8f",
   "metadata": {},
   "outputs": [
    {
     "name": "stdout",
     "output_type": "stream",
     "text": [
      "<!DOCTYPE html>\n",
      "<html>\n",
      " <head>\n",
      "  <title>\n",
      "   Testing Web Page\n",
      "  </title>\n",
      " </head>\n",
      " <body>\n",
      "  <h1>\n",
      "   Web Scraping\n",
      "  </h1>\n",
      "  <p id=\"first_para\">\n",
      "   Let's start learning\n",
      "   <b>\n",
      "    Web Scraping\n",
      "   </b>\n",
      "  </p>\n",
      "  <p class=\"abc\" id=\"second_para\">\n",
      "   You can read more about BeautifulSoup from\n",
      "   <a href=\"https://www.crummy.com/software/BeautifulSoup/bs4/doc/\">\n",
      "    here\n",
      "   </a>\n",
      "  </p>\n",
      "  <p class=\"abc\">\n",
      "   <a href=\"https://www.cricbuzz.com/\">\n",
      "    Cricbuzz\n",
      "   </a>\n",
      "  </p>\n",
      " </body>\n",
      "</html>\n",
      "\n"
     ]
    }
   ],
   "source": [
    "print(data.prettify())"
   ]
  },
  {
   "cell_type": "code",
   "execution_count": 7,
   "id": "f1282e38",
   "metadata": {},
   "outputs": [
    {
     "data": {
      "text/plain": [
       "<title> Testing Web Page </title>"
      ]
     },
     "execution_count": 7,
     "metadata": {},
     "output_type": "execute_result"
    }
   ],
   "source": [
    "data.title\n",
    "# data.tag_name -> by this we can extract any tag data"
   ]
  },
  {
   "cell_type": "code",
   "execution_count": 8,
   "id": "3bf2783c",
   "metadata": {},
   "outputs": [
    {
     "data": {
      "text/plain": [
       "<head><title> Testing Web Page </title></head>"
      ]
     },
     "execution_count": 8,
     "metadata": {},
     "output_type": "execute_result"
    }
   ],
   "source": [
    "data.head"
   ]
  },
  {
   "cell_type": "code",
   "execution_count": 9,
   "id": "e6614972",
   "metadata": {},
   "outputs": [
    {
     "data": {
      "text/plain": [
       "<h1> Web Scraping </h1>"
      ]
     },
     "execution_count": 9,
     "metadata": {},
     "output_type": "execute_result"
    }
   ],
   "source": [
    "data.h1"
   ]
  },
  {
   "cell_type": "code",
   "execution_count": 10,
   "id": "042f3d83",
   "metadata": {},
   "outputs": [
    {
     "data": {
      "text/plain": [
       "<p id=\"first_para\">Let's start learning <b>Web Scraping</b></p>"
      ]
     },
     "execution_count": 10,
     "metadata": {},
     "output_type": "execute_result"
    }
   ],
   "source": [
    "data.p\n",
    "# we get onlt first p data"
   ]
  },
  {
   "cell_type": "code",
   "execution_count": 11,
   "id": "8d218998",
   "metadata": {},
   "outputs": [
    {
     "name": "stdout",
     "output_type": "stream",
     "text": [
      "<title> Testing Web Page </title>\n",
      "title\n",
      " Testing Web Page \n"
     ]
    }
   ],
   "source": [
    "print(data.title)\n",
    "print(data.title.name)\n",
    "print(data.title.string)"
   ]
  },
  {
   "cell_type": "code",
   "execution_count": 12,
   "id": "f99b7663",
   "metadata": {},
   "outputs": [
    {
     "name": "stdout",
     "output_type": "stream",
     "text": [
      "{}\n",
      "{'id': 'first_para'}\n"
     ]
    }
   ],
   "source": [
    "print(data.title.attrs)\n",
    "print(data.p.attrs)\n",
    "#this returns all the attributes of the tag"
   ]
  },
  {
   "cell_type": "code",
   "execution_count": 13,
   "id": "e68d334b",
   "metadata": {},
   "outputs": [
    {
     "data": {
      "text/plain": [
       "'first_para'"
      ]
     },
     "execution_count": 13,
     "metadata": {},
     "output_type": "execute_result"
    }
   ],
   "source": [
    "data.p['id']"
   ]
  },
  {
   "cell_type": "code",
   "execution_count": 14,
   "id": "034d19d1",
   "metadata": {},
   "outputs": [
    {
     "data": {
      "text/plain": [
       "'first_para'"
      ]
     },
     "execution_count": 14,
     "metadata": {},
     "output_type": "execute_result"
    }
   ],
   "source": [
    "data.p.get('id')"
   ]
  },
  {
   "cell_type": "code",
   "execution_count": 15,
   "id": "50e5da35",
   "metadata": {},
   "outputs": [
    {
     "data": {
      "text/plain": [
       "\" Testing Web Page  Web Scraping Let's start learning Web ScrapingYou can read more about BeautifulSoup from  here  Cricbuzz\""
      ]
     },
     "execution_count": 15,
     "metadata": {},
     "output_type": "execute_result"
    }
   ],
   "source": [
    "data.get_text()\n",
    "# by this we can extract all the text present in the web page"
   ]
  },
  {
   "cell_type": "code",
   "execution_count": 16,
   "id": "ea343a32",
   "metadata": {},
   "outputs": [
    {
     "data": {
      "text/plain": [
       "<p id=\"first_para\">Let's start learning <b>Web Scraping</b></p>"
      ]
     },
     "execution_count": 16,
     "metadata": {},
     "output_type": "execute_result"
    }
   ],
   "source": [
    "data.find('p')"
   ]
  },
  {
   "cell_type": "code",
   "execution_count": 17,
   "id": "666a8005",
   "metadata": {},
   "outputs": [
    {
     "data": {
      "text/plain": [
       "<h1> Web Scraping </h1>"
      ]
     },
     "execution_count": 17,
     "metadata": {},
     "output_type": "execute_result"
    }
   ],
   "source": [
    "data.find('h1')"
   ]
  },
  {
   "cell_type": "code",
   "execution_count": 18,
   "id": "14da1e7e",
   "metadata": {},
   "outputs": [
    {
     "name": "stdout",
     "output_type": "stream",
     "text": [
      "<p id=\"first_para\">Let's start learning <b>Web Scraping</b></p>\n",
      "<p class=\"abc\" id=\"second_para\">You can read more about BeautifulSoup from <a href=\"https://www.crummy.com/software/BeautifulSoup/bs4/doc/\"> here </a></p>\n",
      "<p class=\"abc\"><a href=\"https://www.cricbuzz.com/\"> Cricbuzz</a></p>\n"
     ]
    }
   ],
   "source": [
    "lp = data.find_all('p')\n",
    "\n",
    "for i in lp:\n",
    "    print(i)"
   ]
  },
  {
   "cell_type": "code",
   "execution_count": 19,
   "id": "08622332",
   "metadata": {},
   "outputs": [
    {
     "name": "stdout",
     "output_type": "stream",
     "text": [
      "<body><h1> Web Scraping </h1><p id=\"first_para\">Let's start learning <b>Web Scraping</b></p><p class=\"abc\" id=\"second_para\">You can read more about BeautifulSoup from <a href=\"https://www.crummy.com/software/BeautifulSoup/bs4/doc/\"> here </a></p><p class=\"abc\"><a href=\"https://www.cricbuzz.com/\"> Cricbuzz</a></p></body>\n"
     ]
    }
   ],
   "source": [
    "# print body tag content\n",
    "print(data.body)"
   ]
  },
  {
   "cell_type": "code",
   "execution_count": 20,
   "id": "1c48248c",
   "metadata": {},
   "outputs": [
    {
     "name": "stdout",
     "output_type": "stream",
     "text": [
      "This is an unordered list. "
     ]
    }
   ],
   "source": [
    "html = '<!DOCTYPE html><html><head><title>Learning Beautiful Soup</title></head>\\\n",
    "<body><h1> About Us </h1><div class = \"first_div\"><p>cricbuzz  Website</p>\\\n",
    "<a href=\"https://www.cricbuzz.in/\">Link to cricbuzz Website</a>\\\n",
    "<ul><li>This</li><li>is</li><li>an</li><li>unordered</li><li>list.</li></ul>\\\n",
    "</div><p id = \"template_p\">This is a template paragraph tag</p>\\\n",
    "<a href = \"https://www.facebook.com/cricbuzz/\">\\\n",
    "This is the link of our Facebook Page</a></body></html>'\n",
    "\n",
    "## Print the required output in given format\n",
    "from bs4 import BeautifulSoup\n",
    "data = BeautifulSoup(html, 'html.parser')\n",
    "ans = data.find_all('li')\n",
    "for ele in ans:\n",
    "    print(ele.text, end = \" \")"
   ]
  },
  {
   "cell_type": "code",
   "execution_count": 21,
   "id": "17c35434",
   "metadata": {},
   "outputs": [
    {
     "name": "stdout",
     "output_type": "stream",
     "text": [
      "https://www.cricbuzz.com/\n",
      "https://www.facebook.com/cricbuzz/\n"
     ]
    }
   ],
   "source": [
    "## HTML Code is provided in variable html\n",
    "\n",
    "html = '<!DOCTYPE html><html><head><title>Learning Beautiful Soup</title></head>\\\n",
    "<body><h1> About Us </h1><div class = \"first_div\"><p>cricbuzz Website</p>\\\n",
    "<a href=\"https://www.cricbuzz.com/\">Link to cricbuzz Website</a>\\\n",
    "<ul><li>This</li><li>is</li><li>an</li><li>unordered</li><li>list.</li></ul>\\\n",
    "</div><p id = \"template_p\">This is a template paragraph tag</p>\\\n",
    "<a href = \"https://www.facebook.com/cricbuzz/\">\\\n",
    "This is the link of our Facebook Page</a></body></html>'\n",
    "\n",
    "## Print the required output in given format\n",
    "from bs4 import BeautifulSoup\n",
    "data = BeautifulSoup(html, 'html.parser')\n",
    "ans = data.find_all('a')\n",
    "for ele in ans:\n",
    "    print(ele.attrs['href'])"
   ]
  },
  {
   "cell_type": "markdown",
   "id": "028e0573",
   "metadata": {},
   "source": [
    "## Navigate Tree"
   ]
  },
  {
   "cell_type": "markdown",
   "id": "47b4aa69",
   "metadata": {},
   "source": [
    "#### Searching Parse Tree"
   ]
  },
  {
   "cell_type": "code",
   "execution_count": 22,
   "id": "83fa6bdb",
   "metadata": {},
   "outputs": [],
   "source": [
    "html = '<!DOCTYPE html>\\\n",
    "<html>\\\n",
    "<head>\\\n",
    "<title> Testing Web Page </title>\\\n",
    "</head>\\\n",
    "<body>\\\n",
    "<h1> Web Scraping </h1>\\\n",
    "<p id = \"first_para\">\\\n",
    "Let\\'s start learning \\\n",
    "<b>\\\n",
    "Web Scraping\\\n",
    "</b>\\\n",
    "</p>\\\n",
    "<p class = \"abc\" id = \"second_para\">\\\n",
    "You can read more about BeautifulSoup from <a href=\"https://www.crummy.com/software/BeautifulSoup/bs4/doc/\"> here </a>\\\n",
    "</p>\\\n",
    "<p class = \"abc\">\\\n",
    "<a href = \"https://www.cricbuzz.com/\"> Cricbuzz</a>\\\n",
    "</p>\\\n",
    "</body>\\\n",
    "</html>'"
   ]
  },
  {
   "cell_type": "code",
   "execution_count": 23,
   "id": "b24cf74b",
   "metadata": {},
   "outputs": [],
   "source": [
    "data = BeautifulSoup(html,'html.parser')"
   ]
  },
  {
   "cell_type": "code",
   "execution_count": 24,
   "id": "9fe27fba",
   "metadata": {},
   "outputs": [
    {
     "data": {
      "text/plain": [
       "[<p id=\"first_para\">Let's start learning <b>Web Scraping</b></p>,\n",
       " <p class=\"abc\" id=\"second_para\">You can read more about BeautifulSoup from <a href=\"https://www.crummy.com/software/BeautifulSoup/bs4/doc/\"> here </a></p>,\n",
       " <a href=\"https://www.crummy.com/software/BeautifulSoup/bs4/doc/\"> here </a>,\n",
       " <p class=\"abc\"><a href=\"https://www.cricbuzz.com/\"> Cricbuzz</a></p>,\n",
       " <a href=\"https://www.cricbuzz.com/\"> Cricbuzz</a>]"
      ]
     },
     "execution_count": 24,
     "metadata": {},
     "output_type": "execute_result"
    }
   ],
   "source": [
    "data.find_all(['p','a'])\n",
    "# we will get all the tags with p and a"
   ]
  },
  {
   "cell_type": "code",
   "execution_count": 25,
   "id": "6101aecd",
   "metadata": {},
   "outputs": [
    {
     "data": {
      "text/plain": [
       "[<html><head><title> Testing Web Page </title></head><body><h1> Web Scraping </h1><p id=\"first_para\">Let's start learning <b>Web Scraping</b></p><p class=\"abc\" id=\"second_para\">You can read more about BeautifulSoup from <a href=\"https://www.crummy.com/software/BeautifulSoup/bs4/doc/\"> here </a></p><p class=\"abc\"><a href=\"https://www.cricbuzz.com/\"> Cricbuzz</a></p></body></html>,\n",
       " <head><title> Testing Web Page </title></head>,\n",
       " <title> Testing Web Page </title>,\n",
       " <body><h1> Web Scraping </h1><p id=\"first_para\">Let's start learning <b>Web Scraping</b></p><p class=\"abc\" id=\"second_para\">You can read more about BeautifulSoup from <a href=\"https://www.crummy.com/software/BeautifulSoup/bs4/doc/\"> here </a></p><p class=\"abc\"><a href=\"https://www.cricbuzz.com/\"> Cricbuzz</a></p></body>,\n",
       " <h1> Web Scraping </h1>,\n",
       " <p id=\"first_para\">Let's start learning <b>Web Scraping</b></p>,\n",
       " <b>Web Scraping</b>,\n",
       " <p class=\"abc\" id=\"second_para\">You can read more about BeautifulSoup from <a href=\"https://www.crummy.com/software/BeautifulSoup/bs4/doc/\"> here </a></p>,\n",
       " <a href=\"https://www.crummy.com/software/BeautifulSoup/bs4/doc/\"> here </a>,\n",
       " <p class=\"abc\"><a href=\"https://www.cricbuzz.com/\"> Cricbuzz</a></p>,\n",
       " <a href=\"https://www.cricbuzz.com/\"> Cricbuzz</a>]"
      ]
     },
     "execution_count": 25,
     "metadata": {},
     "output_type": "execute_result"
    }
   ],
   "source": [
    "data.find_all(True)"
   ]
  },
  {
   "cell_type": "code",
   "execution_count": 26,
   "id": "bcd66cca",
   "metadata": {},
   "outputs": [
    {
     "data": {
      "text/plain": [
       "[<p id=\"first_para\">Let's start learning <b>Web Scraping</b></p>]"
      ]
     },
     "execution_count": 26,
     "metadata": {},
     "output_type": "execute_result"
    }
   ],
   "source": [
    "data.find_all(id = \"first_para\")"
   ]
  },
  {
   "cell_type": "code",
   "execution_count": 27,
   "id": "f0d39e92",
   "metadata": {},
   "outputs": [
    {
     "data": {
      "text/plain": [
       "[<p class=\"abc\" id=\"second_para\">You can read more about BeautifulSoup from <a href=\"https://www.crummy.com/software/BeautifulSoup/bs4/doc/\"> here </a></p>,\n",
       " <p class=\"abc\"><a href=\"https://www.cricbuzz.com/\"> Cricbuzz</a></p>]"
      ]
     },
     "execution_count": 27,
     "metadata": {},
     "output_type": "execute_result"
    }
   ],
   "source": [
    "data.find_all(class_ = \"abc\")"
   ]
  },
  {
   "cell_type": "markdown",
   "id": "65ea8326",
   "metadata": {},
   "source": [
    "#### Going down"
   ]
  },
  {
   "cell_type": "code",
   "execution_count": 28,
   "id": "d80665bd",
   "metadata": {},
   "outputs": [
    {
     "name": "stdout",
     "output_type": "stream",
     "text": [
      "<!DOCTYPE html>\n",
      "<html>\n",
      " <head>\n",
      "  <title>\n",
      "   Testing Web Page\n",
      "  </title>\n",
      " </head>\n",
      " <body>\n",
      "  <h1>\n",
      "   Web Scraping\n",
      "  </h1>\n",
      "  <p id=\"first_para\">\n",
      "   Let's start learning\n",
      "   <b>\n",
      "    Web Scraping\n",
      "   </b>\n",
      "  </p>\n",
      "  <p class=\"abc\" id=\"second_para\">\n",
      "   You can read more about BeautifulSoup from\n",
      "   <a href=\"https://www.crummy.com/software/BeautifulSoup/bs4/doc/\">\n",
      "    here\n",
      "   </a>\n",
      "  </p>\n",
      "  <p class=\"abc\">\n",
      "   <a href=\"https://www.cricbuzz.com/\">\n",
      "    Cricbuzz\n",
      "   </a>\n",
      "  </p>\n",
      " </body>\n",
      "</html>\n",
      "\n"
     ]
    }
   ],
   "source": [
    "print(data.prettify())"
   ]
  },
  {
   "cell_type": "code",
   "execution_count": 29,
   "id": "2c97b14d",
   "metadata": {},
   "outputs": [
    {
     "data": {
      "text/plain": [
       "<head><title> Testing Web Page </title></head>"
      ]
     },
     "execution_count": 29,
     "metadata": {},
     "output_type": "execute_result"
    }
   ],
   "source": [
    "data.head"
   ]
  },
  {
   "cell_type": "code",
   "execution_count": 30,
   "id": "c2ddf5ac",
   "metadata": {},
   "outputs": [
    {
     "data": {
      "text/plain": [
       "<title> Testing Web Page </title>"
      ]
     },
     "execution_count": 30,
     "metadata": {},
     "output_type": "execute_result"
    }
   ],
   "source": [
    "data.head.title"
   ]
  },
  {
   "cell_type": "code",
   "execution_count": 31,
   "id": "32943ab0",
   "metadata": {},
   "outputs": [
    {
     "data": {
      "text/plain": [
       "<title> Testing Web Page </title>"
      ]
     },
     "execution_count": 31,
     "metadata": {},
     "output_type": "execute_result"
    }
   ],
   "source": [
    "data.title"
   ]
  },
  {
   "cell_type": "code",
   "execution_count": 32,
   "id": "76128d38",
   "metadata": {},
   "outputs": [
    {
     "data": {
      "text/plain": [
       "' Testing Web Page '"
      ]
     },
     "execution_count": 32,
     "metadata": {},
     "output_type": "execute_result"
    }
   ],
   "source": [
    "data.title.string"
   ]
  },
  {
   "cell_type": "code",
   "execution_count": 33,
   "id": "a9196050",
   "metadata": {},
   "outputs": [
    {
     "name": "stdout",
     "output_type": "stream",
     "text": [
      "<p id=\"first_para\">Let's start learning <b>Web Scraping</b></p>\n",
      "<p class=\"abc\" id=\"second_para\">You can read more about BeautifulSoup from <a href=\"https://www.crummy.com/software/BeautifulSoup/bs4/doc/\"> here </a></p>\n",
      "<p class=\"abc\"><a href=\"https://www.cricbuzz.com/\"> Cricbuzz</a></p>\n"
     ]
    }
   ],
   "source": [
    "li = data.find_all('p')\n",
    "\n",
    "for i in li:\n",
    "    print(i)"
   ]
  },
  {
   "cell_type": "code",
   "execution_count": 34,
   "id": "ae441621",
   "metadata": {},
   "outputs": [
    {
     "name": "stdout",
     "output_type": "stream",
     "text": [
      "None\n",
      "None\n",
      " Cricbuzz\n"
     ]
    }
   ],
   "source": [
    "for i in li:\n",
    "    print(i.string)\n",
    "# .string will give us string only when thier is one child "
   ]
  },
  {
   "cell_type": "code",
   "execution_count": 35,
   "id": "cd1ae61a",
   "metadata": {},
   "outputs": [
    {
     "name": "stdout",
     "output_type": "stream",
     "text": [
      "[\"Let's start learning \", 'Web Scraping']\n",
      "['You can read more about BeautifulSoup from ', ' here ']\n",
      "[' Cricbuzz']\n"
     ]
    }
   ],
   "source": [
    "for i in li:\n",
    "    print(list(i.strings))"
   ]
  },
  {
   "cell_type": "code",
   "execution_count": 36,
   "id": "f538f55a",
   "metadata": {},
   "outputs": [
    {
     "name": "stdout",
     "output_type": "stream",
     "text": [
      "[\"Let's start learning\", 'Web Scraping']\n",
      "['You can read more about BeautifulSoup from', 'here']\n",
      "['Cricbuzz']\n"
     ]
    }
   ],
   "source": [
    "for i in li:\n",
    "    print(list(i.stripped_strings))"
   ]
  },
  {
   "cell_type": "code",
   "execution_count": 39,
   "id": "ad4f7a93",
   "metadata": {},
   "outputs": [
    {
     "name": "stdout",
     "output_type": "stream",
     "text": [
      "2\n",
      "[<head><title> Testing Web Page </title></head>, <body><h1> Web Scraping </h1><p id=\"first_para\">Let's start learning <b>Web Scraping</b></p><p class=\"abc\" id=\"second_para\">You can read more about BeautifulSoup from <a href=\"https://www.crummy.com/software/BeautifulSoup/bs4/doc/\"> here </a></p><p class=\"abc\"><a href=\"https://www.cricbuzz.com/\"> Cricbuzz</a></p></body>]\n"
     ]
    }
   ],
   "source": [
    "li = data.html.contents\n",
    "print(len(li))\n",
    "print(li)"
   ]
  },
  {
   "cell_type": "code",
   "execution_count": 41,
   "id": "ad82fb4b",
   "metadata": {},
   "outputs": [
    {
     "name": "stdout",
     "output_type": "stream",
     "text": [
      "<head><title> Testing Web Page </title></head>\n",
      "<body><h1> Web Scraping </h1><p id=\"first_para\">Let's start learning <b>Web Scraping</b></p><p class=\"abc\" id=\"second_para\">You can read more about BeautifulSoup from <a href=\"https://www.crummy.com/software/BeautifulSoup/bs4/doc/\"> here </a></p><p class=\"abc\"><a href=\"https://www.cricbuzz.com/\"> Cricbuzz</a></p></body>\n"
     ]
    }
   ],
   "source": [
    "li_2 = data.html.children\n",
    "for i in li_2:\n",
    "    print(i)"
   ]
  },
  {
   "cell_type": "code",
   "execution_count": 44,
   "id": "8674f209",
   "metadata": {},
   "outputs": [
    {
     "name": "stdout",
     "output_type": "stream",
     "text": [
      "17\n"
     ]
    },
    {
     "data": {
      "text/plain": [
       "[<head><title> Testing Web Page </title></head>,\n",
       " <title> Testing Web Page </title>,\n",
       " ' Testing Web Page ',\n",
       " <body><h1> Web Scraping </h1><p id=\"first_para\">Let's start learning <b>Web Scraping</b></p><p class=\"abc\" id=\"second_para\">You can read more about BeautifulSoup from <a href=\"https://www.crummy.com/software/BeautifulSoup/bs4/doc/\"> here </a></p><p class=\"abc\"><a href=\"https://www.cricbuzz.com/\"> Cricbuzz</a></p></body>,\n",
       " <h1> Web Scraping </h1>,\n",
       " ' Web Scraping ',\n",
       " <p id=\"first_para\">Let's start learning <b>Web Scraping</b></p>,\n",
       " \"Let's start learning \",\n",
       " <b>Web Scraping</b>,\n",
       " 'Web Scraping',\n",
       " <p class=\"abc\" id=\"second_para\">You can read more about BeautifulSoup from <a href=\"https://www.crummy.com/software/BeautifulSoup/bs4/doc/\"> here </a></p>,\n",
       " 'You can read more about BeautifulSoup from ',\n",
       " <a href=\"https://www.crummy.com/software/BeautifulSoup/bs4/doc/\"> here </a>,\n",
       " ' here ',\n",
       " <p class=\"abc\"><a href=\"https://www.cricbuzz.com/\"> Cricbuzz</a></p>,\n",
       " <a href=\"https://www.cricbuzz.com/\"> Cricbuzz</a>,\n",
       " ' Cricbuzz']"
      ]
     },
     "execution_count": 44,
     "metadata": {},
     "output_type": "execute_result"
    }
   ],
   "source": [
    "desc = list(data.html.descendants)\n",
    "print(len(desc))\n",
    "desc"
   ]
  },
  {
   "cell_type": "markdown",
   "id": "6364f2a4",
   "metadata": {},
   "source": [
    "#### going up"
   ]
  },
  {
   "cell_type": "code",
   "execution_count": 45,
   "id": "2b5fe093",
   "metadata": {},
   "outputs": [
    {
     "data": {
      "text/plain": [
       "<head><title> Testing Web Page </title></head>"
      ]
     },
     "execution_count": 45,
     "metadata": {},
     "output_type": "execute_result"
    }
   ],
   "source": [
    "data.title.parent"
   ]
  },
  {
   "cell_type": "code",
   "execution_count": 46,
   "id": "c03ad902",
   "metadata": {},
   "outputs": [
    {
     "data": {
      "text/plain": [
       "<body><h1> Web Scraping </h1><p id=\"first_para\">Let's start learning <b>Web Scraping</b></p><p class=\"abc\" id=\"second_para\">You can read more about BeautifulSoup from <a href=\"https://www.crummy.com/software/BeautifulSoup/bs4/doc/\"> here </a></p><p class=\"abc\"><a href=\"https://www.cricbuzz.com/\"> Cricbuzz</a></p></body>"
      ]
     },
     "execution_count": 46,
     "metadata": {},
     "output_type": "execute_result"
    }
   ],
   "source": [
    "data.p.parent"
   ]
  },
  {
   "cell_type": "code",
   "execution_count": 48,
   "id": "55480e92",
   "metadata": {},
   "outputs": [
    {
     "name": "stdout",
     "output_type": "stream",
     "text": [
      "3\n"
     ]
    },
    {
     "data": {
      "text/plain": [
       "[<body><h1> Web Scraping </h1><p id=\"first_para\">Let's start learning <b>Web Scraping</b></p><p class=\"abc\" id=\"second_para\">You can read more about BeautifulSoup from <a href=\"https://www.crummy.com/software/BeautifulSoup/bs4/doc/\"> here </a></p><p class=\"abc\"><a href=\"https://www.cricbuzz.com/\"> Cricbuzz</a></p></body>,\n",
       " <html><head><title> Testing Web Page </title></head><body><h1> Web Scraping </h1><p id=\"first_para\">Let's start learning <b>Web Scraping</b></p><p class=\"abc\" id=\"second_para\">You can read more about BeautifulSoup from <a href=\"https://www.crummy.com/software/BeautifulSoup/bs4/doc/\"> here </a></p><p class=\"abc\"><a href=\"https://www.cricbuzz.com/\"> Cricbuzz</a></p></body></html>,\n",
       " <!DOCTYPE html>\n",
       " <html><head><title> Testing Web Page </title></head><body><h1> Web Scraping </h1><p id=\"first_para\">Let's start learning <b>Web Scraping</b></p><p class=\"abc\" id=\"second_para\">You can read more about BeautifulSoup from <a href=\"https://www.crummy.com/software/BeautifulSoup/bs4/doc/\"> here </a></p><p class=\"abc\"><a href=\"https://www.cricbuzz.com/\"> Cricbuzz</a></p></body></html>]"
      ]
     },
     "execution_count": 48,
     "metadata": {},
     "output_type": "execute_result"
    }
   ],
   "source": [
    "gen = data.p.parents\n",
    "gen = list(data.p.parents)\n",
    "print(len(gen))\n",
    "gen"
   ]
  },
  {
   "cell_type": "markdown",
   "id": "48e295c4",
   "metadata": {},
   "source": [
    "#### Going\tsideways"
   ]
  },
  {
   "cell_type": "code",
   "execution_count": 49,
   "id": "4db38254",
   "metadata": {},
   "outputs": [
    {
     "data": {
      "text/plain": [
       "<p class=\"abc\" id=\"second_para\">You can read more about BeautifulSoup from <a href=\"https://www.crummy.com/software/BeautifulSoup/bs4/doc/\"> here </a></p>"
      ]
     },
     "execution_count": 49,
     "metadata": {},
     "output_type": "execute_result"
    }
   ],
   "source": [
    "data.p.next_sibling"
   ]
  },
  {
   "cell_type": "code",
   "execution_count": 50,
   "id": "fd82a545",
   "metadata": {},
   "outputs": [
    {
     "data": {
      "text/plain": [
       "<h1> Web Scraping </h1>"
      ]
     },
     "execution_count": 50,
     "metadata": {},
     "output_type": "execute_result"
    }
   ],
   "source": [
    "data.p.previous_sibling"
   ]
  },
  {
   "cell_type": "code",
   "execution_count": 51,
   "id": "c5c1bf16",
   "metadata": {},
   "outputs": [
    {
     "data": {
      "text/plain": [
       "<generator object PageElement.next_siblings at 0x0000025C8E312890>"
      ]
     },
     "execution_count": 51,
     "metadata": {},
     "output_type": "execute_result"
    }
   ],
   "source": [
    "data.p.next_siblings"
   ]
  },
  {
   "cell_type": "code",
   "execution_count": 52,
   "id": "8f196f98",
   "metadata": {},
   "outputs": [
    {
     "data": {
      "text/plain": [
       "<generator object PageElement.previous_siblings at 0x0000025C8E312820>"
      ]
     },
     "execution_count": 52,
     "metadata": {},
     "output_type": "execute_result"
    }
   ],
   "source": [
    "data.p.previous_siblings"
   ]
  },
  {
   "cell_type": "markdown",
   "id": "ad243427",
   "metadata": {},
   "source": [
    "#### Going\tBack\t&\tforth"
   ]
  },
  {
   "cell_type": "code",
   "execution_count": 53,
   "id": "1b166a61",
   "metadata": {},
   "outputs": [
    {
     "data": {
      "text/plain": [
       "\"Let's start learning \""
      ]
     },
     "execution_count": 53,
     "metadata": {},
     "output_type": "execute_result"
    }
   ],
   "source": [
    "data.p.next_element"
   ]
  },
  {
   "cell_type": "code",
   "execution_count": 54,
   "id": "7661bce4",
   "metadata": {},
   "outputs": [
    {
     "data": {
      "text/plain": [
       "' Web Scraping '"
      ]
     },
     "execution_count": 54,
     "metadata": {},
     "output_type": "execute_result"
    }
   ],
   "source": [
    "data.p.previous_element"
   ]
  },
  {
   "cell_type": "code",
   "execution_count": 55,
   "id": "370f6c0e",
   "metadata": {},
   "outputs": [
    {
     "data": {
      "text/plain": [
       "<generator object PageElement.next_elements at 0x0000025C8E312C80>"
      ]
     },
     "execution_count": 55,
     "metadata": {},
     "output_type": "execute_result"
    }
   ],
   "source": [
    "data.p.next_elements"
   ]
  },
  {
   "cell_type": "code",
   "execution_count": 56,
   "id": "9e83a007",
   "metadata": {},
   "outputs": [
    {
     "data": {
      "text/plain": [
       "<generator object PageElement.previous_elements at 0x0000025C8E312EB0>"
      ]
     },
     "execution_count": 56,
     "metadata": {},
     "output_type": "execute_result"
    }
   ],
   "source": [
    "data.p.previous_elements"
   ]
  },
  {
   "cell_type": "code",
   "execution_count": 57,
   "id": "ddd08a03",
   "metadata": {},
   "outputs": [
    {
     "name": "stdout",
     "output_type": "stream",
     "text": [
      "32\n"
     ]
    }
   ],
   "source": [
    "## HTML Code is provided in variable html\n",
    "\n",
    "html = '<!DOCTYPE html><html><head><title>Navigate Parse Tree</title></head>\\\n",
    "<body><h1>This is your Assignment</h1><a href = \"https://www.google.com\">This is a link that will take you to Google</a>\\\n",
    "<ul><li><p> This question is given to test your knowledge of <b>Web Scraping</b></p>\\\n",
    "<p>Web scraping is a term used to describe the use of a program or algorithm to extract and process large amounts of data from the web.</p></li>\\\n",
    "<li id = \"li2\">This is an li tag given to you for scraping</li>\\\n",
    "<li>This li tag gives you the various ways to get data from a website\\\n",
    "<ol><li class = \"list_or\">Using API of the website</li><li>Scrape data using BeautifulSoup</li><li>Scrape data using Selenium</li>\\\n",
    "<li>Scrape data using Scrapy</li></ol></li>\\\n",
    "<li class = \"list_or\"><a href=\"https://www.crummy.com/software/BeautifulSoup/bs4/doc/\">\\\n",
    "Clicking on this takes you to the documentation of BeautifulSoup</a>\\\n",
    "<a href=\"https://selenium-python.readthedocs.io/\" id=\"anchor\">Clicking on this takes you to the documentation of Selenium</a>\\\n",
    "</li></ul></body></html>'\n",
    "\n",
    "## Print the required output in given format\n",
    "from bs4 import BeautifulSoup\n",
    "data = BeautifulSoup(html, 'html.parser')\n",
    "li1 = list(data.html.children)\n",
    "li2 = list(data.html.descendants)\n",
    "print(len(li2) - len(li1))"
   ]
  },
  {
   "cell_type": "code",
   "execution_count": 58,
   "id": "21857d82",
   "metadata": {},
   "outputs": [
    {
     "name": "stdout",
     "output_type": "stream",
     "text": [
      "li\n",
      "a\n"
     ]
    }
   ],
   "source": [
    "## HTML Code is provided in variable html\n",
    "\n",
    "html = '<!DOCTYPE html><html><head><title>Navigate Parse Tree</title></head>\\\n",
    "<body><h1>This is your Assignment</h1><a href = \"https://www.google.com\">This is a link that will take you to Google</a>\\\n",
    "<ul><li><p> This question is given to test your knowledge of <b>Web Scraping</b></p>\\\n",
    "<p>Web scraping is a term used to describe the use of a program or algorithm to extract and process large amounts of data from the web.</p></li>\\\n",
    "<li id = \"li2\">This is an li tag given to you for scraping</li>\\\n",
    "<li>This li tag gives you the various ways to get data from a website\\\n",
    "<ol><li class = \"list_or\">Using API of the website</li><li>Scrape data using BeautifulSoup</li><li>Scrape data using Selenium</li>\\\n",
    "<li>Scrape data using Scrapy</li></ol></li>\\\n",
    "<li class = \"list_or\"><a href=\"https://www.crummy.com/software/BeautifulSoup/bs4/doc/\">\\\n",
    "Clicking on this takes you to the documentation of BeautifulSoup</a>\\\n",
    "<a href=\"https://selenium-python.readthedocs.io/\" id=\"anchor\">Clicking on this takes you to the documentation of Selenium</a>\\\n",
    "</li></ul></body></html>'\n",
    "\n",
    "## Print the required output in given format\n",
    "from bs4 import BeautifulSoup\n",
    "data = BeautifulSoup(html, 'html.parser')\n",
    "ans = data.find_all(id = True)\n",
    "for i in ans:\n",
    "    print(i.name)"
   ]
  },
  {
   "cell_type": "code",
   "execution_count": 59,
   "id": "6d6cb272",
   "metadata": {},
   "outputs": [
    {
     "name": "stdout",
     "output_type": "stream",
     "text": [
      "<li>This li tag gives you the various ways to get data from a website<ol><li class=\"list_or\">Using API of the website</li><li>Scrape data using BeautifulSoup</li><li>Scrape data using Selenium</li><li>Scrape data using Scrapy</li></ol></li>\n",
      "<li class=\"list_or\"><a href=\"https://www.crummy.com/software/BeautifulSoup/bs4/doc/\">Clicking on this takes you to the documentation of BeautifulSoup</a><a href=\"https://selenium-python.readthedocs.io/\" id=\"anchor\">Clicking on this takes you to the documentation of Selenium</a></li>\n"
     ]
    }
   ],
   "source": [
    "## HTML Code is provided in variable html\n",
    "\n",
    "html = '<!DOCTYPE html><html><head><title>Navigate Parse Tree</title></head>\\\n",
    "<body><h1>This is your Assignment</h1><a href = \"https://www.google.com\">This is a link that will take you to Google</a>\\\n",
    "<ul><li><p> This question is given to test your knowledge of <b>Web Scraping</b></p>\\\n",
    "<p>Web scraping is a term used to describe the use of a program or algorithm to extract and process large amounts of data from the web.</p></li>\\\n",
    "<li id = \"li2\">This is an li tag given to you for scraping</li>\\\n",
    "<li>This li tag gives you the various ways to get data from a website\\\n",
    "<ol><li class = \"list_or\">Using API of the website</li><li>Scrape data using BeautifulSoup</li><li>Scrape data using Selenium</li>\\\n",
    "<li>Scrape data using Scrapy</li></ol></li>\\\n",
    "<li class = \"list_or\"><a href=\"https://www.crummy.com/software/BeautifulSoup/bs4/doc/\">\\\n",
    "Clicking on this takes you to the documentation of BeautifulSoup</a>\\\n",
    "<a href=\"https://selenium-python.readthedocs.io/\" id=\"anchor\">Clicking on this takes you to the documentation of Selenium</a>\\\n",
    "</li></ul></body></html>'\n",
    "\n",
    "## Print the required output in given format\n",
    "from bs4 import BeautifulSoup\n",
    "\n",
    "data = BeautifulSoup(html, 'html.parser')\n",
    "page = data.find(\"li\", {\"id\" : \"li2\"})\n",
    "temp = list(page.next_siblings)\n",
    "for ele in temp:\n",
    "    print(ele)"
   ]
  },
  {
   "cell_type": "code",
   "execution_count": 60,
   "id": "85cd11fa",
   "metadata": {},
   "outputs": [
    {
     "name": "stdout",
     "output_type": "stream",
     "text": [
      "<head><title>Navigate Parse Tree</title></head>\n",
      "<html><head><title>Navigate Parse Tree</title></head><body><h1>This is your Assignment</h1><a href=\"https://www.google.com\">This is a link that will take you to Google</a><ul><li><p> This question is given to test your knowledge of <b>Web Scraping</b></p><p>Web scraping is a term used to describe the use of a program or algorithm to extract and process large amounts of data from the web.</p></li><li id=\"li2\">This is an li tag given to you for scraping</li><li>This li tag gives you the various ways to get data from a website<ol><li class=\"list_or\">Using API of the website</li><li>Scrape data using BeautifulSoup</li><li>Scrape data using Selenium</li><li>Scrape data using Scrapy</li></ol></li><li class=\"list_or\"><a href=\"https://www.crummy.com/software/BeautifulSoup/bs4/doc/\">Clicking on this takes you to the documentation of BeautifulSoup</a><a href=\"https://selenium-python.readthedocs.io/\" id=\"anchor\">Clicking on this takes you to the documentation of Selenium</a></li></ul></body></html>\n",
      "<!DOCTYPE html>\n",
      "<html><head><title>Navigate Parse Tree</title></head><body><h1>This is your Assignment</h1><a href=\"https://www.google.com\">This is a link that will take you to Google</a><ul><li><p> This question is given to test your knowledge of <b>Web Scraping</b></p><p>Web scraping is a term used to describe the use of a program or algorithm to extract and process large amounts of data from the web.</p></li><li id=\"li2\">This is an li tag given to you for scraping</li><li>This li tag gives you the various ways to get data from a website<ol><li class=\"list_or\">Using API of the website</li><li>Scrape data using BeautifulSoup</li><li>Scrape data using Selenium</li><li>Scrape data using Scrapy</li></ol></li><li class=\"list_or\"><a href=\"https://www.crummy.com/software/BeautifulSoup/bs4/doc/\">Clicking on this takes you to the documentation of BeautifulSoup</a><a href=\"https://selenium-python.readthedocs.io/\" id=\"anchor\">Clicking on this takes you to the documentation of Selenium</a></li></ul></body></html>\n"
     ]
    }
   ],
   "source": [
    "## HTML Code is provided in variable html\n",
    "\n",
    "html = '<!DOCTYPE html><html><head><title>Navigate Parse Tree</title></head>\\\n",
    "<body><h1>This is your Assignment</h1><a href = \"https://www.google.com\">This is a link that will take you to Google</a>\\\n",
    "<ul><li><p> This question is given to test your knowledge of <b>Web Scraping</b></p>\\\n",
    "<p>Web scraping is a term used to describe the use of a program or algorithm to extract and process large amounts of data from the web.</p></li>\\\n",
    "<li id = \"li2\">This is an li tag given to you for scraping</li>\\\n",
    "<li>This li tag gives you the various ways to get data from a website\\\n",
    "<ol><li class = \"list_or\">Using API of the website</li><li>Scrape data using BeautifulSoup</li><li>Scrape data using Selenium</li>\\\n",
    "<li>Scrape data using Scrapy</li></ol></li>\\\n",
    "<li class = \"list_or\"><a href=\"https://www.crummy.com/software/BeautifulSoup/bs4/doc/\">\\\n",
    "Clicking on this takes you to the documentation of BeautifulSoup</a>\\\n",
    "<a href=\"https://selenium-python.readthedocs.io/\" id=\"anchor\">Clicking on this takes you to the documentation of Selenium</a>\\\n",
    "</li></ul></body></html>'\n",
    "\n",
    "## Print the required output in given format\n",
    "from bs4 import BeautifulSoup\n",
    "\n",
    "data = BeautifulSoup(html, 'html.parser')\n",
    "page = data.find(\"title\")\n",
    "temp = list(page.parents)\n",
    "for ele in temp:\n",
    "    print(ele)"
   ]
  },
  {
   "cell_type": "code",
   "execution_count": 61,
   "id": "7d954d19",
   "metadata": {},
   "outputs": [
    {
     "name": "stdout",
     "output_type": "stream",
     "text": [
      "Clicking on this takes you to the documentation of BeautifulSoup\n"
     ]
    }
   ],
   "source": [
    "## HTML Code is provided in variable html\n",
    "\n",
    "html = '<!DOCTYPE html><html><head><title>Navigate Parse Tree</title></head>\\\n",
    "<body><h1>This is your Assignment</h1><a href = \"https://www.google.com\">This is a link that will take you to Google</a>\\\n",
    "<ul><li><p> This question is given to test your knowledge of <b>Web Scraping</b></p>\\\n",
    "<p>Web scraping is a term used to describe the use of a program or algorithm to extract and process large amounts of data from the web.</p></li>\\\n",
    "<li id = \"li2\">This is an li tag given to you for scraping</li>\\\n",
    "<li>This li tag gives you the various ways to get data from a website\\\n",
    "<ol><li class = \"list_or\">Using API of the website</li><li>Scrape data using BeautifulSoup</li><li>Scrape data using Selenium</li>\\\n",
    "<li>Scrape data using Scrapy</li></ol></li>\\\n",
    "<li class = \"list_or\"><a href=\"https://www.crummy.com/software/BeautifulSoup/bs4/doc/\">\\\n",
    "Clicking on this takes you to the documentation of BeautifulSoup</a>\\\n",
    "<a href=\"https://selenium-python.readthedocs.io/\" id=\"anchor\">Clicking on this takes you to the documentation of Selenium</a>\\\n",
    "</li></ul></body></html>'\n",
    "\n",
    "## Print the required output in given format\n",
    "from bs4 import BeautifulSoup\n",
    "\n",
    "data = BeautifulSoup(html, 'html.parser')\n",
    "page = data.find_all(\"a\")[1]\n",
    "print(page.next_element)"
   ]
  },
  {
   "cell_type": "markdown",
   "id": "e85dc564",
   "metadata": {},
   "source": [
    "## Scraping first web page"
   ]
  },
  {
   "cell_type": "code",
   "execution_count": 64,
   "id": "48aba3e9",
   "metadata": {},
   "outputs": [
    {
     "data": {
      "text/plain": [
       "<Response [200]>"
      ]
     },
     "execution_count": 64,
     "metadata": {},
     "output_type": "execute_result"
    }
   ],
   "source": [
    "import requests\n",
    "response = requests.get(\"http://info.cern.ch/hypertext/WWW/TheProject.html\")\n",
    "response"
   ]
  },
  {
   "cell_type": "code",
   "execution_count": 66,
   "id": "41fea0c0",
   "metadata": {},
   "outputs": [
    {
     "data": {
      "text/plain": [
       "{'Date': 'Mon, 26 Jun 2023 02:13:07 GMT', 'Server': 'Apache', 'Last-Modified': 'Thu, 03 Dec 1992 08:37:20 GMT', 'ETag': '\"8a9-291e721905000\"', 'Accept-Ranges': 'bytes', 'Content-Length': '2217', 'Connection': 'close', 'Content-Type': 'text/html'}"
      ]
     },
     "execution_count": 66,
     "metadata": {},
     "output_type": "execute_result"
    }
   ],
   "source": [
    "response.headers"
   ]
  },
  {
   "cell_type": "code",
   "execution_count": 68,
   "id": "0cb7c459",
   "metadata": {},
   "outputs": [],
   "source": [
    "html_data = response.text"
   ]
  },
  {
   "cell_type": "code",
   "execution_count": 69,
   "id": "545b664b",
   "metadata": {},
   "outputs": [],
   "source": [
    "soup = BeautifulSoup(html_data,'html.parser')"
   ]
  },
  {
   "cell_type": "code",
   "execution_count": 73,
   "id": "8e771b2b",
   "metadata": {},
   "outputs": [
    {
     "name": "stdout",
     "output_type": "stream",
     "text": [
      "<header>\n",
      " <title>\n",
      "  The World Wide Web project\n",
      " </title>\n",
      " <nextid n=\"55\"/>\n",
      "</header>\n",
      "<body>\n",
      " <h1>\n",
      "  World Wide Web\n",
      " </h1>\n",
      " The WorldWideWeb (W3) is a wide-area\n",
      " <a href=\"WhatIs.html\" name=\"0\">\n",
      "  hypermedia\n",
      " </a>\n",
      " information retrieval\n",
      "initiative aiming to give universal\n",
      "access to a large universe of documents.\n",
      " <p>\n",
      "  Everything there is online about\n",
      "W3 is linked directly or indirectly\n",
      "to this document, including an\n",
      "  <a href=\"Summary.html\" name=\"24\">\n",
      "   executive\n",
      "summary\n",
      "  </a>\n",
      "  of the project,\n",
      "  <a href=\"Administration/Mailing/Overview.html\" name=\"29\">\n",
      "   Mailing lists\n",
      "  </a>\n",
      "  ,\n",
      "  <a href=\"Policy.html\" name=\"30\">\n",
      "   Policy\n",
      "  </a>\n",
      "  , November's\n",
      "  <a href=\"News/9211.html\" name=\"34\">\n",
      "   W3  news\n",
      "  </a>\n",
      "  ,\n",
      "  <a href=\"FAQ/List.html\" name=\"41\">\n",
      "   Frequently Asked Questions\n",
      "  </a>\n",
      "  .\n",
      "  <dl>\n",
      "   <dt>\n",
      "    <a href=\"../DataSources/Top.html\" name=\"44\">\n",
      "     What's out there?\n",
      "    </a>\n",
      "    <dd>\n",
      "     Pointers to the\n",
      "world's online information,\n",
      "     <a href=\"../DataSources/bySubject/Overview.html\" name=\"45\">\n",
      "      subjects\n",
      "     </a>\n",
      "     ,\n",
      "     <a href=\"../DataSources/WWW/Servers.html\" name=\"z54\">\n",
      "      W3 servers\n",
      "     </a>\n",
      "     , etc.\n",
      "     <dt>\n",
      "      <a href=\"Help.html\" name=\"46\">\n",
      "       Help\n",
      "      </a>\n",
      "      <dd>\n",
      "       on the browser you are using\n",
      "       <dt>\n",
      "        <a href=\"Status.html\" name=\"13\">\n",
      "         Software Products\n",
      "        </a>\n",
      "        <dd>\n",
      "         A list of W3 project\n",
      "components and their current state.\n",
      "(e.g.\n",
      "         <a href=\"LineMode/Browser.html\" name=\"27\">\n",
      "          Line Mode\n",
      "         </a>\n",
      "         ,X11\n",
      "         <a href=\"Status.html#35\" name=\"35\">\n",
      "          Viola\n",
      "         </a>\n",
      "         ,\n",
      "         <a href=\"NeXT/WorldWideWeb.html\" name=\"26\">\n",
      "          NeXTStep\n",
      "         </a>\n",
      "         ,\n",
      "         <a href=\"Daemon/Overview.html\" name=\"25\">\n",
      "          Servers\n",
      "         </a>\n",
      "         ,\n",
      "         <a href=\"Tools/Overview.html\" name=\"51\">\n",
      "          Tools\n",
      "         </a>\n",
      "         ,\n",
      "         <a href=\"MailRobot/Overview.html\" name=\"53\">\n",
      "          Mail robot\n",
      "         </a>\n",
      "         ,\n",
      "         <a href=\"Status.html#57\" name=\"52\">\n",
      "          Library\n",
      "         </a>\n",
      "         )\n",
      "         <dt>\n",
      "          <a href=\"Technical.html\" name=\"47\">\n",
      "           Technical\n",
      "          </a>\n",
      "          <dd>\n",
      "           Details of protocols, formats,\n",
      "program internals etc\n",
      "           <dt>\n",
      "            <a href=\"Bibliography.html\" name=\"40\">\n",
      "             Bibliography\n",
      "            </a>\n",
      "            <dd>\n",
      "             Paper documentation\n",
      "on  W3 and references.\n",
      "             <dt>\n",
      "              <a href=\"People.html\" name=\"14\">\n",
      "               People\n",
      "              </a>\n",
      "              <dd>\n",
      "               A list of some people involved\n",
      "in the project.\n",
      "               <dt>\n",
      "                <a href=\"History.html\" name=\"15\">\n",
      "                 History\n",
      "                </a>\n",
      "                <dd>\n",
      "                 A summary of the history\n",
      "of the project.\n",
      "                 <dt>\n",
      "                  <a href=\"Helping.html\" name=\"37\">\n",
      "                   How can I help\n",
      "                  </a>\n",
      "                  ?\n",
      "                  <dd>\n",
      "                   If you would like\n",
      "to support the web..\n",
      "                   <dt>\n",
      "                    <a href=\"../README.html\" name=\"48\">\n",
      "                     Getting code\n",
      "                    </a>\n",
      "                    <dd>\n",
      "                     Getting the code by\n",
      "                     <a href=\"LineMode/Defaults/Distribution.html\" name=\"49\">\n",
      "                      anonymous FTP\n",
      "                     </a>\n",
      "                     , etc.\n",
      "                    </dd>\n",
      "                   </dt>\n",
      "                  </dd>\n",
      "                 </dt>\n",
      "                </dd>\n",
      "               </dt>\n",
      "              </dd>\n",
      "             </dt>\n",
      "            </dd>\n",
      "           </dt>\n",
      "          </dd>\n",
      "         </dt>\n",
      "        </dd>\n",
      "       </dt>\n",
      "      </dd>\n",
      "     </dt>\n",
      "    </dd>\n",
      "   </dt>\n",
      "  </dl>\n",
      " </p>\n",
      "</body>\n",
      "\n"
     ]
    }
   ],
   "source": [
    "print(soup.prettify())"
   ]
  },
  {
   "cell_type": "code",
   "execution_count": 76,
   "id": "53cde9c6",
   "metadata": {},
   "outputs": [
    {
     "data": {
      "text/plain": [
       "'World Wide Web'"
      ]
     },
     "execution_count": 76,
     "metadata": {},
     "output_type": "execute_result"
    }
   ],
   "source": [
    "soup.h1.string"
   ]
  },
  {
   "cell_type": "code",
   "execution_count": 77,
   "id": "40a6f3ad",
   "metadata": {},
   "outputs": [
    {
     "data": {
      "text/plain": [
       "<title>The World Wide Web project</title>"
      ]
     },
     "execution_count": 77,
     "metadata": {},
     "output_type": "execute_result"
    }
   ],
   "source": [
    "soup.title"
   ]
  },
  {
   "cell_type": "code",
   "execution_count": 80,
   "id": "5b4ddda6",
   "metadata": {},
   "outputs": [
    {
     "name": "stdout",
     "output_type": "stream",
     "text": [
      "\n",
      "The World Wide Web project\n",
      "\n",
      "\n",
      "\n",
      "World Wide WebThe WorldWideWeb (W3) is a wide-area\n",
      "hypermedia information retrieval\n",
      "initiative aiming to give universal\n",
      "access to a large universe of documents.\n",
      "Everything there is online about\n",
      "W3 is linked directly or indirectly\n",
      "to this document, including an executive\n",
      "summary of the project, Mailing lists\n",
      ", Policy , November's  W3  news ,\n",
      "Frequently Asked Questions .\n",
      "\n",
      "What's out there?\n",
      " Pointers to the\n",
      "world's online information, subjects\n",
      ", W3 servers, etc.\n",
      "Help\n",
      " on the browser you are using\n",
      "Software Products\n",
      " A list of W3 project\n",
      "components and their current state.\n",
      "(e.g. Line Mode ,X11 Viola ,  NeXTStep\n",
      ", Servers , Tools , Mail robot ,\n",
      "Library )\n",
      "Technical\n",
      " Details of protocols, formats,\n",
      "program internals etc\n",
      "Bibliography\n",
      " Paper documentation\n",
      "on  W3 and references.\n",
      "People\n",
      " A list of some people involved\n",
      "in the project.\n",
      "History\n",
      " A summary of the history\n",
      "of the project.\n",
      "How can I help ?\n",
      " If you would like\n",
      "to support the web..\n",
      "Getting code\n",
      " Getting the code by\n",
      "anonymous FTP , etc.\n",
      "\n",
      "\n",
      "\n"
     ]
    }
   ],
   "source": [
    "print(soup.get_text())"
   ]
  },
  {
   "cell_type": "code",
   "execution_count": 81,
   "id": "64d1ed97",
   "metadata": {},
   "outputs": [
    {
     "data": {
      "text/plain": [
       "<a href=\"WhatIs.html\" name=\"0\">\n",
       "hypermedia</a>"
      ]
     },
     "execution_count": 81,
     "metadata": {},
     "output_type": "execute_result"
    }
   ],
   "source": [
    "soup.a"
   ]
  },
  {
   "cell_type": "code",
   "execution_count": 83,
   "id": "430801ac",
   "metadata": {},
   "outputs": [
    {
     "data": {
      "text/plain": [
       "'https://www.google.com'"
      ]
     },
     "execution_count": 83,
     "metadata": {},
     "output_type": "execute_result"
    }
   ],
   "source": [
    "data.a['href']"
   ]
  },
  {
   "cell_type": "code",
   "execution_count": 85,
   "id": "928f1572",
   "metadata": {},
   "outputs": [
    {
     "name": "stdout",
     "output_type": "stream",
     "text": [
      "3\n"
     ]
    }
   ],
   "source": [
    "li = data.find_all('a')\n",
    "print(len(li))"
   ]
  },
  {
   "cell_type": "markdown",
   "id": "a08937d0",
   "metadata": {},
   "source": [
    "## scraping books to scrape"
   ]
  },
  {
   "cell_type": "code",
   "execution_count": 87,
   "id": "35f16833",
   "metadata": {},
   "outputs": [
    {
     "data": {
      "text/plain": [
       "<Response [200]>"
      ]
     },
     "execution_count": 87,
     "metadata": {},
     "output_type": "execute_result"
    }
   ],
   "source": [
    "response = requests.get(\"https://books.toscrape.com/\")\n",
    "response"
   ]
  },
  {
   "cell_type": "code",
   "execution_count": 90,
   "id": "34c84172",
   "metadata": {},
   "outputs": [],
   "source": [
    "html_data = response.text"
   ]
  },
  {
   "cell_type": "code",
   "execution_count": 92,
   "id": "9aee7bc1",
   "metadata": {},
   "outputs": [],
   "source": [
    "data = BeautifulSoup(html_data,'html.parser')"
   ]
  },
  {
   "cell_type": "code",
   "execution_count": 93,
   "id": "d4e172f6",
   "metadata": {},
   "outputs": [
    {
     "name": "stdout",
     "output_type": "stream",
     "text": [
      "<!DOCTYPE html>\n",
      "<!--[if lt IE 7]>      <html lang=\"en-us\" class=\"no-js lt-ie9 lt-ie8 lt-ie7\"> <![endif]-->\n",
      "<!--[if IE 7]>         <html lang=\"en-us\" class=\"no-js lt-ie9 lt-ie8\"> <![endif]-->\n",
      "<!--[if IE 8]>         <html lang=\"en-us\" class=\"no-js lt-ie9\"> <![endif]-->\n",
      "<!--[if gt IE 8]><!-->\n",
      "<html class=\"no-js\" lang=\"en-us\">\n",
      " <!--<![endif]-->\n",
      " <head>\n",
      "  <title>\n",
      "   All products | Books to Scrape - Sandbox\n",
      "  </title>\n",
      "  <meta content=\"text/html; charset=utf-8\" http-equiv=\"content-type\"/>\n",
      "  <meta content=\"24th Jun 2016 09:29\" name=\"created\"/>\n",
      "  <meta content=\"\" name=\"description\"/>\n",
      "  <meta content=\"width=device-width\" name=\"viewport\"/>\n",
      "  <meta content=\"NOARCHIVE,NOCACHE\" name=\"robots\"/>\n",
      "  <!-- Le HTML5 shim, for IE6-8 support of HTML elements -->\n",
      "  <!--[if lt IE 9]>\n",
      "        <script src=\"//html5shim.googlecode.com/svn/trunk/html5.js\"></script>\n",
      "        <![endif]-->\n",
      "  <link href=\"static/oscar/favicon.ico\" rel=\"shortcut icon\"/>\n",
      "  <link href=\"static/oscar/css/styles.css\" rel=\"stylesheet\" type=\"text/css\"/>\n",
      "  <link href=\"static/oscar/js/bootstrap-datetimepicker/bootstrap-datetimepicker.css\" rel=\"stylesheet\"/>\n",
      "  <link href=\"static/oscar/css/datetimepicker.css\" rel=\"stylesheet\" type=\"text/css\"/>\n",
      " </head>\n",
      " <body class=\"default\" id=\"default\">\n",
      "  <header class=\"header container-fluid\">\n",
      "   <div class=\"page_inner\">\n",
      "    <div class=\"row\">\n",
      "     <div class=\"col-sm-8 h1\">\n",
      "      <a href=\"index.html\">\n",
      "       Books to Scrape\n",
      "      </a>\n",
      "      <small>\n",
      "       We love being scraped!\n",
      "      </small>\n",
      "     </div>\n",
      "    </div>\n",
      "   </div>\n",
      "  </header>\n",
      "  <div class=\"container-fluid page\">\n",
      "   <div class=\"page_inner\">\n",
      "    <ul class=\"breadcrumb\">\n",
      "     <li>\n",
      "      <a href=\"index.html\">\n",
      "       Home\n",
      "      </a>\n",
      "     </li>\n",
      "     <li class=\"active\">\n",
      "      All products\n",
      "     </li>\n",
      "    </ul>\n",
      "    <div class=\"row\">\n",
      "     <aside class=\"sidebar col-sm-4 col-md-3\">\n",
      "      <div id=\"promotions_left\">\n",
      "      </div>\n",
      "      <div class=\"side_categories\">\n",
      "       <ul class=\"nav nav-list\">\n",
      "        <li>\n",
      "         <a href=\"catalogue/category/books_1/index.html\">\n",
      "          Books\n",
      "         </a>\n",
      "         <ul>\n",
      "          <li>\n",
      "           <a href=\"catalogue/category/books/travel_2/index.html\">\n",
      "            Travel\n",
      "           </a>\n",
      "          </li>\n",
      "          <li>\n",
      "           <a href=\"catalogue/category/books/mystery_3/index.html\">\n",
      "            Mystery\n",
      "           </a>\n",
      "          </li>\n",
      "          <li>\n",
      "           <a href=\"catalogue/category/books/historical-fiction_4/index.html\">\n",
      "            Historical Fiction\n",
      "           </a>\n",
      "          </li>\n",
      "          <li>\n",
      "           <a href=\"catalogue/category/books/sequential-art_5/index.html\">\n",
      "            Sequential Art\n",
      "           </a>\n",
      "          </li>\n",
      "          <li>\n",
      "           <a href=\"catalogue/category/books/classics_6/index.html\">\n",
      "            Classics\n",
      "           </a>\n",
      "          </li>\n",
      "          <li>\n",
      "           <a href=\"catalogue/category/books/philosophy_7/index.html\">\n",
      "            Philosophy\n",
      "           </a>\n",
      "          </li>\n",
      "          <li>\n",
      "           <a href=\"catalogue/category/books/romance_8/index.html\">\n",
      "            Romance\n",
      "           </a>\n",
      "          </li>\n",
      "          <li>\n",
      "           <a href=\"catalogue/category/books/womens-fiction_9/index.html\">\n",
      "            Womens Fiction\n",
      "           </a>\n",
      "          </li>\n",
      "          <li>\n",
      "           <a href=\"catalogue/category/books/fiction_10/index.html\">\n",
      "            Fiction\n",
      "           </a>\n",
      "          </li>\n",
      "          <li>\n",
      "           <a href=\"catalogue/category/books/childrens_11/index.html\">\n",
      "            Childrens\n",
      "           </a>\n",
      "          </li>\n",
      "          <li>\n",
      "           <a href=\"catalogue/category/books/religion_12/index.html\">\n",
      "            Religion\n",
      "           </a>\n",
      "          </li>\n",
      "          <li>\n",
      "           <a href=\"catalogue/category/books/nonfiction_13/index.html\">\n",
      "            Nonfiction\n",
      "           </a>\n",
      "          </li>\n",
      "          <li>\n",
      "           <a href=\"catalogue/category/books/music_14/index.html\">\n",
      "            Music\n",
      "           </a>\n",
      "          </li>\n",
      "          <li>\n",
      "           <a href=\"catalogue/category/books/default_15/index.html\">\n",
      "            Default\n",
      "           </a>\n",
      "          </li>\n",
      "          <li>\n",
      "           <a href=\"catalogue/category/books/science-fiction_16/index.html\">\n",
      "            Science Fiction\n",
      "           </a>\n",
      "          </li>\n",
      "          <li>\n",
      "           <a href=\"catalogue/category/books/sports-and-games_17/index.html\">\n",
      "            Sports and Games\n",
      "           </a>\n",
      "          </li>\n",
      "          <li>\n",
      "           <a href=\"catalogue/category/books/add-a-comment_18/index.html\">\n",
      "            Add a comment\n",
      "           </a>\n",
      "          </li>\n",
      "          <li>\n",
      "           <a href=\"catalogue/category/books/fantasy_19/index.html\">\n",
      "            Fantasy\n",
      "           </a>\n",
      "          </li>\n",
      "          <li>\n",
      "           <a href=\"catalogue/category/books/new-adult_20/index.html\">\n",
      "            New Adult\n",
      "           </a>\n",
      "          </li>\n",
      "          <li>\n",
      "           <a href=\"catalogue/category/books/young-adult_21/index.html\">\n",
      "            Young Adult\n",
      "           </a>\n",
      "          </li>\n",
      "          <li>\n",
      "           <a href=\"catalogue/category/books/science_22/index.html\">\n",
      "            Science\n",
      "           </a>\n",
      "          </li>\n",
      "          <li>\n",
      "           <a href=\"catalogue/category/books/poetry_23/index.html\">\n",
      "            Poetry\n",
      "           </a>\n",
      "          </li>\n",
      "          <li>\n",
      "           <a href=\"catalogue/category/books/paranormal_24/index.html\">\n",
      "            Paranormal\n",
      "           </a>\n",
      "          </li>\n",
      "          <li>\n",
      "           <a href=\"catalogue/category/books/art_25/index.html\">\n",
      "            Art\n",
      "           </a>\n",
      "          </li>\n",
      "          <li>\n",
      "           <a href=\"catalogue/category/books/psychology_26/index.html\">\n",
      "            Psychology\n",
      "           </a>\n",
      "          </li>\n",
      "          <li>\n",
      "           <a href=\"catalogue/category/books/autobiography_27/index.html\">\n",
      "            Autobiography\n",
      "           </a>\n",
      "          </li>\n",
      "          <li>\n",
      "           <a href=\"catalogue/category/books/parenting_28/index.html\">\n",
      "            Parenting\n",
      "           </a>\n",
      "          </li>\n",
      "          <li>\n",
      "           <a href=\"catalogue/category/books/adult-fiction_29/index.html\">\n",
      "            Adult Fiction\n",
      "           </a>\n",
      "          </li>\n",
      "          <li>\n",
      "           <a href=\"catalogue/category/books/humor_30/index.html\">\n",
      "            Humor\n",
      "           </a>\n",
      "          </li>\n",
      "          <li>\n",
      "           <a href=\"catalogue/category/books/horror_31/index.html\">\n",
      "            Horror\n",
      "           </a>\n",
      "          </li>\n",
      "          <li>\n",
      "           <a href=\"catalogue/category/books/history_32/index.html\">\n",
      "            History\n",
      "           </a>\n",
      "          </li>\n",
      "          <li>\n",
      "           <a href=\"catalogue/category/books/food-and-drink_33/index.html\">\n",
      "            Food and Drink\n",
      "           </a>\n",
      "          </li>\n",
      "          <li>\n",
      "           <a href=\"catalogue/category/books/christian-fiction_34/index.html\">\n",
      "            Christian Fiction\n",
      "           </a>\n",
      "          </li>\n",
      "          <li>\n",
      "           <a href=\"catalogue/category/books/business_35/index.html\">\n",
      "            Business\n",
      "           </a>\n",
      "          </li>\n",
      "          <li>\n",
      "           <a href=\"catalogue/category/books/biography_36/index.html\">\n",
      "            Biography\n",
      "           </a>\n",
      "          </li>\n",
      "          <li>\n",
      "           <a href=\"catalogue/category/books/thriller_37/index.html\">\n",
      "            Thriller\n",
      "           </a>\n",
      "          </li>\n",
      "          <li>\n",
      "           <a href=\"catalogue/category/books/contemporary_38/index.html\">\n",
      "            Contemporary\n",
      "           </a>\n",
      "          </li>\n",
      "          <li>\n",
      "           <a href=\"catalogue/category/books/spirituality_39/index.html\">\n",
      "            Spirituality\n",
      "           </a>\n",
      "          </li>\n",
      "          <li>\n",
      "           <a href=\"catalogue/category/books/academic_40/index.html\">\n",
      "            Academic\n",
      "           </a>\n",
      "          </li>\n",
      "          <li>\n",
      "           <a href=\"catalogue/category/books/self-help_41/index.html\">\n",
      "            Self Help\n",
      "           </a>\n",
      "          </li>\n",
      "          <li>\n",
      "           <a href=\"catalogue/category/books/historical_42/index.html\">\n",
      "            Historical\n",
      "           </a>\n",
      "          </li>\n",
      "          <li>\n",
      "           <a href=\"catalogue/category/books/christian_43/index.html\">\n",
      "            Christian\n",
      "           </a>\n",
      "          </li>\n",
      "          <li>\n",
      "           <a href=\"catalogue/category/books/suspense_44/index.html\">\n",
      "            Suspense\n",
      "           </a>\n",
      "          </li>\n",
      "          <li>\n",
      "           <a href=\"catalogue/category/books/short-stories_45/index.html\">\n",
      "            Short Stories\n",
      "           </a>\n",
      "          </li>\n",
      "          <li>\n",
      "           <a href=\"catalogue/category/books/novels_46/index.html\">\n",
      "            Novels\n",
      "           </a>\n",
      "          </li>\n",
      "          <li>\n",
      "           <a href=\"catalogue/category/books/health_47/index.html\">\n",
      "            Health\n",
      "           </a>\n",
      "          </li>\n",
      "          <li>\n",
      "           <a href=\"catalogue/category/books/politics_48/index.html\">\n",
      "            Politics\n",
      "           </a>\n",
      "          </li>\n",
      "          <li>\n",
      "           <a href=\"catalogue/category/books/cultural_49/index.html\">\n",
      "            Cultural\n",
      "           </a>\n",
      "          </li>\n",
      "          <li>\n",
      "           <a href=\"catalogue/category/books/erotica_50/index.html\">\n",
      "            Erotica\n",
      "           </a>\n",
      "          </li>\n",
      "          <li>\n",
      "           <a href=\"catalogue/category/books/crime_51/index.html\">\n",
      "            Crime\n",
      "           </a>\n",
      "          </li>\n",
      "         </ul>\n",
      "        </li>\n",
      "       </ul>\n",
      "      </div>\n",
      "     </aside>\n",
      "     <div class=\"col-sm-8 col-md-9\">\n",
      "      <div class=\"page-header action\">\n",
      "       <h1>\n",
      "        All products\n",
      "       </h1>\n",
      "      </div>\n",
      "      <div id=\"messages\">\n",
      "      </div>\n",
      "      <div id=\"promotions\">\n",
      "      </div>\n",
      "      <form class=\"form-horizontal\" method=\"get\">\n",
      "       <div style=\"display:none\">\n",
      "       </div>\n",
      "       <strong>\n",
      "        1000\n",
      "       </strong>\n",
      "       results - showing\n",
      "       <strong>\n",
      "        1\n",
      "       </strong>\n",
      "       to\n",
      "       <strong>\n",
      "        20\n",
      "       </strong>\n",
      "       .\n",
      "      </form>\n",
      "      <section>\n",
      "       <div class=\"alert alert-warning\" role=\"alert\">\n",
      "        <strong>\n",
      "         Warning!\n",
      "        </strong>\n",
      "        This is a demo website for web scraping purposes. Prices and ratings here were randomly assigned and have no real meaning.\n",
      "       </div>\n",
      "       <div>\n",
      "        <ol class=\"row\">\n",
      "         <li class=\"col-xs-6 col-sm-4 col-md-3 col-lg-3\">\n",
      "          <article class=\"product_pod\">\n",
      "           <div class=\"image_container\">\n",
      "            <a href=\"catalogue/a-light-in-the-attic_1000/index.html\">\n",
      "             <img alt=\"A Light in the Attic\" class=\"thumbnail\" src=\"media/cache/2c/da/2cdad67c44b002e7ead0cc35693c0e8b.jpg\"/>\n",
      "            </a>\n",
      "           </div>\n",
      "           <p class=\"star-rating Three\">\n",
      "            <i class=\"icon-star\">\n",
      "            </i>\n",
      "            <i class=\"icon-star\">\n",
      "            </i>\n",
      "            <i class=\"icon-star\">\n",
      "            </i>\n",
      "            <i class=\"icon-star\">\n",
      "            </i>\n",
      "            <i class=\"icon-star\">\n",
      "            </i>\n",
      "           </p>\n",
      "           <h3>\n",
      "            <a href=\"catalogue/a-light-in-the-attic_1000/index.html\" title=\"A Light in the Attic\">\n",
      "             A Light in the ...\n",
      "            </a>\n",
      "           </h3>\n",
      "           <div class=\"product_price\">\n",
      "            <p class=\"price_color\">\n",
      "             Â£51.77\n",
      "            </p>\n",
      "            <p class=\"instock availability\">\n",
      "             <i class=\"icon-ok\">\n",
      "             </i>\n",
      "             In stock\n",
      "            </p>\n",
      "            <form>\n",
      "             <button class=\"btn btn-primary btn-block\" data-loading-text=\"Adding...\" type=\"submit\">\n",
      "              Add to basket\n",
      "             </button>\n",
      "            </form>\n",
      "           </div>\n",
      "          </article>\n",
      "         </li>\n",
      "         <li class=\"col-xs-6 col-sm-4 col-md-3 col-lg-3\">\n",
      "          <article class=\"product_pod\">\n",
      "           <div class=\"image_container\">\n",
      "            <a href=\"catalogue/tipping-the-velvet_999/index.html\">\n",
      "             <img alt=\"Tipping the Velvet\" class=\"thumbnail\" src=\"media/cache/26/0c/260c6ae16bce31c8f8c95daddd9f4a1c.jpg\"/>\n",
      "            </a>\n",
      "           </div>\n",
      "           <p class=\"star-rating One\">\n",
      "            <i class=\"icon-star\">\n",
      "            </i>\n",
      "            <i class=\"icon-star\">\n",
      "            </i>\n",
      "            <i class=\"icon-star\">\n",
      "            </i>\n",
      "            <i class=\"icon-star\">\n",
      "            </i>\n",
      "            <i class=\"icon-star\">\n",
      "            </i>\n",
      "           </p>\n",
      "           <h3>\n",
      "            <a href=\"catalogue/tipping-the-velvet_999/index.html\" title=\"Tipping the Velvet\">\n",
      "             Tipping the Velvet\n",
      "            </a>\n",
      "           </h3>\n",
      "           <div class=\"product_price\">\n",
      "            <p class=\"price_color\">\n",
      "             Â£53.74\n",
      "            </p>\n",
      "            <p class=\"instock availability\">\n",
      "             <i class=\"icon-ok\">\n",
      "             </i>\n",
      "             In stock\n",
      "            </p>\n",
      "            <form>\n",
      "             <button class=\"btn btn-primary btn-block\" data-loading-text=\"Adding...\" type=\"submit\">\n",
      "              Add to basket\n",
      "             </button>\n",
      "            </form>\n",
      "           </div>\n",
      "          </article>\n",
      "         </li>\n",
      "         <li class=\"col-xs-6 col-sm-4 col-md-3 col-lg-3\">\n",
      "          <article class=\"product_pod\">\n",
      "           <div class=\"image_container\">\n",
      "            <a href=\"catalogue/soumission_998/index.html\">\n",
      "             <img alt=\"Soumission\" class=\"thumbnail\" src=\"media/cache/3e/ef/3eef99c9d9adef34639f510662022830.jpg\"/>\n",
      "            </a>\n",
      "           </div>\n",
      "           <p class=\"star-rating One\">\n",
      "            <i class=\"icon-star\">\n",
      "            </i>\n",
      "            <i class=\"icon-star\">\n",
      "            </i>\n",
      "            <i class=\"icon-star\">\n",
      "            </i>\n",
      "            <i class=\"icon-star\">\n",
      "            </i>\n",
      "            <i class=\"icon-star\">\n",
      "            </i>\n",
      "           </p>\n",
      "           <h3>\n",
      "            <a href=\"catalogue/soumission_998/index.html\" title=\"Soumission\">\n",
      "             Soumission\n",
      "            </a>\n",
      "           </h3>\n",
      "           <div class=\"product_price\">\n",
      "            <p class=\"price_color\">\n",
      "             Â£50.10\n",
      "            </p>\n",
      "            <p class=\"instock availability\">\n",
      "             <i class=\"icon-ok\">\n",
      "             </i>\n",
      "             In stock\n",
      "            </p>\n",
      "            <form>\n",
      "             <button class=\"btn btn-primary btn-block\" data-loading-text=\"Adding...\" type=\"submit\">\n",
      "              Add to basket\n",
      "             </button>\n",
      "            </form>\n",
      "           </div>\n",
      "          </article>\n",
      "         </li>\n",
      "         <li class=\"col-xs-6 col-sm-4 col-md-3 col-lg-3\">\n",
      "          <article class=\"product_pod\">\n",
      "           <div class=\"image_container\">\n",
      "            <a href=\"catalogue/sharp-objects_997/index.html\">\n",
      "             <img alt=\"Sharp Objects\" class=\"thumbnail\" src=\"media/cache/32/51/3251cf3a3412f53f339e42cac2134093.jpg\"/>\n",
      "            </a>\n",
      "           </div>\n",
      "           <p class=\"star-rating Four\">\n",
      "            <i class=\"icon-star\">\n",
      "            </i>\n",
      "            <i class=\"icon-star\">\n",
      "            </i>\n",
      "            <i class=\"icon-star\">\n",
      "            </i>\n",
      "            <i class=\"icon-star\">\n",
      "            </i>\n",
      "            <i class=\"icon-star\">\n",
      "            </i>\n",
      "           </p>\n",
      "           <h3>\n",
      "            <a href=\"catalogue/sharp-objects_997/index.html\" title=\"Sharp Objects\">\n",
      "             Sharp Objects\n",
      "            </a>\n",
      "           </h3>\n",
      "           <div class=\"product_price\">\n",
      "            <p class=\"price_color\">\n",
      "             Â£47.82\n",
      "            </p>\n",
      "            <p class=\"instock availability\">\n",
      "             <i class=\"icon-ok\">\n",
      "             </i>\n",
      "             In stock\n",
      "            </p>\n",
      "            <form>\n",
      "             <button class=\"btn btn-primary btn-block\" data-loading-text=\"Adding...\" type=\"submit\">\n",
      "              Add to basket\n",
      "             </button>\n",
      "            </form>\n",
      "           </div>\n",
      "          </article>\n",
      "         </li>\n",
      "         <li class=\"col-xs-6 col-sm-4 col-md-3 col-lg-3\">\n",
      "          <article class=\"product_pod\">\n",
      "           <div class=\"image_container\">\n",
      "            <a href=\"catalogue/sapiens-a-brief-history-of-humankind_996/index.html\">\n",
      "             <img alt=\"Sapiens: A Brief History of Humankind\" class=\"thumbnail\" src=\"media/cache/be/a5/bea5697f2534a2f86a3ef27b5a8c12a6.jpg\"/>\n",
      "            </a>\n",
      "           </div>\n",
      "           <p class=\"star-rating Five\">\n",
      "            <i class=\"icon-star\">\n",
      "            </i>\n",
      "            <i class=\"icon-star\">\n",
      "            </i>\n",
      "            <i class=\"icon-star\">\n",
      "            </i>\n",
      "            <i class=\"icon-star\">\n",
      "            </i>\n",
      "            <i class=\"icon-star\">\n",
      "            </i>\n",
      "           </p>\n",
      "           <h3>\n",
      "            <a href=\"catalogue/sapiens-a-brief-history-of-humankind_996/index.html\" title=\"Sapiens: A Brief History of Humankind\">\n",
      "             Sapiens: A Brief History ...\n",
      "            </a>\n",
      "           </h3>\n",
      "           <div class=\"product_price\">\n",
      "            <p class=\"price_color\">\n",
      "             Â£54.23\n",
      "            </p>\n",
      "            <p class=\"instock availability\">\n",
      "             <i class=\"icon-ok\">\n",
      "             </i>\n",
      "             In stock\n",
      "            </p>\n",
      "            <form>\n",
      "             <button class=\"btn btn-primary btn-block\" data-loading-text=\"Adding...\" type=\"submit\">\n",
      "              Add to basket\n",
      "             </button>\n",
      "            </form>\n",
      "           </div>\n",
      "          </article>\n",
      "         </li>\n",
      "         <li class=\"col-xs-6 col-sm-4 col-md-3 col-lg-3\">\n",
      "          <article class=\"product_pod\">\n",
      "           <div class=\"image_container\">\n",
      "            <a href=\"catalogue/the-requiem-red_995/index.html\">\n",
      "             <img alt=\"The Requiem Red\" class=\"thumbnail\" src=\"media/cache/68/33/68339b4c9bc034267e1da611ab3b34f8.jpg\"/>\n",
      "            </a>\n",
      "           </div>\n",
      "           <p class=\"star-rating One\">\n",
      "            <i class=\"icon-star\">\n",
      "            </i>\n",
      "            <i class=\"icon-star\">\n",
      "            </i>\n",
      "            <i class=\"icon-star\">\n",
      "            </i>\n",
      "            <i class=\"icon-star\">\n",
      "            </i>\n",
      "            <i class=\"icon-star\">\n",
      "            </i>\n",
      "           </p>\n",
      "           <h3>\n",
      "            <a href=\"catalogue/the-requiem-red_995/index.html\" title=\"The Requiem Red\">\n",
      "             The Requiem Red\n",
      "            </a>\n",
      "           </h3>\n",
      "           <div class=\"product_price\">\n",
      "            <p class=\"price_color\">\n",
      "             Â£22.65\n",
      "            </p>\n",
      "            <p class=\"instock availability\">\n",
      "             <i class=\"icon-ok\">\n",
      "             </i>\n",
      "             In stock\n",
      "            </p>\n",
      "            <form>\n",
      "             <button class=\"btn btn-primary btn-block\" data-loading-text=\"Adding...\" type=\"submit\">\n",
      "              Add to basket\n",
      "             </button>\n",
      "            </form>\n",
      "           </div>\n",
      "          </article>\n",
      "         </li>\n",
      "         <li class=\"col-xs-6 col-sm-4 col-md-3 col-lg-3\">\n",
      "          <article class=\"product_pod\">\n",
      "           <div class=\"image_container\">\n",
      "            <a href=\"catalogue/the-dirty-little-secrets-of-getting-your-dream-job_994/index.html\">\n",
      "             <img alt=\"The Dirty Little Secrets of Getting Your Dream Job\" class=\"thumbnail\" src=\"media/cache/92/27/92274a95b7c251fea59a2b8a78275ab4.jpg\"/>\n",
      "            </a>\n",
      "           </div>\n",
      "           <p class=\"star-rating Four\">\n",
      "            <i class=\"icon-star\">\n",
      "            </i>\n",
      "            <i class=\"icon-star\">\n",
      "            </i>\n",
      "            <i class=\"icon-star\">\n",
      "            </i>\n",
      "            <i class=\"icon-star\">\n",
      "            </i>\n",
      "            <i class=\"icon-star\">\n",
      "            </i>\n",
      "           </p>\n",
      "           <h3>\n",
      "            <a href=\"catalogue/the-dirty-little-secrets-of-getting-your-dream-job_994/index.html\" title=\"The Dirty Little Secrets of Getting Your Dream Job\">\n",
      "             The Dirty Little Secrets ...\n",
      "            </a>\n",
      "           </h3>\n",
      "           <div class=\"product_price\">\n",
      "            <p class=\"price_color\">\n",
      "             Â£33.34\n",
      "            </p>\n",
      "            <p class=\"instock availability\">\n",
      "             <i class=\"icon-ok\">\n",
      "             </i>\n",
      "             In stock\n",
      "            </p>\n",
      "            <form>\n",
      "             <button class=\"btn btn-primary btn-block\" data-loading-text=\"Adding...\" type=\"submit\">\n",
      "              Add to basket\n",
      "             </button>\n",
      "            </form>\n",
      "           </div>\n",
      "          </article>\n",
      "         </li>\n",
      "         <li class=\"col-xs-6 col-sm-4 col-md-3 col-lg-3\">\n",
      "          <article class=\"product_pod\">\n",
      "           <div class=\"image_container\">\n",
      "            <a href=\"catalogue/the-coming-woman-a-novel-based-on-the-life-of-the-infamous-feminist-victoria-woodhull_993/index.html\">\n",
      "             <img alt=\"The Coming Woman: A Novel Based on the Life of the Infamous Feminist, Victoria Woodhull\" class=\"thumbnail\" src=\"media/cache/3d/54/3d54940e57e662c4dd1f3ff00c78cc64.jpg\"/>\n",
      "            </a>\n",
      "           </div>\n",
      "           <p class=\"star-rating Three\">\n",
      "            <i class=\"icon-star\">\n",
      "            </i>\n",
      "            <i class=\"icon-star\">\n",
      "            </i>\n",
      "            <i class=\"icon-star\">\n",
      "            </i>\n",
      "            <i class=\"icon-star\">\n",
      "            </i>\n",
      "            <i class=\"icon-star\">\n",
      "            </i>\n",
      "           </p>\n",
      "           <h3>\n",
      "            <a href=\"catalogue/the-coming-woman-a-novel-based-on-the-life-of-the-infamous-feminist-victoria-woodhull_993/index.html\" title=\"The Coming Woman: A Novel Based on the Life of the Infamous Feminist, Victoria Woodhull\">\n",
      "             The Coming Woman: A ...\n",
      "            </a>\n",
      "           </h3>\n",
      "           <div class=\"product_price\">\n",
      "            <p class=\"price_color\">\n",
      "             Â£17.93\n",
      "            </p>\n",
      "            <p class=\"instock availability\">\n",
      "             <i class=\"icon-ok\">\n",
      "             </i>\n",
      "             In stock\n",
      "            </p>\n",
      "            <form>\n",
      "             <button class=\"btn btn-primary btn-block\" data-loading-text=\"Adding...\" type=\"submit\">\n",
      "              Add to basket\n",
      "             </button>\n",
      "            </form>\n",
      "           </div>\n",
      "          </article>\n",
      "         </li>\n",
      "         <li class=\"col-xs-6 col-sm-4 col-md-3 col-lg-3\">\n",
      "          <article class=\"product_pod\">\n",
      "           <div class=\"image_container\">\n",
      "            <a href=\"catalogue/the-boys-in-the-boat-nine-americans-and-their-epic-quest-for-gold-at-the-1936-berlin-olympics_992/index.html\">\n",
      "             <img alt=\"The Boys in the Boat: Nine Americans and Their Epic Quest for Gold at the 1936 Berlin Olympics\" class=\"thumbnail\" src=\"media/cache/66/88/66883b91f6804b2323c8369331cb7dd1.jpg\"/>\n",
      "            </a>\n",
      "           </div>\n",
      "           <p class=\"star-rating Four\">\n",
      "            <i class=\"icon-star\">\n",
      "            </i>\n",
      "            <i class=\"icon-star\">\n",
      "            </i>\n",
      "            <i class=\"icon-star\">\n",
      "            </i>\n",
      "            <i class=\"icon-star\">\n",
      "            </i>\n",
      "            <i class=\"icon-star\">\n",
      "            </i>\n",
      "           </p>\n",
      "           <h3>\n",
      "            <a href=\"catalogue/the-boys-in-the-boat-nine-americans-and-their-epic-quest-for-gold-at-the-1936-berlin-olympics_992/index.html\" title=\"The Boys in the Boat: Nine Americans and Their Epic Quest for Gold at the 1936 Berlin Olympics\">\n",
      "             The Boys in the ...\n",
      "            </a>\n",
      "           </h3>\n",
      "           <div class=\"product_price\">\n",
      "            <p class=\"price_color\">\n",
      "             Â£22.60\n",
      "            </p>\n",
      "            <p class=\"instock availability\">\n",
      "             <i class=\"icon-ok\">\n",
      "             </i>\n",
      "             In stock\n",
      "            </p>\n",
      "            <form>\n",
      "             <button class=\"btn btn-primary btn-block\" data-loading-text=\"Adding...\" type=\"submit\">\n",
      "              Add to basket\n",
      "             </button>\n",
      "            </form>\n",
      "           </div>\n",
      "          </article>\n",
      "         </li>\n",
      "         <li class=\"col-xs-6 col-sm-4 col-md-3 col-lg-3\">\n",
      "          <article class=\"product_pod\">\n",
      "           <div class=\"image_container\">\n",
      "            <a href=\"catalogue/the-black-maria_991/index.html\">\n",
      "             <img alt=\"The Black Maria\" class=\"thumbnail\" src=\"media/cache/58/46/5846057e28022268153beff6d352b06c.jpg\"/>\n",
      "            </a>\n",
      "           </div>\n",
      "           <p class=\"star-rating One\">\n",
      "            <i class=\"icon-star\">\n",
      "            </i>\n",
      "            <i class=\"icon-star\">\n",
      "            </i>\n",
      "            <i class=\"icon-star\">\n",
      "            </i>\n",
      "            <i class=\"icon-star\">\n",
      "            </i>\n",
      "            <i class=\"icon-star\">\n",
      "            </i>\n",
      "           </p>\n",
      "           <h3>\n",
      "            <a href=\"catalogue/the-black-maria_991/index.html\" title=\"The Black Maria\">\n",
      "             The Black Maria\n",
      "            </a>\n",
      "           </h3>\n",
      "           <div class=\"product_price\">\n",
      "            <p class=\"price_color\">\n",
      "             Â£52.15\n",
      "            </p>\n",
      "            <p class=\"instock availability\">\n",
      "             <i class=\"icon-ok\">\n",
      "             </i>\n",
      "             In stock\n",
      "            </p>\n",
      "            <form>\n",
      "             <button class=\"btn btn-primary btn-block\" data-loading-text=\"Adding...\" type=\"submit\">\n",
      "              Add to basket\n",
      "             </button>\n",
      "            </form>\n",
      "           </div>\n",
      "          </article>\n",
      "         </li>\n",
      "         <li class=\"col-xs-6 col-sm-4 col-md-3 col-lg-3\">\n",
      "          <article class=\"product_pod\">\n",
      "           <div class=\"image_container\">\n",
      "            <a href=\"catalogue/starving-hearts-triangular-trade-trilogy-1_990/index.html\">\n",
      "             <img alt=\"Starving Hearts (Triangular Trade Trilogy, #1)\" class=\"thumbnail\" src=\"media/cache/be/f4/bef44da28c98f905a3ebec0b87be8530.jpg\"/>\n",
      "            </a>\n",
      "           </div>\n",
      "           <p class=\"star-rating Two\">\n",
      "            <i class=\"icon-star\">\n",
      "            </i>\n",
      "            <i class=\"icon-star\">\n",
      "            </i>\n",
      "            <i class=\"icon-star\">\n",
      "            </i>\n",
      "            <i class=\"icon-star\">\n",
      "            </i>\n",
      "            <i class=\"icon-star\">\n",
      "            </i>\n",
      "           </p>\n",
      "           <h3>\n",
      "            <a href=\"catalogue/starving-hearts-triangular-trade-trilogy-1_990/index.html\" title=\"Starving Hearts (Triangular Trade Trilogy, #1)\">\n",
      "             Starving Hearts (Triangular Trade ...\n",
      "            </a>\n",
      "           </h3>\n",
      "           <div class=\"product_price\">\n",
      "            <p class=\"price_color\">\n",
      "             Â£13.99\n",
      "            </p>\n",
      "            <p class=\"instock availability\">\n",
      "             <i class=\"icon-ok\">\n",
      "             </i>\n",
      "             In stock\n",
      "            </p>\n",
      "            <form>\n",
      "             <button class=\"btn btn-primary btn-block\" data-loading-text=\"Adding...\" type=\"submit\">\n",
      "              Add to basket\n",
      "             </button>\n",
      "            </form>\n",
      "           </div>\n",
      "          </article>\n",
      "         </li>\n",
      "         <li class=\"col-xs-6 col-sm-4 col-md-3 col-lg-3\">\n",
      "          <article class=\"product_pod\">\n",
      "           <div class=\"image_container\">\n",
      "            <a href=\"catalogue/shakespeares-sonnets_989/index.html\">\n",
      "             <img alt=\"Shakespeare's Sonnets\" class=\"thumbnail\" src=\"media/cache/10/48/1048f63d3b5061cd2f424d20b3f9b666.jpg\"/>\n",
      "            </a>\n",
      "           </div>\n",
      "           <p class=\"star-rating Four\">\n",
      "            <i class=\"icon-star\">\n",
      "            </i>\n",
      "            <i class=\"icon-star\">\n",
      "            </i>\n",
      "            <i class=\"icon-star\">\n",
      "            </i>\n",
      "            <i class=\"icon-star\">\n",
      "            </i>\n",
      "            <i class=\"icon-star\">\n",
      "            </i>\n",
      "           </p>\n",
      "           <h3>\n",
      "            <a href=\"catalogue/shakespeares-sonnets_989/index.html\" title=\"Shakespeare's Sonnets\">\n",
      "             Shakespeare's Sonnets\n",
      "            </a>\n",
      "           </h3>\n",
      "           <div class=\"product_price\">\n",
      "            <p class=\"price_color\">\n",
      "             Â£20.66\n",
      "            </p>\n",
      "            <p class=\"instock availability\">\n",
      "             <i class=\"icon-ok\">\n",
      "             </i>\n",
      "             In stock\n",
      "            </p>\n",
      "            <form>\n",
      "             <button class=\"btn btn-primary btn-block\" data-loading-text=\"Adding...\" type=\"submit\">\n",
      "              Add to basket\n",
      "             </button>\n",
      "            </form>\n",
      "           </div>\n",
      "          </article>\n",
      "         </li>\n",
      "         <li class=\"col-xs-6 col-sm-4 col-md-3 col-lg-3\">\n",
      "          <article class=\"product_pod\">\n",
      "           <div class=\"image_container\">\n",
      "            <a href=\"catalogue/set-me-free_988/index.html\">\n",
      "             <img alt=\"Set Me Free\" class=\"thumbnail\" src=\"media/cache/5b/88/5b88c52633f53cacf162c15f4f823153.jpg\"/>\n",
      "            </a>\n",
      "           </div>\n",
      "           <p class=\"star-rating Five\">\n",
      "            <i class=\"icon-star\">\n",
      "            </i>\n",
      "            <i class=\"icon-star\">\n",
      "            </i>\n",
      "            <i class=\"icon-star\">\n",
      "            </i>\n",
      "            <i class=\"icon-star\">\n",
      "            </i>\n",
      "            <i class=\"icon-star\">\n",
      "            </i>\n",
      "           </p>\n",
      "           <h3>\n",
      "            <a href=\"catalogue/set-me-free_988/index.html\" title=\"Set Me Free\">\n",
      "             Set Me Free\n",
      "            </a>\n",
      "           </h3>\n",
      "           <div class=\"product_price\">\n",
      "            <p class=\"price_color\">\n",
      "             Â£17.46\n",
      "            </p>\n",
      "            <p class=\"instock availability\">\n",
      "             <i class=\"icon-ok\">\n",
      "             </i>\n",
      "             In stock\n",
      "            </p>\n",
      "            <form>\n",
      "             <button class=\"btn btn-primary btn-block\" data-loading-text=\"Adding...\" type=\"submit\">\n",
      "              Add to basket\n",
      "             </button>\n",
      "            </form>\n",
      "           </div>\n",
      "          </article>\n",
      "         </li>\n",
      "         <li class=\"col-xs-6 col-sm-4 col-md-3 col-lg-3\">\n",
      "          <article class=\"product_pod\">\n",
      "           <div class=\"image_container\">\n",
      "            <a href=\"catalogue/scott-pilgrims-precious-little-life-scott-pilgrim-1_987/index.html\">\n",
      "             <img alt=\"Scott Pilgrim's Precious Little Life (Scott Pilgrim #1)\" class=\"thumbnail\" src=\"media/cache/94/b1/94b1b8b244bce9677c2f29ccc890d4d2.jpg\"/>\n",
      "            </a>\n",
      "           </div>\n",
      "           <p class=\"star-rating Five\">\n",
      "            <i class=\"icon-star\">\n",
      "            </i>\n",
      "            <i class=\"icon-star\">\n",
      "            </i>\n",
      "            <i class=\"icon-star\">\n",
      "            </i>\n",
      "            <i class=\"icon-star\">\n",
      "            </i>\n",
      "            <i class=\"icon-star\">\n",
      "            </i>\n",
      "           </p>\n",
      "           <h3>\n",
      "            <a href=\"catalogue/scott-pilgrims-precious-little-life-scott-pilgrim-1_987/index.html\" title=\"Scott Pilgrim's Precious Little Life (Scott Pilgrim #1)\">\n",
      "             Scott Pilgrim's Precious Little ...\n",
      "            </a>\n",
      "           </h3>\n",
      "           <div class=\"product_price\">\n",
      "            <p class=\"price_color\">\n",
      "             Â£52.29\n",
      "            </p>\n",
      "            <p class=\"instock availability\">\n",
      "             <i class=\"icon-ok\">\n",
      "             </i>\n",
      "             In stock\n",
      "            </p>\n",
      "            <form>\n",
      "             <button class=\"btn btn-primary btn-block\" data-loading-text=\"Adding...\" type=\"submit\">\n",
      "              Add to basket\n",
      "             </button>\n",
      "            </form>\n",
      "           </div>\n",
      "          </article>\n",
      "         </li>\n",
      "         <li class=\"col-xs-6 col-sm-4 col-md-3 col-lg-3\">\n",
      "          <article class=\"product_pod\">\n",
      "           <div class=\"image_container\">\n",
      "            <a href=\"catalogue/rip-it-up-and-start-again_986/index.html\">\n",
      "             <img alt=\"Rip it Up and Start Again\" class=\"thumbnail\" src=\"media/cache/81/c4/81c4a973364e17d01f217e1188253d5e.jpg\"/>\n",
      "            </a>\n",
      "           </div>\n",
      "           <p class=\"star-rating Five\">\n",
      "            <i class=\"icon-star\">\n",
      "            </i>\n",
      "            <i class=\"icon-star\">\n",
      "            </i>\n",
      "            <i class=\"icon-star\">\n",
      "            </i>\n",
      "            <i class=\"icon-star\">\n",
      "            </i>\n",
      "            <i class=\"icon-star\">\n",
      "            </i>\n",
      "           </p>\n",
      "           <h3>\n",
      "            <a href=\"catalogue/rip-it-up-and-start-again_986/index.html\" title=\"Rip it Up and Start Again\">\n",
      "             Rip it Up and ...\n",
      "            </a>\n",
      "           </h3>\n",
      "           <div class=\"product_price\">\n",
      "            <p class=\"price_color\">\n",
      "             Â£35.02\n",
      "            </p>\n",
      "            <p class=\"instock availability\">\n",
      "             <i class=\"icon-ok\">\n",
      "             </i>\n",
      "             In stock\n",
      "            </p>\n",
      "            <form>\n",
      "             <button class=\"btn btn-primary btn-block\" data-loading-text=\"Adding...\" type=\"submit\">\n",
      "              Add to basket\n",
      "             </button>\n",
      "            </form>\n",
      "           </div>\n",
      "          </article>\n",
      "         </li>\n",
      "         <li class=\"col-xs-6 col-sm-4 col-md-3 col-lg-3\">\n",
      "          <article class=\"product_pod\">\n",
      "           <div class=\"image_container\">\n",
      "            <a href=\"catalogue/our-band-could-be-your-life-scenes-from-the-american-indie-underground-1981-1991_985/index.html\">\n",
      "             <img alt=\"Our Band Could Be Your Life: Scenes from the American Indie Underground, 1981-1991\" class=\"thumbnail\" src=\"media/cache/54/60/54607fe8945897cdcced0044103b10b6.jpg\"/>\n",
      "            </a>\n",
      "           </div>\n",
      "           <p class=\"star-rating Three\">\n",
      "            <i class=\"icon-star\">\n",
      "            </i>\n",
      "            <i class=\"icon-star\">\n",
      "            </i>\n",
      "            <i class=\"icon-star\">\n",
      "            </i>\n",
      "            <i class=\"icon-star\">\n",
      "            </i>\n",
      "            <i class=\"icon-star\">\n",
      "            </i>\n",
      "           </p>\n",
      "           <h3>\n",
      "            <a href=\"catalogue/our-band-could-be-your-life-scenes-from-the-american-indie-underground-1981-1991_985/index.html\" title=\"Our Band Could Be Your Life: Scenes from the American Indie Underground, 1981-1991\">\n",
      "             Our Band Could Be ...\n",
      "            </a>\n",
      "           </h3>\n",
      "           <div class=\"product_price\">\n",
      "            <p class=\"price_color\">\n",
      "             Â£57.25\n",
      "            </p>\n",
      "            <p class=\"instock availability\">\n",
      "             <i class=\"icon-ok\">\n",
      "             </i>\n",
      "             In stock\n",
      "            </p>\n",
      "            <form>\n",
      "             <button class=\"btn btn-primary btn-block\" data-loading-text=\"Adding...\" type=\"submit\">\n",
      "              Add to basket\n",
      "             </button>\n",
      "            </form>\n",
      "           </div>\n",
      "          </article>\n",
      "         </li>\n",
      "         <li class=\"col-xs-6 col-sm-4 col-md-3 col-lg-3\">\n",
      "          <article class=\"product_pod\">\n",
      "           <div class=\"image_container\">\n",
      "            <a href=\"catalogue/olio_984/index.html\">\n",
      "             <img alt=\"Olio\" class=\"thumbnail\" src=\"media/cache/55/33/553310a7162dfbc2c6d19a84da0df9e1.jpg\"/>\n",
      "            </a>\n",
      "           </div>\n",
      "           <p class=\"star-rating One\">\n",
      "            <i class=\"icon-star\">\n",
      "            </i>\n",
      "            <i class=\"icon-star\">\n",
      "            </i>\n",
      "            <i class=\"icon-star\">\n",
      "            </i>\n",
      "            <i class=\"icon-star\">\n",
      "            </i>\n",
      "            <i class=\"icon-star\">\n",
      "            </i>\n",
      "           </p>\n",
      "           <h3>\n",
      "            <a href=\"catalogue/olio_984/index.html\" title=\"Olio\">\n",
      "             Olio\n",
      "            </a>\n",
      "           </h3>\n",
      "           <div class=\"product_price\">\n",
      "            <p class=\"price_color\">\n",
      "             Â£23.88\n",
      "            </p>\n",
      "            <p class=\"instock availability\">\n",
      "             <i class=\"icon-ok\">\n",
      "             </i>\n",
      "             In stock\n",
      "            </p>\n",
      "            <form>\n",
      "             <button class=\"btn btn-primary btn-block\" data-loading-text=\"Adding...\" type=\"submit\">\n",
      "              Add to basket\n",
      "             </button>\n",
      "            </form>\n",
      "           </div>\n",
      "          </article>\n",
      "         </li>\n",
      "         <li class=\"col-xs-6 col-sm-4 col-md-3 col-lg-3\">\n",
      "          <article class=\"product_pod\">\n",
      "           <div class=\"image_container\">\n",
      "            <a href=\"catalogue/mesaerion-the-best-science-fiction-stories-1800-1849_983/index.html\">\n",
      "             <img alt=\"Mesaerion: The Best Science Fiction Stories 1800-1849\" class=\"thumbnail\" src=\"media/cache/09/a3/09a3aef48557576e1a85ba7efea8ecb7.jpg\"/>\n",
      "            </a>\n",
      "           </div>\n",
      "           <p class=\"star-rating One\">\n",
      "            <i class=\"icon-star\">\n",
      "            </i>\n",
      "            <i class=\"icon-star\">\n",
      "            </i>\n",
      "            <i class=\"icon-star\">\n",
      "            </i>\n",
      "            <i class=\"icon-star\">\n",
      "            </i>\n",
      "            <i class=\"icon-star\">\n",
      "            </i>\n",
      "           </p>\n",
      "           <h3>\n",
      "            <a href=\"catalogue/mesaerion-the-best-science-fiction-stories-1800-1849_983/index.html\" title=\"Mesaerion: The Best Science Fiction Stories 1800-1849\">\n",
      "             Mesaerion: The Best Science ...\n",
      "            </a>\n",
      "           </h3>\n",
      "           <div class=\"product_price\">\n",
      "            <p class=\"price_color\">\n",
      "             Â£37.59\n",
      "            </p>\n",
      "            <p class=\"instock availability\">\n",
      "             <i class=\"icon-ok\">\n",
      "             </i>\n",
      "             In stock\n",
      "            </p>\n",
      "            <form>\n",
      "             <button class=\"btn btn-primary btn-block\" data-loading-text=\"Adding...\" type=\"submit\">\n",
      "              Add to basket\n",
      "             </button>\n",
      "            </form>\n",
      "           </div>\n",
      "          </article>\n",
      "         </li>\n",
      "         <li class=\"col-xs-6 col-sm-4 col-md-3 col-lg-3\">\n",
      "          <article class=\"product_pod\">\n",
      "           <div class=\"image_container\">\n",
      "            <a href=\"catalogue/libertarianism-for-beginners_982/index.html\">\n",
      "             <img alt=\"Libertarianism for Beginners\" class=\"thumbnail\" src=\"media/cache/0b/bc/0bbcd0a6f4bcd81ccb1049a52736406e.jpg\"/>\n",
      "            </a>\n",
      "           </div>\n",
      "           <p class=\"star-rating Two\">\n",
      "            <i class=\"icon-star\">\n",
      "            </i>\n",
      "            <i class=\"icon-star\">\n",
      "            </i>\n",
      "            <i class=\"icon-star\">\n",
      "            </i>\n",
      "            <i class=\"icon-star\">\n",
      "            </i>\n",
      "            <i class=\"icon-star\">\n",
      "            </i>\n",
      "           </p>\n",
      "           <h3>\n",
      "            <a href=\"catalogue/libertarianism-for-beginners_982/index.html\" title=\"Libertarianism for Beginners\">\n",
      "             Libertarianism for Beginners\n",
      "            </a>\n",
      "           </h3>\n",
      "           <div class=\"product_price\">\n",
      "            <p class=\"price_color\">\n",
      "             Â£51.33\n",
      "            </p>\n",
      "            <p class=\"instock availability\">\n",
      "             <i class=\"icon-ok\">\n",
      "             </i>\n",
      "             In stock\n",
      "            </p>\n",
      "            <form>\n",
      "             <button class=\"btn btn-primary btn-block\" data-loading-text=\"Adding...\" type=\"submit\">\n",
      "              Add to basket\n",
      "             </button>\n",
      "            </form>\n",
      "           </div>\n",
      "          </article>\n",
      "         </li>\n",
      "         <li class=\"col-xs-6 col-sm-4 col-md-3 col-lg-3\">\n",
      "          <article class=\"product_pod\">\n",
      "           <div class=\"image_container\">\n",
      "            <a href=\"catalogue/its-only-the-himalayas_981/index.html\">\n",
      "             <img alt=\"It's Only the Himalayas\" class=\"thumbnail\" src=\"media/cache/27/a5/27a53d0bb95bdd88288eaf66c9230d7e.jpg\"/>\n",
      "            </a>\n",
      "           </div>\n",
      "           <p class=\"star-rating Two\">\n",
      "            <i class=\"icon-star\">\n",
      "            </i>\n",
      "            <i class=\"icon-star\">\n",
      "            </i>\n",
      "            <i class=\"icon-star\">\n",
      "            </i>\n",
      "            <i class=\"icon-star\">\n",
      "            </i>\n",
      "            <i class=\"icon-star\">\n",
      "            </i>\n",
      "           </p>\n",
      "           <h3>\n",
      "            <a href=\"catalogue/its-only-the-himalayas_981/index.html\" title=\"It's Only the Himalayas\">\n",
      "             It's Only the Himalayas\n",
      "            </a>\n",
      "           </h3>\n",
      "           <div class=\"product_price\">\n",
      "            <p class=\"price_color\">\n",
      "             Â£45.17\n",
      "            </p>\n",
      "            <p class=\"instock availability\">\n",
      "             <i class=\"icon-ok\">\n",
      "             </i>\n",
      "             In stock\n",
      "            </p>\n",
      "            <form>\n",
      "             <button class=\"btn btn-primary btn-block\" data-loading-text=\"Adding...\" type=\"submit\">\n",
      "              Add to basket\n",
      "             </button>\n",
      "            </form>\n",
      "           </div>\n",
      "          </article>\n",
      "         </li>\n",
      "        </ol>\n",
      "        <div>\n",
      "         <ul class=\"pager\">\n",
      "          <li class=\"current\">\n",
      "           Page 1 of 50\n",
      "          </li>\n",
      "          <li class=\"next\">\n",
      "           <a href=\"catalogue/page-2.html\">\n",
      "            next\n",
      "           </a>\n",
      "          </li>\n",
      "         </ul>\n",
      "        </div>\n",
      "       </div>\n",
      "      </section>\n",
      "     </div>\n",
      "    </div>\n",
      "    <!-- /row -->\n",
      "   </div>\n",
      "   <!-- /page_inner -->\n",
      "  </div>\n",
      "  <!-- /container-fluid -->\n",
      "  <footer class=\"footer container-fluid\">\n",
      "  </footer>\n",
      "  <!-- jQuery -->\n",
      "  <script src=\"http://ajax.googleapis.com/ajax/libs/jquery/1.9.1/jquery.min.js\">\n",
      "  </script>\n",
      "  <script>\n",
      "   window.jQuery || document.write('<script src=\"static/oscar/js/jquery/jquery-1.9.1.min.js\"><\\/script>')\n",
      "  </script>\n",
      "  <!-- Twitter Bootstrap -->\n",
      "  <script src=\"static/oscar/js/bootstrap3/bootstrap.min.js\" type=\"text/javascript\">\n",
      "  </script>\n",
      "  <!-- Oscar -->\n",
      "  <script charset=\"utf-8\" src=\"static/oscar/js/oscar/ui.js\" type=\"text/javascript\">\n",
      "  </script>\n",
      "  <script charset=\"utf-8\" src=\"static/oscar/js/bootstrap-datetimepicker/bootstrap-datetimepicker.js\" type=\"text/javascript\">\n",
      "  </script>\n",
      "  <script charset=\"utf-8\" src=\"static/oscar/js/bootstrap-datetimepicker/locales/bootstrap-datetimepicker.all.js\" type=\"text/javascript\">\n",
      "  </script>\n",
      "  <script type=\"text/javascript\">\n",
      "   $(function() {\n",
      "                \n",
      "    \n",
      "    \n",
      "    oscar.init();\n",
      "\n",
      "    oscar.search.init();\n",
      "\n",
      "            });\n",
      "  </script>\n",
      "  <!-- Version: N/A -->\n",
      " </body>\n",
      "</html>\n",
      "\n"
     ]
    }
   ],
   "source": [
    "print(data.prettify())"
   ]
  },
  {
   "cell_type": "code",
   "execution_count": 94,
   "id": "0654a2a3",
   "metadata": {},
   "outputs": [
    {
     "data": {
      "text/plain": [
       "<title>\n",
       "    All products | Books to Scrape - Sandbox\n",
       "</title>"
      ]
     },
     "execution_count": 94,
     "metadata": {},
     "output_type": "execute_result"
    }
   ],
   "source": [
    "data.title"
   ]
  },
  {
   "cell_type": "code",
   "execution_count": 95,
   "id": "8788c990",
   "metadata": {},
   "outputs": [
    {
     "data": {
      "text/plain": [
       "<a href=\"index.html\">Books to Scrape</a>"
      ]
     },
     "execution_count": 95,
     "metadata": {},
     "output_type": "execute_result"
    }
   ],
   "source": [
    "data.header.a"
   ]
  },
  {
   "cell_type": "code",
   "execution_count": 99,
   "id": "7e7dd4d8",
   "metadata": {},
   "outputs": [
    {
     "data": {
      "text/plain": [
       "'A Light in the Attic'"
      ]
     },
     "execution_count": 99,
     "metadata": {},
     "output_type": "execute_result"
    }
   ],
   "source": [
    "bi = data.find(class_ ='product_pod')\n",
    "bi.h3.a['title']"
   ]
  },
  {
   "cell_type": "code",
   "execution_count": 101,
   "id": "5bac835c",
   "metadata": {},
   "outputs": [
    {
     "name": "stdout",
     "output_type": "stream",
     "text": [
      "https://books.toscrape.com/catalogue/a-light-in-the-attic_1000/index.html\n"
     ]
    }
   ],
   "source": [
    "print('https://books.toscrape.com/' + bi.h3.a['href'])"
   ]
  },
  {
   "cell_type": "code",
   "execution_count": 104,
   "id": "cc442809",
   "metadata": {},
   "outputs": [
    {
     "name": "stdout",
     "output_type": "stream",
     "text": [
      "20\n"
     ]
    },
    {
     "data": {
      "text/plain": [
       "[<article class=\"product_pod\">\n",
       " <div class=\"image_container\">\n",
       " <a href=\"catalogue/a-light-in-the-attic_1000/index.html\"><img alt=\"A Light in the Attic\" class=\"thumbnail\" src=\"media/cache/2c/da/2cdad67c44b002e7ead0cc35693c0e8b.jpg\"/></a>\n",
       " </div>\n",
       " <p class=\"star-rating Three\">\n",
       " <i class=\"icon-star\"></i>\n",
       " <i class=\"icon-star\"></i>\n",
       " <i class=\"icon-star\"></i>\n",
       " <i class=\"icon-star\"></i>\n",
       " <i class=\"icon-star\"></i>\n",
       " </p>\n",
       " <h3><a href=\"catalogue/a-light-in-the-attic_1000/index.html\" title=\"A Light in the Attic\">A Light in the ...</a></h3>\n",
       " <div class=\"product_price\">\n",
       " <p class=\"price_color\">Â£51.77</p>\n",
       " <p class=\"instock availability\">\n",
       " <i class=\"icon-ok\"></i>\n",
       "     \n",
       "         In stock\n",
       "     \n",
       " </p>\n",
       " <form>\n",
       " <button class=\"btn btn-primary btn-block\" data-loading-text=\"Adding...\" type=\"submit\">Add to basket</button>\n",
       " </form>\n",
       " </div>\n",
       " </article>,\n",
       " <article class=\"product_pod\">\n",
       " <div class=\"image_container\">\n",
       " <a href=\"catalogue/tipping-the-velvet_999/index.html\"><img alt=\"Tipping the Velvet\" class=\"thumbnail\" src=\"media/cache/26/0c/260c6ae16bce31c8f8c95daddd9f4a1c.jpg\"/></a>\n",
       " </div>\n",
       " <p class=\"star-rating One\">\n",
       " <i class=\"icon-star\"></i>\n",
       " <i class=\"icon-star\"></i>\n",
       " <i class=\"icon-star\"></i>\n",
       " <i class=\"icon-star\"></i>\n",
       " <i class=\"icon-star\"></i>\n",
       " </p>\n",
       " <h3><a href=\"catalogue/tipping-the-velvet_999/index.html\" title=\"Tipping the Velvet\">Tipping the Velvet</a></h3>\n",
       " <div class=\"product_price\">\n",
       " <p class=\"price_color\">Â£53.74</p>\n",
       " <p class=\"instock availability\">\n",
       " <i class=\"icon-ok\"></i>\n",
       "     \n",
       "         In stock\n",
       "     \n",
       " </p>\n",
       " <form>\n",
       " <button class=\"btn btn-primary btn-block\" data-loading-text=\"Adding...\" type=\"submit\">Add to basket</button>\n",
       " </form>\n",
       " </div>\n",
       " </article>,\n",
       " <article class=\"product_pod\">\n",
       " <div class=\"image_container\">\n",
       " <a href=\"catalogue/soumission_998/index.html\"><img alt=\"Soumission\" class=\"thumbnail\" src=\"media/cache/3e/ef/3eef99c9d9adef34639f510662022830.jpg\"/></a>\n",
       " </div>\n",
       " <p class=\"star-rating One\">\n",
       " <i class=\"icon-star\"></i>\n",
       " <i class=\"icon-star\"></i>\n",
       " <i class=\"icon-star\"></i>\n",
       " <i class=\"icon-star\"></i>\n",
       " <i class=\"icon-star\"></i>\n",
       " </p>\n",
       " <h3><a href=\"catalogue/soumission_998/index.html\" title=\"Soumission\">Soumission</a></h3>\n",
       " <div class=\"product_price\">\n",
       " <p class=\"price_color\">Â£50.10</p>\n",
       " <p class=\"instock availability\">\n",
       " <i class=\"icon-ok\"></i>\n",
       "     \n",
       "         In stock\n",
       "     \n",
       " </p>\n",
       " <form>\n",
       " <button class=\"btn btn-primary btn-block\" data-loading-text=\"Adding...\" type=\"submit\">Add to basket</button>\n",
       " </form>\n",
       " </div>\n",
       " </article>,\n",
       " <article class=\"product_pod\">\n",
       " <div class=\"image_container\">\n",
       " <a href=\"catalogue/sharp-objects_997/index.html\"><img alt=\"Sharp Objects\" class=\"thumbnail\" src=\"media/cache/32/51/3251cf3a3412f53f339e42cac2134093.jpg\"/></a>\n",
       " </div>\n",
       " <p class=\"star-rating Four\">\n",
       " <i class=\"icon-star\"></i>\n",
       " <i class=\"icon-star\"></i>\n",
       " <i class=\"icon-star\"></i>\n",
       " <i class=\"icon-star\"></i>\n",
       " <i class=\"icon-star\"></i>\n",
       " </p>\n",
       " <h3><a href=\"catalogue/sharp-objects_997/index.html\" title=\"Sharp Objects\">Sharp Objects</a></h3>\n",
       " <div class=\"product_price\">\n",
       " <p class=\"price_color\">Â£47.82</p>\n",
       " <p class=\"instock availability\">\n",
       " <i class=\"icon-ok\"></i>\n",
       "     \n",
       "         In stock\n",
       "     \n",
       " </p>\n",
       " <form>\n",
       " <button class=\"btn btn-primary btn-block\" data-loading-text=\"Adding...\" type=\"submit\">Add to basket</button>\n",
       " </form>\n",
       " </div>\n",
       " </article>,\n",
       " <article class=\"product_pod\">\n",
       " <div class=\"image_container\">\n",
       " <a href=\"catalogue/sapiens-a-brief-history-of-humankind_996/index.html\"><img alt=\"Sapiens: A Brief History of Humankind\" class=\"thumbnail\" src=\"media/cache/be/a5/bea5697f2534a2f86a3ef27b5a8c12a6.jpg\"/></a>\n",
       " </div>\n",
       " <p class=\"star-rating Five\">\n",
       " <i class=\"icon-star\"></i>\n",
       " <i class=\"icon-star\"></i>\n",
       " <i class=\"icon-star\"></i>\n",
       " <i class=\"icon-star\"></i>\n",
       " <i class=\"icon-star\"></i>\n",
       " </p>\n",
       " <h3><a href=\"catalogue/sapiens-a-brief-history-of-humankind_996/index.html\" title=\"Sapiens: A Brief History of Humankind\">Sapiens: A Brief History ...</a></h3>\n",
       " <div class=\"product_price\">\n",
       " <p class=\"price_color\">Â£54.23</p>\n",
       " <p class=\"instock availability\">\n",
       " <i class=\"icon-ok\"></i>\n",
       "     \n",
       "         In stock\n",
       "     \n",
       " </p>\n",
       " <form>\n",
       " <button class=\"btn btn-primary btn-block\" data-loading-text=\"Adding...\" type=\"submit\">Add to basket</button>\n",
       " </form>\n",
       " </div>\n",
       " </article>,\n",
       " <article class=\"product_pod\">\n",
       " <div class=\"image_container\">\n",
       " <a href=\"catalogue/the-requiem-red_995/index.html\"><img alt=\"The Requiem Red\" class=\"thumbnail\" src=\"media/cache/68/33/68339b4c9bc034267e1da611ab3b34f8.jpg\"/></a>\n",
       " </div>\n",
       " <p class=\"star-rating One\">\n",
       " <i class=\"icon-star\"></i>\n",
       " <i class=\"icon-star\"></i>\n",
       " <i class=\"icon-star\"></i>\n",
       " <i class=\"icon-star\"></i>\n",
       " <i class=\"icon-star\"></i>\n",
       " </p>\n",
       " <h3><a href=\"catalogue/the-requiem-red_995/index.html\" title=\"The Requiem Red\">The Requiem Red</a></h3>\n",
       " <div class=\"product_price\">\n",
       " <p class=\"price_color\">Â£22.65</p>\n",
       " <p class=\"instock availability\">\n",
       " <i class=\"icon-ok\"></i>\n",
       "     \n",
       "         In stock\n",
       "     \n",
       " </p>\n",
       " <form>\n",
       " <button class=\"btn btn-primary btn-block\" data-loading-text=\"Adding...\" type=\"submit\">Add to basket</button>\n",
       " </form>\n",
       " </div>\n",
       " </article>,\n",
       " <article class=\"product_pod\">\n",
       " <div class=\"image_container\">\n",
       " <a href=\"catalogue/the-dirty-little-secrets-of-getting-your-dream-job_994/index.html\"><img alt=\"The Dirty Little Secrets of Getting Your Dream Job\" class=\"thumbnail\" src=\"media/cache/92/27/92274a95b7c251fea59a2b8a78275ab4.jpg\"/></a>\n",
       " </div>\n",
       " <p class=\"star-rating Four\">\n",
       " <i class=\"icon-star\"></i>\n",
       " <i class=\"icon-star\"></i>\n",
       " <i class=\"icon-star\"></i>\n",
       " <i class=\"icon-star\"></i>\n",
       " <i class=\"icon-star\"></i>\n",
       " </p>\n",
       " <h3><a href=\"catalogue/the-dirty-little-secrets-of-getting-your-dream-job_994/index.html\" title=\"The Dirty Little Secrets of Getting Your Dream Job\">The Dirty Little Secrets ...</a></h3>\n",
       " <div class=\"product_price\">\n",
       " <p class=\"price_color\">Â£33.34</p>\n",
       " <p class=\"instock availability\">\n",
       " <i class=\"icon-ok\"></i>\n",
       "     \n",
       "         In stock\n",
       "     \n",
       " </p>\n",
       " <form>\n",
       " <button class=\"btn btn-primary btn-block\" data-loading-text=\"Adding...\" type=\"submit\">Add to basket</button>\n",
       " </form>\n",
       " </div>\n",
       " </article>,\n",
       " <article class=\"product_pod\">\n",
       " <div class=\"image_container\">\n",
       " <a href=\"catalogue/the-coming-woman-a-novel-based-on-the-life-of-the-infamous-feminist-victoria-woodhull_993/index.html\"><img alt=\"The Coming Woman: A Novel Based on the Life of the Infamous Feminist, Victoria Woodhull\" class=\"thumbnail\" src=\"media/cache/3d/54/3d54940e57e662c4dd1f3ff00c78cc64.jpg\"/></a>\n",
       " </div>\n",
       " <p class=\"star-rating Three\">\n",
       " <i class=\"icon-star\"></i>\n",
       " <i class=\"icon-star\"></i>\n",
       " <i class=\"icon-star\"></i>\n",
       " <i class=\"icon-star\"></i>\n",
       " <i class=\"icon-star\"></i>\n",
       " </p>\n",
       " <h3><a href=\"catalogue/the-coming-woman-a-novel-based-on-the-life-of-the-infamous-feminist-victoria-woodhull_993/index.html\" title=\"The Coming Woman: A Novel Based on the Life of the Infamous Feminist, Victoria Woodhull\">The Coming Woman: A ...</a></h3>\n",
       " <div class=\"product_price\">\n",
       " <p class=\"price_color\">Â£17.93</p>\n",
       " <p class=\"instock availability\">\n",
       " <i class=\"icon-ok\"></i>\n",
       "     \n",
       "         In stock\n",
       "     \n",
       " </p>\n",
       " <form>\n",
       " <button class=\"btn btn-primary btn-block\" data-loading-text=\"Adding...\" type=\"submit\">Add to basket</button>\n",
       " </form>\n",
       " </div>\n",
       " </article>,\n",
       " <article class=\"product_pod\">\n",
       " <div class=\"image_container\">\n",
       " <a href=\"catalogue/the-boys-in-the-boat-nine-americans-and-their-epic-quest-for-gold-at-the-1936-berlin-olympics_992/index.html\"><img alt=\"The Boys in the Boat: Nine Americans and Their Epic Quest for Gold at the 1936 Berlin Olympics\" class=\"thumbnail\" src=\"media/cache/66/88/66883b91f6804b2323c8369331cb7dd1.jpg\"/></a>\n",
       " </div>\n",
       " <p class=\"star-rating Four\">\n",
       " <i class=\"icon-star\"></i>\n",
       " <i class=\"icon-star\"></i>\n",
       " <i class=\"icon-star\"></i>\n",
       " <i class=\"icon-star\"></i>\n",
       " <i class=\"icon-star\"></i>\n",
       " </p>\n",
       " <h3><a href=\"catalogue/the-boys-in-the-boat-nine-americans-and-their-epic-quest-for-gold-at-the-1936-berlin-olympics_992/index.html\" title=\"The Boys in the Boat: Nine Americans and Their Epic Quest for Gold at the 1936 Berlin Olympics\">The Boys in the ...</a></h3>\n",
       " <div class=\"product_price\">\n",
       " <p class=\"price_color\">Â£22.60</p>\n",
       " <p class=\"instock availability\">\n",
       " <i class=\"icon-ok\"></i>\n",
       "     \n",
       "         In stock\n",
       "     \n",
       " </p>\n",
       " <form>\n",
       " <button class=\"btn btn-primary btn-block\" data-loading-text=\"Adding...\" type=\"submit\">Add to basket</button>\n",
       " </form>\n",
       " </div>\n",
       " </article>,\n",
       " <article class=\"product_pod\">\n",
       " <div class=\"image_container\">\n",
       " <a href=\"catalogue/the-black-maria_991/index.html\"><img alt=\"The Black Maria\" class=\"thumbnail\" src=\"media/cache/58/46/5846057e28022268153beff6d352b06c.jpg\"/></a>\n",
       " </div>\n",
       " <p class=\"star-rating One\">\n",
       " <i class=\"icon-star\"></i>\n",
       " <i class=\"icon-star\"></i>\n",
       " <i class=\"icon-star\"></i>\n",
       " <i class=\"icon-star\"></i>\n",
       " <i class=\"icon-star\"></i>\n",
       " </p>\n",
       " <h3><a href=\"catalogue/the-black-maria_991/index.html\" title=\"The Black Maria\">The Black Maria</a></h3>\n",
       " <div class=\"product_price\">\n",
       " <p class=\"price_color\">Â£52.15</p>\n",
       " <p class=\"instock availability\">\n",
       " <i class=\"icon-ok\"></i>\n",
       "     \n",
       "         In stock\n",
       "     \n",
       " </p>\n",
       " <form>\n",
       " <button class=\"btn btn-primary btn-block\" data-loading-text=\"Adding...\" type=\"submit\">Add to basket</button>\n",
       " </form>\n",
       " </div>\n",
       " </article>,\n",
       " <article class=\"product_pod\">\n",
       " <div class=\"image_container\">\n",
       " <a href=\"catalogue/starving-hearts-triangular-trade-trilogy-1_990/index.html\"><img alt=\"Starving Hearts (Triangular Trade Trilogy, #1)\" class=\"thumbnail\" src=\"media/cache/be/f4/bef44da28c98f905a3ebec0b87be8530.jpg\"/></a>\n",
       " </div>\n",
       " <p class=\"star-rating Two\">\n",
       " <i class=\"icon-star\"></i>\n",
       " <i class=\"icon-star\"></i>\n",
       " <i class=\"icon-star\"></i>\n",
       " <i class=\"icon-star\"></i>\n",
       " <i class=\"icon-star\"></i>\n",
       " </p>\n",
       " <h3><a href=\"catalogue/starving-hearts-triangular-trade-trilogy-1_990/index.html\" title=\"Starving Hearts (Triangular Trade Trilogy, #1)\">Starving Hearts (Triangular Trade ...</a></h3>\n",
       " <div class=\"product_price\">\n",
       " <p class=\"price_color\">Â£13.99</p>\n",
       " <p class=\"instock availability\">\n",
       " <i class=\"icon-ok\"></i>\n",
       "     \n",
       "         In stock\n",
       "     \n",
       " </p>\n",
       " <form>\n",
       " <button class=\"btn btn-primary btn-block\" data-loading-text=\"Adding...\" type=\"submit\">Add to basket</button>\n",
       " </form>\n",
       " </div>\n",
       " </article>,\n",
       " <article class=\"product_pod\">\n",
       " <div class=\"image_container\">\n",
       " <a href=\"catalogue/shakespeares-sonnets_989/index.html\"><img alt=\"Shakespeare's Sonnets\" class=\"thumbnail\" src=\"media/cache/10/48/1048f63d3b5061cd2f424d20b3f9b666.jpg\"/></a>\n",
       " </div>\n",
       " <p class=\"star-rating Four\">\n",
       " <i class=\"icon-star\"></i>\n",
       " <i class=\"icon-star\"></i>\n",
       " <i class=\"icon-star\"></i>\n",
       " <i class=\"icon-star\"></i>\n",
       " <i class=\"icon-star\"></i>\n",
       " </p>\n",
       " <h3><a href=\"catalogue/shakespeares-sonnets_989/index.html\" title=\"Shakespeare's Sonnets\">Shakespeare's Sonnets</a></h3>\n",
       " <div class=\"product_price\">\n",
       " <p class=\"price_color\">Â£20.66</p>\n",
       " <p class=\"instock availability\">\n",
       " <i class=\"icon-ok\"></i>\n",
       "     \n",
       "         In stock\n",
       "     \n",
       " </p>\n",
       " <form>\n",
       " <button class=\"btn btn-primary btn-block\" data-loading-text=\"Adding...\" type=\"submit\">Add to basket</button>\n",
       " </form>\n",
       " </div>\n",
       " </article>,\n",
       " <article class=\"product_pod\">\n",
       " <div class=\"image_container\">\n",
       " <a href=\"catalogue/set-me-free_988/index.html\"><img alt=\"Set Me Free\" class=\"thumbnail\" src=\"media/cache/5b/88/5b88c52633f53cacf162c15f4f823153.jpg\"/></a>\n",
       " </div>\n",
       " <p class=\"star-rating Five\">\n",
       " <i class=\"icon-star\"></i>\n",
       " <i class=\"icon-star\"></i>\n",
       " <i class=\"icon-star\"></i>\n",
       " <i class=\"icon-star\"></i>\n",
       " <i class=\"icon-star\"></i>\n",
       " </p>\n",
       " <h3><a href=\"catalogue/set-me-free_988/index.html\" title=\"Set Me Free\">Set Me Free</a></h3>\n",
       " <div class=\"product_price\">\n",
       " <p class=\"price_color\">Â£17.46</p>\n",
       " <p class=\"instock availability\">\n",
       " <i class=\"icon-ok\"></i>\n",
       "     \n",
       "         In stock\n",
       "     \n",
       " </p>\n",
       " <form>\n",
       " <button class=\"btn btn-primary btn-block\" data-loading-text=\"Adding...\" type=\"submit\">Add to basket</button>\n",
       " </form>\n",
       " </div>\n",
       " </article>,\n",
       " <article class=\"product_pod\">\n",
       " <div class=\"image_container\">\n",
       " <a href=\"catalogue/scott-pilgrims-precious-little-life-scott-pilgrim-1_987/index.html\"><img alt=\"Scott Pilgrim's Precious Little Life (Scott Pilgrim #1)\" class=\"thumbnail\" src=\"media/cache/94/b1/94b1b8b244bce9677c2f29ccc890d4d2.jpg\"/></a>\n",
       " </div>\n",
       " <p class=\"star-rating Five\">\n",
       " <i class=\"icon-star\"></i>\n",
       " <i class=\"icon-star\"></i>\n",
       " <i class=\"icon-star\"></i>\n",
       " <i class=\"icon-star\"></i>\n",
       " <i class=\"icon-star\"></i>\n",
       " </p>\n",
       " <h3><a href=\"catalogue/scott-pilgrims-precious-little-life-scott-pilgrim-1_987/index.html\" title=\"Scott Pilgrim's Precious Little Life (Scott Pilgrim #1)\">Scott Pilgrim's Precious Little ...</a></h3>\n",
       " <div class=\"product_price\">\n",
       " <p class=\"price_color\">Â£52.29</p>\n",
       " <p class=\"instock availability\">\n",
       " <i class=\"icon-ok\"></i>\n",
       "     \n",
       "         In stock\n",
       "     \n",
       " </p>\n",
       " <form>\n",
       " <button class=\"btn btn-primary btn-block\" data-loading-text=\"Adding...\" type=\"submit\">Add to basket</button>\n",
       " </form>\n",
       " </div>\n",
       " </article>,\n",
       " <article class=\"product_pod\">\n",
       " <div class=\"image_container\">\n",
       " <a href=\"catalogue/rip-it-up-and-start-again_986/index.html\"><img alt=\"Rip it Up and Start Again\" class=\"thumbnail\" src=\"media/cache/81/c4/81c4a973364e17d01f217e1188253d5e.jpg\"/></a>\n",
       " </div>\n",
       " <p class=\"star-rating Five\">\n",
       " <i class=\"icon-star\"></i>\n",
       " <i class=\"icon-star\"></i>\n",
       " <i class=\"icon-star\"></i>\n",
       " <i class=\"icon-star\"></i>\n",
       " <i class=\"icon-star\"></i>\n",
       " </p>\n",
       " <h3><a href=\"catalogue/rip-it-up-and-start-again_986/index.html\" title=\"Rip it Up and Start Again\">Rip it Up and ...</a></h3>\n",
       " <div class=\"product_price\">\n",
       " <p class=\"price_color\">Â£35.02</p>\n",
       " <p class=\"instock availability\">\n",
       " <i class=\"icon-ok\"></i>\n",
       "     \n",
       "         In stock\n",
       "     \n",
       " </p>\n",
       " <form>\n",
       " <button class=\"btn btn-primary btn-block\" data-loading-text=\"Adding...\" type=\"submit\">Add to basket</button>\n",
       " </form>\n",
       " </div>\n",
       " </article>,\n",
       " <article class=\"product_pod\">\n",
       " <div class=\"image_container\">\n",
       " <a href=\"catalogue/our-band-could-be-your-life-scenes-from-the-american-indie-underground-1981-1991_985/index.html\"><img alt=\"Our Band Could Be Your Life: Scenes from the American Indie Underground, 1981-1991\" class=\"thumbnail\" src=\"media/cache/54/60/54607fe8945897cdcced0044103b10b6.jpg\"/></a>\n",
       " </div>\n",
       " <p class=\"star-rating Three\">\n",
       " <i class=\"icon-star\"></i>\n",
       " <i class=\"icon-star\"></i>\n",
       " <i class=\"icon-star\"></i>\n",
       " <i class=\"icon-star\"></i>\n",
       " <i class=\"icon-star\"></i>\n",
       " </p>\n",
       " <h3><a href=\"catalogue/our-band-could-be-your-life-scenes-from-the-american-indie-underground-1981-1991_985/index.html\" title=\"Our Band Could Be Your Life: Scenes from the American Indie Underground, 1981-1991\">Our Band Could Be ...</a></h3>\n",
       " <div class=\"product_price\">\n",
       " <p class=\"price_color\">Â£57.25</p>\n",
       " <p class=\"instock availability\">\n",
       " <i class=\"icon-ok\"></i>\n",
       "     \n",
       "         In stock\n",
       "     \n",
       " </p>\n",
       " <form>\n",
       " <button class=\"btn btn-primary btn-block\" data-loading-text=\"Adding...\" type=\"submit\">Add to basket</button>\n",
       " </form>\n",
       " </div>\n",
       " </article>,\n",
       " <article class=\"product_pod\">\n",
       " <div class=\"image_container\">\n",
       " <a href=\"catalogue/olio_984/index.html\"><img alt=\"Olio\" class=\"thumbnail\" src=\"media/cache/55/33/553310a7162dfbc2c6d19a84da0df9e1.jpg\"/></a>\n",
       " </div>\n",
       " <p class=\"star-rating One\">\n",
       " <i class=\"icon-star\"></i>\n",
       " <i class=\"icon-star\"></i>\n",
       " <i class=\"icon-star\"></i>\n",
       " <i class=\"icon-star\"></i>\n",
       " <i class=\"icon-star\"></i>\n",
       " </p>\n",
       " <h3><a href=\"catalogue/olio_984/index.html\" title=\"Olio\">Olio</a></h3>\n",
       " <div class=\"product_price\">\n",
       " <p class=\"price_color\">Â£23.88</p>\n",
       " <p class=\"instock availability\">\n",
       " <i class=\"icon-ok\"></i>\n",
       "     \n",
       "         In stock\n",
       "     \n",
       " </p>\n",
       " <form>\n",
       " <button class=\"btn btn-primary btn-block\" data-loading-text=\"Adding...\" type=\"submit\">Add to basket</button>\n",
       " </form>\n",
       " </div>\n",
       " </article>,\n",
       " <article class=\"product_pod\">\n",
       " <div class=\"image_container\">\n",
       " <a href=\"catalogue/mesaerion-the-best-science-fiction-stories-1800-1849_983/index.html\"><img alt=\"Mesaerion: The Best Science Fiction Stories 1800-1849\" class=\"thumbnail\" src=\"media/cache/09/a3/09a3aef48557576e1a85ba7efea8ecb7.jpg\"/></a>\n",
       " </div>\n",
       " <p class=\"star-rating One\">\n",
       " <i class=\"icon-star\"></i>\n",
       " <i class=\"icon-star\"></i>\n",
       " <i class=\"icon-star\"></i>\n",
       " <i class=\"icon-star\"></i>\n",
       " <i class=\"icon-star\"></i>\n",
       " </p>\n",
       " <h3><a href=\"catalogue/mesaerion-the-best-science-fiction-stories-1800-1849_983/index.html\" title=\"Mesaerion: The Best Science Fiction Stories 1800-1849\">Mesaerion: The Best Science ...</a></h3>\n",
       " <div class=\"product_price\">\n",
       " <p class=\"price_color\">Â£37.59</p>\n",
       " <p class=\"instock availability\">\n",
       " <i class=\"icon-ok\"></i>\n",
       "     \n",
       "         In stock\n",
       "     \n",
       " </p>\n",
       " <form>\n",
       " <button class=\"btn btn-primary btn-block\" data-loading-text=\"Adding...\" type=\"submit\">Add to basket</button>\n",
       " </form>\n",
       " </div>\n",
       " </article>,\n",
       " <article class=\"product_pod\">\n",
       " <div class=\"image_container\">\n",
       " <a href=\"catalogue/libertarianism-for-beginners_982/index.html\"><img alt=\"Libertarianism for Beginners\" class=\"thumbnail\" src=\"media/cache/0b/bc/0bbcd0a6f4bcd81ccb1049a52736406e.jpg\"/></a>\n",
       " </div>\n",
       " <p class=\"star-rating Two\">\n",
       " <i class=\"icon-star\"></i>\n",
       " <i class=\"icon-star\"></i>\n",
       " <i class=\"icon-star\"></i>\n",
       " <i class=\"icon-star\"></i>\n",
       " <i class=\"icon-star\"></i>\n",
       " </p>\n",
       " <h3><a href=\"catalogue/libertarianism-for-beginners_982/index.html\" title=\"Libertarianism for Beginners\">Libertarianism for Beginners</a></h3>\n",
       " <div class=\"product_price\">\n",
       " <p class=\"price_color\">Â£51.33</p>\n",
       " <p class=\"instock availability\">\n",
       " <i class=\"icon-ok\"></i>\n",
       "     \n",
       "         In stock\n",
       "     \n",
       " </p>\n",
       " <form>\n",
       " <button class=\"btn btn-primary btn-block\" data-loading-text=\"Adding...\" type=\"submit\">Add to basket</button>\n",
       " </form>\n",
       " </div>\n",
       " </article>,\n",
       " <article class=\"product_pod\">\n",
       " <div class=\"image_container\">\n",
       " <a href=\"catalogue/its-only-the-himalayas_981/index.html\"><img alt=\"It's Only the Himalayas\" class=\"thumbnail\" src=\"media/cache/27/a5/27a53d0bb95bdd88288eaf66c9230d7e.jpg\"/></a>\n",
       " </div>\n",
       " <p class=\"star-rating Two\">\n",
       " <i class=\"icon-star\"></i>\n",
       " <i class=\"icon-star\"></i>\n",
       " <i class=\"icon-star\"></i>\n",
       " <i class=\"icon-star\"></i>\n",
       " <i class=\"icon-star\"></i>\n",
       " </p>\n",
       " <h3><a href=\"catalogue/its-only-the-himalayas_981/index.html\" title=\"It's Only the Himalayas\">It's Only the Himalayas</a></h3>\n",
       " <div class=\"product_price\">\n",
       " <p class=\"price_color\">Â£45.17</p>\n",
       " <p class=\"instock availability\">\n",
       " <i class=\"icon-ok\"></i>\n",
       "     \n",
       "         In stock\n",
       "     \n",
       " </p>\n",
       " <form>\n",
       " <button class=\"btn btn-primary btn-block\" data-loading-text=\"Adding...\" type=\"submit\">Add to basket</button>\n",
       " </form>\n",
       " </div>\n",
       " </article>]"
      ]
     },
     "execution_count": 104,
     "metadata": {},
     "output_type": "execute_result"
    }
   ],
   "source": [
    "books = data.find_all(class_ = 'product_pod')\n",
    "print(len(books))\n",
    "books"
   ]
  },
  {
   "cell_type": "code",
   "execution_count": 109,
   "id": "b22390c6",
   "metadata": {},
   "outputs": [
    {
     "name": "stdout",
     "output_type": "stream",
     "text": [
      "https://books.toscrape.com/catalogue/a-light-in-the-attic_1000/index.html\n",
      "https://books.toscrape.com/catalogue/tipping-the-velvet_999/index.html\n",
      "https://books.toscrape.com/catalogue/soumission_998/index.html\n",
      "https://books.toscrape.com/catalogue/sharp-objects_997/index.html\n",
      "https://books.toscrape.com/catalogue/sapiens-a-brief-history-of-humankind_996/index.html\n",
      "https://books.toscrape.com/catalogue/the-requiem-red_995/index.html\n",
      "https://books.toscrape.com/catalogue/the-dirty-little-secrets-of-getting-your-dream-job_994/index.html\n",
      "https://books.toscrape.com/catalogue/the-coming-woman-a-novel-based-on-the-life-of-the-infamous-feminist-victoria-woodhull_993/index.html\n",
      "https://books.toscrape.com/catalogue/the-boys-in-the-boat-nine-americans-and-their-epic-quest-for-gold-at-the-1936-berlin-olympics_992/index.html\n",
      "https://books.toscrape.com/catalogue/the-black-maria_991/index.html\n",
      "https://books.toscrape.com/catalogue/starving-hearts-triangular-trade-trilogy-1_990/index.html\n",
      "https://books.toscrape.com/catalogue/shakespeares-sonnets_989/index.html\n",
      "https://books.toscrape.com/catalogue/set-me-free_988/index.html\n",
      "https://books.toscrape.com/catalogue/scott-pilgrims-precious-little-life-scott-pilgrim-1_987/index.html\n",
      "https://books.toscrape.com/catalogue/rip-it-up-and-start-again_986/index.html\n",
      "https://books.toscrape.com/catalogue/our-band-could-be-your-life-scenes-from-the-american-indie-underground-1981-1991_985/index.html\n",
      "https://books.toscrape.com/catalogue/olio_984/index.html\n",
      "https://books.toscrape.com/catalogue/mesaerion-the-best-science-fiction-stories-1800-1849_983/index.html\n",
      "https://books.toscrape.com/catalogue/libertarianism-for-beginners_982/index.html\n",
      "https://books.toscrape.com/catalogue/its-only-the-himalayas_981/index.html\n"
     ]
    }
   ],
   "source": [
    "base_url = 'https://books.toscrape.com/'\n",
    "books_url = []\n",
    "for i in books:\n",
    "    books_url.append(base_url + i.h3.a['href'])\n",
    "    print(base_url + i.h3.a['href'])"
   ]
  },
  {
   "cell_type": "code",
   "execution_count": 111,
   "id": "ab9a2a92",
   "metadata": {},
   "outputs": [
    {
     "name": "stdout",
     "output_type": "stream",
     "text": [
      "A Light in the Attic\n",
      "Tipping the Velvet\n",
      "Soumission\n",
      "Sharp Objects\n",
      "Sapiens: A Brief History of Humankind\n",
      "The Requiem Red\n",
      "The Dirty Little Secrets of Getting Your Dream Job\n",
      "The Coming Woman: A Novel Based on the Life of the Infamous Feminist, Victoria Woodhull\n",
      "The Boys in the Boat: Nine Americans and Their Epic Quest for Gold at the 1936 Berlin Olympics\n",
      "The Black Maria\n",
      "Starving Hearts (Triangular Trade Trilogy, #1)\n",
      "Shakespeare's Sonnets\n",
      "Set Me Free\n",
      "Scott Pilgrim's Precious Little Life (Scott Pilgrim #1)\n",
      "Rip it Up and Start Again\n",
      "Our Band Could Be Your Life: Scenes from the American Indie Underground, 1981-1991\n",
      "Olio\n",
      "Mesaerion: The Best Science Fiction Stories 1800-1849\n",
      "Libertarianism for Beginners\n",
      "It's Only the Himalayas\n"
     ]
    }
   ],
   "source": [
    "## Books names on first page:\n",
    "page = data.find_all('article',{'class':'product_pod'})\n",
    "for i in page:\n",
    "    print(i.h3.a['title'])"
   ]
  },
  {
   "cell_type": "code",
   "execution_count": null,
   "id": "27133ca3",
   "metadata": {},
   "outputs": [],
   "source": []
  },
  {
   "cell_type": "code",
   "execution_count": null,
   "id": "a4646595",
   "metadata": {},
   "outputs": [],
   "source": []
  },
  {
   "cell_type": "code",
   "execution_count": null,
   "id": "b744431a",
   "metadata": {},
   "outputs": [],
   "source": []
  },
  {
   "cell_type": "code",
   "execution_count": null,
   "id": "b3b342e4",
   "metadata": {},
   "outputs": [],
   "source": []
  },
  {
   "cell_type": "markdown",
   "id": "7913b348",
   "metadata": {},
   "source": [
    "## IBM labs"
   ]
  },
  {
   "cell_type": "code",
   "execution_count": null,
   "id": "3324a071",
   "metadata": {},
   "outputs": [],
   "source": [
    "%%html\n",
    "<!DOCTYPE html>\n",
    "<html>\n",
    "<head>\n",
    "<title>Page Title</title>\n",
    "</head>\n",
    "<body>\n",
    "<h3><b id='boldest'>Lebron James</b></h3>\n",
    "<p> Salary: $ 92,000,000 </p>\n",
    "<h3> Stephen Curry</h3>\n",
    "<p> Salary: $85,000, 000 </p>\n",
    "<h3> Kevin Durant </h3>\n",
    "<p> Salary: $73,200, 000</p>\n",
    "</body>\n",
    "</html>"
   ]
  },
  {
   "cell_type": "code",
   "execution_count": null,
   "id": "42f9f8aa",
   "metadata": {},
   "outputs": [],
   "source": [
    "html=\"<!DOCTYPE html><html><head><title>Page Title</title></head><body><h3><b id='boldest'>Lebron James</b></h3><p> Salary: $ 92,000,000 </p><h3> Stephen Curry</h3><p> Salary: $85,000, 000 </p><h3> Kevin Durant </h3><p> Salary: $73,200, 000</p></body></html>\""
   ]
  },
  {
   "cell_type": "code",
   "execution_count": null,
   "id": "cb966f10",
   "metadata": {},
   "outputs": [],
   "source": [
    "#To parse a document, pass it into the BeautifulSoup constructor.\n",
    "#The BeautifulSoup object represents the document as a nested data structure."
   ]
  },
  {
   "cell_type": "code",
   "execution_count": null,
   "id": "83a7dde0",
   "metadata": {},
   "outputs": [],
   "source": [
    "soup = BeautifulSoup(html, 'html.parser')"
   ]
  },
  {
   "cell_type": "code",
   "execution_count": null,
   "id": "0e2880df",
   "metadata": {},
   "outputs": [],
   "source": [
    "#Beautiful Soup transforms a complex HTML document into a complex tree of Python objects."
   ]
  },
  {
   "cell_type": "code",
   "execution_count": null,
   "id": "c4fa29cf",
   "metadata": {},
   "outputs": [],
   "source": [
    "print(soup.prettify())"
   ]
  },
  {
   "cell_type": "code",
   "execution_count": null,
   "id": "7f1136db",
   "metadata": {},
   "outputs": [],
   "source": [
    "tag_object=soup.title\n",
    "print(\"tag object:\",tag_object)"
   ]
  },
  {
   "cell_type": "code",
   "execution_count": null,
   "id": "8edb905e",
   "metadata": {},
   "outputs": [],
   "source": [
    "print(\"tag object type:\",type(tag_object))"
   ]
  },
  {
   "cell_type": "code",
   "execution_count": null,
   "id": "af5550e4",
   "metadata": {},
   "outputs": [],
   "source": [
    "# If there is more than one Tag with the same name, the first element with that Tag name is called."
   ]
  },
  {
   "cell_type": "code",
   "execution_count": null,
   "id": "c18670b1",
   "metadata": {},
   "outputs": [],
   "source": [
    "tag_object=soup.h3\n",
    "tag_object"
   ]
  },
  {
   "cell_type": "code",
   "execution_count": null,
   "id": "2910f55a",
   "metadata": {},
   "outputs": [],
   "source": [
    "# Children, Parents, and Siblings"
   ]
  },
  {
   "cell_type": "code",
   "execution_count": null,
   "id": "25c3a108",
   "metadata": {},
   "outputs": [],
   "source": [
    "tag_child =tag_object.b\n",
    "tag_child"
   ]
  },
  {
   "cell_type": "code",
   "execution_count": null,
   "id": "a0030460",
   "metadata": {},
   "outputs": [],
   "source": [
    "parent_tag=tag_child.parent\n",
    "parent_tag"
   ]
  },
  {
   "cell_type": "code",
   "execution_count": null,
   "id": "9649e055",
   "metadata": {},
   "outputs": [],
   "source": [
    "tag_object.parent"
   ]
  },
  {
   "cell_type": "code",
   "execution_count": null,
   "id": "4a633e15",
   "metadata": {},
   "outputs": [],
   "source": [
    "sibling_1=tag_object.next_sibling\n",
    "sibling_1"
   ]
  },
  {
   "cell_type": "code",
   "execution_count": null,
   "id": "066e9c63",
   "metadata": {},
   "outputs": [],
   "source": [
    "sibling_2=sibling_1.next_sibling\n",
    "sibling_2"
   ]
  },
  {
   "cell_type": "code",
   "execution_count": null,
   "id": "519be27a",
   "metadata": {},
   "outputs": [],
   "source": [
    "# HTML Attributes"
   ]
  },
  {
   "cell_type": "code",
   "execution_count": null,
   "id": "39c18c9c",
   "metadata": {},
   "outputs": [],
   "source": [
    "tag_child['id']"
   ]
  },
  {
   "cell_type": "code",
   "execution_count": null,
   "id": "6efd8e56",
   "metadata": {},
   "outputs": [],
   "source": [
    "tag_child.attrs"
   ]
  },
  {
   "cell_type": "code",
   "execution_count": null,
   "id": "d976fd27",
   "metadata": {},
   "outputs": [],
   "source": [
    "tag_child.get('id')"
   ]
  },
  {
   "cell_type": "code",
   "execution_count": null,
   "id": "b0407f96",
   "metadata": {},
   "outputs": [],
   "source": [
    "# Navigable String"
   ]
  },
  {
   "cell_type": "code",
   "execution_count": null,
   "id": "9668a83d",
   "metadata": {},
   "outputs": [],
   "source": [
    "tag_string=tag_child.string\n",
    "tag_string"
   ]
  },
  {
   "cell_type": "code",
   "execution_count": null,
   "id": "ae5a7320",
   "metadata": {},
   "outputs": [],
   "source": [
    "type(tag_string)"
   ]
  },
  {
   "cell_type": "code",
   "execution_count": null,
   "id": "f90a23d7",
   "metadata": {},
   "outputs": [],
   "source": [
    "unicode_string = str(tag_string)\n",
    "unicode_string"
   ]
  },
  {
   "cell_type": "code",
   "execution_count": null,
   "id": "6ff18c68",
   "metadata": {},
   "outputs": [],
   "source": [
    "# Filter"
   ]
  },
  {
   "cell_type": "code",
   "execution_count": null,
   "id": "1eafb2ec",
   "metadata": {},
   "outputs": [],
   "source": [
    "%%html\n",
    "<table>\n",
    "  <tr>\n",
    "    <td id='flight' >Flight No</td>\n",
    "    <td>Launch site</td> \n",
    "    <td>Payload mass</td>\n",
    "   </tr>\n",
    "  <tr> \n",
    "    <td>1</td>\n",
    "    <td><a href='https://en.wikipedia.org/wiki/Florida'>Florida</a></td>\n",
    "    <td>300 kg</td>\n",
    "  </tr>\n",
    "  <tr>\n",
    "    <td>2</td>\n",
    "    <td><a href='https://en.wikipedia.org/wiki/Texas'>Texas</a></td>\n",
    "    <td>94 kg</td>\n",
    "  </tr>\n",
    "  <tr>\n",
    "    <td>3</td>\n",
    "    <td><a href='https://en.wikipedia.org/wiki/Florida'>Florida<a> </td>\n",
    "    <td>80 kg</td>\n",
    "  </tr>\n",
    "</table>"
   ]
  },
  {
   "cell_type": "code",
   "execution_count": null,
   "id": "11e88592",
   "metadata": {},
   "outputs": [],
   "source": [
    "table=\"<table><tr><td id='flight'>Flight No</td><td>Launch site</td> <td>Payload mass</td></tr><tr> <td>1</td><td><a href='https://en.wikipedia.org/wiki/Florida'>Florida<a></td><td>300 kg</td></tr><tr><td>2</td><td><a href='https://en.wikipedia.org/wiki/Texas'>Texas</a></td><td>94 kg</td></tr><tr><td>3</td><td><a href='https://en.wikipedia.org/wiki/Florida'>Florida<a> </td><td>80 kg</td></tr></table>\""
   ]
  },
  {
   "cell_type": "code",
   "execution_count": null,
   "id": "8f2a8449",
   "metadata": {},
   "outputs": [],
   "source": [
    "table_bs = BeautifulSoup(table, 'html.parser')"
   ]
  },
  {
   "cell_type": "code",
   "execution_count": null,
   "id": "f99b1f05",
   "metadata": {},
   "outputs": [],
   "source": [
    "# find All"
   ]
  },
  {
   "cell_type": "code",
   "execution_count": null,
   "id": "8c1fb626",
   "metadata": {},
   "outputs": [],
   "source": [
    "table_rows=table_bs.find_all('tr')\n",
    "table_rows"
   ]
  },
  {
   "cell_type": "code",
   "execution_count": null,
   "id": "261e3b76",
   "metadata": {},
   "outputs": [],
   "source": [
    "first_row =table_rows[0]\n",
    "first_row"
   ]
  },
  {
   "cell_type": "code",
   "execution_count": null,
   "id": "59e6aa6c",
   "metadata": {},
   "outputs": [],
   "source": [
    "print(type(first_row))"
   ]
  },
  {
   "cell_type": "code",
   "execution_count": null,
   "id": "f01953b6",
   "metadata": {},
   "outputs": [],
   "source": [
    "first_row.td"
   ]
  },
  {
   "cell_type": "code",
   "execution_count": null,
   "id": "96eeebb6",
   "metadata": {},
   "outputs": [],
   "source": [
    "for i,row in enumerate(table_rows):\n",
    "    print(\"row\",i,\"is\",row)\n",
    "    "
   ]
  },
  {
   "cell_type": "code",
   "execution_count": null,
   "id": "8beb2238",
   "metadata": {},
   "outputs": [],
   "source": [
    "for i,row in enumerate(table_rows):\n",
    "    print(\"row\",i)\n",
    "    cells=row.find_all('td')\n",
    "    for j,cell in enumerate(cells):\n",
    "        print('colunm',j,\"cell\",cell)"
   ]
  },
  {
   "cell_type": "code",
   "execution_count": null,
   "id": "e3e75729",
   "metadata": {},
   "outputs": [],
   "source": [
    "list_input=table_bs .find_all(name=[\"tr\", \"td\"])\n",
    "list_input"
   ]
  },
  {
   "cell_type": "code",
   "execution_count": null,
   "id": "7b1b6fef",
   "metadata": {},
   "outputs": [],
   "source": [
    "table_bs.find_all(id=\"flight\")"
   ]
  },
  {
   "cell_type": "code",
   "execution_count": null,
   "id": "2b3902b2",
   "metadata": {},
   "outputs": [],
   "source": [
    "list_input=table_bs.find_all(href=\"https://en.wikipedia.org/wiki/Florida\")\n",
    "list_input"
   ]
  },
  {
   "cell_type": "code",
   "execution_count": null,
   "id": "0c945f55",
   "metadata": {},
   "outputs": [],
   "source": [
    "table_bs.find_all(href=True)"
   ]
  },
  {
   "cell_type": "code",
   "execution_count": null,
   "id": "98ac0f6b",
   "metadata": {},
   "outputs": [],
   "source": [
    "table_bs.find_all(string=\"Florida\")"
   ]
  },
  {
   "cell_type": "markdown",
   "id": "bb1f8331",
   "metadata": {},
   "source": [
    "#### Downloading And Scraping The Contents Of A Web Page"
   ]
  },
  {
   "cell_type": "code",
   "execution_count": null,
   "id": "6de94f7d",
   "metadata": {},
   "outputs": [],
   "source": [
    "url = \"http://www.ibm.com\""
   ]
  },
  {
   "cell_type": "code",
   "execution_count": null,
   "id": "385b6750",
   "metadata": {},
   "outputs": [],
   "source": [
    "import requests\n",
    "data  = requests.get(url).text "
   ]
  },
  {
   "cell_type": "code",
   "execution_count": null,
   "id": "167808c1",
   "metadata": {},
   "outputs": [],
   "source": [
    "soup = BeautifulSoup(data,\"html.parser\")"
   ]
  },
  {
   "cell_type": "code",
   "execution_count": null,
   "id": "7f5e26c9",
   "metadata": {},
   "outputs": [],
   "source": [
    "for link in soup.find_all('a',href=True):  # in html anchor/link is represented by the tag <a>\n",
    "\n",
    "    print(link.get('href'))"
   ]
  },
  {
   "cell_type": "code",
   "execution_count": null,
   "id": "b99d822c",
   "metadata": {},
   "outputs": [],
   "source": [
    "for link in soup.find_all('img'):# in html image is represented by the tag <img>\n",
    "    print(link)\n",
    "    print(link.get('src'))"
   ]
  },
  {
   "cell_type": "code",
   "execution_count": null,
   "id": "675703cf",
   "metadata": {},
   "outputs": [],
   "source": [
    "#The below url contains an html table with data about colors and color codes.\n",
    "url = \"https://cf-courses-data.s3.us.cloud-object-storage.appdomain.cloud/IBM-DA0321EN-SkillsNetwork/labs/datasets/HTMLColorCodes.html\""
   ]
  },
  {
   "cell_type": "code",
   "execution_count": null,
   "id": "f0525f26",
   "metadata": {},
   "outputs": [],
   "source": [
    "# get the contents of the webpage in text format and store in a variable called data\n",
    "data  = requests.get(url).text"
   ]
  },
  {
   "cell_type": "code",
   "execution_count": null,
   "id": "81e1144a",
   "metadata": {},
   "outputs": [],
   "source": [
    "soup = BeautifulSoup(data,\"html.parser\")"
   ]
  },
  {
   "cell_type": "code",
   "execution_count": null,
   "id": "dd99c919",
   "metadata": {},
   "outputs": [],
   "source": [
    "#find a html table in the web page\n",
    "table = soup.find('table') # in html table is represented by the tag <table>"
   ]
  },
  {
   "cell_type": "code",
   "execution_count": null,
   "id": "caaf4ded",
   "metadata": {},
   "outputs": [],
   "source": [
    "#Get all rows from the table\n",
    "for row in table.find_all('tr'): # in html table row is represented by the tag <tr>\n",
    "    # Get all columns in each row.\n",
    "    cols = row.find_all('td') # in html a column is represented by the tag <td>\n",
    "    color_name = cols[2].string # store the value in column 3 as color_name\n",
    "    color_code = cols[3].string # store the value in column 4 as color_code\n",
    "    print(\"{}--->{}\".format(color_name,color_code))"
   ]
  },
  {
   "cell_type": "code",
   "execution_count": 117,
   "id": "189fe6d9",
   "metadata": {},
   "outputs": [
    {
     "data": {
      "text/plain": [
       "array([0, 0, 0, 0, 0])"
      ]
     },
     "execution_count": 117,
     "metadata": {},
     "output_type": "execute_result"
    }
   ],
   "source": [
    "import numpy as np\n",
    "a=np.array([1,0,1,0,1])\n",
    "b=np.array([0,1,0,1,0])\n",
    "a*b"
   ]
  },
  {
   "cell_type": "code",
   "execution_count": 115,
   "id": "7e121e8f",
   "metadata": {},
   "outputs": [
    {
     "data": {
      "text/plain": [
       "0.5"
      ]
     },
     "execution_count": 115,
     "metadata": {},
     "output_type": "execute_result"
    }
   ],
   "source": []
  },
  {
   "cell_type": "code",
   "execution_count": null,
   "id": "711b9311",
   "metadata": {},
   "outputs": [],
   "source": []
  }
 ],
 "metadata": {
  "kernelspec": {
   "display_name": "Python 3 (ipykernel)",
   "language": "python",
   "name": "python3"
  },
  "language_info": {
   "codemirror_mode": {
    "name": "ipython",
    "version": 3
   },
   "file_extension": ".py",
   "mimetype": "text/x-python",
   "name": "python",
   "nbconvert_exporter": "python",
   "pygments_lexer": "ipython3",
   "version": "3.9.13"
  }
 },
 "nbformat": 4,
 "nbformat_minor": 5
}
