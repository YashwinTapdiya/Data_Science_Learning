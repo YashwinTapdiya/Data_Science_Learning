{
 "cells": [
  {
   "cell_type": "code",
   "execution_count": 16,
   "id": "f6b4997b",
   "metadata": {},
   "outputs": [],
   "source": [
    "import sqlite3"
   ]
  },
  {
   "cell_type": "code",
   "execution_count": null,
   "id": "efca14fb",
   "metadata": {},
   "outputs": [],
   "source": [
    "db=sqlite3.connect(\"Dataset/IMDB.sqlite\")\n",
    "#to make the connection we take help of connect present inside sqlite3 lib\n",
    "#inside connect we need to pass the path of file we need to connect"
   ]
  },
  {
   "cell_type": "code",
   "execution_count": null,
   "id": "ad106361",
   "metadata": {},
   "outputs": [],
   "source": [
    "#this is connection object which is referencing to some memory location\n",
    "db"
   ]
  },
  {
   "cell_type": "code",
   "execution_count": null,
   "id": "7a746bc6",
   "metadata": {},
   "outputs": [],
   "source": [
    "db_1=sqlite3.connect(\"Dataset/IMDB_1.sqlite\")\n",
    "#we dont get error even if we pass the file whcih iis not exist"
   ]
  },
  {
   "cell_type": "code",
   "execution_count": null,
   "id": "f9ace2f5",
   "metadata": {},
   "outputs": [],
   "source": [
    "db_1\n",
    "#one file with name IMDB_1 is been created "
   ]
  },
  {
   "cell_type": "code",
   "execution_count": 17,
   "id": "2cfbe503",
   "metadata": {},
   "outputs": [],
   "source": [
    "db=sqlite3.connect(\"Dataset/School.sqlite\")"
   ]
  },
  {
   "cell_type": "code",
   "execution_count": 18,
   "id": "ab5fd8cc",
   "metadata": {},
   "outputs": [
    {
     "data": {
      "text/plain": [
       "<sqlite3.Connection at 0x2a1e26916c0>"
      ]
     },
     "execution_count": 18,
     "metadata": {},
     "output_type": "execute_result"
    }
   ],
   "source": [
    "db"
   ]
  },
  {
   "cell_type": "code",
   "execution_count": 19,
   "id": "ca2c1adb",
   "metadata": {},
   "outputs": [
    {
     "data": {
      "text/plain": [
       "<sqlite3.Cursor at 0x2a1e2638730>"
      ]
     },
     "execution_count": 19,
     "metadata": {},
     "output_type": "execute_result"
    }
   ],
   "source": [
    "cur=db.cursor()\n",
    "cur"
   ]
  },
  {
   "cell_type": "code",
   "execution_count": null,
   "id": "59a3e405",
   "metadata": {},
   "outputs": [],
   "source": [
    "sql_query='create table student (RollNumber int Primary key,Name Text,Age int)'"
   ]
  },
  {
   "cell_type": "code",
   "execution_count": null,
   "id": "e0eb476c",
   "metadata": {},
   "outputs": [],
   "source": [
    "cur.execute(sql_query)"
   ]
  },
  {
   "cell_type": "code",
   "execution_count": null,
   "id": "c947b33c",
   "metadata": {},
   "outputs": [],
   "source": [
    "cur.execute('Insert into student values(101,\"Yashwin\",20)')"
   ]
  },
  {
   "cell_type": "code",
   "execution_count": null,
   "id": "5ff38cc5",
   "metadata": {},
   "outputs": [],
   "source": [
    " db.commit()"
   ]
  },
  {
   "cell_type": "code",
   "execution_count": null,
   "id": "6bc56cc9",
   "metadata": {},
   "outputs": [],
   "source": [
    "cur.execute('create table EmployeeDetail (employee_id int primary key,name text,age int,department text,salary int)')"
   ]
  },
  {
   "cell_type": "code",
   "execution_count": null,
   "id": "7c6c3ae2",
   "metadata": {},
   "outputs": [],
   "source": [
    "db.commit()"
   ]
  },
  {
   "cell_type": "code",
   "execution_count": null,
   "id": "4eb5f6f2",
   "metadata": {},
   "outputs": [],
   "source": [
    "cur.execute('Insert into EmployeeDetail values(100,\"Rishav\",25,\"Marketing\",50000)')\n",
    "cur.execute('Insert into EmployeeDetail values(101,\"Abhishek\",26,\"Operations\",60000)')\n",
    "cur.execute('Insert into EmployeeDetail values(102,\"Aman\",24,\"Human Resources\",75000)')"
   ]
  },
  {
   "cell_type": "code",
   "execution_count": null,
   "id": "f91c3c6c",
   "metadata": {},
   "outputs": [],
   "source": [
    "db.commit()"
   ]
  },
  {
   "cell_type": "code",
   "execution_count": 21,
   "id": "3dd8c679",
   "metadata": {},
   "outputs": [
    {
     "data": {
      "text/plain": [
       "<sqlite3.Cursor at 0x2a1e2638730>"
      ]
     },
     "execution_count": 21,
     "metadata": {},
     "output_type": "execute_result"
    }
   ],
   "source": [
    "cur.execute('Insert into Student values(103,\"Mohit\",24)')"
   ]
  },
  {
   "cell_type": "code",
   "execution_count": 22,
   "id": "bfb71713",
   "metadata": {},
   "outputs": [],
   "source": [
    "db.commit()"
   ]
  },
  {
   "cell_type": "code",
   "execution_count": 23,
   "id": "c1f75b40",
   "metadata": {},
   "outputs": [
    {
     "data": {
      "text/plain": [
       "<sqlite3.Cursor at 0x2a1e2638730>"
      ]
     },
     "execution_count": 23,
     "metadata": {},
     "output_type": "execute_result"
    }
   ],
   "source": [
    "rollNumber=104\n",
    "Name=\"Nikhil\"\n",
    "age=34\n",
    "\n",
    "cur.execute('Insert into student values(?,?,?)',(rollNumber,Name,age))"
   ]
  },
  {
   "cell_type": "code",
   "execution_count": 24,
   "id": "ad9fe11c",
   "metadata": {},
   "outputs": [],
   "source": [
    "db.commit()"
   ]
  },
  {
   "cell_type": "code",
   "execution_count": 25,
   "id": "2413b6db",
   "metadata": {},
   "outputs": [
    {
     "data": {
      "text/plain": [
       "<sqlite3.Cursor at 0x2a1e2638730>"
      ]
     },
     "execution_count": 25,
     "metadata": {},
     "output_type": "execute_result"
    }
   ],
   "source": [
    "values=[(105,\"Neha\",20),(106,\"Manisha\",21),(107,\"Ankush\",22)]\n",
    "cur.executemany('insert into student values(?,?,?)',values)"
   ]
  },
  {
   "cell_type": "code",
   "execution_count": 26,
   "id": "9b1c7e9e",
   "metadata": {},
   "outputs": [],
   "source": [
    "db.commit()"
   ]
  },
  {
   "cell_type": "code",
   "execution_count": 28,
   "id": "66a4d992",
   "metadata": {},
   "outputs": [
    {
     "data": {
      "text/plain": [
       "<sqlite3.Cursor at 0x2a1e2638730>"
      ]
     },
     "execution_count": 28,
     "metadata": {},
     "output_type": "execute_result"
    }
   ],
   "source": [
    "cur.execute('update student set age=30')"
   ]
  },
  {
   "cell_type": "code",
   "execution_count": 29,
   "id": "0978f2d2",
   "metadata": {},
   "outputs": [],
   "source": [
    "db.commit()"
   ]
  },
  {
   "cell_type": "code",
   "execution_count": 30,
   "id": "9d75e99c",
   "metadata": {},
   "outputs": [
    {
     "data": {
      "text/plain": [
       "<sqlite3.Cursor at 0x2a1e2638730>"
      ]
     },
     "execution_count": 30,
     "metadata": {},
     "output_type": "execute_result"
    }
   ],
   "source": [
    "cur.execute('update student set age=22 where name=\"Yashwin\"')"
   ]
  },
  {
   "cell_type": "code",
   "execution_count": 31,
   "id": "aa1791bd",
   "metadata": {},
   "outputs": [],
   "source": [
    "db.commit()"
   ]
  },
  {
   "cell_type": "code",
   "execution_count": 32,
   "id": "36352584",
   "metadata": {},
   "outputs": [],
   "source": [
    "new_age=25\n",
    "cur.execute('update student set age=? where rollnumber=106',(new_age,))\n",
    "db.commit()"
   ]
  },
  {
   "cell_type": "code",
   "execution_count": 35,
   "id": "4df6c699",
   "metadata": {},
   "outputs": [
    {
     "data": {
      "text/plain": [
       "<sqlite3.Cursor at 0x2a1e2638730>"
      ]
     },
     "execution_count": 35,
     "metadata": {},
     "output_type": "execute_result"
    }
   ],
   "source": [
    "#deleting employee_id 101 without parameter\n",
    "cur.execute('delete from EmployeeDetail where employee_id=101')"
   ]
  },
  {
   "cell_type": "code",
   "execution_count": 36,
   "id": "e825f2a8",
   "metadata": {},
   "outputs": [],
   "source": [
    "db.commit()"
   ]
  },
  {
   "cell_type": "code",
   "execution_count": 37,
   "id": "7d3886be",
   "metadata": {},
   "outputs": [
    {
     "data": {
      "text/plain": [
       "<sqlite3.Cursor at 0x2a1e2638730>"
      ]
     },
     "execution_count": 37,
     "metadata": {},
     "output_type": "execute_result"
    }
   ],
   "source": [
    "#Deleting employiee with parameter\n",
    "employee_id=102\n",
    "cur.execute('delete from employeedetail where employee_id=?',(employee_id,))"
   ]
  },
  {
   "cell_type": "code",
   "execution_count": 38,
   "id": "b78b28eb",
   "metadata": {},
   "outputs": [],
   "source": [
    "db.commit()"
   ]
  },
  {
   "cell_type": "code",
   "execution_count": 42,
   "id": "e5793e06",
   "metadata": {},
   "outputs": [],
   "source": [
    "#Deleting employiee with parameter\n",
    "employee_id=(100)\n",
    "cur.execute('delete from employeedetail where employee_id=?',(employee_id,))\n",
    "db.commit()"
   ]
  },
  {
   "cell_type": "code",
   "execution_count": 43,
   "id": "5d2c4c07",
   "metadata": {},
   "outputs": [],
   "source": [
    "#Deleting employiee with parameter\n",
    "employee_id=(103)\n",
    "cur.execute('delete from employeedetail where employee_id=?',(employee_id,))\n",
    "db.commit()"
   ]
  },
  {
   "cell_type": "code",
   "execution_count": 51,
   "id": "119ab55d",
   "metadata": {},
   "outputs": [],
   "source": [
    "cur.execute('drop table employeedetail')\n",
    "db.commit()"
   ]
  },
  {
   "cell_type": "code",
   "execution_count": 52,
   "id": "aa2bc2b0",
   "metadata": {},
   "outputs": [],
   "source": [
    "cur.execute('create table EmployeeDetail (employee_id int primary key,name text,age int,department text,salary int)')\n",
    "db.commit()"
   ]
  },
  {
   "cell_type": "code",
   "execution_count": 53,
   "id": "8f377861",
   "metadata": {},
   "outputs": [],
   "source": [
    "cur.execute('Insert into EmployeeDetail values(101,\"Aadarsh\",25,\"Marketing\",50000)')\n",
    "cur.execute('Insert into EmployeeDetail values(102,\"Aarti\",27,\"Operations\",60000)')\n",
    "cur.execute('Insert into EmployeeDetail values(103,\"Siddart\",25,\"Finance\",85000)')\n",
    "cur.execute('Insert into EmployeeDetail values(104,\"Aman\",24,\"Human Resources\",75000)')\n",
    "cur.execute('Insert into EmployeeDetail values(105,\"Amit\",30,\"Marketing\",50000)')\n",
    "cur.execute('Insert into EmployeeDetail values(106,\"Shivansh\",26,\"IT\",90000)')\n",
    "cur.execute('Insert into EmployeeDetail values(107,\"Vaibhav\",23,\"Finance\",85000)')\n",
    "cur.execute('Insert into EmployeeDetail values(108,\"Himanshu\",26,\"IT\",90000)')\n",
    "cur.execute('Insert into EmployeeDetail values(109,\"Raman\",25,\"Operations\",60000)')\n",
    "cur.execute('Insert into EmployeeDetail values(110,\"Kunal\",26,\"Marketing\",50000)')\n",
    "cur.execute('Insert into EmployeeDetail values(111,\"Adhira\",29,\"Human Resources\",75000)')\n",
    "cur.execute('Insert into EmployeeDetail values(112,\"Tanya\",24,\"Marketing\",50000)')\n",
    "db.commit()"
   ]
  },
  {
   "cell_type": "code",
   "execution_count": null,
   "id": "955d32bd",
   "metadata": {},
   "outputs": [],
   "source": []
  },
  {
   "cell_type": "code",
   "execution_count": null,
   "id": "5a2ab281",
   "metadata": {},
   "outputs": [],
   "source": []
  },
  {
   "cell_type": "code",
   "execution_count": null,
   "id": "12080c11",
   "metadata": {},
   "outputs": [],
   "source": []
  },
  {
   "cell_type": "markdown",
   "id": "9154e6d1",
   "metadata": {},
   "source": [
    "### Fetch data"
   ]
  },
  {
   "cell_type": "code",
   "execution_count": 54,
   "id": "bf51a424",
   "metadata": {},
   "outputs": [
    {
     "data": {
      "text/plain": [
       "<sqlite3.Cursor at 0x2a1e2638730>"
      ]
     },
     "execution_count": 54,
     "metadata": {},
     "output_type": "execute_result"
    }
   ],
   "source": [
    "cur.execute('select * from student')"
   ]
  },
  {
   "cell_type": "code",
   "execution_count": 55,
   "id": "acac820d",
   "metadata": {},
   "outputs": [
    {
     "name": "stdout",
     "output_type": "stream",
     "text": [
      "(101, 'Yashwin', 22)\n",
      "(103, 'Mohit', 30)\n",
      "(104, 'Nikhil', 30)\n",
      "(105, 'Neha', 30)\n",
      "(106, 'Manisha', 25)\n",
      "(107, 'Ankush', 30)\n"
     ]
    }
   ],
   "source": [
    "for row in cur:\n",
    "    print(row)"
   ]
  },
  {
   "cell_type": "code",
   "execution_count": 58,
   "id": "38be4e93",
   "metadata": {},
   "outputs": [
    {
     "name": "stdout",
     "output_type": "stream",
     "text": [
      "(101, 'Yashwin', 22)\n",
      "(103, 'Mohit', 30)\n"
     ]
    }
   ],
   "source": [
    "#other methods incliude:fetchone(),fetchmany(),fetchall():\n",
    "cur.execute('select * from student')\n",
    "print(cur.fetchone())\n",
    "print(cur.fetchone())#fetchone return the first row of our table"
   ]
  },
  {
   "cell_type": "code",
   "execution_count": 60,
   "id": "d780529f",
   "metadata": {},
   "outputs": [
    {
     "name": "stdout",
     "output_type": "stream",
     "text": [
      "[(101, 'Yashwin', 22), (103, 'Mohit', 30), (104, 'Nikhil', 30)]\n"
     ]
    }
   ],
   "source": [
    "cur.execute('select * from student')\n",
    "print(cur.fetchmany(3))\n",
    "#fetchmany return the tuple of rows of our table"
   ]
  },
  {
   "cell_type": "code",
   "execution_count": 62,
   "id": "de21a8fe",
   "metadata": {},
   "outputs": [
    {
     "name": "stdout",
     "output_type": "stream",
     "text": [
      "[(101, 'Yashwin', 22), (103, 'Mohit', 30), (104, 'Nikhil', 30), (105, 'Neha', 30), (106, 'Manisha', 25), (107, 'Ankush', 30)]\n"
     ]
    }
   ],
   "source": [
    "cur.execute('select * from student')\n",
    "print(cur.fetchall())\n",
    "#fetchall return the tuple of rows all our table"
   ]
  },
  {
   "cell_type": "code",
   "execution_count": 63,
   "id": "f41a13e1",
   "metadata": {},
   "outputs": [
    {
     "name": "stdout",
     "output_type": "stream",
     "text": [
      "[(104, 'Nikhil', 30), (105, 'Neha', 30), (106, 'Manisha', 25), (107, 'Ankush', 30)]\n"
     ]
    }
   ],
   "source": [
    "cur.execute('select * from student where rollnumber>103')\n",
    "print(cur.fetchall())"
   ]
  },
  {
   "cell_type": "code",
   "execution_count": 64,
   "id": "dc94f997",
   "metadata": {},
   "outputs": [
    {
     "name": "stdout",
     "output_type": "stream",
     "text": [
      "[(101, 'Yashwin', 22)]\n"
     ]
    }
   ],
   "source": [
    "cur.execute('select * from student where name like \"Y%\"')\n",
    "print(cur.fetchall())"
   ]
  },
  {
   "cell_type": "code",
   "execution_count": 68,
   "id": "8db44be3",
   "metadata": {},
   "outputs": [
    {
     "name": "stdout",
     "output_type": "stream",
     "text": [
      "(103,)\n",
      "(107,)\n"
     ]
    }
   ],
   "source": [
    "#print the employee_id of employyee working in finance department:\n",
    "cur.execute('select employee_id from EmployeeDetail where department=\"Finance\"')\n",
    "ids=cur.fetchall()\n",
    "for id in ids:\n",
    "    print(id)"
   ]
  },
  {
   "cell_type": "code",
   "execution_count": 70,
   "id": "8554b417",
   "metadata": {},
   "outputs": [
    {
     "name": "stdout",
     "output_type": "stream",
     "text": [
      "('Finance', 2)\n",
      "('Human Resources', 2)\n",
      "('IT', 2)\n",
      "('Marketing', 4)\n",
      "('Operations', 2)\n"
     ]
    }
   ],
   "source": [
    "#print department and number of employe:\n",
    "cur.execute('select department,count(*) from EmployeeDetail group by department')\n",
    "departments=cur.fetchall()\n",
    "for dep in departments:\n",
    "    print(dep)"
   ]
  },
  {
   "cell_type": "code",
   "execution_count": null,
   "id": "4a0edbd1",
   "metadata": {},
   "outputs": [],
   "source": []
  },
  {
   "cell_type": "code",
   "execution_count": null,
   "id": "ccea1b86",
   "metadata": {},
   "outputs": [],
   "source": []
  },
  {
   "cell_type": "markdown",
   "id": "095d63e4",
   "metadata": {},
   "source": [
    "## SQLite with pandas"
   ]
  },
  {
   "cell_type": "code",
   "execution_count": 71,
   "id": "012888cd",
   "metadata": {},
   "outputs": [],
   "source": [
    "import pandas as pd\n",
    "\n",
    "db=sqlite3.connect('Dataset/school.sqlite')"
   ]
  },
  {
   "cell_type": "code",
   "execution_count": 72,
   "id": "78c6cf87",
   "metadata": {},
   "outputs": [
    {
     "data": {
      "text/html": [
       "<div>\n",
       "<style scoped>\n",
       "    .dataframe tbody tr th:only-of-type {\n",
       "        vertical-align: middle;\n",
       "    }\n",
       "\n",
       "    .dataframe tbody tr th {\n",
       "        vertical-align: top;\n",
       "    }\n",
       "\n",
       "    .dataframe thead th {\n",
       "        text-align: right;\n",
       "    }\n",
       "</style>\n",
       "<table border=\"1\" class=\"dataframe\">\n",
       "  <thead>\n",
       "    <tr style=\"text-align: right;\">\n",
       "      <th></th>\n",
       "      <th>RollNumber</th>\n",
       "      <th>Name</th>\n",
       "      <th>Age</th>\n",
       "    </tr>\n",
       "  </thead>\n",
       "  <tbody>\n",
       "    <tr>\n",
       "      <th>0</th>\n",
       "      <td>101</td>\n",
       "      <td>Yashwin</td>\n",
       "      <td>22</td>\n",
       "    </tr>\n",
       "    <tr>\n",
       "      <th>1</th>\n",
       "      <td>103</td>\n",
       "      <td>Mohit</td>\n",
       "      <td>30</td>\n",
       "    </tr>\n",
       "    <tr>\n",
       "      <th>2</th>\n",
       "      <td>104</td>\n",
       "      <td>Nikhil</td>\n",
       "      <td>30</td>\n",
       "    </tr>\n",
       "    <tr>\n",
       "      <th>3</th>\n",
       "      <td>105</td>\n",
       "      <td>Neha</td>\n",
       "      <td>30</td>\n",
       "    </tr>\n",
       "    <tr>\n",
       "      <th>4</th>\n",
       "      <td>106</td>\n",
       "      <td>Manisha</td>\n",
       "      <td>25</td>\n",
       "    </tr>\n",
       "    <tr>\n",
       "      <th>5</th>\n",
       "      <td>107</td>\n",
       "      <td>Ankush</td>\n",
       "      <td>30</td>\n",
       "    </tr>\n",
       "  </tbody>\n",
       "</table>\n",
       "</div>"
      ],
      "text/plain": [
       "   RollNumber     Name  Age\n",
       "0         101  Yashwin   22\n",
       "1         103    Mohit   30\n",
       "2         104   Nikhil   30\n",
       "3         105     Neha   30\n",
       "4         106  Manisha   25\n",
       "5         107   Ankush   30"
      ]
     },
     "execution_count": 72,
     "metadata": {},
     "output_type": "execute_result"
    }
   ],
   "source": [
    "#this takes two arguments first the query with which we want to extract our data\n",
    "#next our connection object\n",
    "data=pd.read_sql_query(\"Select * from student\",db)\n",
    "data"
   ]
  },
  {
   "cell_type": "code",
   "execution_count": 74,
   "id": "3714f17e",
   "metadata": {},
   "outputs": [
    {
     "data": {
      "text/plain": [
       "0    False\n",
       "1     True\n",
       "2     True\n",
       "3     True\n",
       "4    False\n",
       "5     True\n",
       "Name: Age, dtype: bool"
      ]
     },
     "execution_count": 74,
     "metadata": {},
     "output_type": "execute_result"
    }
   ],
   "source": [
    " data['Age']==30"
   ]
  },
  {
   "cell_type": "code",
   "execution_count": 75,
   "id": "2cd71ba0",
   "metadata": {},
   "outputs": [
    {
     "data": {
      "text/html": [
       "<div>\n",
       "<style scoped>\n",
       "    .dataframe tbody tr th:only-of-type {\n",
       "        vertical-align: middle;\n",
       "    }\n",
       "\n",
       "    .dataframe tbody tr th {\n",
       "        vertical-align: top;\n",
       "    }\n",
       "\n",
       "    .dataframe thead th {\n",
       "        text-align: right;\n",
       "    }\n",
       "</style>\n",
       "<table border=\"1\" class=\"dataframe\">\n",
       "  <thead>\n",
       "    <tr style=\"text-align: right;\">\n",
       "      <th></th>\n",
       "      <th>RollNumber</th>\n",
       "      <th>Name</th>\n",
       "      <th>Age</th>\n",
       "    </tr>\n",
       "  </thead>\n",
       "  <tbody>\n",
       "    <tr>\n",
       "      <th>1</th>\n",
       "      <td>103</td>\n",
       "      <td>Mohit</td>\n",
       "      <td>30</td>\n",
       "    </tr>\n",
       "    <tr>\n",
       "      <th>2</th>\n",
       "      <td>104</td>\n",
       "      <td>Nikhil</td>\n",
       "      <td>30</td>\n",
       "    </tr>\n",
       "    <tr>\n",
       "      <th>3</th>\n",
       "      <td>105</td>\n",
       "      <td>Neha</td>\n",
       "      <td>30</td>\n",
       "    </tr>\n",
       "    <tr>\n",
       "      <th>5</th>\n",
       "      <td>107</td>\n",
       "      <td>Ankush</td>\n",
       "      <td>30</td>\n",
       "    </tr>\n",
       "  </tbody>\n",
       "</table>\n",
       "</div>"
      ],
      "text/plain": [
       "   RollNumber    Name  Age\n",
       "1         103   Mohit   30\n",
       "2         104  Nikhil   30\n",
       "3         105    Neha   30\n",
       "5         107  Ankush   30"
      ]
     },
     "execution_count": 75,
     "metadata": {},
     "output_type": "execute_result"
    }
   ],
   "source": [
    "data[ data['Age']==30]"
   ]
  },
  {
   "cell_type": "code",
   "execution_count": 76,
   "id": "7bbcd5d7",
   "metadata": {},
   "outputs": [
    {
     "data": {
      "text/html": [
       "<div>\n",
       "<style scoped>\n",
       "    .dataframe tbody tr th:only-of-type {\n",
       "        vertical-align: middle;\n",
       "    }\n",
       "\n",
       "    .dataframe tbody tr th {\n",
       "        vertical-align: top;\n",
       "    }\n",
       "\n",
       "    .dataframe thead th {\n",
       "        text-align: right;\n",
       "    }\n",
       "</style>\n",
       "<table border=\"1\" class=\"dataframe\">\n",
       "  <thead>\n",
       "    <tr style=\"text-align: right;\">\n",
       "      <th></th>\n",
       "      <th>ID</th>\n",
       "      <th>Name</th>\n",
       "      <th>Course</th>\n",
       "      <th>Salary</th>\n",
       "    </tr>\n",
       "  </thead>\n",
       "  <tbody>\n",
       "    <tr>\n",
       "      <th>0</th>\n",
       "      <td>201</td>\n",
       "      <td>Aman</td>\n",
       "      <td>English</td>\n",
       "      <td>20000</td>\n",
       "    </tr>\n",
       "    <tr>\n",
       "      <th>1</th>\n",
       "      <td>202</td>\n",
       "      <td>Komal</td>\n",
       "      <td>Maths</td>\n",
       "      <td>22000</td>\n",
       "    </tr>\n",
       "    <tr>\n",
       "      <th>2</th>\n",
       "      <td>203</td>\n",
       "      <td>Mahesh</td>\n",
       "      <td>Science</td>\n",
       "      <td>23000</td>\n",
       "    </tr>\n",
       "  </tbody>\n",
       "</table>\n",
       "</div>"
      ],
      "text/plain": [
       "    ID    Name   Course  Salary\n",
       "0  201    Aman  English   20000\n",
       "1  202   Komal    Maths   22000\n",
       "2  203  Mahesh  Science   23000"
      ]
     },
     "execution_count": 76,
     "metadata": {},
     "output_type": "execute_result"
    }
   ],
   "source": [
    "data = pd.DataFrame([[201, \"Aman\", \"English\", 20000], [202, \"Komal\", \"Maths\", 22000], [203, \"Mahesh\", \"Science\", 23000]], \n",
    "                   columns = [\"ID\", \"Name\", \"Course\", \"Salary\"])\n",
    "data"
   ]
  },
  {
   "cell_type": "code",
   "execution_count": 77,
   "id": "b19eeeac",
   "metadata": {},
   "outputs": [
    {
     "data": {
      "text/plain": [
       "3"
      ]
     },
     "execution_count": 77,
     "metadata": {},
     "output_type": "execute_result"
    }
   ],
   "source": [
    "data.to_sql(\"Faculty\", db)"
   ]
  },
  {
   "cell_type": "code",
   "execution_count": 79,
   "id": "60493450",
   "metadata": {},
   "outputs": [
    {
     "data": {
      "text/html": [
       "<div>\n",
       "<style scoped>\n",
       "    .dataframe tbody tr th:only-of-type {\n",
       "        vertical-align: middle;\n",
       "    }\n",
       "\n",
       "    .dataframe tbody tr th {\n",
       "        vertical-align: top;\n",
       "    }\n",
       "\n",
       "    .dataframe thead th {\n",
       "        text-align: right;\n",
       "    }\n",
       "</style>\n",
       "<table border=\"1\" class=\"dataframe\">\n",
       "  <thead>\n",
       "    <tr style=\"text-align: right;\">\n",
       "      <th></th>\n",
       "      <th>RollNumber</th>\n",
       "      <th>Name</th>\n",
       "      <th>Age</th>\n",
       "      <th>Address</th>\n",
       "    </tr>\n",
       "  </thead>\n",
       "  <tbody>\n",
       "    <tr>\n",
       "      <th>0</th>\n",
       "      <td>101</td>\n",
       "      <td>Yashwin</td>\n",
       "      <td>22</td>\n",
       "      <td>Test</td>\n",
       "    </tr>\n",
       "    <tr>\n",
       "      <th>1</th>\n",
       "      <td>103</td>\n",
       "      <td>Mohit</td>\n",
       "      <td>30</td>\n",
       "      <td>Test</td>\n",
       "    </tr>\n",
       "    <tr>\n",
       "      <th>2</th>\n",
       "      <td>104</td>\n",
       "      <td>Nikhil</td>\n",
       "      <td>30</td>\n",
       "      <td>Test</td>\n",
       "    </tr>\n",
       "    <tr>\n",
       "      <th>3</th>\n",
       "      <td>105</td>\n",
       "      <td>Neha</td>\n",
       "      <td>30</td>\n",
       "      <td>Test</td>\n",
       "    </tr>\n",
       "    <tr>\n",
       "      <th>4</th>\n",
       "      <td>106</td>\n",
       "      <td>Manisha</td>\n",
       "      <td>25</td>\n",
       "      <td>Test</td>\n",
       "    </tr>\n",
       "    <tr>\n",
       "      <th>5</th>\n",
       "      <td>107</td>\n",
       "      <td>Ankush</td>\n",
       "      <td>30</td>\n",
       "      <td>Test</td>\n",
       "    </tr>\n",
       "  </tbody>\n",
       "</table>\n",
       "</div>"
      ],
      "text/plain": [
       "   RollNumber     Name  Age Address\n",
       "0         101  Yashwin   22    Test\n",
       "1         103    Mohit   30    Test\n",
       "2         104   Nikhil   30    Test\n",
       "3         105     Neha   30    Test\n",
       "4         106  Manisha   25    Test\n",
       "5         107   Ankush   30    Test"
      ]
     },
     "execution_count": 79,
     "metadata": {},
     "output_type": "execute_result"
    }
   ],
   "source": [
    "data = pd.read_sql_query(\"Select * from Student\", db)\n",
    "data[\"Address\"] = \"Test\"\n",
    "data"
   ]
  },
  {
   "cell_type": "code",
   "execution_count": null,
   "id": "646b921c",
   "metadata": {},
   "outputs": [],
   "source": []
  },
  {
   "cell_type": "markdown",
   "id": "6b336920",
   "metadata": {},
   "source": [
    "## IMDB sqlite"
   ]
  },
  {
   "cell_type": "code",
   "execution_count": 82,
   "id": "16632acc",
   "metadata": {},
   "outputs": [],
   "source": [
    "db=sqlite3.connect(\"Dataset/IMDB.sqlite\")"
   ]
  },
  {
   "cell_type": "code",
   "execution_count": 84,
   "id": "ffa2c196",
   "metadata": {},
   "outputs": [],
   "source": [
    "data=pd.read_sql_query(\"Select * from genre\",db)"
   ]
  },
  {
   "cell_type": "code",
   "execution_count": 96,
   "id": "fb6e52df",
   "metadata": {},
   "outputs": [
    {
     "data": {
      "text/html": [
       "<div>\n",
       "<style scoped>\n",
       "    .dataframe tbody tr th:only-of-type {\n",
       "        vertical-align: middle;\n",
       "    }\n",
       "\n",
       "    .dataframe tbody tr th {\n",
       "        vertical-align: top;\n",
       "    }\n",
       "\n",
       "    .dataframe thead th {\n",
       "        text-align: right;\n",
       "    }\n",
       "</style>\n",
       "<table border=\"1\" class=\"dataframe\">\n",
       "  <thead>\n",
       "    <tr style=\"text-align: right;\">\n",
       "      <th></th>\n",
       "      <th>Movie_id</th>\n",
       "      <th>genre</th>\n",
       "    </tr>\n",
       "  </thead>\n",
       "  <tbody>\n",
       "    <tr>\n",
       "      <th>0</th>\n",
       "      <td>36809</td>\n",
       "      <td>Biography</td>\n",
       "    </tr>\n",
       "    <tr>\n",
       "      <th>1</th>\n",
       "      <td>30114</td>\n",
       "      <td>Adventure</td>\n",
       "    </tr>\n",
       "    <tr>\n",
       "      <th>2</th>\n",
       "      <td>37367</td>\n",
       "      <td>Comedy</td>\n",
       "    </tr>\n",
       "    <tr>\n",
       "      <th>3</th>\n",
       "      <td>49473</td>\n",
       "      <td>Comedy</td>\n",
       "    </tr>\n",
       "    <tr>\n",
       "      <th>4</th>\n",
       "      <td>14867</td>\n",
       "      <td>Drama</td>\n",
       "    </tr>\n",
       "    <tr>\n",
       "      <th>...</th>\n",
       "      <td>...</td>\n",
       "      <td>...</td>\n",
       "    </tr>\n",
       "    <tr>\n",
       "      <th>346</th>\n",
       "      <td>38262</td>\n",
       "      <td></td>\n",
       "    </tr>\n",
       "    <tr>\n",
       "      <th>347</th>\n",
       "      <td>10023</td>\n",
       "      <td>Comedy</td>\n",
       "    </tr>\n",
       "    <tr>\n",
       "      <th>348</th>\n",
       "      <td>27783</td>\n",
       "      <td>Sci-Fi</td>\n",
       "    </tr>\n",
       "    <tr>\n",
       "      <th>349</th>\n",
       "      <td>42294</td>\n",
       "      <td>Sci-Fi</td>\n",
       "    </tr>\n",
       "    <tr>\n",
       "      <th>350</th>\n",
       "      <td>32217</td>\n",
       "      <td>Comedy</td>\n",
       "    </tr>\n",
       "  </tbody>\n",
       "</table>\n",
       "<p>351 rows × 2 columns</p>\n",
       "</div>"
      ],
      "text/plain": [
       "    Movie_id      genre\n",
       "0      36809  Biography\n",
       "1      30114  Adventure\n",
       "2      37367     Comedy\n",
       "3      49473     Comedy\n",
       "4      14867      Drama\n",
       "..       ...        ...\n",
       "346    38262           \n",
       "347    10023     Comedy\n",
       "348    27783     Sci-Fi\n",
       "349    42294     Sci-Fi\n",
       "350    32217     Comedy\n",
       "\n",
       "[351 rows x 2 columns]"
      ]
     },
     "execution_count": 96,
     "metadata": {},
     "output_type": "execute_result"
    }
   ],
   "source": [
    "data"
   ]
  },
  {
   "cell_type": "code",
   "execution_count": 106,
   "id": "9a37d4a8",
   "metadata": {},
   "outputs": [
    {
     "name": "stdout",
     "output_type": "stream",
     "text": [
      "Biography  21\n",
      "Adventure  43\n",
      "Comedy  31\n",
      "Drama  77\n",
      "Action  33\n",
      "Animation  13\n",
      "Crime  11\n",
      "Mystery  7\n",
      "Romance  13\n",
      "Thriller  14\n",
      "History  6\n",
      "Sport  3\n",
      "Western  2\n",
      "Sci-Fi  18\n",
      "Family  3\n",
      "Musical  1\n",
      "Fantasy  7\n",
      "War  2\n",
      "Horror  2\n",
      "Music  3\n"
     ]
    }
   ],
   "source": [
    "genre = {}\n",
    "for row in data.genre:\n",
    "    if(row!=''):\n",
    "        genre[row] = genre.get(row,0)+1\n",
    "gen=list(genre.keys())\n",
    "num=list(genre.values())\n",
    "for i in range(len(gen)):\n",
    "    print(gen[i],\"\",num[i])"
   ]
  },
  {
   "cell_type": "code",
   "execution_count": 107,
   "id": "db9115e5",
   "metadata": {},
   "outputs": [
    {
     "data": {
      "text/html": [
       "<div>\n",
       "<style scoped>\n",
       "    .dataframe tbody tr th:only-of-type {\n",
       "        vertical-align: middle;\n",
       "    }\n",
       "\n",
       "    .dataframe tbody tr th {\n",
       "        vertical-align: top;\n",
       "    }\n",
       "\n",
       "    .dataframe thead th {\n",
       "        text-align: right;\n",
       "    }\n",
       "</style>\n",
       "<table border=\"1\" class=\"dataframe\">\n",
       "  <thead>\n",
       "    <tr style=\"text-align: right;\">\n",
       "      <th></th>\n",
       "      <th>Movie_id</th>\n",
       "      <th>Title</th>\n",
       "      <th>Rating</th>\n",
       "      <th>TotalVotes</th>\n",
       "      <th>MetaCritic</th>\n",
       "      <th>Budget</th>\n",
       "      <th>Runtime</th>\n",
       "      <th>CVotes10</th>\n",
       "      <th>CVotes09</th>\n",
       "      <th>CVotes08</th>\n",
       "      <th>...</th>\n",
       "      <th>Votes3044</th>\n",
       "      <th>Votes3044M</th>\n",
       "      <th>Votes3044F</th>\n",
       "      <th>Votes45A</th>\n",
       "      <th>Votes45AM</th>\n",
       "      <th>Votes45AF</th>\n",
       "      <th>VotesIMDB</th>\n",
       "      <th>Votes1000</th>\n",
       "      <th>VotesUS</th>\n",
       "      <th>VotesnUS</th>\n",
       "    </tr>\n",
       "  </thead>\n",
       "  <tbody>\n",
       "    <tr>\n",
       "      <th>0</th>\n",
       "      <td>36809</td>\n",
       "      <td>12 Years a Slave (2013)</td>\n",
       "      <td>8.1</td>\n",
       "      <td>496092</td>\n",
       "      <td>96</td>\n",
       "      <td>20000000.0</td>\n",
       "      <td>134 min</td>\n",
       "      <td>75556</td>\n",
       "      <td>126223</td>\n",
       "      <td>161460</td>\n",
       "      <td>...</td>\n",
       "      <td>8.0</td>\n",
       "      <td>7.9</td>\n",
       "      <td>8.0</td>\n",
       "      <td>7.8</td>\n",
       "      <td>7.8</td>\n",
       "      <td>8.1</td>\n",
       "      <td>8.0</td>\n",
       "      <td>7.7</td>\n",
       "      <td>8.3</td>\n",
       "      <td>8.0</td>\n",
       "    </tr>\n",
       "    <tr>\n",
       "      <th>1</th>\n",
       "      <td>30114</td>\n",
       "      <td>127 Hours (2010)</td>\n",
       "      <td>7.6</td>\n",
       "      <td>297075</td>\n",
       "      <td>82</td>\n",
       "      <td>18000000.0</td>\n",
       "      <td>94 min</td>\n",
       "      <td>28939</td>\n",
       "      <td>44110</td>\n",
       "      <td>98845</td>\n",
       "      <td>...</td>\n",
       "      <td>7.5</td>\n",
       "      <td>7.5</td>\n",
       "      <td>7.5</td>\n",
       "      <td>7.3</td>\n",
       "      <td>7.3</td>\n",
       "      <td>7.5</td>\n",
       "      <td>7.6</td>\n",
       "      <td>7.0</td>\n",
       "      <td>7.7</td>\n",
       "      <td>7.6</td>\n",
       "    </tr>\n",
       "    <tr>\n",
       "      <th>2</th>\n",
       "      <td>37367</td>\n",
       "      <td>50/50 (2011)</td>\n",
       "      <td>7.7</td>\n",
       "      <td>283935</td>\n",
       "      <td>72</td>\n",
       "      <td>8000000.0</td>\n",
       "      <td>100 min</td>\n",
       "      <td>28304</td>\n",
       "      <td>47501</td>\n",
       "      <td>99524</td>\n",
       "      <td>...</td>\n",
       "      <td>7.6</td>\n",
       "      <td>7.6</td>\n",
       "      <td>7.6</td>\n",
       "      <td>7.4</td>\n",
       "      <td>7.4</td>\n",
       "      <td>7.5</td>\n",
       "      <td>7.4</td>\n",
       "      <td>7.0</td>\n",
       "      <td>7.9</td>\n",
       "      <td>7.6</td>\n",
       "    </tr>\n",
       "    <tr>\n",
       "      <th>3</th>\n",
       "      <td>49473</td>\n",
       "      <td>About Time (2013)</td>\n",
       "      <td>7.8</td>\n",
       "      <td>225412</td>\n",
       "      <td></td>\n",
       "      <td>12000000.0</td>\n",
       "      <td>123 min</td>\n",
       "      <td>38556</td>\n",
       "      <td>43170</td>\n",
       "      <td>70850</td>\n",
       "      <td>...</td>\n",
       "      <td>7.6</td>\n",
       "      <td>7.6</td>\n",
       "      <td>7.7</td>\n",
       "      <td>7.6</td>\n",
       "      <td>7.5</td>\n",
       "      <td>7.8</td>\n",
       "      <td>7.7</td>\n",
       "      <td>6.9</td>\n",
       "      <td>7.8</td>\n",
       "      <td>7.7</td>\n",
       "    </tr>\n",
       "    <tr>\n",
       "      <th>4</th>\n",
       "      <td>14867</td>\n",
       "      <td>Amour (2012)</td>\n",
       "      <td>7.9</td>\n",
       "      <td>76121</td>\n",
       "      <td>94</td>\n",
       "      <td>8900000.0</td>\n",
       "      <td>127 min</td>\n",
       "      <td>11093</td>\n",
       "      <td>15944</td>\n",
       "      <td>22942</td>\n",
       "      <td>...</td>\n",
       "      <td>7.7</td>\n",
       "      <td>7.7</td>\n",
       "      <td>7.9</td>\n",
       "      <td>7.9</td>\n",
       "      <td>7.8</td>\n",
       "      <td>8.1</td>\n",
       "      <td>6.6</td>\n",
       "      <td>7.2</td>\n",
       "      <td>7.9</td>\n",
       "      <td>7.8</td>\n",
       "    </tr>\n",
       "    <tr>\n",
       "      <th>...</th>\n",
       "      <td>...</td>\n",
       "      <td>...</td>\n",
       "      <td>...</td>\n",
       "      <td>...</td>\n",
       "      <td>...</td>\n",
       "      <td>...</td>\n",
       "      <td>...</td>\n",
       "      <td>...</td>\n",
       "      <td>...</td>\n",
       "      <td>...</td>\n",
       "      <td>...</td>\n",
       "      <td>...</td>\n",
       "      <td>...</td>\n",
       "      <td>...</td>\n",
       "      <td>...</td>\n",
       "      <td>...</td>\n",
       "      <td>...</td>\n",
       "      <td>...</td>\n",
       "      <td>...</td>\n",
       "      <td>...</td>\n",
       "      <td>...</td>\n",
       "    </tr>\n",
       "    <tr>\n",
       "      <th>112</th>\n",
       "      <td>38262</td>\n",
       "      <td>Whiplash (2014)</td>\n",
       "      <td>8.5</td>\n",
       "      <td>492285</td>\n",
       "      <td>88</td>\n",
       "      <td>3300000.0</td>\n",
       "      <td>107 min</td>\n",
       "      <td>110404</td>\n",
       "      <td>161864</td>\n",
       "      <td>132656</td>\n",
       "      <td>...</td>\n",
       "      <td>8.3</td>\n",
       "      <td>8.3</td>\n",
       "      <td>8.2</td>\n",
       "      <td>8.1</td>\n",
       "      <td>8.1</td>\n",
       "      <td>8.2</td>\n",
       "      <td>8.7</td>\n",
       "      <td>8.0</td>\n",
       "      <td>8.6</td>\n",
       "      <td>8.4</td>\n",
       "    </tr>\n",
       "    <tr>\n",
       "      <th>113</th>\n",
       "      <td>10023</td>\n",
       "      <td>Wreck-It Ralph (2012)</td>\n",
       "      <td>7.7</td>\n",
       "      <td>295125</td>\n",
       "      <td>72</td>\n",
       "      <td>165000000.0</td>\n",
       "      <td></td>\n",
       "      <td>41980</td>\n",
       "      <td>50262</td>\n",
       "      <td>96477</td>\n",
       "      <td>...</td>\n",
       "      <td>7.6</td>\n",
       "      <td>7.6</td>\n",
       "      <td>7.7</td>\n",
       "      <td>7.4</td>\n",
       "      <td>7.4</td>\n",
       "      <td>7.5</td>\n",
       "      <td>7.4</td>\n",
       "      <td>7.2</td>\n",
       "      <td>7.9</td>\n",
       "      <td>7.6</td>\n",
       "    </tr>\n",
       "    <tr>\n",
       "      <th>114</th>\n",
       "      <td>27783</td>\n",
       "      <td>X-Men: Days of Future Past (2014)</td>\n",
       "      <td>8.0</td>\n",
       "      <td>560736</td>\n",
       "      <td>74</td>\n",
       "      <td>200000000.0</td>\n",
       "      <td>132 min</td>\n",
       "      <td>91765</td>\n",
       "      <td>127521</td>\n",
       "      <td>183578</td>\n",
       "      <td>...</td>\n",
       "      <td>7.8</td>\n",
       "      <td>7.8</td>\n",
       "      <td>8.0</td>\n",
       "      <td>7.7</td>\n",
       "      <td>7.7</td>\n",
       "      <td>7.9</td>\n",
       "      <td>7.5</td>\n",
       "      <td>7.4</td>\n",
       "      <td>8.1</td>\n",
       "      <td>7.9</td>\n",
       "    </tr>\n",
       "    <tr>\n",
       "      <th>115</th>\n",
       "      <td>42294</td>\n",
       "      <td>X-Men: First Class (2011)</td>\n",
       "      <td>7.8</td>\n",
       "      <td>556713</td>\n",
       "      <td>65</td>\n",
       "      <td>160000000.0</td>\n",
       "      <td>132 min</td>\n",
       "      <td>64428</td>\n",
       "      <td>96219</td>\n",
       "      <td>200144</td>\n",
       "      <td>...</td>\n",
       "      <td>7.7</td>\n",
       "      <td>7.6</td>\n",
       "      <td>7.8</td>\n",
       "      <td>7.6</td>\n",
       "      <td>7.5</td>\n",
       "      <td>7.7</td>\n",
       "      <td>7.6</td>\n",
       "      <td>7.3</td>\n",
       "      <td>7.8</td>\n",
       "      <td>7.7</td>\n",
       "    </tr>\n",
       "    <tr>\n",
       "      <th>116</th>\n",
       "      <td>32217</td>\n",
       "      <td>Zootopia (2016)</td>\n",
       "      <td>8.1</td>\n",
       "      <td>309474</td>\n",
       "      <td>78</td>\n",
       "      <td>150000000.0</td>\n",
       "      <td>108 min</td>\n",
       "      <td>53626</td>\n",
       "      <td>70912</td>\n",
       "      <td>102352</td>\n",
       "      <td>...</td>\n",
       "      <td>7.8</td>\n",
       "      <td>7.8</td>\n",
       "      <td>8.1</td>\n",
       "      <td>7.8</td>\n",
       "      <td>7.8</td>\n",
       "      <td>8.1</td>\n",
       "      <td>7.7</td>\n",
       "      <td>7.6</td>\n",
       "      <td>8.0</td>\n",
       "      <td>8.0</td>\n",
       "    </tr>\n",
       "  </tbody>\n",
       "</table>\n",
       "<p>117 rows × 52 columns</p>\n",
       "</div>"
      ],
      "text/plain": [
       "    Movie_id                              Title  Rating  TotalVotes  \\\n",
       "0      36809            12 Years a Slave (2013)     8.1      496092   \n",
       "1      30114                   127 Hours (2010)     7.6      297075   \n",
       "2      37367                       50/50 (2011)     7.7      283935   \n",
       "3      49473                  About Time (2013)     7.8      225412   \n",
       "4      14867                       Amour (2012)     7.9       76121   \n",
       "..       ...                                ...     ...         ...   \n",
       "112    38262                    Whiplash (2014)     8.5      492285   \n",
       "113    10023              Wreck-It Ralph (2012)     7.7      295125   \n",
       "114    27783  X-Men: Days of Future Past (2014)     8.0      560736   \n",
       "115    42294          X-Men: First Class (2011)     7.8      556713   \n",
       "116    32217                    Zootopia (2016)     8.1      309474   \n",
       "\n",
       "    MetaCritic       Budget  Runtime CVotes10 CVotes09 CVotes08  ...  \\\n",
       "0           96   20000000.0  134 min    75556   126223   161460  ...   \n",
       "1           82   18000000.0   94 min    28939    44110    98845  ...   \n",
       "2           72    8000000.0  100 min    28304    47501    99524  ...   \n",
       "3                12000000.0  123 min    38556    43170    70850  ...   \n",
       "4           94    8900000.0  127 min    11093    15944    22942  ...   \n",
       "..         ...          ...      ...      ...      ...      ...  ...   \n",
       "112         88    3300000.0  107 min   110404   161864   132656  ...   \n",
       "113         72  165000000.0             41980    50262    96477  ...   \n",
       "114         74  200000000.0  132 min    91765   127521   183578  ...   \n",
       "115         65  160000000.0  132 min    64428    96219   200144  ...   \n",
       "116         78  150000000.0  108 min    53626    70912   102352  ...   \n",
       "\n",
       "    Votes3044 Votes3044M Votes3044F Votes45A Votes45AM Votes45AF VotesIMDB  \\\n",
       "0         8.0        7.9        8.0      7.8       7.8       8.1       8.0   \n",
       "1         7.5        7.5        7.5      7.3       7.3       7.5       7.6   \n",
       "2         7.6        7.6        7.6      7.4       7.4       7.5       7.4   \n",
       "3         7.6        7.6        7.7      7.6       7.5       7.8       7.7   \n",
       "4         7.7        7.7        7.9      7.9       7.8       8.1       6.6   \n",
       "..        ...        ...        ...      ...       ...       ...       ...   \n",
       "112       8.3        8.3        8.2      8.1       8.1       8.2       8.7   \n",
       "113       7.6        7.6        7.7      7.4       7.4       7.5       7.4   \n",
       "114       7.8        7.8        8.0      7.7       7.7       7.9       7.5   \n",
       "115       7.7        7.6        7.8      7.6       7.5       7.7       7.6   \n",
       "116       7.8        7.8        8.1      7.8       7.8       8.1       7.7   \n",
       "\n",
       "    Votes1000 VotesUS VotesnUS  \n",
       "0         7.7     8.3      8.0  \n",
       "1         7.0     7.7      7.6  \n",
       "2         7.0     7.9      7.6  \n",
       "3         6.9     7.8      7.7  \n",
       "4         7.2     7.9      7.8  \n",
       "..        ...     ...      ...  \n",
       "112       8.0     8.6      8.4  \n",
       "113       7.2     7.9      7.6  \n",
       "114       7.4     8.1      7.9  \n",
       "115       7.3     7.8      7.7  \n",
       "116       7.6     8.0      8.0  \n",
       "\n",
       "[117 rows x 52 columns]"
      ]
     },
     "execution_count": 107,
     "metadata": {},
     "output_type": "execute_result"
    }
   ],
   "source": [
    "data=pd.read_sql_query(\"Select * from IMDB\",db)\n",
    "data"
   ]
  },
  {
   "cell_type": "code",
   "execution_count": 110,
   "id": "f7bdc633",
   "metadata": {},
   "outputs": [
    {
     "data": {
      "text/plain": [
       "8.8"
      ]
     },
     "execution_count": 110,
     "metadata": {},
     "output_type": "execute_result"
    }
   ],
   "source": [
    "data.Rating[data.Rating.argmax()]"
   ]
  },
  {
   "cell_type": "code",
   "execution_count": 111,
   "id": "50f22833",
   "metadata": {},
   "outputs": [
    {
     "data": {
      "text/plain": [
       "'Inception\\xa0(2010)'"
      ]
     },
     "execution_count": 111,
     "metadata": {},
     "output_type": "execute_result"
    }
   ],
   "source": [
    "#print most rated movie name:\n",
    "data.Title[data.TotalVotes.argmax()]"
   ]
  },
  {
   "cell_type": "code",
   "execution_count": null,
   "id": "c9ac5cee",
   "metadata": {},
   "outputs": [],
   "source": []
  }
 ],
 "metadata": {
  "kernelspec": {
   "display_name": "Python 3 (ipykernel)",
   "language": "python",
   "name": "python3"
  },
  "language_info": {
   "codemirror_mode": {
    "name": "ipython",
    "version": 3
   },
   "file_extension": ".py",
   "mimetype": "text/x-python",
   "name": "python",
   "nbconvert_exporter": "python",
   "pygments_lexer": "ipython3",
   "version": "3.9.13"
  }
 },
 "nbformat": 4,
 "nbformat_minor": 5
}
