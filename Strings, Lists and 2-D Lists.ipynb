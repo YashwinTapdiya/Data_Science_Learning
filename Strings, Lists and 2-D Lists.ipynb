{
 "cells": [
  {
   "cell_type": "markdown",
   "id": "797032f9",
   "metadata": {},
   "source": [
    "# Strings"
   ]
  },
  {
   "cell_type": "markdown",
   "id": "53f4504e",
   "metadata": {},
   "source": [
    "### string in python are immutable"
   ]
  },
  {
   "cell_type": "code",
   "execution_count": 1,
   "id": "d8e67e73",
   "metadata": {},
   "outputs": [],
   "source": [
    "a = \"abc def\""
   ]
  },
  {
   "cell_type": "code",
   "execution_count": 2,
   "id": "b3b44362",
   "metadata": {},
   "outputs": [],
   "source": [
    "b='abc def'"
   ]
  },
  {
   "cell_type": "code",
   "execution_count": 3,
   "id": "db491b97",
   "metadata": {},
   "outputs": [
    {
     "data": {
      "text/plain": [
       "(str, str)"
      ]
     },
     "execution_count": 3,
     "metadata": {},
     "output_type": "execute_result"
    }
   ],
   "source": [
    "type(a),type(b)"
   ]
  },
  {
   "cell_type": "code",
   "execution_count": 4,
   "id": "bacc7302",
   "metadata": {},
   "outputs": [
    {
     "data": {
      "text/plain": [
       "str"
      ]
     },
     "execution_count": 4,
     "metadata": {},
     "output_type": "execute_result"
    }
   ],
   "source": [
    "c='d'\n",
    "type(c)"
   ]
  },
  {
   "cell_type": "code",
   "execution_count": 5,
   "id": "4eb3225e",
   "metadata": {},
   "outputs": [
    {
     "data": {
      "text/plain": [
       "'b'"
      ]
     },
     "execution_count": 5,
     "metadata": {},
     "output_type": "execute_result"
    }
   ],
   "source": [
    "#We can access any element in string\n",
    "a[1]"
   ]
  },
  {
   "cell_type": "code",
   "execution_count": 6,
   "id": "6577cf50",
   "metadata": {},
   "outputs": [
    {
     "data": {
      "text/plain": [
       "str"
      ]
     },
     "execution_count": 6,
     "metadata": {},
     "output_type": "execute_result"
    }
   ],
   "source": [
    "type(a[0])"
   ]
  },
  {
   "cell_type": "code",
   "execution_count": 7,
   "id": "47998270",
   "metadata": {},
   "outputs": [
    {
     "name": "stdout",
     "output_type": "stream",
     "text": [
      "a\n",
      "b\n",
      "c\n",
      " \n",
      "d\n",
      "e\n",
      "f\n"
     ]
    }
   ],
   "source": [
    "for i in range(0,7):\n",
    "    print(a[i])"
   ]
  },
  {
   "cell_type": "code",
   "execution_count": 8,
   "id": "948443b7",
   "metadata": {},
   "outputs": [
    {
     "name": "stdout",
     "output_type": "stream",
     "text": [
      "a\n",
      "b\n",
      "c\n",
      " \n",
      "d\n",
      "e\n",
      "f\n"
     ]
    }
   ],
   "source": [
    "for i in a:\n",
    "    print(i)"
   ]
  },
  {
   "cell_type": "code",
   "execution_count": 9,
   "id": "24086467",
   "metadata": {},
   "outputs": [
    {
     "ename": "SyntaxError",
     "evalue": "invalid syntax (2152136883.py, line 1)",
     "output_type": "error",
     "traceback": [
      "\u001b[1;36m  Cell \u001b[1;32mIn[9], line 1\u001b[1;36m\u001b[0m\n\u001b[1;33m    x='this is yashwin's pen'\u001b[0m\n\u001b[1;37m                       ^\u001b[0m\n\u001b[1;31mSyntaxError\u001b[0m\u001b[1;31m:\u001b[0m invalid syntax\n"
     ]
    }
   ],
   "source": [
    "x='this is yashwin's pen'"
   ]
  },
  {
   "cell_type": "code",
   "execution_count": 10,
   "id": "7f6d1dbd",
   "metadata": {},
   "outputs": [],
   "source": [
    "#escaping\n",
    "x='this is yashwin\\'s pen'"
   ]
  },
  {
   "cell_type": "markdown",
   "id": "d81c8699",
   "metadata": {},
   "source": [
    "### inbuilt function in string"
   ]
  },
  {
   "cell_type": "code",
   "execution_count": 11,
   "id": "112534c9",
   "metadata": {},
   "outputs": [],
   "source": [
    "a=\"hello boy\"\n",
    "b=\"how are you\""
   ]
  },
  {
   "cell_type": "code",
   "execution_count": 12,
   "id": "1f890d0c",
   "metadata": {},
   "outputs": [
    {
     "data": {
      "text/plain": [
       "'hello boyhow are you'"
      ]
     },
     "execution_count": 12,
     "metadata": {},
     "output_type": "execute_result"
    }
   ],
   "source": [
    "a+b"
   ]
  },
  {
   "cell_type": "code",
   "execution_count": 13,
   "id": "e1797080",
   "metadata": {},
   "outputs": [
    {
     "data": {
      "text/plain": [
       "'hello boyhow are you'"
      ]
     },
     "execution_count": 13,
     "metadata": {},
     "output_type": "execute_result"
    }
   ],
   "source": [
    "a=a+b\n",
    "a"
   ]
  },
  {
   "cell_type": "code",
   "execution_count": 14,
   "id": "423f602c",
   "metadata": {},
   "outputs": [
    {
     "data": {
      "text/plain": [
       "False"
      ]
     },
     "execution_count": 14,
     "metadata": {},
     "output_type": "execute_result"
    }
   ],
   "source": [
    "a==b"
   ]
  },
  {
   "cell_type": "code",
   "execution_count": 15,
   "id": "499b4f84",
   "metadata": {},
   "outputs": [
    {
     "data": {
      "text/plain": [
       "False"
      ]
     },
     "execution_count": 15,
     "metadata": {},
     "output_type": "execute_result"
    }
   ],
   "source": [
    "a>b"
   ]
  },
  {
   "cell_type": "code",
   "execution_count": 16,
   "id": "31876f25",
   "metadata": {},
   "outputs": [
    {
     "data": {
      "text/plain": [
       "True"
      ]
     },
     "execution_count": 16,
     "metadata": {},
     "output_type": "execute_result"
    }
   ],
   "source": [
    "a<b"
   ]
  },
  {
   "cell_type": "code",
   "execution_count": 17,
   "id": "4f0d10af",
   "metadata": {},
   "outputs": [
    {
     "data": {
      "text/plain": [
       "['this', 'is', 'a', 'str']"
      ]
     },
     "execution_count": 17,
     "metadata": {},
     "output_type": "execute_result"
    }
   ],
   "source": [
    "#split\n",
    "a=\"this is a str\"\n",
    "a.split()#by default split happens on white space"
   ]
  },
  {
   "cell_type": "code",
   "execution_count": 18,
   "id": "1a39d9cd",
   "metadata": {},
   "outputs": [
    {
     "data": {
      "text/plain": [
       "['mu name', ' is yashwin', 'taps']"
      ]
     },
     "execution_count": 18,
     "metadata": {},
     "output_type": "execute_result"
    }
   ],
   "source": [
    "a=\"mu name, is yashwin,taps\"\n",
    "a.split(\",\")"
   ]
  },
  {
   "cell_type": "code",
   "execution_count": 19,
   "id": "e4ff8bde",
   "metadata": {},
   "outputs": [
    {
     "data": {
      "text/plain": [
       "'thare are string'"
      ]
     },
     "execution_count": 19,
     "metadata": {},
     "output_type": "execute_result"
    }
   ],
   "source": [
    "s=\"this is string\"\n",
    "s1=s.replace(\"is\",\"are\")\n",
    "s1"
   ]
  },
  {
   "cell_type": "code",
   "execution_count": 20,
   "id": "c7251bf5",
   "metadata": {},
   "outputs": [
    {
     "data": {
      "text/plain": [
       "2"
      ]
     },
     "execution_count": 20,
     "metadata": {},
     "output_type": "execute_result"
    }
   ],
   "source": [
    "s1.find(\"are\")"
   ]
  },
  {
   "cell_type": "code",
   "execution_count": 21,
   "id": "9bb75422",
   "metadata": {},
   "outputs": [],
   "source": [
    " name=\"My name is Yashwin Tapdiya\""
   ]
  },
  {
   "cell_type": "code",
   "execution_count": 22,
   "id": "e4666f57",
   "metadata": {},
   "outputs": [
    {
     "data": {
      "text/plain": [
       "'my name is yashwin tapdiya'"
      ]
     },
     "execution_count": 22,
     "metadata": {},
     "output_type": "execute_result"
    }
   ],
   "source": [
    "n1=name.lower()\n",
    "n1"
   ]
  },
  {
   "cell_type": "code",
   "execution_count": 23,
   "id": "a290d1e5",
   "metadata": {},
   "outputs": [
    {
     "data": {
      "text/plain": [
       "'MY NAME IS YASHWIN TAPDIYA'"
      ]
     },
     "execution_count": 23,
     "metadata": {},
     "output_type": "execute_result"
    }
   ],
   "source": [
    "n2=name.upper()\n",
    "n2"
   ]
  },
  {
   "cell_type": "code",
   "execution_count": 24,
   "id": "dae03e72",
   "metadata": {},
   "outputs": [
    {
     "data": {
      "text/plain": [
       "True"
      ]
     },
     "execution_count": 24,
     "metadata": {},
     "output_type": "execute_result"
    }
   ],
   "source": [
    "n1.islower()"
   ]
  },
  {
   "cell_type": "code",
   "execution_count": 25,
   "id": "a2dff61d",
   "metadata": {},
   "outputs": [
    {
     "data": {
      "text/plain": [
       "True"
      ]
     },
     "execution_count": 25,
     "metadata": {},
     "output_type": "execute_result"
    }
   ],
   "source": [
    "n2.isupper()"
   ]
  },
  {
   "cell_type": "code",
   "execution_count": 26,
   "id": "ce231f28",
   "metadata": {},
   "outputs": [
    {
     "data": {
      "text/plain": [
       "False"
      ]
     },
     "execution_count": 26,
     "metadata": {},
     "output_type": "execute_result"
    }
   ],
   "source": [
    "name.isalpha()"
   ]
  },
  {
   "cell_type": "code",
   "execution_count": 27,
   "id": "0ad9654e",
   "metadata": {},
   "outputs": [
    {
     "data": {
      "text/plain": [
       "True"
      ]
     },
     "execution_count": 27,
     "metadata": {},
     "output_type": "execute_result"
    }
   ],
   "source": [
    "x=\"abc\"\n",
    "x.isalpha()"
   ]
  },
  {
   "cell_type": "code",
   "execution_count": 28,
   "id": "a21a09e0",
   "metadata": {},
   "outputs": [
    {
     "name": "stdout",
     "output_type": "stream",
     "text": [
      "True\n",
      "False\n"
     ]
    }
   ],
   "source": [
    "y=\"my name is\"\n",
    "z=\"your name is\"\n",
    "print(y.startswith(\"my\"))\n",
    "print(z.startswith(\"my\"))"
   ]
  },
  {
   "cell_type": "markdown",
   "id": "86b5dfcf",
   "metadata": {},
   "source": [
    "### string slicing"
   ]
  },
  {
   "cell_type": "code",
   "execution_count": 29,
   "id": "4984d018",
   "metadata": {},
   "outputs": [
    {
     "data": {
      "text/plain": [
       "'abc'"
      ]
     },
     "execution_count": 29,
     "metadata": {},
     "output_type": "execute_result"
    }
   ],
   "source": [
    "a=\"abcdefghijkl\"\n",
    "a[0:3]"
   ]
  },
  {
   "cell_type": "code",
   "execution_count": 30,
   "id": "fc1f030b",
   "metadata": {},
   "outputs": [
    {
     "data": {
      "text/plain": [
       "'abcdefghijkl'"
      ]
     },
     "execution_count": 30,
     "metadata": {},
     "output_type": "execute_result"
    }
   ],
   "source": [
    "a[0:100]"
   ]
  },
  {
   "cell_type": "code",
   "execution_count": 31,
   "id": "f59dbe70",
   "metadata": {},
   "outputs": [
    {
     "data": {
      "text/plain": [
       "'defghijkl'"
      ]
     },
     "execution_count": 31,
     "metadata": {},
     "output_type": "execute_result"
    }
   ],
   "source": [
    "a[3:]"
   ]
  },
  {
   "cell_type": "code",
   "execution_count": 32,
   "id": "9616e599",
   "metadata": {},
   "outputs": [
    {
     "data": {
      "text/plain": [
       "'abcde'"
      ]
     },
     "execution_count": 32,
     "metadata": {},
     "output_type": "execute_result"
    }
   ],
   "source": [
    "a[:5]"
   ]
  },
  {
   "cell_type": "code",
   "execution_count": 33,
   "id": "af994039",
   "metadata": {},
   "outputs": [
    {
     "data": {
      "text/plain": [
       "'abcdefghijkl'"
      ]
     },
     "execution_count": 33,
     "metadata": {},
     "output_type": "execute_result"
    }
   ],
   "source": [
    "a[:]"
   ]
  },
  {
   "cell_type": "code",
   "execution_count": 34,
   "id": "9c3342b0",
   "metadata": {},
   "outputs": [
    {
     "data": {
      "text/plain": [
       "'ce'"
      ]
     },
     "execution_count": 34,
     "metadata": {},
     "output_type": "execute_result"
    }
   ],
   "source": [
    "a[2:5:2]"
   ]
  },
  {
   "cell_type": "code",
   "execution_count": 35,
   "id": "55a51968",
   "metadata": {},
   "outputs": [
    {
     "data": {
      "text/plain": [
       "''"
      ]
     },
     "execution_count": 35,
     "metadata": {},
     "output_type": "execute_result"
    }
   ],
   "source": [
    "a[2:5:-1]"
   ]
  },
  {
   "cell_type": "code",
   "execution_count": 36,
   "id": "37121e3f",
   "metadata": {},
   "outputs": [
    {
     "data": {
      "text/plain": [
       "'gfedc'"
      ]
     },
     "execution_count": 36,
     "metadata": {},
     "output_type": "execute_result"
    }
   ],
   "source": [
    "a[6:1:-1]"
   ]
  },
  {
   "cell_type": "code",
   "execution_count": 38,
   "id": "423e88e9",
   "metadata": {},
   "outputs": [
    {
     "name": "stdout",
     "output_type": "stream",
     "text": [
      "abdfdxy\n"
     ]
    },
    {
     "data": {
      "text/plain": [
       "'abdfdyy'"
      ]
     },
     "execution_count": 38,
     "metadata": {},
     "output_type": "execute_result"
    }
   ],
   "source": [
    "#replace first occurance of a with b\n",
    "s=input()\n",
    "a='x'\n",
    "b='y'\n",
    "p=s.find(a)\n",
    "if p!=-1:\n",
    "    ans=s[:p]+b+s[p+1:]\n",
    "ans"
   ]
  },
  {
   "cell_type": "code",
   "execution_count": 39,
   "id": "c9fbc2b5",
   "metadata": {},
   "outputs": [
    {
     "name": "stdout",
     "output_type": "stream",
     "text": [
      "acxyxx\n"
     ]
    },
    {
     "data": {
      "text/plain": [
       "'acyyyy'"
      ]
     },
     "execution_count": 39,
     "metadata": {},
     "output_type": "execute_result"
    }
   ],
   "source": [
    "#replace all occurances of a with b\n",
    "s=input()\n",
    "a='x'\n",
    "b='y'\n",
    "ans=s\n",
    "for i in range(0,len(ans)):\n",
    "    if(s[i]==a):\n",
    "        ans=ans[:i]+b+ans[i+1:]\n",
    "ans"
   ]
  },
  {
   "cell_type": "code",
   "execution_count": 40,
   "id": "2d98a49c",
   "metadata": {},
   "outputs": [
    {
     "name": "stdout",
     "output_type": "stream",
     "text": [
      "abccba\n",
      "Given String is Palindrome\n"
     ]
    }
   ],
   "source": [
    "#check for palindrome:\n",
    "s=input()\n",
    "flag=True\n",
    "for i in range(0,len(s),1):\n",
    "    if(s[i]!=s[len(s)-i-1]):\n",
    "        flag=False\n",
    "        break\n",
    "if(flag):\n",
    "    print(\"Given String is Palindrome\")\n",
    "else:\n",
    "    print(\"It is not palindorme\")"
   ]
  },
  {
   "cell_type": "code",
   "execution_count": 41,
   "id": "31ca8575",
   "metadata": {},
   "outputs": [
    {
     "name": "stdout",
     "output_type": "stream",
     "text": [
      "abcd\n",
      "a\n",
      "ab\n",
      "abc\n",
      "abcd\n",
      "b\n",
      "bc\n",
      "bcd\n",
      "c\n",
      "cd\n",
      "d\n"
     ]
    }
   ],
   "source": [
    "#print all substring\n",
    "s=input()\n",
    "for i in range(0,len(s)):\n",
    "    for j in range(i+1,len(s)+1):\n",
    "        print(s[i:j])\n"
   ]
  },
  {
   "cell_type": "markdown",
   "id": "2b481097",
   "metadata": {},
   "source": [
    "# Lists"
   ]
  },
  {
   "cell_type": "code",
   "execution_count": 42,
   "id": "64287e3b",
   "metadata": {},
   "outputs": [],
   "source": [
    "a=[1,2,3]"
   ]
  },
  {
   "cell_type": "code",
   "execution_count": 43,
   "id": "3d591d10",
   "metadata": {},
   "outputs": [
    {
     "data": {
      "text/plain": [
       "list"
      ]
     },
     "execution_count": 43,
     "metadata": {},
     "output_type": "execute_result"
    }
   ],
   "source": [
    "type(a)"
   ]
  },
  {
   "cell_type": "code",
   "execution_count": 44,
   "id": "07330afb",
   "metadata": {},
   "outputs": [
    {
     "data": {
      "text/plain": [
       "[2, 3, 4]"
      ]
     },
     "execution_count": 44,
     "metadata": {},
     "output_type": "execute_result"
    }
   ],
   "source": [
    "a=list([2,3,4])\n",
    "a"
   ]
  },
  {
   "cell_type": "code",
   "execution_count": 45,
   "id": "6bdcbf9a",
   "metadata": {},
   "outputs": [
    {
     "data": {
      "text/plain": [
       "[]"
      ]
     },
     "execution_count": 45,
     "metadata": {},
     "output_type": "execute_result"
    }
   ],
   "source": [
    "a=list()\n",
    "a"
   ]
  },
  {
   "cell_type": "code",
   "execution_count": 46,
   "id": "485c2d42",
   "metadata": {},
   "outputs": [
    {
     "data": {
      "text/plain": [
       "1"
      ]
     },
     "execution_count": 46,
     "metadata": {},
     "output_type": "execute_result"
    }
   ],
   "source": [
    "a=[1,2,3,4]\n",
    "a[0]"
   ]
  },
  {
   "cell_type": "code",
   "execution_count": 47,
   "id": "154bafb1",
   "metadata": {},
   "outputs": [
    {
     "data": {
      "text/plain": [
       "3"
      ]
     },
     "execution_count": 47,
     "metadata": {},
     "output_type": "execute_result"
    }
   ],
   "source": [
    "a[2]"
   ]
  },
  {
   "cell_type": "code",
   "execution_count": 48,
   "id": "34207861",
   "metadata": {},
   "outputs": [
    {
     "data": {
      "text/plain": [
       "[1, 2, 77, 4]"
      ]
     },
     "execution_count": 48,
     "metadata": {},
     "output_type": "execute_result"
    }
   ],
   "source": [
    "a[2]=77\n",
    "a"
   ]
  },
  {
   "cell_type": "code",
   "execution_count": 49,
   "id": "14771bb4",
   "metadata": {},
   "outputs": [],
   "source": [
    "#list in python are mutable\n",
    "#in python list can store any time of data"
   ]
  },
  {
   "cell_type": "code",
   "execution_count": 50,
   "id": "f82dcb87",
   "metadata": {},
   "outputs": [
    {
     "name": "stdout",
     "output_type": "stream",
     "text": [
      "1\n",
      "2\n",
      "3\n",
      "343.42\n",
      "alsa\n",
      "False\n"
     ]
    }
   ],
   "source": [
    "x=[1,2,3,343.42,\"alsa\",False]\n",
    "for i in x:\n",
    "    print(i)"
   ]
  },
  {
   "cell_type": "code",
   "execution_count": 51,
   "id": "6644b0db",
   "metadata": {},
   "outputs": [
    {
     "data": {
      "text/plain": [
       "[1, 2, 3, 343.42, 'alsa', False]"
      ]
     },
     "execution_count": 51,
     "metadata": {},
     "output_type": "execute_result"
    }
   ],
   "source": [
    "x"
   ]
  },
  {
   "cell_type": "code",
   "execution_count": 52,
   "id": "70285ef2",
   "metadata": {},
   "outputs": [
    {
     "data": {
      "text/plain": [
       "[1, 2, 3]"
      ]
     },
     "execution_count": 52,
     "metadata": {},
     "output_type": "execute_result"
    }
   ],
   "source": [
    "l=[[1,2,3],4,5,6,7]\n",
    "l[0]"
   ]
  },
  {
   "cell_type": "code",
   "execution_count": 53,
   "id": "3573a3ee",
   "metadata": {},
   "outputs": [
    {
     "data": {
      "text/plain": [
       "1"
      ]
     },
     "execution_count": 53,
     "metadata": {},
     "output_type": "execute_result"
    }
   ],
   "source": [
    "l[0][0]"
   ]
  },
  {
   "cell_type": "code",
   "execution_count": 54,
   "id": "4f3d2241",
   "metadata": {},
   "outputs": [
    {
     "data": {
      "text/plain": [
       "[0, 0, 0, 0, 0, 0, 0, 0, 0, 0]"
      ]
     },
     "execution_count": 54,
     "metadata": {},
     "output_type": "execute_result"
    }
   ],
   "source": [
    "b=[0 for i in range(10)]\n",
    "b"
   ]
  },
  {
   "cell_type": "code",
   "execution_count": 55,
   "id": "9abb4961",
   "metadata": {},
   "outputs": [
    {
     "data": {
      "text/plain": [
       "[0, 1, 2, 3, 4, 5, 6, 7, 8, 9]"
      ]
     },
     "execution_count": 55,
     "metadata": {},
     "output_type": "execute_result"
    }
   ],
   "source": [
    "b=[i for i in range(10)]\n",
    "b"
   ]
  },
  {
   "cell_type": "code",
   "execution_count": 56,
   "id": "096578c4",
   "metadata": {},
   "outputs": [
    {
     "data": {
      "text/plain": [
       "[0, 1, 4, 9, 16, 25, 36, 49, 64, 81]"
      ]
     },
     "execution_count": 56,
     "metadata": {},
     "output_type": "execute_result"
    }
   ],
   "source": [
    "b=[i*i for i in range(10)]\n",
    "b"
   ]
  },
  {
   "cell_type": "code",
   "execution_count": 57,
   "id": "a97a07fc",
   "metadata": {},
   "outputs": [
    {
     "data": {
      "text/plain": [
       "['h', 'e', 'l', 'l', 'o']"
      ]
     },
     "execution_count": 57,
     "metadata": {},
     "output_type": "execute_result"
    }
   ],
   "source": [
    "list(\"hello\")"
   ]
  },
  {
   "cell_type": "markdown",
   "id": "62fd8112",
   "metadata": {},
   "source": [
    "### list inbuilt function"
   ]
  },
  {
   "cell_type": "code",
   "execution_count": 58,
   "id": "e21ae137",
   "metadata": {},
   "outputs": [
    {
     "data": {
      "text/plain": [
       "[1, 2, 3, 4, 5]"
      ]
     },
     "execution_count": 58,
     "metadata": {},
     "output_type": "execute_result"
    }
   ],
   "source": [
    "a=[1,2,3,4,5] \n",
    "a"
   ]
  },
  {
   "cell_type": "code",
   "execution_count": 59,
   "id": "11715af2",
   "metadata": {},
   "outputs": [
    {
     "data": {
      "text/plain": [
       "5"
      ]
     },
     "execution_count": 59,
     "metadata": {},
     "output_type": "execute_result"
    }
   ],
   "source": [
    "len(a)#gives length of list"
   ]
  },
  {
   "cell_type": "code",
   "execution_count": 60,
   "id": "be45e876",
   "metadata": {},
   "outputs": [
    {
     "data": {
      "text/plain": [
       "[6, 7, 8, 9, 10]"
      ]
     },
     "execution_count": 60,
     "metadata": {},
     "output_type": "execute_result"
    }
   ],
   "source": [
    "b=[6,7,8,9,10]\n",
    "b"
   ]
  },
  {
   "cell_type": "code",
   "execution_count": 61,
   "id": "d5b86156",
   "metadata": {},
   "outputs": [
    {
     "data": {
      "text/plain": [
       "[1, 2, 3, 4, 5, 6, 7, 8, 9, 10]"
      ]
     },
     "execution_count": 61,
     "metadata": {},
     "output_type": "execute_result"
    }
   ],
   "source": [
    "a+b"
   ]
  },
  {
   "cell_type": "code",
   "execution_count": 62,
   "id": "004a80dd",
   "metadata": {},
   "outputs": [
    {
     "data": {
      "text/plain": [
       "[1, 2, 3, 4, 5, 1, 2, 3, 4, 5, 1, 2, 3, 4, 5]"
      ]
     },
     "execution_count": 62,
     "metadata": {},
     "output_type": "execute_result"
    }
   ],
   "source": [
    "a*3"
   ]
  },
  {
   "cell_type": "code",
   "execution_count": 63,
   "id": "686f25a4",
   "metadata": {},
   "outputs": [
    {
     "data": {
      "text/plain": [
       "[1, 2, 3, 4, 5]"
      ]
     },
     "execution_count": 63,
     "metadata": {},
     "output_type": "execute_result"
    }
   ],
   "source": [
    "a"
   ]
  },
  {
   "cell_type": "code",
   "execution_count": 64,
   "id": "7c81c81a",
   "metadata": {},
   "outputs": [
    {
     "data": {
      "text/plain": [
       "[1, 2, 3, 4, 5, 6]"
      ]
     },
     "execution_count": 64,
     "metadata": {},
     "output_type": "execute_result"
    }
   ],
   "source": [
    "# add data to the end\n",
    "a.append(6)\n",
    "a"
   ]
  },
  {
   "cell_type": "code",
   "execution_count": 65,
   "id": "bc6e8e57",
   "metadata": {},
   "outputs": [
    {
     "data": {
      "text/plain": [
       "[77, 1, 2, 3, 4, 5, 6]"
      ]
     },
     "execution_count": 65,
     "metadata": {},
     "output_type": "execute_result"
    }
   ],
   "source": [
    "# add data to specific index\n",
    "a.insert(0,77)\n",
    "a"
   ]
  },
  {
   "cell_type": "code",
   "execution_count": 66,
   "id": "a311b03a",
   "metadata": {},
   "outputs": [],
   "source": [
    "a.extend(b)#in this we have not created  new list, a itself is updated"
   ]
  },
  {
   "cell_type": "code",
   "execution_count": 67,
   "id": "a6514082",
   "metadata": {},
   "outputs": [
    {
     "data": {
      "text/plain": [
       "[77, 1, 2, 3, 4, 5, 6, 6, 7, 8, 9, 10]"
      ]
     },
     "execution_count": 67,
     "metadata": {},
     "output_type": "execute_result"
    }
   ],
   "source": [
    "a"
   ]
  },
  {
   "cell_type": "code",
   "execution_count": 68,
   "id": "2a008613",
   "metadata": {},
   "outputs": [
    {
     "data": {
      "text/plain": [
       "[77, 1, 2, 3, 4, 5, 6, 7, 8, 9, 10]"
      ]
     },
     "execution_count": 68,
     "metadata": {},
     "output_type": "execute_result"
    }
   ],
   "source": [
    "#delete data\n",
    "a.remove(6)\n",
    "a"
   ]
  },
  {
   "cell_type": "code",
   "execution_count": 69,
   "id": "79fd0790",
   "metadata": {},
   "outputs": [
    {
     "data": {
      "text/plain": [
       "[77, 1, 2, 3, 4, 6, 7, 8, 9, 10]"
      ]
     },
     "execution_count": 69,
     "metadata": {},
     "output_type": "execute_result"
    }
   ],
   "source": [
    "a.remove(5)#remove the value 5 form list not the index\n",
    "a"
   ]
  },
  {
   "cell_type": "code",
   "execution_count": 70,
   "id": "36d0ee1d",
   "metadata": {},
   "outputs": [
    {
     "data": {
      "text/plain": [
       "77"
      ]
     },
     "execution_count": 70,
     "metadata": {},
     "output_type": "execute_result"
    }
   ],
   "source": [
    "a.pop(0)#this remove the element at index 0 from list also it prints the deleted element"
   ]
  },
  {
   "cell_type": "code",
   "execution_count": 71,
   "id": "90d21e86",
   "metadata": {},
   "outputs": [
    {
     "data": {
      "text/plain": [
       "[1, 2, 3, 4, 6, 7, 8, 9, 10]"
      ]
     },
     "execution_count": 71,
     "metadata": {},
     "output_type": "execute_result"
    }
   ],
   "source": [
    "a"
   ]
  },
  {
   "cell_type": "code",
   "execution_count": 72,
   "id": "e21dfdf5",
   "metadata": {},
   "outputs": [],
   "source": [
    "a.insert(4,5)"
   ]
  },
  {
   "cell_type": "code",
   "execution_count": 73,
   "id": "0f4e8313",
   "metadata": {},
   "outputs": [
    {
     "data": {
      "text/plain": [
       "[1, 2, 3, 4, 5, 6, 7, 8, 9, 10]"
      ]
     },
     "execution_count": 73,
     "metadata": {},
     "output_type": "execute_result"
    }
   ],
   "source": [
    "a"
   ]
  },
  {
   "cell_type": "code",
   "execution_count": 74,
   "id": "0eb9b624",
   "metadata": {},
   "outputs": [
    {
     "data": {
      "text/plain": [
       "[1, 2, 3, 4, 6, 7, 8, 9, 10]"
      ]
     },
     "execution_count": 74,
     "metadata": {},
     "output_type": "execute_result"
    }
   ],
   "source": [
    "del a[4]\n",
    "a"
   ]
  },
  {
   "cell_type": "code",
   "execution_count": 75,
   "id": "d6d56105",
   "metadata": {},
   "outputs": [
    {
     "data": {
      "text/plain": [
       "[1, 2, 3, 4, 6, 7, 8, 9, 10]"
      ]
     },
     "execution_count": 75,
     "metadata": {},
     "output_type": "execute_result"
    }
   ],
   "source": [
    "a.sort()\n",
    "a"
   ]
  },
  {
   "cell_type": "code",
   "execution_count": 76,
   "id": "023c7732",
   "metadata": {},
   "outputs": [
    {
     "data": {
      "text/plain": [
       "10"
      ]
     },
     "execution_count": 76,
     "metadata": {},
     "output_type": "execute_result"
    }
   ],
   "source": [
    "max(a)#works only in homogenous list"
   ]
  },
  {
   "cell_type": "code",
   "execution_count": 77,
   "id": "c19ca900",
   "metadata": {},
   "outputs": [
    {
     "data": {
      "text/plain": [
       "0"
      ]
     },
     "execution_count": 77,
     "metadata": {},
     "output_type": "execute_result"
    }
   ],
   "source": [
    "a.index(1)"
   ]
  },
  {
   "cell_type": "code",
   "execution_count": 78,
   "id": "b97407f7",
   "metadata": {},
   "outputs": [
    {
     "data": {
      "text/plain": [
       "False"
      ]
     },
     "execution_count": 78,
     "metadata": {},
     "output_type": "execute_result"
    }
   ],
   "source": [
    "0 in a"
   ]
  },
  {
   "cell_type": "code",
   "execution_count": 79,
   "id": "7d94fb77",
   "metadata": {},
   "outputs": [
    {
     "data": {
      "text/plain": [
       "True"
      ]
     },
     "execution_count": 79,
     "metadata": {},
     "output_type": "execute_result"
    }
   ],
   "source": [
    "1 in a"
   ]
  },
  {
   "cell_type": "markdown",
   "id": "e671ec0d",
   "metadata": {},
   "source": [
    "###### printing a list"
   ]
  },
  {
   "cell_type": "code",
   "execution_count": 80,
   "id": "4b00512e",
   "metadata": {},
   "outputs": [
    {
     "name": "stdout",
     "output_type": "stream",
     "text": [
      "1\n",
      "2\n",
      "3\n",
      "4\n",
      "5\n"
     ]
    }
   ],
   "source": [
    "a=[1,2,3,4,5]\n",
    "for i in a:\n",
    "    print(i)"
   ]
  },
  {
   "cell_type": "markdown",
   "id": "ee6e6784",
   "metadata": {},
   "source": [
    "## taking input in list"
   ]
  },
  {
   "cell_type": "code",
   "execution_count": 81,
   "id": "de31a3b5",
   "metadata": {},
   "outputs": [
    {
     "name": "stdout",
     "output_type": "stream",
     "text": [
      "5\n",
      "1\n",
      "2\n",
      "3\n",
      "4\n",
      "5\n"
     ]
    },
    {
     "data": {
      "text/plain": [
       "[1, 2, 3, 4, 5]"
      ]
     },
     "execution_count": 81,
     "metadata": {},
     "output_type": "execute_result"
    }
   ],
   "source": [
    "s=int(input())\n",
    "a=[]\n",
    "for i in range(s):\n",
    "    ne=int(input())\n",
    "    a.append(ne)\n",
    "a"
   ]
  },
  {
   "cell_type": "code",
   "execution_count": 82,
   "id": "93bb9d17",
   "metadata": {},
   "outputs": [
    {
     "name": "stdout",
     "output_type": "stream",
     "text": [
      "1 2 3 4 5\n"
     ]
    },
    {
     "data": {
      "text/plain": [
       "[1, 2, 3, 4, 5]"
      ]
     },
     "execution_count": 82,
     "metadata": {},
     "output_type": "execute_result"
    }
   ],
   "source": [
    "line=input()\n",
    "l = line.split()\n",
    "a=[]\n",
    "for s in l:\n",
    "    a.append(int(s))\n",
    "a"
   ]
  },
  {
   "cell_type": "code",
   "execution_count": 83,
   "id": "b2675021",
   "metadata": {},
   "outputs": [
    {
     "data": {
      "text/plain": [
       "[1, 2]"
      ]
     },
     "execution_count": 83,
     "metadata": {},
     "output_type": "execute_result"
    }
   ],
   "source": [
    "l=['1','2']\n",
    "a=[int(s) for s in l]\n",
    "a"
   ]
  },
  {
   "cell_type": "code",
   "execution_count": 84,
   "id": "7ea28312",
   "metadata": {},
   "outputs": [
    {
     "name": "stdout",
     "output_type": "stream",
     "text": [
      "1 2 3 4 5\n"
     ]
    }
   ],
   "source": [
    "a=[int(s) for s in input().split()]"
   ]
  },
  {
   "cell_type": "code",
   "execution_count": 85,
   "id": "e3e30f14",
   "metadata": {},
   "outputs": [
    {
     "data": {
      "text/plain": [
       "[1, 2, 3, 4, 5]"
      ]
     },
     "execution_count": 85,
     "metadata": {},
     "output_type": "execute_result"
    }
   ],
   "source": [
    "a"
   ]
  },
  {
   "cell_type": "code",
   "execution_count": 86,
   "id": "356e2aad",
   "metadata": {},
   "outputs": [
    {
     "name": "stdout",
     "output_type": "stream",
     "text": [
      "5\n",
      "1 \n"
     ]
    },
    {
     "data": {
      "text/plain": [
       "[1]"
      ]
     },
     "execution_count": 86,
     "metadata": {},
     "output_type": "execute_result"
    }
   ],
   "source": [
    "size=int(input())\n",
    "a=[int(s) for s in input().split()]\n",
    "a"
   ]
  },
  {
   "cell_type": "code",
   "execution_count": 87,
   "id": "53354e1a",
   "metadata": {},
   "outputs": [
    {
     "name": "stdout",
     "output_type": "stream",
     "text": [
      "1 2 3 4\n",
      "-2\n"
     ]
    }
   ],
   "source": [
    "#difference between even and odd:\n",
    "l = [int(s) for s in input().split()]\n",
    "diff=0\n",
    "for i in l:\n",
    "    if(i%2):\n",
    "        diff=diff+i\n",
    "    else:\n",
    "        diff=diff-i\n",
    "print(diff)"
   ]
  },
  {
   "cell_type": "code",
   "execution_count": 88,
   "id": "b9eaef04",
   "metadata": {},
   "outputs": [
    {
     "name": "stdout",
     "output_type": "stream",
     "text": [
      "1 2 3 4\n"
     ]
    },
    {
     "data": {
      "text/plain": [
       "[2, 1, 4, 3]"
      ]
     },
     "execution_count": 88,
     "metadata": {},
     "output_type": "execute_result"
    }
   ],
   "source": [
    "#Swap alternate element in list\n",
    "l = [int(s) for s in input().split()]\n",
    "n=len(l)\n",
    "if(n%2):\n",
    "    n=n-1\n",
    "for i in range(0,n//2):\n",
    "    a=l[2*i]\n",
    "    b=l[2*i+1]\n",
    "    l[2*i]=b\n",
    "    l[2*i+1]=a\n",
    "l"
   ]
  },
  {
   "cell_type": "code",
   "execution_count": 89,
   "id": "934af74f",
   "metadata": {},
   "outputs": [
    {
     "name": "stdout",
     "output_type": "stream",
     "text": [
      "1 2 3 4\n",
      "[2, 1, 4, 3]\n"
     ]
    }
   ],
   "source": [
    "l = [int(s) for s in input().split()]\n",
    "n = len(l)\n",
    "if n % 2:\n",
    "    n = n - 1\n",
    "for i in range(0, n, 2):\n",
    "    a = l[i]\n",
    "    b = l[i + 1]\n",
    "    l[i] = b\n",
    "    l[i + 1] = a\n",
    "print(l)"
   ]
  },
  {
   "cell_type": "code",
   "execution_count": 90,
   "id": "3871f9ec",
   "metadata": {},
   "outputs": [],
   "source": [
    "#Array equilibrium index\n",
    "#TODO"
   ]
  },
  {
   "cell_type": "markdown",
   "id": "5755e999",
   "metadata": {},
   "source": [
    "#### list slicing"
   ]
  },
  {
   "cell_type": "code",
   "execution_count": 91,
   "id": "aa3792fe",
   "metadata": {},
   "outputs": [
    {
     "data": {
      "text/plain": [
       "[1, 2, 3, 4, 5, 'abc', 34, 0]"
      ]
     },
     "execution_count": 91,
     "metadata": {},
     "output_type": "execute_result"
    }
   ],
   "source": [
    "a=[1,2,3,4,5,\"abc\",34,0]\n",
    "a"
   ]
  },
  {
   "cell_type": "code",
   "execution_count": 92,
   "id": "16c0dc8c",
   "metadata": {},
   "outputs": [
    {
     "data": {
      "text/plain": [
       "[1, 2, 3]"
      ]
     },
     "execution_count": 92,
     "metadata": {},
     "output_type": "execute_result"
    }
   ],
   "source": [
    "a[0:3]"
   ]
  },
  {
   "cell_type": "code",
   "execution_count": 93,
   "id": "0507b8f5",
   "metadata": {},
   "outputs": [
    {
     "data": {
      "text/plain": [
       "[5, 'abc']"
      ]
     },
     "execution_count": 93,
     "metadata": {},
     "output_type": "execute_result"
    }
   ],
   "source": [
    "a[4:6]"
   ]
  },
  {
   "cell_type": "code",
   "execution_count": 94,
   "id": "d9875b0e",
   "metadata": {},
   "outputs": [
    {
     "data": {
      "text/plain": [
       "[4, 5, 'abc', 34, 0]"
      ]
     },
     "execution_count": 94,
     "metadata": {},
     "output_type": "execute_result"
    }
   ],
   "source": [
    "a[3:]"
   ]
  },
  {
   "cell_type": "code",
   "execution_count": 95,
   "id": "206d0a35",
   "metadata": {},
   "outputs": [
    {
     "data": {
      "text/plain": [
       "[1, 2, 3, 4]"
      ]
     },
     "execution_count": 95,
     "metadata": {},
     "output_type": "execute_result"
    }
   ],
   "source": [
    "a[:4]"
   ]
  },
  {
   "cell_type": "code",
   "execution_count": 96,
   "id": "53461e29",
   "metadata": {},
   "outputs": [
    {
     "data": {
      "text/plain": [
       "[0, 34, 'abc', 5]"
      ]
     },
     "execution_count": 96,
     "metadata": {},
     "output_type": "execute_result"
    }
   ],
   "source": [
    "a[10:3:-1]"
   ]
  },
  {
   "cell_type": "code",
   "execution_count": 97,
   "id": "83cee1af",
   "metadata": {},
   "outputs": [
    {
     "data": {
      "text/plain": [
       "[0, 34, 'abc', 5]"
      ]
     },
     "execution_count": 97,
     "metadata": {},
     "output_type": "execute_result"
    }
   ],
   "source": [
    "a[:3:-1]"
   ]
  },
  {
   "cell_type": "code",
   "execution_count": 98,
   "id": "e7bc4ac9",
   "metadata": {},
   "outputs": [
    {
     "data": {
      "text/plain": [
       "[0, 34, 'abc', 5, 4, 3, 2, 1]"
      ]
     },
     "execution_count": 98,
     "metadata": {},
     "output_type": "execute_result"
    }
   ],
   "source": [
    "a[::-1]"
   ]
  },
  {
   "cell_type": "code",
   "execution_count": 99,
   "id": "11238c79",
   "metadata": {},
   "outputs": [
    {
     "data": {
      "text/plain": [
       "[0, 34, 'abc', 5, 4, 3, 2, 1]"
      ]
     },
     "execution_count": 99,
     "metadata": {},
     "output_type": "execute_result"
    }
   ],
   "source": [
    "a.reverse()\n",
    "a"
   ]
  },
  {
   "cell_type": "markdown",
   "id": "a67e0be4",
   "metadata": {},
   "source": [
    "# Multi-dimentional List"
   ]
  },
  {
   "cell_type": "code",
   "execution_count": 100,
   "id": "aad1a5bb",
   "metadata": {},
   "outputs": [
    {
     "data": {
      "text/plain": [
       "[1, 2, 3, 'abc', [1, 2, 3, 4, 5]]"
      ]
     },
     "execution_count": 100,
     "metadata": {},
     "output_type": "execute_result"
    }
   ],
   "source": [
    "l = [1,2,3,\"abc\",[1,2,3,4,5]]\n",
    "l"
   ]
  },
  {
   "cell_type": "code",
   "execution_count": 101,
   "id": "ccd88e5b",
   "metadata": {},
   "outputs": [
    {
     "data": {
      "text/plain": [
       "[[1, 2, 3], [4, 5, 6]]"
      ]
     },
     "execution_count": 101,
     "metadata": {},
     "output_type": "execute_result"
    }
   ],
   "source": [
    "a=[[1,2,3],[4,5,6]] #2-d list\n",
    "a"
   ]
  },
  {
   "cell_type": "code",
   "execution_count": 102,
   "id": "772947c5",
   "metadata": {},
   "outputs": [
    {
     "data": {
      "text/plain": [
       "[4, 5, 6]"
      ]
     },
     "execution_count": 102,
     "metadata": {},
     "output_type": "execute_result"
    }
   ],
   "source": [
    "a[1]"
   ]
  },
  {
   "cell_type": "code",
   "execution_count": 103,
   "id": "75e4c382",
   "metadata": {},
   "outputs": [
    {
     "data": {
      "text/plain": [
       "6"
      ]
     },
     "execution_count": 103,
     "metadata": {},
     "output_type": "execute_result"
    }
   ],
   "source": [
    "a[1][2]"
   ]
  },
  {
   "cell_type": "code",
   "execution_count": 104,
   "id": "b94a002c",
   "metadata": {},
   "outputs": [
    {
     "data": {
      "text/plain": [
       "2"
      ]
     },
     "execution_count": 104,
     "metadata": {},
     "output_type": "execute_result"
    }
   ],
   "source": [
    "len(a)"
   ]
  },
  {
   "cell_type": "code",
   "execution_count": 105,
   "id": "f894c301",
   "metadata": {},
   "outputs": [
    {
     "data": {
      "text/plain": [
       "3"
      ]
     },
     "execution_count": 105,
     "metadata": {},
     "output_type": "execute_result"
    }
   ],
   "source": [
    "len(a[0])"
   ]
  },
  {
   "cell_type": "markdown",
   "id": "e186881a",
   "metadata": {},
   "source": [
    "### input in multi-dimentional list"
   ]
  },
  {
   "cell_type": "code",
   "execution_count": 106,
   "id": "7c26d653",
   "metadata": {},
   "outputs": [
    {
     "name": "stdout",
     "output_type": "stream",
     "text": [
      "1 2 3 4 5\n",
      "1 23 4 5 6\n"
     ]
    },
    {
     "data": {
      "text/plain": [
       "[[1, 23, 4, 5, 6]]"
      ]
     },
     "execution_count": 106,
     "metadata": {},
     "output_type": "execute_result"
    }
   ],
   "source": [
    "#type:1\n",
    "sizes=input().split()\n",
    "m=int(sizes[0])\n",
    "n=int(sizes[1])\n",
    "l=[]\n",
    "for i in range(m):\n",
    "    next_row=[int(i) for i in input().split()]\n",
    "    l.append(next_row)\n",
    "l"
   ]
  },
  {
   "cell_type": "code",
   "execution_count": 107,
   "id": "dd12fb86",
   "metadata": {},
   "outputs": [
    {
     "name": "stdout",
     "output_type": "stream",
     "text": [
      "3 3\n",
      "1\n",
      "2\n",
      "3\n",
      "4\n",
      "5\n",
      "6\n",
      "7\n",
      "8\n",
      "9\n"
     ]
    },
    {
     "data": {
      "text/plain": [
       "[[1, 2, 3], [4, 5, 6], [7, 8, 9]]"
      ]
     },
     "execution_count": 107,
     "metadata": {},
     "output_type": "execute_result"
    }
   ],
   "source": [
    "#type:2\n",
    "sizes=input().split()\n",
    "m=int(sizes[0])\n",
    "n=int(sizes[1])\n",
    "l=[]\n",
    "for i in range(m):\n",
    "    next_row=[]\n",
    "    for j in range(n):\n",
    "        element = int(input())\n",
    "        next_row.append(element)\n",
    "    l.append(next_row)\n",
    "l"
   ]
  },
  {
   "cell_type": "code",
   "execution_count": 108,
   "id": "0480b0ee",
   "metadata": {},
   "outputs": [
    {
     "name": "stdout",
     "output_type": "stream",
     "text": [
      "3 3\n",
      "1\n"
     ]
    },
    {
     "ename": "IndexError",
     "evalue": "list index out of range",
     "output_type": "error",
     "traceback": [
      "\u001b[1;31m---------------------------------------------------------------------------\u001b[0m",
      "\u001b[1;31mIndexError\u001b[0m                                Traceback (most recent call last)",
      "Cell \u001b[1;32mIn[108], line 11\u001b[0m\n\u001b[0;32m      9\u001b[0m next_row\u001b[38;5;241m=\u001b[39m[]\n\u001b[0;32m     10\u001b[0m \u001b[38;5;28;01mfor\u001b[39;00m j \u001b[38;5;129;01min\u001b[39;00m \u001b[38;5;28mrange\u001b[39m(n):\n\u001b[1;32m---> 11\u001b[0m     element \u001b[38;5;241m=\u001b[39m \u001b[43ml\u001b[49m\u001b[43m[\u001b[49m\u001b[43mx\u001b[49m\u001b[43m]\u001b[49m\n\u001b[0;32m     12\u001b[0m     x\u001b[38;5;241m=\u001b[39mx\u001b[38;5;241m+\u001b[39m\u001b[38;5;241m1\u001b[39m\n\u001b[0;32m     13\u001b[0m     next_row\u001b[38;5;241m.\u001b[39mappend(element)\n",
      "\u001b[1;31mIndexError\u001b[0m: list index out of range"
     ]
    }
   ],
   "source": [
    "#type:3\n",
    "sizes=input().split()\n",
    "m=int(sizes[0])\n",
    "n=int(sizes[1])\n",
    "l = [int(s) for s in input().split()]\n",
    "ans=[]\n",
    "x=0\n",
    "for i in range(m):\n",
    "    next_row=[]\n",
    "    for j in range(n):\n",
    "        element = l[x]\n",
    "        x=x+1\n",
    "        next_row.append(element)\n",
    "    ans.append(next_row)\n",
    "ans"
   ]
  },
  {
   "cell_type": "markdown",
   "id": "60108f52",
   "metadata": {},
   "source": [
    "## sizes=input().split()\n",
    "m=int(sizes[0])\n",
    "n=int(sizes[1])\n",
    "l = [int(s) for s in input().split()]\n",
    "ans=[]\n",
    "for i in range(m):\n",
    "    start_index=n*i\n",
    "    end_index=n*(i+1)\n",
    "    next_row=l[start_index:end_index]\n",
    "    ans.append(next_row)\n",
    "ans"
   ]
  },
  {
   "cell_type": "code",
   "execution_count": 109,
   "id": "0d24d9ca",
   "metadata": {},
   "outputs": [],
   "source": [
    "a=[[1,2,3,4],[5,6,7,8],[9,10,11,12],[13,14,15,16]]"
   ]
  },
  {
   "cell_type": "code",
   "execution_count": 110,
   "id": "45206ae1",
   "metadata": {},
   "outputs": [
    {
     "data": {
      "text/plain": [
       "[[5, 6, 7, 8], [9, 10, 11, 12]]"
      ]
     },
     "execution_count": 110,
     "metadata": {},
     "output_type": "execute_result"
    }
   ],
   "source": [
    "a[1:3]"
   ]
  },
  {
   "cell_type": "code",
   "execution_count": 111,
   "id": "fdf32d9d",
   "metadata": {},
   "outputs": [
    {
     "data": {
      "text/plain": [
       "[[1, 2],\n",
       " [1, 2],\n",
       " [1, 2],\n",
       " [1, 2],\n",
       " [1, 2],\n",
       " [1, 2],\n",
       " [1, 2],\n",
       " [1, 2],\n",
       " [1, 2],\n",
       " [1, 2]]"
      ]
     },
     "execution_count": 111,
     "metadata": {},
     "output_type": "execute_result"
    }
   ],
   "source": [
    "a=[[1,2] for i in range(10)]\n",
    "a"
   ]
  },
  {
   "cell_type": "code",
   "execution_count": 112,
   "id": "a757e1f9",
   "metadata": {},
   "outputs": [
    {
     "data": {
      "text/plain": [
       "[[0, 1, 2, 3, 4],\n",
       " [0, 1, 2, 3, 4],\n",
       " [0, 1, 2, 3, 4],\n",
       " [0, 1, 2, 3, 4],\n",
       " [0, 1, 2, 3, 4],\n",
       " [0, 1, 2, 3, 4],\n",
       " [0, 1, 2, 3, 4],\n",
       " [0, 1, 2, 3, 4],\n",
       " [0, 1, 2, 3, 4],\n",
       " [0, 1, 2, 3, 4]]"
      ]
     },
     "execution_count": 112,
     "metadata": {},
     "output_type": "execute_result"
    }
   ],
   "source": [
    "a=[[j for j in range(5)] for i in range(10)]\n",
    "a"
   ]
  },
  {
   "cell_type": "code",
   "execution_count": 113,
   "id": "2e3d3721",
   "metadata": {},
   "outputs": [],
   "source": [
    "#print column wise sum\n",
    "def print_column_wise_sum(a):\n",
    "    m=len(a)\n",
    "    if(m==0):\n",
    "        return\n",
    "    n=len(a[0])\n",
    "    for j in range(n):\n",
    "        sum_j=0\n",
    "        for i in range(m):\n",
    "            sum_j=sum_j+a[i][j]\n",
    "        print(sum_j)"
   ]
  },
  {
   "cell_type": "code",
   "execution_count": 114,
   "id": "afbaa1dc",
   "metadata": {},
   "outputs": [
    {
     "name": "stdout",
     "output_type": "stream",
     "text": [
      "0\n",
      "10\n",
      "20\n",
      "30\n",
      "40\n"
     ]
    }
   ],
   "source": [
    "a=[[j for j in range(5)] for i in range(10)]\n",
    "print_column_wise_sum(a)"
   ]
  },
  {
   "cell_type": "code",
   "execution_count": 115,
   "id": "e966b379",
   "metadata": {},
   "outputs": [],
   "source": [
    "#print row wise sum\n",
    "def print_row_wise_sum(a):\n",
    "    m=len(a)\n",
    "    if(m==0):\n",
    "        return\n",
    "    n=len(a[0])\n",
    "    for i in range(m):\n",
    "        sum_i=0\n",
    "        for j in range(n):\n",
    "            sum_i=sum_i+a[i][j]\n",
    "        print(sum_i)"
   ]
  },
  {
   "cell_type": "code",
   "execution_count": 116,
   "id": "9eab00ca",
   "metadata": {},
   "outputs": [
    {
     "name": "stdout",
     "output_type": "stream",
     "text": [
      "5\n",
      "2\n",
      "1\n",
      "2\n",
      "3\n",
      "4\n",
      "5\n",
      "6\n",
      "7\n",
      "8\n",
      "9\n",
      "10\n",
      "3\n",
      "7\n",
      "11\n",
      "15\n",
      "19\n"
     ]
    }
   ],
   "source": [
    "m=int(input())\n",
    "n=int(input())\n",
    "a=[]\n",
    "for i in range(m):\n",
    "    next_row=[]\n",
    "    for j in range(n):\n",
    "        element=int(input())\n",
    "        next_row.append(element)\n",
    "    a.append(next_row)\n",
    "print_row_wise_sum(a)"
   ]
  },
  {
   "cell_type": "code",
   "execution_count": 117,
   "id": "b9451277",
   "metadata": {},
   "outputs": [],
   "source": [
    "#print in wave form\n",
    "#TODO"
   ]
  }
 ],
 "metadata": {
  "kernelspec": {
   "display_name": "Python 3 (ipykernel)",
   "language": "python",
   "name": "python3"
  },
  "language_info": {
   "codemirror_mode": {
    "name": "ipython",
    "version": 3
   },
   "file_extension": ".py",
   "mimetype": "text/x-python",
   "name": "python",
   "nbconvert_exporter": "python",
   "pygments_lexer": "ipython3",
   "version": "3.9.13"
  }
 },
 "nbformat": 4,
 "nbformat_minor": 5
}
