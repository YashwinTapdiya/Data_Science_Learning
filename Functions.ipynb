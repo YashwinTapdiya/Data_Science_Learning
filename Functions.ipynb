{
 "cells": [
  {
   "cell_type": "code",
   "execution_count": 1,
   "id": "fc1a3fa8",
   "metadata": {},
   "outputs": [],
   "source": [
    "#factorial\n",
    "def fact(n):\n",
    "    ans=1\n",
    "    for i in range(1,n+1):\n",
    "        ans=ans*i\n",
    "    return ans"
   ]
  },
  {
   "cell_type": "code",
   "execution_count": 2,
   "id": "621897fc",
   "metadata": {},
   "outputs": [
    {
     "data": {
      "text/plain": [
       "6"
      ]
     },
     "execution_count": 2,
     "metadata": {},
     "output_type": "execute_result"
    }
   ],
   "source": [
    "fact(3)"
   ]
  },
  {
   "cell_type": "code",
   "execution_count": 3,
   "id": "096fe3ae",
   "metadata": {},
   "outputs": [
    {
     "name": "stdout",
     "output_type": "stream",
     "text": [
      "5\n",
      "2\n",
      "10\n"
     ]
    }
   ],
   "source": [
    "#nCr\n",
    "n=int(input())\n",
    "r=int(input())\n",
    "ncr=fact(n)//(fact(n-r)*fact(r))\n",
    "print(ncr)"
   ]
  },
  {
   "cell_type": "markdown",
   "id": "ae75a7ae",
   "metadata": {},
   "source": [
    "### why do we need functions"
   ]
  },
  {
   "cell_type": "code",
   "execution_count": 4,
   "id": "762f3f89",
   "metadata": {},
   "outputs": [],
   "source": [
    "#functions help in avoiding repition\n",
    "#readability is improved\n",
    "#testing become easy"
   ]
  },
  {
   "cell_type": "markdown",
   "id": "109e1b76",
   "metadata": {},
   "source": [
    "#### Some more examples"
   ]
  },
  {
   "cell_type": "code",
   "execution_count": 5,
   "id": "83755051",
   "metadata": {},
   "outputs": [],
   "source": [
    "#check whether number is prime of not\n",
    "def isPrime(n):\n",
    "    for d in range(2,n):\n",
    "        if(n%d==0):\n",
    "            break\n",
    "    else:\n",
    "        return True\n",
    "    return False"
   ]
  },
  {
   "cell_type": "code",
   "execution_count": 6,
   "id": "c6bd4bfe",
   "metadata": {},
   "outputs": [
    {
     "data": {
      "text/plain": [
       "True"
      ]
     },
     "execution_count": 6,
     "metadata": {},
     "output_type": "execute_result"
    }
   ],
   "source": [
    "isPrime(5)"
   ]
  },
  {
   "cell_type": "code",
   "execution_count": 7,
   "id": "1f9093fb",
   "metadata": {},
   "outputs": [
    {
     "data": {
      "text/plain": [
       "False"
      ]
     },
     "execution_count": 7,
     "metadata": {},
     "output_type": "execute_result"
    }
   ],
   "source": [
    "isPrime(10)"
   ]
  },
  {
   "cell_type": "code",
   "execution_count": 8,
   "id": "26a86b47",
   "metadata": {},
   "outputs": [],
   "source": [
    "#print all prime numbers till n\n",
    "def allPrime(n):\n",
    "    for k in range(2,n+1):\n",
    "        if(isPrime(k)):\n",
    "            print(k)"
   ]
  },
  {
   "cell_type": "code",
   "execution_count": 9,
   "id": "90e0a8e3",
   "metadata": {},
   "outputs": [
    {
     "name": "stdout",
     "output_type": "stream",
     "text": [
      "2\n",
      "3\n",
      "5\n",
      "7\n"
     ]
    }
   ],
   "source": [
    "allPrime(10)"
   ]
  },
  {
   "cell_type": "code",
   "execution_count": 10,
   "id": "3136675b",
   "metadata": {},
   "outputs": [],
   "source": [
    "def ncr(n,r):\n",
    "    return fact(n)//(fact(n-r)*fact(r))"
   ]
  },
  {
   "cell_type": "code",
   "execution_count": 11,
   "id": "f3d0d785",
   "metadata": {},
   "outputs": [
    {
     "data": {
      "text/plain": [
       "15"
      ]
     },
     "execution_count": 11,
     "metadata": {},
     "output_type": "execute_result"
    }
   ],
   "source": [
    "ncr(6,2)"
   ]
  },
  {
   "cell_type": "code",
   "execution_count": 12,
   "id": "b2002388",
   "metadata": {},
   "outputs": [
    {
     "name": "stdout",
     "output_type": "stream",
     "text": [
      "15\n",
      "5\n"
     ]
    }
   ],
   "source": [
    "def func(a):\n",
    "    a=a+10\n",
    "    return a\n",
    "a=5\n",
    "print(func(a))\n",
    "print(a)"
   ]
  },
  {
   "cell_type": "code",
   "execution_count": 13,
   "id": "be0ee4c6",
   "metadata": {},
   "outputs": [],
   "source": [
    "import math\n",
    "\n",
    "def is_fibonacci(number):\n",
    "    # Check if the number is a perfect square\n",
    "    def is_perfect_square(num):\n",
    "        root = int(math.sqrt(num))\n",
    "        return root * root == num\n",
    "\n",
    "    # A number is a member of the Fibonacci series if (5 * N^2 + 4) or (5 * N^2 - 4) is a perfect square\n",
    "    return is_perfect_square(5 * number * number + 4) or is_perfect_square(5 * number * number - 4)\n"
   ]
  },
  {
   "cell_type": "code",
   "execution_count": 14,
   "id": "c0fbbce5",
   "metadata": {},
   "outputs": [
    {
     "name": "stdout",
     "output_type": "stream",
     "text": [
      "Enter a number: 6\n",
      "False\n"
     ]
    }
   ],
   "source": [
    "number = int(input(\"Enter a number: \"))\n",
    "is_member = is_fibonacci(number)\n",
    "print(is_member)\n"
   ]
  },
  {
   "cell_type": "code",
   "execution_count": 15,
   "id": "1e76aa21",
   "metadata": {},
   "outputs": [],
   "source": [
    "#function call stack: works as first in last out(filo)\n",
    "#all te local data is stored in stack"
   ]
  },
  {
   "cell_type": "markdown",
   "id": "f7d70c09",
   "metadata": {},
   "source": [
    "### function using list and string"
   ]
  },
  {
   "cell_type": "code",
   "execution_count": 16,
   "id": "c48c1a6f",
   "metadata": {},
   "outputs": [
    {
     "name": "stdout",
     "output_type": "stream",
     "text": [
      "10\n"
     ]
    }
   ],
   "source": [
    "def increment(i):\n",
    "    i=i+1\n",
    "k=10\n",
    "increment(k)\n",
    "print(k)"
   ]
  },
  {
   "cell_type": "code",
   "execution_count": 17,
   "id": "96fc54dc",
   "metadata": {},
   "outputs": [
    {
     "data": {
      "text/plain": [
       "[2, 2, 3]"
      ]
     },
     "execution_count": 17,
     "metadata": {},
     "output_type": "execute_result"
    }
   ],
   "source": [
    "def increment_list_first(l):\n",
    "    l[0]=l[0]+1\n",
    "a=[1,2,3]\n",
    "increment_list_first(a)\n",
    "a"
   ]
  },
  {
   "cell_type": "code",
   "execution_count": 18,
   "id": "d274fa53",
   "metadata": {},
   "outputs": [
    {
     "data": {
      "text/plain": [
       "[1, 2, 3]"
      ]
     },
     "execution_count": 18,
     "metadata": {},
     "output_type": "execute_result"
    }
   ],
   "source": [
    "def change_list(l):\n",
    "    l=[2]\n",
    "a=[1,2,3]\n",
    "change_list(a)\n",
    "a"
   ]
  },
  {
   "cell_type": "code",
   "execution_count": 19,
   "id": "3924f714",
   "metadata": {},
   "outputs": [
    {
     "data": {
      "text/plain": [
       "'def'"
      ]
     },
     "execution_count": 19,
     "metadata": {},
     "output_type": "execute_result"
    }
   ],
   "source": [
    "def change_str(b):\n",
    "    b=\"abc\"\n",
    "a=\"def\"\n",
    "change_str(a)\n",
    "a"
   ]
  },
  {
   "cell_type": "code",
   "execution_count": 20,
   "id": "58dd2312",
   "metadata": {},
   "outputs": [],
   "source": [
    "#string are immutable while list are mutable"
   ]
  },
  {
   "cell_type": "code",
   "execution_count": 21,
   "id": "3d6826a9",
   "metadata": {},
   "outputs": [
    {
     "data": {
      "text/plain": [
       "[10, 9, 8, 7, 6, 5, 4, 3, 2, 1]"
      ]
     },
     "execution_count": 21,
     "metadata": {},
     "output_type": "execute_result"
    }
   ],
   "source": [
    "def create_rev_array(n):\n",
    "    l=[]\n",
    "    #l=[i for i in range(n,0,-1)]\n",
    "    for i in range(n,0,-1):\n",
    "        l.append(i)\n",
    "    return l\n",
    "l=create_rev_array(10)\n",
    "l"
   ]
  },
  {
   "cell_type": "markdown",
   "id": "9c6536cc",
   "metadata": {},
   "source": [
    "###### Swap Alternate"
   ]
  },
  {
   "cell_type": "code",
   "execution_count": 22,
   "id": "e73ca701",
   "metadata": {},
   "outputs": [
    {
     "data": {
      "text/plain": [
       "[2, 1, 4, 3, 5]"
      ]
     },
     "execution_count": 22,
     "metadata": {},
     "output_type": "execute_result"
    }
   ],
   "source": [
    "def swap_consecutive(l):\n",
    "    i=0\n",
    "    while(i+1<len(l)):\n",
    "        l[i],l[i+1]=l[i+1],l[i]\n",
    "        i=i+2\n",
    "l=[1,2,3,4,5]\n",
    "swap_consecutive(l)\n",
    "l"
   ]
  },
  {
   "cell_type": "markdown",
   "id": "bd0e5940",
   "metadata": {},
   "source": [
    "### Scope of Variables"
   ]
  },
  {
   "cell_type": "code",
   "execution_count": 23,
   "id": "6860bc59",
   "metadata": {},
   "outputs": [],
   "source": [
    "#Local Variables: Defined inside a function"
   ]
  },
  {
   "cell_type": "code",
   "execution_count": 24,
   "id": "85cfdecc",
   "metadata": {},
   "outputs": [],
   "source": [
    "#Global variables: Defined outside a function"
   ]
  },
  {
   "cell_type": "code",
   "execution_count": 25,
   "id": "590c9e98",
   "metadata": {},
   "outputs": [],
   "source": [
    "a1=10#GLobal variable\n",
    "def f1():\n",
    "    b1=12 #Loacal variable"
   ]
  },
  {
   "cell_type": "code",
   "execution_count": 26,
   "id": "4e0cb6e7",
   "metadata": {},
   "outputs": [
    {
     "name": "stdout",
     "output_type": "stream",
     "text": [
      "10\n"
     ]
    }
   ],
   "source": [
    "print(a1)"
   ]
  },
  {
   "cell_type": "code",
   "execution_count": 27,
   "id": "fc5b812e",
   "metadata": {},
   "outputs": [
    {
     "ename": "NameError",
     "evalue": "name 'b1' is not defined",
     "output_type": "error",
     "traceback": [
      "\u001b[1;31m---------------------------------------------------------------------------\u001b[0m",
      "\u001b[1;31mNameError\u001b[0m                                 Traceback (most recent call last)",
      "Cell \u001b[1;32mIn[27], line 2\u001b[0m\n\u001b[0;32m      1\u001b[0m f1()\n\u001b[1;32m----> 2\u001b[0m \u001b[38;5;28mprint\u001b[39m(\u001b[43mb1\u001b[49m)\n",
      "\u001b[1;31mNameError\u001b[0m: name 'b1' is not defined"
     ]
    }
   ],
   "source": [
    "f1()\n",
    "print(b1)"
   ]
  },
  {
   "cell_type": "code",
   "execution_count": 28,
   "id": "9aab9c43",
   "metadata": {},
   "outputs": [
    {
     "name": "stdout",
     "output_type": "stream",
     "text": [
      "10\n",
      "12\n",
      "10\n"
     ]
    }
   ],
   "source": [
    "a2=10\n",
    "def f2():\n",
    "    b2=12\n",
    "    print(b2)\n",
    "    print(a2)\n",
    "print(a2)\n",
    "f2()"
   ]
  },
  {
   "cell_type": "code",
   "execution_count": 29,
   "id": "d999ff50",
   "metadata": {},
   "outputs": [
    {
     "name": "stdout",
     "output_type": "stream",
     "text": [
      "12\n",
      "10\n"
     ]
    }
   ],
   "source": [
    "def f3():\n",
    "    b3=12#local variable\n",
    "    print(b3)\n",
    "    print(a3)\n",
    "a3=10#global variable\n",
    "f3()"
   ]
  },
  {
   "cell_type": "code",
   "execution_count": 30,
   "id": "7694ea77",
   "metadata": {},
   "outputs": [
    {
     "name": "stdout",
     "output_type": "stream",
     "text": [
      "13\n",
      "12\n",
      "3103186184848\n",
      "13\n",
      "3103186184880\n"
     ]
    }
   ],
   "source": [
    "a4=13\n",
    "def f4():\n",
    "    a4=12 #python assumes we wwant to create new local variable\n",
    "    print(a4)\n",
    "    print(id(a4))\n",
    "print(a4)\n",
    "f4()\n",
    "print(a4)\n",
    "print(id(a4))"
   ]
  },
  {
   "cell_type": "code",
   "execution_count": 31,
   "id": "348fe648",
   "metadata": {},
   "outputs": [
    {
     "name": "stdout",
     "output_type": "stream",
     "text": [
      "10\n",
      "15\n",
      "3103186184944\n",
      "15\n",
      "3103186184944\n"
     ]
    }
   ],
   "source": [
    "a5=10\n",
    "def f5():\n",
    "    global a5#this says i dont want to create a new local variable but i want to access the global variable\n",
    "    a5=15\n",
    "    print(a5)\n",
    "    print(id(a5))\n",
    "print(a5)\n",
    "f5()\n",
    "print(a5)\n",
    "print(id(a5))"
   ]
  },
  {
   "cell_type": "code",
   "execution_count": 32,
   "id": "bf18b0b9",
   "metadata": {},
   "outputs": [
    {
     "name": "stdout",
     "output_type": "stream",
     "text": [
      "10\n"
     ]
    }
   ],
   "source": [
    "def f():\n",
    "    b=10\n",
    "    return b\n",
    "x=f()\n",
    "print(x)\n",
    "#only way to get access to local variable of function is basically function returns those variable"
   ]
  },
  {
   "cell_type": "code",
   "execution_count": 33,
   "id": "b5966dc2",
   "metadata": {},
   "outputs": [
    {
     "name": "stdout",
     "output_type": "stream",
     "text": [
      "12\n"
     ]
    }
   ],
   "source": [
    "a=14\n",
    "def f():\n",
    "    global a\n",
    "    a=12\n",
    "f()\n",
    "print(a)"
   ]
  },
  {
   "cell_type": "markdown",
   "id": "44ebcf3d",
   "metadata": {},
   "source": [
    "### default parameters in functions"
   ]
  },
  {
   "cell_type": "code",
   "execution_count": 34,
   "id": "d54c47f9",
   "metadata": {},
   "outputs": [
    {
     "name": "stdout",
     "output_type": "stream",
     "text": [
      "5\n",
      "9\n"
     ]
    }
   ],
   "source": [
    "def sum(a,b,c=0):\n",
    "    return a+b+c\n",
    "print(sum(2,3))\n",
    "print(sum(2,3,4))"
   ]
  },
  {
   "cell_type": "code",
   "execution_count": 35,
   "id": "4205f79d",
   "metadata": {},
   "outputs": [],
   "source": [
    "# all non default arguments should be before arguments with default value"
   ]
  },
  {
   "cell_type": "code",
   "execution_count": 36,
   "id": "514113ba",
   "metadata": {},
   "outputs": [
    {
     "name": "stdout",
     "output_type": "stream",
     "text": [
      "4\n",
      "3\n",
      "4\n"
     ]
    }
   ],
   "source": [
    "def f1(a,b,c=2,d=0):\n",
    "    return a+b+c+d\n",
    "print(f1(1,1,1,1))\n",
    "print(f1(1,1,1))\n",
    "print(f1(1,1))"
   ]
  },
  {
   "cell_type": "code",
   "execution_count": 37,
   "id": "39370acd",
   "metadata": {},
   "outputs": [
    {
     "name": "stdout",
     "output_type": "stream",
     "text": [
      "8\n"
     ]
    }
   ],
   "source": [
    "#we can give argument value by specifically mentioning which argument\n",
    "def f2(a,b,c=5,d=6):\n",
    "    return a+b+c+d\n",
    "print(f2(1,1,d=1))"
   ]
  }
 ],
 "metadata": {
  "kernelspec": {
   "display_name": "Python 3 (ipykernel)",
   "language": "python",
   "name": "python3"
  },
  "language_info": {
   "codemirror_mode": {
    "name": "ipython",
    "version": 3
   },
   "file_extension": ".py",
   "mimetype": "text/x-python",
   "name": "python",
   "nbconvert_exporter": "python",
   "pygments_lexer": "ipython3",
   "version": "3.9.13"
  }
 },
 "nbformat": 4,
 "nbformat_minor": 5
}
