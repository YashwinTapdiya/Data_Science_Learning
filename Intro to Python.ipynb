{
 "cells": [
  {
   "cell_type": "markdown",
   "id": "9a61c079",
   "metadata": {},
   "source": [
    "## Intro to Jupyter\n",
    "\n",
    "we can write markdown or python code in our cells. You can choose accordingly in the dropdown above."
   ]
  },
  {
   "cell_type": "markdown",
   "id": "957c6c01",
   "metadata": {},
   "source": [
    "## print helloworld"
   ]
  },
  {
   "cell_type": "code",
   "execution_count": 1,
   "id": "cbbb78c8",
   "metadata": {},
   "outputs": [
    {
     "name": "stdout",
     "output_type": "stream",
     "text": [
      "hello world\n"
     ]
    }
   ],
   "source": [
    "print(\"hello world\")"
   ]
  },
  {
   "cell_type": "code",
   "execution_count": 2,
   "id": "1a8823b9",
   "metadata": {},
   "outputs": [
    {
     "name": "stdout",
     "output_type": "stream",
     "text": [
      "hello world\n",
      "hello world\n"
     ]
    }
   ],
   "source": [
    "print(\"hello world\")\n",
    "print(\"hello world\")"
   ]
  },
  {
   "cell_type": "markdown",
   "id": "2e787e93",
   "metadata": {},
   "source": [
    "## Variables"
   ]
  },
  {
   "cell_type": "code",
   "execution_count": 3,
   "id": "5a574e90",
   "metadata": {},
   "outputs": [
    {
     "data": {
      "text/plain": [
       "30"
      ]
     },
     "execution_count": 3,
     "metadata": {},
     "output_type": "execute_result"
    }
   ],
   "source": [
    "a = 10\n",
    "b = 20\n",
    "\n",
    "a+b\n"
   ]
  },
  {
   "cell_type": "code",
   "execution_count": 4,
   "id": "e8825ed0",
   "metadata": {},
   "outputs": [
    {
     "name": "stdout",
     "output_type": "stream",
     "text": [
      "30\n"
     ]
    }
   ],
   "source": [
    "print(a+b)"
   ]
  },
  {
   "cell_type": "code",
   "execution_count": 5,
   "id": "04dcbb24",
   "metadata": {},
   "outputs": [
    {
     "data": {
      "text/plain": [
       "10"
      ]
     },
     "execution_count": 5,
     "metadata": {},
     "output_type": "execute_result"
    }
   ],
   "source": [
    "10\n",
    "10"
   ]
  },
  {
   "cell_type": "code",
   "execution_count": 6,
   "id": "f281542a",
   "metadata": {},
   "outputs": [
    {
     "name": "stdout",
     "output_type": "stream",
     "text": [
      "30\n"
     ]
    }
   ],
   "source": [
    "sum =a +b\n",
    "print(sum)"
   ]
  },
  {
   "cell_type": "code",
   "execution_count": 7,
   "id": "98fb2069",
   "metadata": {},
   "outputs": [],
   "source": [
    "b=5"
   ]
  },
  {
   "cell_type": "code",
   "execution_count": 8,
   "id": "3ceba088",
   "metadata": {},
   "outputs": [
    {
     "name": "stdout",
     "output_type": "stream",
     "text": [
      "30\n"
     ]
    }
   ],
   "source": [
    "print(sum)"
   ]
  },
  {
   "cell_type": "code",
   "execution_count": 9,
   "id": "3ae050b6",
   "metadata": {},
   "outputs": [],
   "source": [
    "sum = a+b"
   ]
  },
  {
   "cell_type": "code",
   "execution_count": 10,
   "id": "c787a5de",
   "metadata": {},
   "outputs": [
    {
     "name": "stdout",
     "output_type": "stream",
     "text": [
      "15\n"
     ]
    }
   ],
   "source": [
    "print(sum)"
   ]
  },
  {
   "cell_type": "code",
   "execution_count": 11,
   "id": "9dcb9eae",
   "metadata": {},
   "outputs": [],
   "source": [
    "_ab=77"
   ]
  },
  {
   "cell_type": "markdown",
   "id": "0d38b9ad",
   "metadata": {},
   "source": [
    "### assigning different type of data to a variable"
   ]
  },
  {
   "cell_type": "code",
   "execution_count": 12,
   "id": "dee264e2",
   "metadata": {},
   "outputs": [
    {
     "data": {
      "text/plain": [
       "'hehe'"
      ]
     },
     "execution_count": 12,
     "metadata": {},
     "output_type": "execute_result"
    }
   ],
   "source": [
    "a =10\n",
    "a =20\n",
    "a = \"hehe\"\n",
    "a"
   ]
  },
  {
   "cell_type": "code",
   "execution_count": 13,
   "id": "5acf4392",
   "metadata": {},
   "outputs": [
    {
     "data": {
      "text/plain": [
       "'hehe'"
      ]
     },
     "execution_count": 13,
     "metadata": {},
     "output_type": "execute_result"
    }
   ],
   "source": [
    "a = 'hehe'\n",
    "a"
   ]
  },
  {
   "cell_type": "code",
   "execution_count": 14,
   "id": "7e671dd6",
   "metadata": {},
   "outputs": [],
   "source": [
    " a = 1"
   ]
  },
  {
   "cell_type": "code",
   "execution_count": 15,
   "id": "69025dc3",
   "metadata": {},
   "outputs": [
    {
     "data": {
      "text/plain": [
       "str"
      ]
     },
     "execution_count": 15,
     "metadata": {},
     "output_type": "execute_result"
    }
   ],
   "source": [
    "a = \"abc\"\n",
    "type(a)"
   ]
  },
  {
   "cell_type": "code",
   "execution_count": 16,
   "id": "d3009e3a",
   "metadata": {},
   "outputs": [
    {
     "name": "stdout",
     "output_type": "stream",
     "text": [
      "<class 'str'>\n"
     ]
    }
   ],
   "source": [
    "print(type(a))"
   ]
  },
  {
   "cell_type": "code",
   "execution_count": 17,
   "id": "90ec225d",
   "metadata": {},
   "outputs": [
    {
     "name": "stdout",
     "output_type": "stream",
     "text": [
      "<class 'str'>\n",
      "None\n"
     ]
    }
   ],
   "source": [
    "print(print(type(a)))"
   ]
  },
  {
   "cell_type": "code",
   "execution_count": 18,
   "id": "df942445",
   "metadata": {},
   "outputs": [
    {
     "name": "stdout",
     "output_type": "stream",
     "text": [
      "<class 'str'>\n",
      "None\n",
      "None\n"
     ]
    }
   ],
   "source": [
    "print(print(print(type(a))))"
   ]
  },
  {
   "cell_type": "markdown",
   "id": "3f8d0d22",
   "metadata": {},
   "source": [
    "# python number"
   ]
  },
  {
   "cell_type": "code",
   "execution_count": 19,
   "id": "59e9141b",
   "metadata": {},
   "outputs": [],
   "source": [
    "a1 = 23\n",
    "a2 =3.4\n",
    "a3 = 4 + 5j"
   ]
  },
  {
   "cell_type": "code",
   "execution_count": 20,
   "id": "5ea7db5a",
   "metadata": {},
   "outputs": [
    {
     "name": "stdout",
     "output_type": "stream",
     "text": [
      "<class 'complex'>\n",
      "<class 'float'>\n"
     ]
    }
   ],
   "source": [
    "print(type(a3))\n",
    "print(type(a2))"
   ]
  },
  {
   "cell_type": "code",
   "execution_count": 21,
   "id": "a19270ae",
   "metadata": {},
   "outputs": [
    {
     "data": {
      "text/plain": [
       "2432730819568"
      ]
     },
     "execution_count": 21,
     "metadata": {},
     "output_type": "execute_result"
    }
   ],
   "source": [
    "id(a1)\n"
   ]
  },
  {
   "cell_type": "code",
   "execution_count": 22,
   "id": "c866ea49",
   "metadata": {},
   "outputs": [
    {
     "data": {
      "text/plain": [
       "2432730819568"
      ]
     },
     "execution_count": 22,
     "metadata": {},
     "output_type": "execute_result"
    }
   ],
   "source": [
    "a1 =23\n",
    "id(a1)"
   ]
  },
  {
   "cell_type": "code",
   "execution_count": 23,
   "id": "f50cf4df",
   "metadata": {},
   "outputs": [
    {
     "data": {
      "text/plain": [
       "2432730819888"
      ]
     },
     "execution_count": 23,
     "metadata": {},
     "output_type": "execute_result"
    }
   ],
   "source": [
    "a1 =33\n",
    "id(a1)"
   ]
  },
  {
   "cell_type": "markdown",
   "id": "4f864f05",
   "metadata": {},
   "source": [
    "id gives use uniqure number associated with the variable where it is stored"
   ]
  },
  {
   "cell_type": "code",
   "execution_count": 24,
   "id": "924ff97a",
   "metadata": {},
   "outputs": [
    {
     "name": "stdout",
     "output_type": "stream",
     "text": [
      "2432811948976\n",
      "2432811948368\n"
     ]
    }
   ],
   "source": [
    "a =-45\n",
    "b =-45\n",
    "print(id(a))\n",
    "print(id(b))"
   ]
  },
  {
   "cell_type": "markdown",
   "id": "a27160ec",
   "metadata": {},
   "source": [
    "[-5,256] python stores same address for variable with same value, does optimization"
   ]
  },
  {
   "cell_type": "code",
   "execution_count": 25,
   "id": "204fa95e",
   "metadata": {},
   "outputs": [
    {
     "name": "stdout",
     "output_type": "stream",
     "text": [
      "2432811947824\n",
      "2432811948144\n"
     ]
    }
   ],
   "source": [
    "a1 =1000\n",
    "b1=1000\n",
    "print(id(a1))\n",
    "print(id(b1))"
   ]
  },
  {
   "cell_type": "code",
   "execution_count": 26,
   "id": "c73901ce",
   "metadata": {},
   "outputs": [
    {
     "name": "stdout",
     "output_type": "stream",
     "text": [
      "3.3333333333333335\n"
     ]
    }
   ],
   "source": [
    "a = 10/3\n",
    "print(a)"
   ]
  },
  {
   "cell_type": "markdown",
   "id": "d3143ae5",
   "metadata": {},
   "source": [
    "# Arithmatic Operators"
   ]
  },
  {
   "cell_type": "code",
   "execution_count": 27,
   "id": "fdf43a80",
   "metadata": {},
   "outputs": [],
   "source": [
    "a =10\n",
    "a+=10"
   ]
  },
  {
   "cell_type": "code",
   "execution_count": 28,
   "id": "ca131a88",
   "metadata": {},
   "outputs": [
    {
     "name": "stdout",
     "output_type": "stream",
     "text": [
      "20\n"
     ]
    }
   ],
   "source": [
    "print(a)"
   ]
  },
  {
   "cell_type": "code",
   "execution_count": 29,
   "id": "69e04502",
   "metadata": {},
   "outputs": [
    {
     "data": {
      "text/plain": [
       "2.6666666666666665"
      ]
     },
     "execution_count": 29,
     "metadata": {},
     "output_type": "execute_result"
    }
   ],
   "source": [
    "a =40 \n",
    "b=15\n",
    "\n",
    "a/b #floating point divison"
   ]
  },
  {
   "cell_type": "code",
   "execution_count": 30,
   "id": "9baa1aea",
   "metadata": {},
   "outputs": [
    {
     "data": {
      "text/plain": [
       "2"
      ]
     },
     "execution_count": 30,
     "metadata": {},
     "output_type": "execute_result"
    }
   ],
   "source": [
    "a//b #integer divison"
   ]
  },
  {
   "cell_type": "code",
   "execution_count": 31,
   "id": "4ee18cff",
   "metadata": {},
   "outputs": [
    {
     "data": {
      "text/plain": [
       "10"
      ]
     },
     "execution_count": 31,
     "metadata": {},
     "output_type": "execute_result"
    }
   ],
   "source": [
    "a%b"
   ]
  },
  {
   "cell_type": "code",
   "execution_count": 32,
   "id": "ca493411",
   "metadata": {},
   "outputs": [
    {
     "name": "stdout",
     "output_type": "stream",
     "text": [
      "20\n"
     ]
    }
   ],
   "source": [
    "#simple interset to lower integer\n",
    "p =100\n",
    "r = 10\n",
    "t =2\n",
    "ai = (p*r*t)//100\n",
    "print(ai)\n"
   ]
  },
  {
   "cell_type": "code",
   "execution_count": 33,
   "id": "f3d990c8",
   "metadata": {},
   "outputs": [
    {
     "name": "stdout",
     "output_type": "stream",
     "text": [
      "37.77777777777778\n",
      "37\n"
     ]
    }
   ],
   "source": [
    "# fah to celcius conversion\n",
    "f=100\n",
    "c = (f-32)*5/9\n",
    "print(c)\n",
    "c1 = (f-32)*5//9\n",
    "print(c1)"
   ]
  },
  {
   "cell_type": "markdown",
   "id": "8b61b841",
   "metadata": {},
   "source": [
    "# taking input"
   ]
  },
  {
   "cell_type": "code",
   "execution_count": 34,
   "id": "abfe4c9e",
   "metadata": {},
   "outputs": [
    {
     "name": "stdout",
     "output_type": "stream",
     "text": [
      "69\n"
     ]
    },
    {
     "data": {
      "text/plain": [
       "'69'"
      ]
     },
     "execution_count": 34,
     "metadata": {},
     "output_type": "execute_result"
    }
   ],
   "source": [
    "input()"
   ]
  },
  {
   "cell_type": "code",
   "execution_count": 35,
   "id": "7372604f",
   "metadata": {},
   "outputs": [
    {
     "name": "stdout",
     "output_type": "stream",
     "text": [
      "45\n",
      "45\n"
     ]
    }
   ],
   "source": [
    "a =input()\n",
    "print(a)"
   ]
  },
  {
   "cell_type": "code",
   "execution_count": 36,
   "id": "3935909b",
   "metadata": {},
   "outputs": [
    {
     "name": "stdout",
     "output_type": "stream",
     "text": [
      "5\n",
      "9\n",
      "5\n",
      "59\n"
     ]
    }
   ],
   "source": [
    "a = input()\n",
    "b =input()\n",
    "s =a +b\n",
    "print(a)\n",
    "print(a+b)"
   ]
  },
  {
   "cell_type": "code",
   "execution_count": 37,
   "id": "f220fea6",
   "metadata": {},
   "outputs": [
    {
     "name": "stdout",
     "output_type": "stream",
     "text": [
      "<class 'str'>\n",
      "<class 'str'>\n",
      "<class 'str'>\n"
     ]
    }
   ],
   "source": [
    "print(type(a))\n",
    "print(type(b))\n",
    "print(type(s))"
   ]
  },
  {
   "cell_type": "code",
   "execution_count": 38,
   "id": "2ffafccc",
   "metadata": {},
   "outputs": [
    {
     "data": {
      "text/plain": [
       "14"
      ]
     },
     "execution_count": 38,
     "metadata": {},
     "output_type": "execute_result"
    }
   ],
   "source": [
    "#takes input in form of string now to convert it into int we can do:\n",
    "c = int(a)\n",
    "d = int(b)\n",
    "c+d"
   ]
  },
  {
   "cell_type": "code",
   "execution_count": 39,
   "id": "834048fc",
   "metadata": {},
   "outputs": [
    {
     "name": "stdout",
     "output_type": "stream",
     "text": [
      "5\n",
      "9\n",
      "14\n",
      "<class 'int'>\n"
     ]
    }
   ],
   "source": [
    "#another option is this will only work for int\n",
    "a = int(input())\n",
    "b = int(input())\n",
    "print(a+b)\n",
    "print(type(a))"
   ]
  },
  {
   "cell_type": "code",
   "execution_count": 40,
   "id": "322586b6",
   "metadata": {},
   "outputs": [
    {
     "name": "stdout",
     "output_type": "stream",
     "text": [
      "9.56\n",
      ".65\n",
      "10.21\n"
     ]
    }
   ],
   "source": [
    "#now to take input in form of float (string should be valid float)\n",
    "c = float(input())\n",
    "d = float(input())\n",
    "e = c+d\n",
    "print(e)"
   ]
  },
  {
   "cell_type": "code",
   "execution_count": 41,
   "id": "0884f900",
   "metadata": {},
   "outputs": [
    {
     "name": "stdout",
     "output_type": "stream",
     "text": [
      "6\n",
      "9\n",
      "7\n",
      "3.0\n"
     ]
    }
   ],
   "source": [
    "#simple interset calculation from your input\n",
    "p = float(input()) #principle\n",
    "r = float(input()) #rate of interset\n",
    "t = float(input()) #time in years\n",
    "ai = (p*r*t)//100\n",
    "print(ai)"
   ]
  },
  {
   "cell_type": "code",
   "execution_count": 42,
   "id": "f386cbd6",
   "metadata": {},
   "outputs": [
    {
     "name": "stdout",
     "output_type": "stream",
     "text": [
      "6\n",
      "8\n",
      "8\n",
      "7.333333333333333\n"
     ]
    }
   ],
   "source": [
    "#Find average Marks\n",
    "m1 = int(input())\n",
    "m2 = int(input())\n",
    "m3 = int(input())\n",
    "avg = (m1+m2+m3)/3\n",
    "print(avg)"
   ]
  },
  {
   "cell_type": "code",
   "execution_count": 45,
   "id": "e6a157da",
   "metadata": {},
   "outputs": [
    {
     "name": "stdout",
     "output_type": "stream",
     "text": [
      "4\n",
      "3\n",
      "64\n"
     ]
    }
   ],
   "source": [
    "#Find X raised to power N\n",
    "x = int(input())\n",
    "N= int(input())\n",
    "ans =1\n",
    "while(N):\n",
    "    N=N-1\n",
    "    ans=ans*x\n",
    "print(ans)"
   ]
  }
 ],
 "metadata": {
  "kernelspec": {
   "display_name": "Python 3 (ipykernel)",
   "language": "python",
   "name": "python3"
  },
  "language_info": {
   "codemirror_mode": {
    "name": "ipython",
    "version": 3
   },
   "file_extension": ".py",
   "mimetype": "text/x-python",
   "name": "python",
   "nbconvert_exporter": "python",
   "pygments_lexer": "ipython3",
   "version": "3.9.13"
  }
 },
 "nbformat": 4,
 "nbformat_minor": 5
}
