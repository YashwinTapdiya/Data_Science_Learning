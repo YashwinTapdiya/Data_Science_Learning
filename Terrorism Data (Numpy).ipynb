{
 "cells": [
  {
   "cell_type": "code",
   "execution_count": 1,
   "id": "d31fc53c",
   "metadata": {},
   "outputs": [],
   "source": [
    "import numpy as np\n",
    "import csv"
   ]
  },
  {
   "cell_type": "code",
   "execution_count": 10,
   "id": "27fc1def",
   "metadata": {},
   "outputs": [
    {
     "name": "stdout",
     "output_type": "stream",
     "text": [
      "[0. 0. 0. ... 0. 0. 1.]\n",
      "2836\n",
      "3771.0\n"
     ]
    }
   ],
   "source": [
    "file_path=\"Dataset/terrorismData.csv\"\n",
    "\n",
    "#Killed in USA and tolal killed in usa\n",
    "with open(file_path,'r',encoding='utf-8') as file_obj:\n",
    "    data=csv.DictReader(file_obj,skipinitialspace=True)\n",
    "    killed=[]\n",
    "    country=[]\n",
    "    for row in data:\n",
    "        killed.append(row['Killed'])\n",
    "        country.append(row['Country'])\n",
    "np_country=np.array(country)\n",
    "np_killed=np.array(killed)\n",
    "np_killed[np_killed=='']='0.0'\n",
    "np_killed=np.array(np_killed,dtype=float)\n",
    "bool_arr= np_country=='United States'\n",
    "ans=np_killed[bool_arr]\n",
    "print(ans)\n",
    "print(len(ans))\n",
    "print(np.sum(ans))"
   ]
  },
  {
   "cell_type": "code",
   "execution_count": 34,
   "id": "e3f3f217",
   "metadata": {},
   "outputs": [
    {
     "name": "stdout",
     "output_type": "stream",
     "text": [
      "{'2': 5954, '0': 891, '1': 6344, '3': 6011, '6': 5781, '8': 5859, '9': 6057, '10': 6064, '11': 5936, '12': 6012, '13': 6043, '14': 6028, '15': 6500, '19': 5973, '20': 5930, '21': 5827, '22': 5799, '25': 5875, '26': 5823, '27': 5937, '28': 6027, '30': 5046, '31': 3095, '4': 6153, '7': 5997, '16': 6112, '17': 5852, '18': 5880, '23': 5782, '24': 5752, '5': 5844, '29': 5507}\n",
      "[ 2  0  1  3  6  8  9 10 11 12 13 14 15 19 20 21 22 25 26 27 28 30 31  4\n",
      "  7 16 17 18 23 24  5 29]\n",
      "[False False False False False False False  True  True  True  True  True\n",
      "  True  True  True False False False False False False False False False\n",
      " False  True  True  True False False False False]\n",
      "66330\n"
     ]
    }
   ],
   "source": [
    "#Count Number of attack between day 10 and day 20:\n",
    "file_path=\"Dataset/terrorismData.csv\"\n",
    "with open(file_path,'r',encoding='utf-8') as file_obj:\n",
    "    data=csv.DictReader(file_obj,skipinitialspace=True)\n",
    "    day={}\n",
    "    for row in data:\n",
    "        day[row['Day']]=day.get(row['Day'],0)+1\n",
    "print(day)\n",
    "np_day=np.array(list(day.keys()))\n",
    "np_count=np.array(list(day.values()))\n",
    "#print(np_day)\n",
    "#print(np_count)\n",
    "np_day=np.array(np_day,dtype=int)\n",
    "print(np_day)\n",
    "bool_arr=(np_day>9) & (np_day<21)\n",
    "print(bool_arr)\n",
    "ans=np_count[bool_arr]\n",
    "print(np.sum(ans))"
   ]
  },
  {
   "cell_type": "code",
   "execution_count": null,
   "id": "1ad3166b",
   "metadata": {},
   "outputs": [],
   "source": [
    "#TO BE CONTINUED::"
   ]
  }
 ],
 "metadata": {
  "kernelspec": {
   "display_name": "Python 3 (ipykernel)",
   "language": "python",
   "name": "python3"
  },
  "language_info": {
   "codemirror_mode": {
    "name": "ipython",
    "version": 3
   },
   "file_extension": ".py",
   "mimetype": "text/x-python",
   "name": "python",
   "nbconvert_exporter": "python",
   "pygments_lexer": "ipython3",
   "version": "3.9.13"
  }
 },
 "nbformat": 4,
 "nbformat_minor": 5
}
