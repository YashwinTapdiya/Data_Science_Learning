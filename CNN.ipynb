{
 "cells": [
  {
   "cell_type": "code",
   "execution_count": null,
   "id": "8f8d66c7",
   "metadata": {},
   "outputs": [],
   "source": []
  },
  {
   "cell_type": "code",
   "execution_count": 1,
   "id": "8255f685",
   "metadata": {},
   "outputs": [
    {
     "name": "stdout",
     "output_type": "stream",
     "text": [
      "WARNING:tensorflow:From C:\\Users\\yashw\\New folder\\lib\\site-packages\\tensorflow\\python\\compat\\v2_compat.py:107: disable_resource_variables (from tensorflow.python.ops.variable_scope) is deprecated and will be removed in a future version.\n",
      "Instructions for updating:\n",
      "non-resource variables are not supported in the long term\n"
     ]
    }
   ],
   "source": [
    "from tensorflow.keras.datasets import mnist\n",
    "import tensorflow.compat.v1 as tf\n",
    "tf.disable_v2_behavior()"
   ]
  },
  {
   "cell_type": "code",
   "execution_count": 2,
   "id": "4483ef87",
   "metadata": {},
   "outputs": [
    {
     "data": {
      "text/plain": [
       "((60000, 784), (60000, 10))"
      ]
     },
     "execution_count": 2,
     "metadata": {},
     "output_type": "execute_result"
    }
   ],
   "source": [
    "data = mnist.load_data()\n",
    "x_train = data[0][0]\n",
    "y_train = data[0][1]\n",
    "x_train = x_train.reshape(60000, 784)\n",
    "from sklearn.preprocessing import OneHotEncoder\n",
    "labels_array = y_train\n",
    "encoder = OneHotEncoder()\n",
    "labels_array_reshaped = labels_array.reshape(-1, 1)\n",
    "encoded_array = encoder.fit_transform(labels_array_reshaped)\n",
    "encoded_array_dense = encoded_array.toarray()\n",
    "y_train = encoded_array_dense\n",
    "x_train.shape , y_train.shape"
   ]
  },
  {
   "cell_type": "code",
   "execution_count": 3,
   "id": "dba0b23a",
   "metadata": {},
   "outputs": [
    {
     "data": {
      "text/plain": [
       "((10000, 784), (10000, 10))"
      ]
     },
     "execution_count": 3,
     "metadata": {},
     "output_type": "execute_result"
    }
   ],
   "source": [
    "x_test = data[1][0]\n",
    "y_test = data[1][1]\n",
    "x_test = x_test.reshape(10000, 784)\n",
    "from sklearn.preprocessing import OneHotEncoder\n",
    "labels_array = y_test\n",
    "encoder = OneHotEncoder()\n",
    "labels_array_reshaped = labels_array.reshape(-1, 1)\n",
    "encoded_array = encoder.fit_transform(labels_array_reshaped)\n",
    "encoded_array_dense = encoded_array.toarray()\n",
    "y_test = encoded_array_dense\n",
    "x_test.shape , y_test.shape"
   ]
  },
  {
   "cell_type": "code",
   "execution_count": 4,
   "id": "ea61d12f",
   "metadata": {},
   "outputs": [],
   "source": [
    "input_width = 28\n",
    "input_height = 28\n",
    "input_channels = 1\n",
    "input_pixels = 784\n",
    "\n",
    "n_conv1 = 32\n",
    "n_conv2 = 64\n",
    "stride_conv1 = 1\n",
    "stride_conv2 = 1\n",
    "conv1_k = 5\n",
    "conv2_k = 5\n",
    "max_pool1_k = 2\n",
    "max_pool2_k = 2\n",
    "\n",
    "n_hidden = 1024\n",
    "n_out = 10\n",
    "\n",
    "input_size_to_hidden = (input_width//(max_pool1_k*max_pool2_k)) * (input_height//(max_pool1_k*max_pool2_k)) *n_conv2"
   ]
  },
  {
   "cell_type": "code",
   "execution_count": 5,
   "id": "775e3a49",
   "metadata": {},
   "outputs": [],
   "source": [
    "weights = {\n",
    "    \"wc1\" : tf.Variable(tf.random.normal([conv1_k, conv1_k, input_channels, n_conv1])),\n",
    "    \"wc2\" : tf.Variable(tf.random.normal([conv2_k, conv2_k, n_conv1, n_conv2])),\n",
    "    \"wh1\" : tf.Variable(tf.random.normal([input_size_to_hidden, n_hidden])),\n",
    "    \"wo\" : tf.Variable(tf.random.normal([n_hidden, n_out]))\n",
    "}\n",
    "\n",
    "biases = {\n",
    "    \"bc1\" : tf.Variable(tf.random.normal([n_conv1])),\n",
    "    \"bc2\" : tf.Variable(tf.random.normal([n_conv2])),\n",
    "    \"bh1\" : tf.Variable(tf.random.normal([n_hidden])),\n",
    "    \"bo\" : tf.Variable(tf.random.normal([n_out])),\n",
    "}"
   ]
  },
  {
   "cell_type": "code",
   "execution_count": 6,
   "id": "84d28344",
   "metadata": {},
   "outputs": [],
   "source": [
    "def conv(x, weights, bias, strides = 1):\n",
    "    out = tf.nn.conv2d(x, weights, padding=\"SAME\", strides = [1, strides, strides, 1])\n",
    "    out = tf.nn.bias_add(out, bias)\n",
    "    out = tf.nn.relu(out)\n",
    "    return out\n",
    "\n",
    "def maxpooling(x, k = 2):\n",
    "    return tf.nn.max_pool(x, padding = \"SAME\", ksize = [1, k, k, 1], strides = [1, k, k, 1])"
   ]
  },
  {
   "cell_type": "code",
   "execution_count": 13,
   "id": "487dab0e",
   "metadata": {},
   "outputs": [],
   "source": [
    "def cnn(x, weights, biases,keep_prob):\n",
    "    x = tf.reshape(x,shape = [-1,input_height,input_width,input_channels])\n",
    "    conv1 = conv(x,weights['wc1'],biases['bc1'],stride_conv1)\n",
    "    conv1_pool = maxpooling(conv1,max_pool1_k)\n",
    "    \n",
    "    conv2 = conv(conv1_pool,weights['wc2'],biases['bc2'],stride_conv2)\n",
    "    conv2_pool = maxpooling(conv2,max_pool2_k)\n",
    "    \n",
    "    hidden_input = tf.reshape(conv2_pool,shape = [-1,input_size_to_hidden])\n",
    "    hidden_output_before_activation = tf.add(tf.matmul(hidden_input,weights['wh1']),biases['bh1'])\n",
    "    hidden_output_before_droput = tf.nn.relu(hidden_output_before_activation)\n",
    "    #dropout layer\n",
    "    hidden_output = tf.nn.dropout(hidden_output_before_droput,keep_prob)\n",
    "    output = tf.add(tf.matmul(hidden_output,weights['wo']),biases['bo'])\n",
    "    return output"
   ]
  },
  {
   "cell_type": "code",
   "execution_count": 14,
   "id": "d2cafba9",
   "metadata": {},
   "outputs": [
    {
     "name": "stdout",
     "output_type": "stream",
     "text": [
      "WARNING:tensorflow:From C:\\Users\\yashw\\New folder\\lib\\site-packages\\tensorflow\\python\\util\\dispatch.py:1176: calling dropout (from tensorflow.python.ops.nn_ops) with keep_prob is deprecated and will be removed in a future version.\n",
      "Instructions for updating:\n",
      "Please use `rate` instead of `keep_prob`. Rate should be set to `rate = 1 - keep_prob`.\n"
     ]
    }
   ],
   "source": [
    "x = tf.placeholder(\"float\",[None,input_pixels])\n",
    "y = tf.placeholder(tf.int32,[None,n_out])\n",
    "keep_prob = tf.placeholder('float')\n",
    "pred = cnn(x,weights,biases,keep_prob)"
   ]
  },
  {
   "cell_type": "code",
   "execution_count": 9,
   "id": "63378df5",
   "metadata": {},
   "outputs": [],
   "source": [
    "cost = tf.reduce_mean(tf.nn.softmax_cross_entropy_with_logits_v2(logits=pred, labels = y))"
   ]
  },
  {
   "cell_type": "code",
   "execution_count": 10,
   "id": "90baef65",
   "metadata": {},
   "outputs": [],
   "source": [
    "optimizer = tf.train.AdamOptimizer(learning_rate=0.01)\n",
    "optimize = optimizer.minimize(cost)"
   ]
  },
  {
   "cell_type": "code",
   "execution_count": 11,
   "id": "02938885",
   "metadata": {},
   "outputs": [],
   "source": [
    "sess = tf.Session()\n",
    "sess.run(tf.global_variables_initializer())"
   ]
  },
  {
   "cell_type": "code",
   "execution_count": null,
   "id": "f97d3277",
   "metadata": {},
   "outputs": [],
   "source": [
    "for i in range(25):\n",
    "    c, _ = sess.run([cost,optimize], feed_dict={x:x_train , y:y_train})\n",
    "    print(c)"
   ]
  },
  {
   "cell_type": "code",
   "execution_count": null,
   "id": "73f719ed",
   "metadata": {},
   "outputs": [],
   "source": []
  }
 ],
 "metadata": {
  "kernelspec": {
   "display_name": "Python 3 (ipykernel)",
   "language": "python",
   "name": "python3"
  },
  "language_info": {
   "codemirror_mode": {
    "name": "ipython",
    "version": 3
   },
   "file_extension": ".py",
   "mimetype": "text/x-python",
   "name": "python",
   "nbconvert_exporter": "python",
   "pygments_lexer": "ipython3",
   "version": "3.9.13"
  }
 },
 "nbformat": 4,
 "nbformat_minor": 5
}
