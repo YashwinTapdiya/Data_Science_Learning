{
 "cells": [
  {
   "cell_type": "markdown",
   "id": "63df87e5",
   "metadata": {},
   "source": [
    "# boolean data type\n"
   ]
  },
  {
   "cell_type": "code",
   "execution_count": 1,
   "id": "652e88e2",
   "metadata": {},
   "outputs": [],
   "source": [
    "a = True\n",
    "b = False"
   ]
  },
  {
   "cell_type": "code",
   "execution_count": 2,
   "id": "b107a9d6",
   "metadata": {},
   "outputs": [
    {
     "data": {
      "text/plain": [
       "bool"
      ]
     },
     "execution_count": 2,
     "metadata": {},
     "output_type": "execute_result"
    }
   ],
   "source": [
    "type(a)"
   ]
  },
  {
   "cell_type": "markdown",
   "id": "f8cf3aa0",
   "metadata": {},
   "source": [
    "### Relational Operators"
   ]
  },
  {
   "cell_type": "code",
   "execution_count": 3,
   "id": "1899bbbd",
   "metadata": {},
   "outputs": [
    {
     "name": "stdout",
     "output_type": "stream",
     "text": [
      "False\n",
      "True\n",
      "False\n",
      "True\n",
      "False\n",
      "True\n"
     ]
    }
   ],
   "source": [
    "a = 10\n",
    "b = 20\n",
    "print(a>b)\n",
    "print(a<b)\n",
    "print(a>=b)\n",
    "print(a<=b)\n",
    "print(a==b)\n",
    "print(a!=b)"
   ]
  },
  {
   "cell_type": "markdown",
   "id": "c98abdfb",
   "metadata": {},
   "source": [
    "### Logical operators\n"
   ]
  },
  {
   "cell_type": "code",
   "execution_count": 4,
   "id": "de43a937",
   "metadata": {},
   "outputs": [
    {
     "name": "stdout",
     "output_type": "stream",
     "text": [
      "False\n",
      "True\n",
      "False\n",
      "True\n"
     ]
    }
   ],
   "source": [
    "# and , or opertor\n",
    "c1 = a>10\n",
    "c2 = b>10\n",
    "print(c1)\n",
    "print(c2)\n",
    "print(c2 and c1) # and both have to be true for sol to be true\n",
    "print(c1 or c2) # or any one of condition need to be true for dol to be true"
   ]
  },
  {
   "cell_type": "code",
   "execution_count": 5,
   "id": "b1147ff0",
   "metadata": {},
   "outputs": [
    {
     "name": "stdout",
     "output_type": "stream",
     "text": [
      "True\n",
      "False\n"
     ]
    }
   ],
   "source": [
    "# not operator\n",
    "a = 20\n",
    "c1 = a >10\n",
    "print(c1)\n",
    "print(not(c1))"
   ]
  },
  {
   "cell_type": "markdown",
   "id": "c3809c49",
   "metadata": {},
   "source": [
    "## If - Else "
   ]
  },
  {
   "cell_type": "code",
   "execution_count": 6,
   "id": "e7b0f8d6",
   "metadata": {},
   "outputs": [
    {
     "name": "stdout",
     "output_type": "stream",
     "text": [
      "I am inside if\n"
     ]
    }
   ],
   "source": [
    "a = True\n",
    "if a:\n",
    "    print(\"I am inside if\")\n",
    "else:\n",
    "    print(\"I am indide else\")"
   ]
  },
  {
   "cell_type": "code",
   "execution_count": 7,
   "id": "89d48f1e",
   "metadata": {},
   "outputs": [
    {
     "name": "stdout",
     "output_type": "stream",
     "text": [
      "Number is odd\n"
     ]
    }
   ],
   "source": [
    "# check number to be odd or even\n",
    "a = 11\n",
    "if a%2:\n",
    "    print(\"Number is odd\")\n",
    "else:\n",
    "    print(\"Number is even\")"
   ]
  },
  {
   "cell_type": "code",
   "execution_count": 8,
   "id": "84c1a8d0",
   "metadata": {},
   "outputs": [
    {
     "name": "stdout",
     "output_type": "stream",
     "text": [
      "11\n",
      "12\n",
      "both a and b are greater than 10\n"
     ]
    }
   ],
   "source": [
    "a = int(input())\n",
    "b = int(input())\n",
    "if (a>10 and b>10):\n",
    "    print(\"both a and b are greater than 10\")\n",
    "else:\n",
    "    print(\"no both numbers are not greater than 10\")"
   ]
  },
  {
   "cell_type": "markdown",
   "id": "cc56fae8",
   "metadata": {},
   "source": [
    "### using IF_ELIF"
   ]
  },
  {
   "cell_type": "code",
   "execution_count": 9,
   "id": "07653112",
   "metadata": {},
   "outputs": [
    {
     "name": "stdout",
     "output_type": "stream",
     "text": [
      "12\n",
      "a is greater than 10\n"
     ]
    }
   ],
   "source": [
    "a = int(input())\n",
    "if (a<10):\n",
    "    print(\"a is else then 10\")\n",
    "elif (a==10):\n",
    "    print(\"a is equal to 10\")\n",
    "else:\n",
    "    print(\"a is greater than 10\")"
   ]
  },
  {
   "cell_type": "code",
   "execution_count": 10,
   "id": "357a1754",
   "metadata": {},
   "outputs": [
    {
     "name": "stdout",
     "output_type": "stream",
     "text": [
      "3\n",
      "43\n",
      "4\n",
      "b is largest\n"
     ]
    }
   ],
   "source": [
    "#out of a,b,c print largest\n",
    "a =int(input())\n",
    "b=int(input())\n",
    "c=int(input())\n",
    "if(a>=b and a>=c):\n",
    "    print(\"a is largest\")\n",
    "elif(b>=a and b>=c):\n",
    "    print(\"b is largest\")\n",
    "else:\n",
    "    print(\"c is largest\")"
   ]
  },
  {
   "cell_type": "markdown",
   "id": "9334ab31",
   "metadata": {},
   "source": [
    "### nested_IF_ELSE"
   ]
  },
  {
   "cell_type": "code",
   "execution_count": 11,
   "id": "b2828b28",
   "metadata": {},
   "outputs": [
    {
     "name": "stdout",
     "output_type": "stream",
     "text": [
      "54\n",
      "n is even\n"
     ]
    }
   ],
   "source": [
    "n = int(input())\n",
    "if(n%2):\n",
    "    print(\"n is odd\")\n",
    "else:\n",
    "    if(n==0):\n",
    "        print(\"n is even as well as zero\")\n",
    "    else:\n",
    "        print(\"n is even\")"
   ]
  },
  {
   "cell_type": "markdown",
   "id": "4492ef45",
   "metadata": {},
   "source": [
    "## while loops\n"
   ]
  },
  {
   "cell_type": "code",
   "execution_count": 12,
   "id": "48872d31",
   "metadata": {},
   "outputs": [
    {
     "name": "stdout",
     "output_type": "stream",
     "text": [
      "10\n",
      "10\n",
      "9\n",
      "8\n",
      "7\n",
      "6\n",
      "5\n",
      "4\n",
      "3\n",
      "2\n",
      "1\n"
     ]
    }
   ],
   "source": [
    "n = int(input())\n",
    "while(n):\n",
    "    print(n)\n",
    "    n=n-1"
   ]
  },
  {
   "cell_type": "code",
   "execution_count": 13,
   "id": "b11811c9",
   "metadata": {},
   "outputs": [
    {
     "name": "stdout",
     "output_type": "stream",
     "text": [
      "4\n",
      "1\n",
      "2\n",
      "3\n",
      "4\n"
     ]
    }
   ],
   "source": [
    "# print first n natural number\n",
    "n = int(input())\n",
    "ans =1\n",
    "while(ans<=n):\n",
    "    print(ans)\n",
    "    ans=ans+1"
   ]
  },
  {
   "cell_type": "code",
   "execution_count": 14,
   "id": "baf747b0",
   "metadata": {},
   "outputs": [
    {
     "name": "stdout",
     "output_type": "stream",
     "text": [
      "10\n",
      "55\n"
     ]
    }
   ],
   "source": [
    "#sum of first n natural number using while loop\n",
    "n = int(input())\n",
    "sum =0\n",
    "while(n!=0):\n",
    "    sum+=n\n",
    "    n=n-1\n",
    "print(sum)    "
   ]
  },
  {
   "cell_type": "code",
   "execution_count": 15,
   "id": "872c245f",
   "metadata": {},
   "outputs": [
    {
     "name": "stdout",
     "output_type": "stream",
     "text": [
      "10\n",
      "30\n"
     ]
    }
   ],
   "source": [
    "#sum of first n natural number which are even using while loop\n",
    "n = int(input())\n",
    "sum=0\n",
    "while(n!=0):\n",
    "    if(n%2==0):\n",
    "        sum+=n\n",
    "    n=n-1\n",
    "print(sum)    "
   ]
  },
  {
   "cell_type": "markdown",
   "id": "634b0d52",
   "metadata": {},
   "source": [
    "#### Checking if number is prime or not"
   ]
  },
  {
   "cell_type": "code",
   "execution_count": 16,
   "id": "c4fe8d3f",
   "metadata": {},
   "outputs": [
    {
     "name": "stdout",
     "output_type": "stream",
     "text": [
      "31\n",
      "Given Number is prime\n"
     ]
    }
   ],
   "source": [
    "n = int(input())\n",
    "fact=0\n",
    "i=1\n",
    "while(i<=n):\n",
    "    if(n%i==0):\n",
    "        fact=fact+1\n",
    "    i=i+1\n",
    "if(fact==2):\n",
    "    print(\"Given Number is prime\")"
   ]
  },
  {
   "cell_type": "markdown",
   "id": "b5ba7bb2",
   "metadata": {},
   "source": [
    "### nested loops"
   ]
  },
  {
   "cell_type": "code",
   "execution_count": null,
   "id": "da9dc4d3",
   "metadata": {},
   "outputs": [],
   "source": []
  }
 ],
 "metadata": {
  "kernelspec": {
   "display_name": "Python 3 (ipykernel)",
   "language": "python",
   "name": "python3"
  },
  "language_info": {
   "codemirror_mode": {
    "name": "ipython",
    "version": 3
   },
   "file_extension": ".py",
   "mimetype": "text/x-python",
   "name": "python",
   "nbconvert_exporter": "python",
   "pygments_lexer": "ipython3",
   "version": "3.9.13"
  }
 },
 "nbformat": 4,
 "nbformat_minor": 5
}
