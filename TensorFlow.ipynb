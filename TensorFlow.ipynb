{
 "cells": [
  {
   "cell_type": "code",
   "execution_count": 33,
   "id": "04affe8c",
   "metadata": {},
   "outputs": [],
   "source": [
    "import tensorflow.compat.v1 as tf\n",
    "tf.disable_v2_behavior()"
   ]
  },
  {
   "cell_type": "markdown",
   "id": "8b96db35",
   "metadata": {},
   "source": [
    "### constant"
   ]
  },
  {
   "cell_type": "code",
   "execution_count": 34,
   "id": "8b5c808f",
   "metadata": {},
   "outputs": [
    {
     "data": {
      "text/plain": [
       "(<tf.Tensor 'Const_10:0' shape=() dtype=int32>,\n",
       " <tf.Tensor 'Const_11:0' shape=() dtype=int32>)"
      ]
     },
     "execution_count": 34,
     "metadata": {},
     "output_type": "execute_result"
    }
   ],
   "source": [
    "a = tf.constant(2)\n",
    "b = tf.constant(3)\n",
    "a,b"
   ]
  },
  {
   "cell_type": "code",
   "execution_count": 35,
   "id": "f7d046ac",
   "metadata": {},
   "outputs": [
    {
     "data": {
      "text/plain": [
       "<tf.Tensor 'add_7:0' shape=() dtype=int32>"
      ]
     },
     "execution_count": 35,
     "metadata": {},
     "output_type": "execute_result"
    }
   ],
   "source": [
    "c = a + b\n",
    "c"
   ]
  },
  {
   "cell_type": "code",
   "execution_count": 36,
   "id": "0828c068",
   "metadata": {},
   "outputs": [
    {
     "data": {
      "text/plain": [
       "5"
      ]
     },
     "execution_count": 36,
     "metadata": {},
     "output_type": "execute_result"
    }
   ],
   "source": [
    "sess = tf.Session()\n",
    "sess.run(c)"
   ]
  },
  {
   "cell_type": "code",
   "execution_count": 37,
   "id": "a5a64a0b",
   "metadata": {},
   "outputs": [],
   "source": [
    "a1 = tf.constant([[3,3]])\n",
    "a2 = tf.constant([[3],[3]])"
   ]
  },
  {
   "cell_type": "code",
   "execution_count": 38,
   "id": "14b6241e",
   "metadata": {},
   "outputs": [
    {
     "data": {
      "text/plain": [
       "<tf.Tensor 'MatMul_5:0' shape=(1, 1) dtype=int32>"
      ]
     },
     "execution_count": 38,
     "metadata": {},
     "output_type": "execute_result"
    }
   ],
   "source": [
    "tf.matmul(a1,a2)"
   ]
  },
  {
   "cell_type": "code",
   "execution_count": 39,
   "id": "0c682885",
   "metadata": {},
   "outputs": [
    {
     "data": {
      "text/plain": [
       "array([[18]])"
      ]
     },
     "execution_count": 39,
     "metadata": {},
     "output_type": "execute_result"
    }
   ],
   "source": [
    "sess.run(tf.matmul(a1,a2))"
   ]
  },
  {
   "cell_type": "markdown",
   "id": "1004d5e9",
   "metadata": {},
   "source": [
    "### session"
   ]
  },
  {
   "cell_type": "code",
   "execution_count": 40,
   "id": "cb2c82fa",
   "metadata": {},
   "outputs": [
    {
     "name": "stdout",
     "output_type": "stream",
     "text": [
      "5\n",
      "5\n"
     ]
    }
   ],
   "source": [
    "a = tf.constant(2)\n",
    "b = tf.constant(3)\n",
    "c = a+b\n",
    "with tf.Session() as sess:\n",
    "    print(sess.run(c))\n",
    "    print(c.eval())"
   ]
  },
  {
   "cell_type": "code",
   "execution_count": 41,
   "id": "c3ca3fa1",
   "metadata": {},
   "outputs": [
    {
     "name": "stdout",
     "output_type": "stream",
     "text": [
      "5\n",
      "5\n",
      "Tensor(\"Add_9:0\", shape=(), dtype=int32)\n"
     ]
    }
   ],
   "source": [
    "a = tf.constant(2)\n",
    "b = tf.constant(3)\n",
    "c = tf.add(a,b)\n",
    "with tf.Session() as sess:\n",
    "    print(sess.run(c))\n",
    "    print(c.eval())\n",
    "print(c)"
   ]
  },
  {
   "cell_type": "markdown",
   "id": "7efb77c9",
   "metadata": {},
   "source": [
    "### variables"
   ]
  },
  {
   "cell_type": "code",
   "execution_count": 42,
   "id": "655073af",
   "metadata": {},
   "outputs": [
    {
     "data": {
      "text/plain": [
       "<tf.Variable 'Variable_8:0' shape=() dtype=int32_ref>"
      ]
     },
     "execution_count": 42,
     "metadata": {},
     "output_type": "execute_result"
    }
   ],
   "source": [
    "var1 = tf.Variable(100)\n",
    "var1"
   ]
  },
  {
   "cell_type": "code",
   "execution_count": 43,
   "id": "1940f0e9",
   "metadata": {},
   "outputs": [
    {
     "data": {
      "text/plain": [
       "<tf.Variable 'Variable_9:0' shape=() dtype=int32_ref>"
      ]
     },
     "execution_count": 43,
     "metadata": {},
     "output_type": "execute_result"
    }
   ],
   "source": [
    "var2 = tf.Variable(3)\n",
    "var2"
   ]
  },
  {
   "cell_type": "code",
   "execution_count": 44,
   "id": "54990a95",
   "metadata": {},
   "outputs": [
    {
     "data": {
      "text/plain": [
       "103"
      ]
     },
     "execution_count": 44,
     "metadata": {},
     "output_type": "execute_result"
    }
   ],
   "source": [
    "sum = tf.add(var1,var2)\n",
    "sess = tf.Session()\n",
    "sess.run(tf.global_variables_initializer())\n",
    "sess.run(sum)"
   ]
  },
  {
   "cell_type": "code",
   "execution_count": 45,
   "id": "03fd3c91",
   "metadata": {},
   "outputs": [
    {
     "data": {
      "text/plain": [
       "100"
      ]
     },
     "execution_count": 45,
     "metadata": {},
     "output_type": "execute_result"
    }
   ],
   "source": [
    "# this will not change value of the variable\n",
    "var1.assign(1232)\n",
    "sess.run(var1)"
   ]
  },
  {
   "cell_type": "code",
   "execution_count": 46,
   "id": "586499ca",
   "metadata": {},
   "outputs": [
    {
     "data": {
      "text/plain": [
       "1232"
      ]
     },
     "execution_count": 46,
     "metadata": {},
     "output_type": "execute_result"
    }
   ],
   "source": [
    "sess.run(var1.assign(1232))\n",
    "sess.run(var1)"
   ]
  },
  {
   "cell_type": "code",
   "execution_count": 47,
   "id": "a6f3d86f",
   "metadata": {},
   "outputs": [
    {
     "data": {
      "text/plain": [
       "1235"
      ]
     },
     "execution_count": 47,
     "metadata": {},
     "output_type": "execute_result"
    }
   ],
   "source": [
    "sess.run(sum)"
   ]
  },
  {
   "cell_type": "markdown",
   "id": "c71e5e94",
   "metadata": {},
   "source": [
    "### Placeholder"
   ]
  },
  {
   "cell_type": "code",
   "execution_count": 48,
   "id": "a71a08c7",
   "metadata": {},
   "outputs": [
    {
     "data": {
      "text/plain": [
       "120"
      ]
     },
     "execution_count": 48,
     "metadata": {},
     "output_type": "execute_result"
    }
   ],
   "source": [
    "x = tf.placeholder(tf.int32)\n",
    "y = x * tf.constant(12)\n",
    "sess.run(y,feed_dict={x:10})"
   ]
  },
  {
   "cell_type": "code",
   "execution_count": 49,
   "id": "9020aa5a",
   "metadata": {},
   "outputs": [
    {
     "data": {
      "text/plain": [
       "array([[12, 24, 36],\n",
       "       [48, 60, 72]])"
      ]
     },
     "execution_count": 49,
     "metadata": {},
     "output_type": "execute_result"
    }
   ],
   "source": [
    "x = tf.placeholder(tf.int32,shape = (2,3))\n",
    "y = x * tf.constant(12)\n",
    "sess.run(y,feed_dict={x:[[1,2,3],[4,5,6]]})"
   ]
  },
  {
   "cell_type": "markdown",
   "id": "172e8cab",
   "metadata": {},
   "source": [
    "# MNIST Data"
   ]
  },
  {
   "cell_type": "code",
   "execution_count": 66,
   "id": "4cabeba6",
   "metadata": {},
   "outputs": [],
   "source": [
    "from tensorflow.keras.datasets import mnist"
   ]
  },
  {
   "cell_type": "code",
   "execution_count": 67,
   "id": "0c2832ae",
   "metadata": {},
   "outputs": [
    {
     "data": {
      "text/plain": [
       "((60000, 784), (60000, 10))"
      ]
     },
     "execution_count": 67,
     "metadata": {},
     "output_type": "execute_result"
    }
   ],
   "source": [
    "data = mnist.load_data()\n",
    "x_train = data[0][0]\n",
    "y_train = data[0][1]\n",
    "x_train = x_train.reshape(60000, 784)\n",
    "from sklearn.preprocessing import OneHotEncoder\n",
    "labels_array = y_train\n",
    "encoder = OneHotEncoder()\n",
    "labels_array_reshaped = labels_array.reshape(-1, 1)\n",
    "encoded_array = encoder.fit_transform(labels_array_reshaped)\n",
    "encoded_array_dense = encoded_array.toarray()\n",
    "y_train = encoded_array_dense\n",
    "x_train.shape , y_train.shape"
   ]
  },
  {
   "cell_type": "code",
   "execution_count": 68,
   "id": "39f9e187",
   "metadata": {},
   "outputs": [
    {
     "data": {
      "text/plain": [
       "((10000, 784), (10000, 10))"
      ]
     },
     "execution_count": 68,
     "metadata": {},
     "output_type": "execute_result"
    }
   ],
   "source": [
    "x_test = data[1][0]\n",
    "y_test = data[1][1]\n",
    "x_test = x_test.reshape(10000, 784)\n",
    "from sklearn.preprocessing import OneHotEncoder\n",
    "labels_array = y_test\n",
    "encoder = OneHotEncoder()\n",
    "labels_array_reshaped = labels_array.reshape(-1, 1)\n",
    "encoded_array = encoder.fit_transform(labels_array_reshaped)\n",
    "encoded_array_dense = encoded_array.toarray()\n",
    "y_test = encoded_array_dense\n",
    "x_test.shape , y_test.shape"
   ]
  },
  {
   "cell_type": "code",
   "execution_count": 69,
   "id": "fc509520",
   "metadata": {},
   "outputs": [
    {
     "data": {
      "image/png": "[encoded data removed]",
      "text/plain": [
       "<Figure size 640x480 with 1 Axes>"
      ]
     },
     "metadata": {},
     "output_type": "display_data"
    }
   ],
   "source": [
    "import numpy as np\n",
    "from matplotlib import pyplot as plt\n",
    "first_image = x_test[2]\n",
    "first_image = np.array(first_image,dtype='float')\n",
    "first_image = first_image.reshape((28,28))\n",
    "plt.imshow(first_image)\n",
    "plt.show()"
   ]
  },
  {
   "cell_type": "markdown",
   "id": "57c69ccd",
   "metadata": {},
   "source": [
    "### Initializing weights and biases"
   ]
  },
  {
   "cell_type": "code",
   "execution_count": 70,
   "id": "9c7c32b7",
   "metadata": {},
   "outputs": [],
   "source": [
    "n_input = 784\n",
    "n_hidden_1 = 256\n",
    "n_hidden_2 = 256\n",
    "n_classes = 10\n",
    "\n",
    "weights = {\n",
    "    \"h1\" : tf.Variable(tf.random_normal([n_input,n_hidden_1])),\n",
    "    \"h2\" : tf.Variable(tf.random_normal([n_hidden_1,n_hidden_2])),\n",
    "    \"out\": tf.Variable(tf.random_normal([n_hidden_2,n_classes]))\n",
    "}\n",
    "\n",
    "biases = {\n",
    "    \"h1\" : tf.Variable(tf.random_normal([n_hidden_1])),\n",
    "    \"h2\" : tf.Variable(tf.random_normal([n_hidden_2])),\n",
    "    \"out\": tf.Variable(tf.random_normal([n_classes]))\n",
    "}"
   ]
  },
  {
   "cell_type": "markdown",
   "id": "deb32ca7",
   "metadata": {},
   "source": [
    "### forward propagation"
   ]
  },
  {
   "cell_type": "code",
   "execution_count": 71,
   "id": "25fb42b3",
   "metadata": {},
   "outputs": [],
   "source": [
    "def forward_propagation(x,weights,biases):\n",
    "    in_layer1 = tf.add(tf.matmul(x,weights['h1']),biases['h1'])\n",
    "    out_layer1= tf.nn.relu(in_layer1)\n",
    "    \n",
    "    in_layer2 = tf.add(tf.matmul(out_layer1,weights['h2']),biases['h2'])\n",
    "    out_layer2 = tf.nn.relu(in_layer2)\n",
    "    \n",
    "    output = tf.add(tf.matmul(out_layer2,weights['out']),biases['out'])\n",
    "    return output"
   ]
  },
  {
   "cell_type": "code",
   "execution_count": 81,
   "id": "d49a9c4e",
   "metadata": {},
   "outputs": [],
   "source": [
    "sess = tf.Session()\n",
    "sess.run(tf.global_variables_initializer())\n",
    "x = tf.placeholder(tf.int32,[None,n_input])\n",
    "y = tf.placeholder(tf.int32,[None,n_classes])"
   ]
  },
  {
   "cell_type": "markdown",
   "id": "e6f7eeff",
   "metadata": {},
   "source": [
    "#### Cost function"
   ]
  },
  {
   "cell_type": "code",
   "execution_count": 82,
   "id": "fffa4896",
   "metadata": {},
   "outputs": [
    {
     "ename": "InvalidArgumentError",
     "evalue": "Graph execution error:\n\nDetected at node 'Placeholder_2' defined at (most recent call last):\n    File \"C:\\Users\\yashw\\New folder\\lib\\runpy.py\", line 197, in _run_module_as_main\n      return _run_code(code, main_globals, None,\n    File \"C:\\Users\\yashw\\New folder\\lib\\runpy.py\", line 87, in _run_code\n      exec(code, run_globals)\n    File \"C:\\Users\\yashw\\New folder\\lib\\site-packages\\ipykernel_launcher.py\", line 17, in <module>\n      app.launch_new_instance()\n    File \"C:\\Users\\yashw\\New folder\\lib\\site-packages\\traitlets\\config\\application.py\", line 992, in launch_instance\n      app.start()\n    File \"C:\\Users\\yashw\\New folder\\lib\\site-packages\\ipykernel\\kernelapp.py\", line 711, in start\n      self.io_loop.start()\n    File \"C:\\Users\\yashw\\New folder\\lib\\site-packages\\tornado\\platform\\asyncio.py\", line 215, in start\n      self.asyncio_loop.run_forever()\n    File \"C:\\Users\\yashw\\New folder\\lib\\asyncio\\base_events.py\", line 601, in run_forever\n      self._run_once()\n    File \"C:\\Users\\yashw\\New folder\\lib\\asyncio\\base_events.py\", line 1905, in _run_once\n      handle._run()\n    File \"C:\\Users\\yashw\\New folder\\lib\\asyncio\\events.py\", line 80, in _run\n      self._context.run(self._callback, *self._args)\n    File \"C:\\Users\\yashw\\New folder\\lib\\site-packages\\ipykernel\\kernelbase.py\", line 510, in dispatch_queue\n      await self.process_one()\n    File \"C:\\Users\\yashw\\New folder\\lib\\site-packages\\ipykernel\\kernelbase.py\", line 499, in process_one\n      await dispatch(*args)\n    File \"C:\\Users\\yashw\\New folder\\lib\\site-packages\\ipykernel\\kernelbase.py\", line 406, in dispatch_shell\n      await result\n    File \"C:\\Users\\yashw\\New folder\\lib\\site-packages\\ipykernel\\kernelbase.py\", line 729, in execute_request\n      reply_content = await reply_content\n    File \"C:\\Users\\yashw\\New folder\\lib\\site-packages\\ipykernel\\ipkernel.py\", line 411, in do_execute\n      res = shell.run_cell(\n    File \"C:\\Users\\yashw\\New folder\\lib\\site-packages\\ipykernel\\zmqshell.py\", line 531, in run_cell\n      return super().run_cell(*args, **kwargs)\n    File \"C:\\Users\\yashw\\New folder\\lib\\site-packages\\IPython\\core\\interactiveshell.py\", line 3006, in run_cell\n      result = self._run_cell(\n    File \"C:\\Users\\yashw\\New folder\\lib\\site-packages\\IPython\\core\\interactiveshell.py\", line 3061, in _run_cell\n      result = runner(coro)\n    File \"C:\\Users\\yashw\\New folder\\lib\\site-packages\\IPython\\core\\async_helpers.py\", line 129, in _pseudo_sync_runner\n      coro.send(None)\n    File \"C:\\Users\\yashw\\New folder\\lib\\site-packages\\IPython\\core\\interactiveshell.py\", line 3266, in run_cell_async\n      has_raised = await self.run_ast_nodes(code_ast.body, cell_name,\n    File \"C:\\Users\\yashw\\New folder\\lib\\site-packages\\IPython\\core\\interactiveshell.py\", line 3445, in run_ast_nodes\n      if await self.run_code(code, result, async_=asy):\n    File \"C:\\Users\\yashw\\New folder\\lib\\site-packages\\IPython\\core\\interactiveshell.py\", line 3505, in run_code\n      exec(code_obj, self.user_global_ns, self.user_ns)\n    File \"C:\\Users\\yashw\\AppData\\Local\\Temp\\ipykernel_4460\\2710431920.py\", line 3, in <module>\n      x = tf.placeholder(tf.float32,[None,n_input])\nNode: 'Placeholder_2'\nYou must feed a value for placeholder tensor 'Placeholder_2' with dtype float and shape [?,784]\n\t [[{{node Placeholder_2}}]]\n\nOriginal stack trace for 'Placeholder_2':\n  File \"C:\\Users\\yashw\\New folder\\lib\\runpy.py\", line 197, in _run_module_as_main\n    return _run_code(code, main_globals, None,\n  File \"C:\\Users\\yashw\\New folder\\lib\\runpy.py\", line 87, in _run_code\n    exec(code, run_globals)\n  File \"C:\\Users\\yashw\\New folder\\lib\\site-packages\\ipykernel_launcher.py\", line 17, in <module>\n    app.launch_new_instance()\n  File \"C:\\Users\\yashw\\New folder\\lib\\site-packages\\traitlets\\config\\application.py\", line 992, in launch_instance\n    app.start()\n  File \"C:\\Users\\yashw\\New folder\\lib\\site-packages\\ipykernel\\kernelapp.py\", line 711, in start\n    self.io_loop.start()\n  File \"C:\\Users\\yashw\\New folder\\lib\\site-packages\\tornado\\platform\\asyncio.py\", line 215, in start\n    self.asyncio_loop.run_forever()\n  File \"C:\\Users\\yashw\\New folder\\lib\\asyncio\\base_events.py\", line 601, in run_forever\n    self._run_once()\n  File \"C:\\Users\\yashw\\New folder\\lib\\asyncio\\base_events.py\", line 1905, in _run_once\n    handle._run()\n  File \"C:\\Users\\yashw\\New folder\\lib\\asyncio\\events.py\", line 80, in _run\n    self._context.run(self._callback, *self._args)\n  File \"C:\\Users\\yashw\\New folder\\lib\\site-packages\\ipykernel\\kernelbase.py\", line 510, in dispatch_queue\n    await self.process_one()\n  File \"C:\\Users\\yashw\\New folder\\lib\\site-packages\\ipykernel\\kernelbase.py\", line 499, in process_one\n    await dispatch(*args)\n  File \"C:\\Users\\yashw\\New folder\\lib\\site-packages\\ipykernel\\kernelbase.py\", line 406, in dispatch_shell\n    await result\n  File \"C:\\Users\\yashw\\New folder\\lib\\site-packages\\ipykernel\\kernelbase.py\", line 729, in execute_request\n    reply_content = await reply_content\n  File \"C:\\Users\\yashw\\New folder\\lib\\site-packages\\ipykernel\\ipkernel.py\", line 411, in do_execute\n    res = shell.run_cell(\n  File \"C:\\Users\\yashw\\New folder\\lib\\site-packages\\ipykernel\\zmqshell.py\", line 531, in run_cell\n    return super().run_cell(*args, **kwargs)\n  File \"C:\\Users\\yashw\\New folder\\lib\\site-packages\\IPython\\core\\interactiveshell.py\", line 3006, in run_cell\n    result = self._run_cell(\n  File \"C:\\Users\\yashw\\New folder\\lib\\site-packages\\IPython\\core\\interactiveshell.py\", line 3061, in _run_cell\n    result = runner(coro)\n  File \"C:\\Users\\yashw\\New folder\\lib\\site-packages\\IPython\\core\\async_helpers.py\", line 129, in _pseudo_sync_runner\n    coro.send(None)\n  File \"C:\\Users\\yashw\\New folder\\lib\\site-packages\\IPython\\core\\interactiveshell.py\", line 3266, in run_cell_async\n    has_raised = await self.run_ast_nodes(code_ast.body, cell_name,\n  File \"C:\\Users\\yashw\\New folder\\lib\\site-packages\\IPython\\core\\interactiveshell.py\", line 3445, in run_ast_nodes\n    if await self.run_code(code, result, async_=asy):\n  File \"C:\\Users\\yashw\\New folder\\lib\\site-packages\\IPython\\core\\interactiveshell.py\", line 3505, in run_code\n    exec(code_obj, self.user_global_ns, self.user_ns)\n  File \"C:\\Users\\yashw\\AppData\\Local\\Temp\\ipykernel_4460\\2710431920.py\", line 3, in <module>\n    x = tf.placeholder(tf.float32,[None,n_input])\n  File \"C:\\Users\\yashw\\New folder\\lib\\site-packages\\tensorflow\\python\\ops\\array_ops.py\", line 3361, in placeholder\n    return gen_array_ops.placeholder(dtype=dtype, shape=shape, name=name)\n  File \"C:\\Users\\yashw\\New folder\\lib\\site-packages\\tensorflow\\python\\ops\\gen_array_ops.py\", line 8693, in placeholder\n    _, _, _op, _outputs = _op_def_library._apply_op_helper(\n  File \"C:\\Users\\yashw\\New folder\\lib\\site-packages\\tensorflow\\python\\framework\\op_def_library.py\", line 795, in _apply_op_helper\n    op = g._create_op_internal(op_type_name, inputs, dtypes=None,\n  File \"C:\\Users\\yashw\\New folder\\lib\\site-packages\\tensorflow\\python\\framework\\ops.py\", line 3814, in _create_op_internal\n    ret = Operation(\n",
     "output_type": "error",
     "traceback": [
      "\u001b[1;31m---------------------------------------------------------------------------\u001b[0m",
      "\u001b[1;31mInvalidArgumentError\u001b[0m                      Traceback (most recent call last)",
      "File \u001b[1;32m~\\New folder\\lib\\site-packages\\tensorflow\\python\\client\\session.py:1378\u001b[0m, in \u001b[0;36mBaseSession._do_call\u001b[1;34m(self, fn, *args)\u001b[0m\n\u001b[0;32m   1377\u001b[0m \u001b[38;5;28;01mtry\u001b[39;00m:\n\u001b[1;32m-> 1378\u001b[0m   \u001b[38;5;28;01mreturn\u001b[39;00m \u001b[43mfn\u001b[49m\u001b[43m(\u001b[49m\u001b[38;5;241;43m*\u001b[39;49m\u001b[43margs\u001b[49m\u001b[43m)\u001b[49m\n\u001b[0;32m   1379\u001b[0m \u001b[38;5;28;01mexcept\u001b[39;00m errors\u001b[38;5;241m.\u001b[39mOpError \u001b[38;5;28;01mas\u001b[39;00m e:\n",
      "File \u001b[1;32m~\\New folder\\lib\\site-packages\\tensorflow\\python\\client\\session.py:1361\u001b[0m, in \u001b[0;36mBaseSession._do_run.<locals>._run_fn\u001b[1;34m(feed_dict, fetch_list, target_list, options, run_metadata)\u001b[0m\n\u001b[0;32m   1360\u001b[0m \u001b[38;5;28mself\u001b[39m\u001b[38;5;241m.\u001b[39m_extend_graph()\n\u001b[1;32m-> 1361\u001b[0m \u001b[38;5;28;01mreturn\u001b[39;00m \u001b[38;5;28;43mself\u001b[39;49m\u001b[38;5;241;43m.\u001b[39;49m\u001b[43m_call_tf_sessionrun\u001b[49m\u001b[43m(\u001b[49m\u001b[43moptions\u001b[49m\u001b[43m,\u001b[49m\u001b[43m \u001b[49m\u001b[43mfeed_dict\u001b[49m\u001b[43m,\u001b[49m\u001b[43m \u001b[49m\u001b[43mfetch_list\u001b[49m\u001b[43m,\u001b[49m\n\u001b[0;32m   1362\u001b[0m \u001b[43m                                \u001b[49m\u001b[43mtarget_list\u001b[49m\u001b[43m,\u001b[49m\u001b[43m \u001b[49m\u001b[43mrun_metadata\u001b[49m\u001b[43m)\u001b[49m\n",
      "File \u001b[1;32m~\\New folder\\lib\\site-packages\\tensorflow\\python\\client\\session.py:1454\u001b[0m, in \u001b[0;36mBaseSession._call_tf_sessionrun\u001b[1;34m(self, options, feed_dict, fetch_list, target_list, run_metadata)\u001b[0m\n\u001b[0;32m   1452\u001b[0m \u001b[38;5;28;01mdef\u001b[39;00m \u001b[38;5;21m_call_tf_sessionrun\u001b[39m(\u001b[38;5;28mself\u001b[39m, options, feed_dict, fetch_list, target_list,\n\u001b[0;32m   1453\u001b[0m                         run_metadata):\n\u001b[1;32m-> 1454\u001b[0m   \u001b[38;5;28;01mreturn\u001b[39;00m \u001b[43mtf_session\u001b[49m\u001b[38;5;241;43m.\u001b[39;49m\u001b[43mTF_SessionRun_wrapper\u001b[49m\u001b[43m(\u001b[49m\u001b[38;5;28;43mself\u001b[39;49m\u001b[38;5;241;43m.\u001b[39;49m\u001b[43m_session\u001b[49m\u001b[43m,\u001b[49m\u001b[43m \u001b[49m\u001b[43moptions\u001b[49m\u001b[43m,\u001b[49m\u001b[43m \u001b[49m\u001b[43mfeed_dict\u001b[49m\u001b[43m,\u001b[49m\n\u001b[0;32m   1455\u001b[0m \u001b[43m                                          \u001b[49m\u001b[43mfetch_list\u001b[49m\u001b[43m,\u001b[49m\u001b[43m \u001b[49m\u001b[43mtarget_list\u001b[49m\u001b[43m,\u001b[49m\n\u001b[0;32m   1456\u001b[0m \u001b[43m                                          \u001b[49m\u001b[43mrun_metadata\u001b[49m\u001b[43m)\u001b[49m\n",
      "\u001b[1;31mInvalidArgumentError\u001b[0m: You must feed a value for placeholder tensor 'Placeholder_2' with dtype float and shape [?,784]\n\t [[{{node Placeholder_2}}]]",
      "\nDuring handling of the above exception, another exception occurred:\n",
      "\u001b[1;31mInvalidArgumentError\u001b[0m                      Traceback (most recent call last)",
      "Cell \u001b[1;32mIn[82], line 2\u001b[0m\n\u001b[0;32m      1\u001b[0m cost \u001b[38;5;241m=\u001b[39m tf\u001b[38;5;241m.\u001b[39mreduce_mean(tf\u001b[38;5;241m.\u001b[39mnn\u001b[38;5;241m.\u001b[39msoftmax_cross_entropy_with_logits_v2(logits\u001b[38;5;241m=\u001b[39mpred,labels\u001b[38;5;241m=\u001b[39my))\n\u001b[1;32m----> 2\u001b[0m \u001b[43msess\u001b[49m\u001b[38;5;241;43m.\u001b[39;49m\u001b[43mrun\u001b[49m\u001b[43m(\u001b[49m\u001b[43mcost\u001b[49m\u001b[43m,\u001b[49m\u001b[43m \u001b[49m\u001b[43mfeed_dict\u001b[49m\u001b[38;5;241;43m=\u001b[39;49m\u001b[43m{\u001b[49m\u001b[43mx\u001b[49m\u001b[43m:\u001b[49m\u001b[43m \u001b[49m\u001b[43mx_train\u001b[49m\u001b[43m,\u001b[49m\u001b[43m \u001b[49m\u001b[43my\u001b[49m\u001b[43m:\u001b[49m\u001b[43m \u001b[49m\u001b[43my_train\u001b[49m\u001b[43m}\u001b[49m\u001b[43m)\u001b[49m\n",
      "File \u001b[1;32m~\\New folder\\lib\\site-packages\\tensorflow\\python\\client\\session.py:968\u001b[0m, in \u001b[0;36mBaseSession.run\u001b[1;34m(self, fetches, feed_dict, options, run_metadata)\u001b[0m\n\u001b[0;32m    965\u001b[0m run_metadata_ptr \u001b[38;5;241m=\u001b[39m tf_session\u001b[38;5;241m.\u001b[39mTF_NewBuffer() \u001b[38;5;28;01mif\u001b[39;00m run_metadata \u001b[38;5;28;01melse\u001b[39;00m \u001b[38;5;28;01mNone\u001b[39;00m\n\u001b[0;32m    967\u001b[0m \u001b[38;5;28;01mtry\u001b[39;00m:\n\u001b[1;32m--> 968\u001b[0m   result \u001b[38;5;241m=\u001b[39m \u001b[38;5;28;43mself\u001b[39;49m\u001b[38;5;241;43m.\u001b[39;49m\u001b[43m_run\u001b[49m\u001b[43m(\u001b[49m\u001b[38;5;28;43;01mNone\u001b[39;49;00m\u001b[43m,\u001b[49m\u001b[43m \u001b[49m\u001b[43mfetches\u001b[49m\u001b[43m,\u001b[49m\u001b[43m \u001b[49m\u001b[43mfeed_dict\u001b[49m\u001b[43m,\u001b[49m\u001b[43m \u001b[49m\u001b[43moptions_ptr\u001b[49m\u001b[43m,\u001b[49m\n\u001b[0;32m    969\u001b[0m \u001b[43m                     \u001b[49m\u001b[43mrun_metadata_ptr\u001b[49m\u001b[43m)\u001b[49m\n\u001b[0;32m    970\u001b[0m   \u001b[38;5;28;01mif\u001b[39;00m run_metadata:\n\u001b[0;32m    971\u001b[0m     proto_data \u001b[38;5;241m=\u001b[39m tf_session\u001b[38;5;241m.\u001b[39mTF_GetBuffer(run_metadata_ptr)\n",
      "File \u001b[1;32m~\\New folder\\lib\\site-packages\\tensorflow\\python\\client\\session.py:1191\u001b[0m, in \u001b[0;36mBaseSession._run\u001b[1;34m(self, handle, fetches, feed_dict, options, run_metadata)\u001b[0m\n\u001b[0;32m   1188\u001b[0m \u001b[38;5;66;03m# We only want to really perform the run if fetches or targets are provided,\u001b[39;00m\n\u001b[0;32m   1189\u001b[0m \u001b[38;5;66;03m# or if the call is a partial run that specifies feeds.\u001b[39;00m\n\u001b[0;32m   1190\u001b[0m \u001b[38;5;28;01mif\u001b[39;00m final_fetches \u001b[38;5;129;01mor\u001b[39;00m final_targets \u001b[38;5;129;01mor\u001b[39;00m (handle \u001b[38;5;129;01mand\u001b[39;00m feed_dict_tensor):\n\u001b[1;32m-> 1191\u001b[0m   results \u001b[38;5;241m=\u001b[39m \u001b[38;5;28;43mself\u001b[39;49m\u001b[38;5;241;43m.\u001b[39;49m\u001b[43m_do_run\u001b[49m\u001b[43m(\u001b[49m\u001b[43mhandle\u001b[49m\u001b[43m,\u001b[49m\u001b[43m \u001b[49m\u001b[43mfinal_targets\u001b[49m\u001b[43m,\u001b[49m\u001b[43m \u001b[49m\u001b[43mfinal_fetches\u001b[49m\u001b[43m,\u001b[49m\n\u001b[0;32m   1192\u001b[0m \u001b[43m                         \u001b[49m\u001b[43mfeed_dict_tensor\u001b[49m\u001b[43m,\u001b[49m\u001b[43m \u001b[49m\u001b[43moptions\u001b[49m\u001b[43m,\u001b[49m\u001b[43m \u001b[49m\u001b[43mrun_metadata\u001b[49m\u001b[43m)\u001b[49m\n\u001b[0;32m   1193\u001b[0m \u001b[38;5;28;01melse\u001b[39;00m:\n\u001b[0;32m   1194\u001b[0m   results \u001b[38;5;241m=\u001b[39m []\n",
      "File \u001b[1;32m~\\New folder\\lib\\site-packages\\tensorflow\\python\\client\\session.py:1371\u001b[0m, in \u001b[0;36mBaseSession._do_run\u001b[1;34m(self, handle, target_list, fetch_list, feed_dict, options, run_metadata)\u001b[0m\n\u001b[0;32m   1368\u001b[0m   \u001b[38;5;28;01mreturn\u001b[39;00m \u001b[38;5;28mself\u001b[39m\u001b[38;5;241m.\u001b[39m_call_tf_sessionprun(handle, feed_dict, fetch_list)\n\u001b[0;32m   1370\u001b[0m \u001b[38;5;28;01mif\u001b[39;00m handle \u001b[38;5;129;01mis\u001b[39;00m \u001b[38;5;28;01mNone\u001b[39;00m:\n\u001b[1;32m-> 1371\u001b[0m   \u001b[38;5;28;01mreturn\u001b[39;00m \u001b[38;5;28;43mself\u001b[39;49m\u001b[38;5;241;43m.\u001b[39;49m\u001b[43m_do_call\u001b[49m\u001b[43m(\u001b[49m\u001b[43m_run_fn\u001b[49m\u001b[43m,\u001b[49m\u001b[43m \u001b[49m\u001b[43mfeeds\u001b[49m\u001b[43m,\u001b[49m\u001b[43m \u001b[49m\u001b[43mfetches\u001b[49m\u001b[43m,\u001b[49m\u001b[43m \u001b[49m\u001b[43mtargets\u001b[49m\u001b[43m,\u001b[49m\u001b[43m \u001b[49m\u001b[43moptions\u001b[49m\u001b[43m,\u001b[49m\n\u001b[0;32m   1372\u001b[0m \u001b[43m                       \u001b[49m\u001b[43mrun_metadata\u001b[49m\u001b[43m)\u001b[49m\n\u001b[0;32m   1373\u001b[0m \u001b[38;5;28;01melse\u001b[39;00m:\n\u001b[0;32m   1374\u001b[0m   \u001b[38;5;28;01mreturn\u001b[39;00m \u001b[38;5;28mself\u001b[39m\u001b[38;5;241m.\u001b[39m_do_call(_prun_fn, handle, feeds, fetches)\n",
      "File \u001b[1;32m~\\New folder\\lib\\site-packages\\tensorflow\\python\\client\\session.py:1397\u001b[0m, in \u001b[0;36mBaseSession._do_call\u001b[1;34m(self, fn, *args)\u001b[0m\n\u001b[0;32m   1392\u001b[0m \u001b[38;5;28;01mif\u001b[39;00m \u001b[38;5;124m'\u001b[39m\u001b[38;5;124monly supports NHWC tensor format\u001b[39m\u001b[38;5;124m'\u001b[39m \u001b[38;5;129;01min\u001b[39;00m message:\n\u001b[0;32m   1393\u001b[0m   message \u001b[38;5;241m+\u001b[39m\u001b[38;5;241m=\u001b[39m (\u001b[38;5;124m'\u001b[39m\u001b[38;5;130;01m\\n\u001b[39;00m\u001b[38;5;124mA possible workaround: Try disabling Grappler optimizer\u001b[39m\u001b[38;5;124m'\u001b[39m\n\u001b[0;32m   1394\u001b[0m               \u001b[38;5;124m'\u001b[39m\u001b[38;5;130;01m\\n\u001b[39;00m\u001b[38;5;124mby modifying the config for creating the session eg.\u001b[39m\u001b[38;5;124m'\u001b[39m\n\u001b[0;32m   1395\u001b[0m               \u001b[38;5;124m'\u001b[39m\u001b[38;5;130;01m\\n\u001b[39;00m\u001b[38;5;124msession_config.graph_options.rewrite_options.\u001b[39m\u001b[38;5;124m'\u001b[39m\n\u001b[0;32m   1396\u001b[0m               \u001b[38;5;124m'\u001b[39m\u001b[38;5;124mdisable_meta_optimizer = True\u001b[39m\u001b[38;5;124m'\u001b[39m)\n\u001b[1;32m-> 1397\u001b[0m \u001b[38;5;28;01mraise\u001b[39;00m \u001b[38;5;28mtype\u001b[39m(e)(node_def, op, message)\n",
      "\u001b[1;31mInvalidArgumentError\u001b[0m: Graph execution error:\n\nDetected at node 'Placeholder_2' defined at (most recent call last):\n    File \"C:\\Users\\yashw\\New folder\\lib\\runpy.py\", line 197, in _run_module_as_main\n      return _run_code(code, main_globals, None,\n    File \"C:\\Users\\yashw\\New folder\\lib\\runpy.py\", line 87, in _run_code\n      exec(code, run_globals)\n    File \"C:\\Users\\yashw\\New folder\\lib\\site-packages\\ipykernel_launcher.py\", line 17, in <module>\n      app.launch_new_instance()\n    File \"C:\\Users\\yashw\\New folder\\lib\\site-packages\\traitlets\\config\\application.py\", line 992, in launch_instance\n      app.start()\n    File \"C:\\Users\\yashw\\New folder\\lib\\site-packages\\ipykernel\\kernelapp.py\", line 711, in start\n      self.io_loop.start()\n    File \"C:\\Users\\yashw\\New folder\\lib\\site-packages\\tornado\\platform\\asyncio.py\", line 215, in start\n      self.asyncio_loop.run_forever()\n    File \"C:\\Users\\yashw\\New folder\\lib\\asyncio\\base_events.py\", line 601, in run_forever\n      self._run_once()\n    File \"C:\\Users\\yashw\\New folder\\lib\\asyncio\\base_events.py\", line 1905, in _run_once\n      handle._run()\n    File \"C:\\Users\\yashw\\New folder\\lib\\asyncio\\events.py\", line 80, in _run\n      self._context.run(self._callback, *self._args)\n    File \"C:\\Users\\yashw\\New folder\\lib\\site-packages\\ipykernel\\kernelbase.py\", line 510, in dispatch_queue\n      await self.process_one()\n    File \"C:\\Users\\yashw\\New folder\\lib\\site-packages\\ipykernel\\kernelbase.py\", line 499, in process_one\n      await dispatch(*args)\n    File \"C:\\Users\\yashw\\New folder\\lib\\site-packages\\ipykernel\\kernelbase.py\", line 406, in dispatch_shell\n      await result\n    File \"C:\\Users\\yashw\\New folder\\lib\\site-packages\\ipykernel\\kernelbase.py\", line 729, in execute_request\n      reply_content = await reply_content\n    File \"C:\\Users\\yashw\\New folder\\lib\\site-packages\\ipykernel\\ipkernel.py\", line 411, in do_execute\n      res = shell.run_cell(\n    File \"C:\\Users\\yashw\\New folder\\lib\\site-packages\\ipykernel\\zmqshell.py\", line 531, in run_cell\n      return super().run_cell(*args, **kwargs)\n    File \"C:\\Users\\yashw\\New folder\\lib\\site-packages\\IPython\\core\\interactiveshell.py\", line 3006, in run_cell\n      result = self._run_cell(\n    File \"C:\\Users\\yashw\\New folder\\lib\\site-packages\\IPython\\core\\interactiveshell.py\", line 3061, in _run_cell\n      result = runner(coro)\n    File \"C:\\Users\\yashw\\New folder\\lib\\site-packages\\IPython\\core\\async_helpers.py\", line 129, in _pseudo_sync_runner\n      coro.send(None)\n    File \"C:\\Users\\yashw\\New folder\\lib\\site-packages\\IPython\\core\\interactiveshell.py\", line 3266, in run_cell_async\n      has_raised = await self.run_ast_nodes(code_ast.body, cell_name,\n    File \"C:\\Users\\yashw\\New folder\\lib\\site-packages\\IPython\\core\\interactiveshell.py\", line 3445, in run_ast_nodes\n      if await self.run_code(code, result, async_=asy):\n    File \"C:\\Users\\yashw\\New folder\\lib\\site-packages\\IPython\\core\\interactiveshell.py\", line 3505, in run_code\n      exec(code_obj, self.user_global_ns, self.user_ns)\n    File \"C:\\Users\\yashw\\AppData\\Local\\Temp\\ipykernel_4460\\2710431920.py\", line 3, in <module>\n      x = tf.placeholder(tf.float32,[None,n_input])\nNode: 'Placeholder_2'\nYou must feed a value for placeholder tensor 'Placeholder_2' with dtype float and shape [?,784]\n\t [[{{node Placeholder_2}}]]\n\nOriginal stack trace for 'Placeholder_2':\n  File \"C:\\Users\\yashw\\New folder\\lib\\runpy.py\", line 197, in _run_module_as_main\n    return _run_code(code, main_globals, None,\n  File \"C:\\Users\\yashw\\New folder\\lib\\runpy.py\", line 87, in _run_code\n    exec(code, run_globals)\n  File \"C:\\Users\\yashw\\New folder\\lib\\site-packages\\ipykernel_launcher.py\", line 17, in <module>\n    app.launch_new_instance()\n  File \"C:\\Users\\yashw\\New folder\\lib\\site-packages\\traitlets\\config\\application.py\", line 992, in launch_instance\n    app.start()\n  File \"C:\\Users\\yashw\\New folder\\lib\\site-packages\\ipykernel\\kernelapp.py\", line 711, in start\n    self.io_loop.start()\n  File \"C:\\Users\\yashw\\New folder\\lib\\site-packages\\tornado\\platform\\asyncio.py\", line 215, in start\n    self.asyncio_loop.run_forever()\n  File \"C:\\Users\\yashw\\New folder\\lib\\asyncio\\base_events.py\", line 601, in run_forever\n    self._run_once()\n  File \"C:\\Users\\yashw\\New folder\\lib\\asyncio\\base_events.py\", line 1905, in _run_once\n    handle._run()\n  File \"C:\\Users\\yashw\\New folder\\lib\\asyncio\\events.py\", line 80, in _run\n    self._context.run(self._callback, *self._args)\n  File \"C:\\Users\\yashw\\New folder\\lib\\site-packages\\ipykernel\\kernelbase.py\", line 510, in dispatch_queue\n    await self.process_one()\n  File \"C:\\Users\\yashw\\New folder\\lib\\site-packages\\ipykernel\\kernelbase.py\", line 499, in process_one\n    await dispatch(*args)\n  File \"C:\\Users\\yashw\\New folder\\lib\\site-packages\\ipykernel\\kernelbase.py\", line 406, in dispatch_shell\n    await result\n  File \"C:\\Users\\yashw\\New folder\\lib\\site-packages\\ipykernel\\kernelbase.py\", line 729, in execute_request\n    reply_content = await reply_content\n  File \"C:\\Users\\yashw\\New folder\\lib\\site-packages\\ipykernel\\ipkernel.py\", line 411, in do_execute\n    res = shell.run_cell(\n  File \"C:\\Users\\yashw\\New folder\\lib\\site-packages\\ipykernel\\zmqshell.py\", line 531, in run_cell\n    return super().run_cell(*args, **kwargs)\n  File \"C:\\Users\\yashw\\New folder\\lib\\site-packages\\IPython\\core\\interactiveshell.py\", line 3006, in run_cell\n    result = self._run_cell(\n  File \"C:\\Users\\yashw\\New folder\\lib\\site-packages\\IPython\\core\\interactiveshell.py\", line 3061, in _run_cell\n    result = runner(coro)\n  File \"C:\\Users\\yashw\\New folder\\lib\\site-packages\\IPython\\core\\async_helpers.py\", line 129, in _pseudo_sync_runner\n    coro.send(None)\n  File \"C:\\Users\\yashw\\New folder\\lib\\site-packages\\IPython\\core\\interactiveshell.py\", line 3266, in run_cell_async\n    has_raised = await self.run_ast_nodes(code_ast.body, cell_name,\n  File \"C:\\Users\\yashw\\New folder\\lib\\site-packages\\IPython\\core\\interactiveshell.py\", line 3445, in run_ast_nodes\n    if await self.run_code(code, result, async_=asy):\n  File \"C:\\Users\\yashw\\New folder\\lib\\site-packages\\IPython\\core\\interactiveshell.py\", line 3505, in run_code\n    exec(code_obj, self.user_global_ns, self.user_ns)\n  File \"C:\\Users\\yashw\\AppData\\Local\\Temp\\ipykernel_4460\\2710431920.py\", line 3, in <module>\n    x = tf.placeholder(tf.float32,[None,n_input])\n  File \"C:\\Users\\yashw\\New folder\\lib\\site-packages\\tensorflow\\python\\ops\\array_ops.py\", line 3361, in placeholder\n    return gen_array_ops.placeholder(dtype=dtype, shape=shape, name=name)\n  File \"C:\\Users\\yashw\\New folder\\lib\\site-packages\\tensorflow\\python\\ops\\gen_array_ops.py\", line 8693, in placeholder\n    _, _, _op, _outputs = _op_def_library._apply_op_helper(\n  File \"C:\\Users\\yashw\\New folder\\lib\\site-packages\\tensorflow\\python\\framework\\op_def_library.py\", line 795, in _apply_op_helper\n    op = g._create_op_internal(op_type_name, inputs, dtypes=None,\n  File \"C:\\Users\\yashw\\New folder\\lib\\site-packages\\tensorflow\\python\\framework\\ops.py\", line 3814, in _create_op_internal\n    ret = Operation(\n"
     ]
    }
   ],
   "source": [
    "cost = tf.reduce_mean(tf.nn.softmax_cross_entropy_with_logits_v2(logits=pred,labels=y))\n",
    "sess.run(cost, feed_dict={x: x_train, y: y_train})"
   ]
  },
  {
   "cell_type": "markdown",
   "id": "28066214",
   "metadata": {},
   "source": [
    "#### optimizer"
   ]
  },
  {
   "cell_type": "code",
   "execution_count": 84,
   "id": "7dadbe0f",
   "metadata": {},
   "outputs": [
    {
     "ename": "FailedPreconditionError",
     "evalue": "Graph execution error:\n\nDetected at node 'beta1_power/read' defined at (most recent call last):\n    File \"C:\\Users\\yashw\\New folder\\lib\\runpy.py\", line 197, in _run_module_as_main\n      return _run_code(code, main_globals, None,\n    File \"C:\\Users\\yashw\\New folder\\lib\\runpy.py\", line 87, in _run_code\n      exec(code, run_globals)\n    File \"C:\\Users\\yashw\\New folder\\lib\\site-packages\\ipykernel_launcher.py\", line 17, in <module>\n      app.launch_new_instance()\n    File \"C:\\Users\\yashw\\New folder\\lib\\site-packages\\traitlets\\config\\application.py\", line 992, in launch_instance\n      app.start()\n    File \"C:\\Users\\yashw\\New folder\\lib\\site-packages\\ipykernel\\kernelapp.py\", line 711, in start\n      self.io_loop.start()\n    File \"C:\\Users\\yashw\\New folder\\lib\\site-packages\\tornado\\platform\\asyncio.py\", line 215, in start\n      self.asyncio_loop.run_forever()\n    File \"C:\\Users\\yashw\\New folder\\lib\\asyncio\\base_events.py\", line 601, in run_forever\n      self._run_once()\n    File \"C:\\Users\\yashw\\New folder\\lib\\asyncio\\base_events.py\", line 1905, in _run_once\n      handle._run()\n    File \"C:\\Users\\yashw\\New folder\\lib\\asyncio\\events.py\", line 80, in _run\n      self._context.run(self._callback, *self._args)\n    File \"C:\\Users\\yashw\\New folder\\lib\\site-packages\\ipykernel\\kernelbase.py\", line 510, in dispatch_queue\n      await self.process_one()\n    File \"C:\\Users\\yashw\\New folder\\lib\\site-packages\\ipykernel\\kernelbase.py\", line 499, in process_one\n      await dispatch(*args)\n    File \"C:\\Users\\yashw\\New folder\\lib\\site-packages\\ipykernel\\kernelbase.py\", line 406, in dispatch_shell\n      await result\n    File \"C:\\Users\\yashw\\New folder\\lib\\site-packages\\ipykernel\\kernelbase.py\", line 729, in execute_request\n      reply_content = await reply_content\n    File \"C:\\Users\\yashw\\New folder\\lib\\site-packages\\ipykernel\\ipkernel.py\", line 411, in do_execute\n      res = shell.run_cell(\n    File \"C:\\Users\\yashw\\New folder\\lib\\site-packages\\ipykernel\\zmqshell.py\", line 531, in run_cell\n      return super().run_cell(*args, **kwargs)\n    File \"C:\\Users\\yashw\\New folder\\lib\\site-packages\\IPython\\core\\interactiveshell.py\", line 3006, in run_cell\n      result = self._run_cell(\n    File \"C:\\Users\\yashw\\New folder\\lib\\site-packages\\IPython\\core\\interactiveshell.py\", line 3061, in _run_cell\n      result = runner(coro)\n    File \"C:\\Users\\yashw\\New folder\\lib\\site-packages\\IPython\\core\\async_helpers.py\", line 129, in _pseudo_sync_runner\n      coro.send(None)\n    File \"C:\\Users\\yashw\\New folder\\lib\\site-packages\\IPython\\core\\interactiveshell.py\", line 3266, in run_cell_async\n      has_raised = await self.run_ast_nodes(code_ast.body, cell_name,\n    File \"C:\\Users\\yashw\\New folder\\lib\\site-packages\\IPython\\core\\interactiveshell.py\", line 3445, in run_ast_nodes\n      if await self.run_code(code, result, async_=asy):\n    File \"C:\\Users\\yashw\\New folder\\lib\\site-packages\\IPython\\core\\interactiveshell.py\", line 3505, in run_code\n      exec(code_obj, self.user_global_ns, self.user_ns)\n    File \"C:\\Users\\yashw\\AppData\\Local\\Temp\\ipykernel_4460\\3825576681.py\", line 2, in <module>\n      optimize = optimizer.minimize(cost)\nNode: 'beta1_power/read'\nAttempting to use uninitialized value beta1_power\n\t [[{{node beta1_power/read}}]]\n\nOriginal stack trace for 'beta1_power/read':\n  File \"C:\\Users\\yashw\\New folder\\lib\\runpy.py\", line 197, in _run_module_as_main\n    return _run_code(code, main_globals, None,\n  File \"C:\\Users\\yashw\\New folder\\lib\\runpy.py\", line 87, in _run_code\n    exec(code, run_globals)\n  File \"C:\\Users\\yashw\\New folder\\lib\\site-packages\\ipykernel_launcher.py\", line 17, in <module>\n    app.launch_new_instance()\n  File \"C:\\Users\\yashw\\New folder\\lib\\site-packages\\traitlets\\config\\application.py\", line 992, in launch_instance\n    app.start()\n  File \"C:\\Users\\yashw\\New folder\\lib\\site-packages\\ipykernel\\kernelapp.py\", line 711, in start\n    self.io_loop.start()\n  File \"C:\\Users\\yashw\\New folder\\lib\\site-packages\\tornado\\platform\\asyncio.py\", line 215, in start\n    self.asyncio_loop.run_forever()\n  File \"C:\\Users\\yashw\\New folder\\lib\\asyncio\\base_events.py\", line 601, in run_forever\n    self._run_once()\n  File \"C:\\Users\\yashw\\New folder\\lib\\asyncio\\base_events.py\", line 1905, in _run_once\n    handle._run()\n  File \"C:\\Users\\yashw\\New folder\\lib\\asyncio\\events.py\", line 80, in _run\n    self._context.run(self._callback, *self._args)\n  File \"C:\\Users\\yashw\\New folder\\lib\\site-packages\\ipykernel\\kernelbase.py\", line 510, in dispatch_queue\n    await self.process_one()\n  File \"C:\\Users\\yashw\\New folder\\lib\\site-packages\\ipykernel\\kernelbase.py\", line 499, in process_one\n    await dispatch(*args)\n  File \"C:\\Users\\yashw\\New folder\\lib\\site-packages\\ipykernel\\kernelbase.py\", line 406, in dispatch_shell\n    await result\n  File \"C:\\Users\\yashw\\New folder\\lib\\site-packages\\ipykernel\\kernelbase.py\", line 729, in execute_request\n    reply_content = await reply_content\n  File \"C:\\Users\\yashw\\New folder\\lib\\site-packages\\ipykernel\\ipkernel.py\", line 411, in do_execute\n    res = shell.run_cell(\n  File \"C:\\Users\\yashw\\New folder\\lib\\site-packages\\ipykernel\\zmqshell.py\", line 531, in run_cell\n    return super().run_cell(*args, **kwargs)\n  File \"C:\\Users\\yashw\\New folder\\lib\\site-packages\\IPython\\core\\interactiveshell.py\", line 3006, in run_cell\n    result = self._run_cell(\n  File \"C:\\Users\\yashw\\New folder\\lib\\site-packages\\IPython\\core\\interactiveshell.py\", line 3061, in _run_cell\n    result = runner(coro)\n  File \"C:\\Users\\yashw\\New folder\\lib\\site-packages\\IPython\\core\\async_helpers.py\", line 129, in _pseudo_sync_runner\n    coro.send(None)\n  File \"C:\\Users\\yashw\\New folder\\lib\\site-packages\\IPython\\core\\interactiveshell.py\", line 3266, in run_cell_async\n    has_raised = await self.run_ast_nodes(code_ast.body, cell_name,\n  File \"C:\\Users\\yashw\\New folder\\lib\\site-packages\\IPython\\core\\interactiveshell.py\", line 3445, in run_ast_nodes\n    if await self.run_code(code, result, async_=asy):\n  File \"C:\\Users\\yashw\\New folder\\lib\\site-packages\\IPython\\core\\interactiveshell.py\", line 3505, in run_code\n    exec(code_obj, self.user_global_ns, self.user_ns)\n  File \"C:\\Users\\yashw\\AppData\\Local\\Temp\\ipykernel_4460\\3825576681.py\", line 2, in <module>\n    optimize = optimizer.minimize(cost)\n  File \"C:\\Users\\yashw\\New folder\\lib\\site-packages\\tensorflow\\python\\training\\optimizer.py\", line 486, in minimize\n    return self.apply_gradients(grads_and_vars, global_step=global_step,\n  File \"C:\\Users\\yashw\\New folder\\lib\\site-packages\\tensorflow\\python\\training\\optimizer.py\", line 697, in apply_gradients\n    self._create_slots(var_list)\n  File \"C:\\Users\\yashw\\New folder\\lib\\site-packages\\tensorflow\\python\\training\\adam.py\", line 192, in _create_slots\n    self._create_non_slot_variable(\n  File \"C:\\Users\\yashw\\New folder\\lib\\site-packages\\tensorflow\\python\\training\\optimizer.py\", line 920, in _create_non_slot_variable\n    v = variable_scope.variable(\n  File \"C:\\Users\\yashw\\New folder\\lib\\site-packages\\tensorflow\\python\\util\\traceback_utils.py\", line 150, in error_handler\n    return fn(*args, **kwargs)\n  File \"C:\\Users\\yashw\\New folder\\lib\\site-packages\\tensorflow\\python\\ops\\variables.py\", line 285, in __call__\n    return cls._variable_v1_call(*args, **kwargs)\n  File \"C:\\Users\\yashw\\New folder\\lib\\site-packages\\tensorflow\\python\\ops\\variables.py\", line 226, in _variable_v1_call\n    return previous_getter(\n  File \"C:\\Users\\yashw\\New folder\\lib\\site-packages\\tensorflow\\python\\ops\\variables.py\", line 219, in <lambda>\n    previous_getter = lambda **kwargs: default_variable_creator(None, **kwargs)\n  File \"C:\\Users\\yashw\\New folder\\lib\\site-packages\\tensorflow\\python\\ops\\variable_scope.py\", line 2723, in default_variable_creator\n    return variables.RefVariable(\n  File \"C:\\Users\\yashw\\New folder\\lib\\site-packages\\tensorflow\\python\\util\\traceback_utils.py\", line 150, in error_handler\n    return fn(*args, **kwargs)\n  File \"C:\\Users\\yashw\\New folder\\lib\\site-packages\\tensorflow\\python\\ops\\variables.py\", line 289, in __call__\n    return super(VariableMetaclass, cls).__call__(*args, **kwargs)\n  File \"C:\\Users\\yashw\\New folder\\lib\\site-packages\\tensorflow\\python\\ops\\variables.py\", line 1679, in __init__\n    self._init_from_args(\n  File \"C:\\Users\\yashw\\New folder\\lib\\site-packages\\tensorflow\\python\\ops\\variables.py\", line 1886, in _init_from_args\n    self._snapshot = array_ops.identity(self._variable, name=\"read\")\n  File \"C:\\Users\\yashw\\New folder\\lib\\site-packages\\tensorflow\\python\\util\\traceback_utils.py\", line 150, in error_handler\n    return fn(*args, **kwargs)\n  File \"C:\\Users\\yashw\\New folder\\lib\\site-packages\\tensorflow\\python\\util\\dispatch.py\", line 1176, in op_dispatch_handler\n    return dispatch_target(*args, **kwargs)\n  File \"C:\\Users\\yashw\\New folder\\lib\\site-packages\\tensorflow\\python\\ops\\array_ops.py\", line 302, in identity\n    ret = gen_array_ops.identity(input, name=name)\n  File \"C:\\Users\\yashw\\New folder\\lib\\site-packages\\tensorflow\\python\\ops\\gen_array_ops.py\", line 4898, in identity\n    _, _, _op, _outputs = _op_def_library._apply_op_helper(\n  File \"C:\\Users\\yashw\\New folder\\lib\\site-packages\\tensorflow\\python\\framework\\op_def_library.py\", line 795, in _apply_op_helper\n    op = g._create_op_internal(op_type_name, inputs, dtypes=None,\n  File \"C:\\Users\\yashw\\New folder\\lib\\site-packages\\tensorflow\\python\\framework\\ops.py\", line 3814, in _create_op_internal\n    ret = Operation(\n",
     "output_type": "error",
     "traceback": [
      "\u001b[1;31m---------------------------------------------------------------------------\u001b[0m",
      "\u001b[1;31mFailedPreconditionError\u001b[0m                   Traceback (most recent call last)",
      "File \u001b[1;32m~\\New folder\\lib\\site-packages\\tensorflow\\python\\client\\session.py:1378\u001b[0m, in \u001b[0;36mBaseSession._do_call\u001b[1;34m(self, fn, *args)\u001b[0m\n\u001b[0;32m   1377\u001b[0m \u001b[38;5;28;01mtry\u001b[39;00m:\n\u001b[1;32m-> 1378\u001b[0m   \u001b[38;5;28;01mreturn\u001b[39;00m \u001b[43mfn\u001b[49m\u001b[43m(\u001b[49m\u001b[38;5;241;43m*\u001b[39;49m\u001b[43margs\u001b[49m\u001b[43m)\u001b[49m\n\u001b[0;32m   1379\u001b[0m \u001b[38;5;28;01mexcept\u001b[39;00m errors\u001b[38;5;241m.\u001b[39mOpError \u001b[38;5;28;01mas\u001b[39;00m e:\n",
      "File \u001b[1;32m~\\New folder\\lib\\site-packages\\tensorflow\\python\\client\\session.py:1361\u001b[0m, in \u001b[0;36mBaseSession._do_run.<locals>._run_fn\u001b[1;34m(feed_dict, fetch_list, target_list, options, run_metadata)\u001b[0m\n\u001b[0;32m   1360\u001b[0m \u001b[38;5;28mself\u001b[39m\u001b[38;5;241m.\u001b[39m_extend_graph()\n\u001b[1;32m-> 1361\u001b[0m \u001b[38;5;28;01mreturn\u001b[39;00m \u001b[38;5;28;43mself\u001b[39;49m\u001b[38;5;241;43m.\u001b[39;49m\u001b[43m_call_tf_sessionrun\u001b[49m\u001b[43m(\u001b[49m\u001b[43moptions\u001b[49m\u001b[43m,\u001b[49m\u001b[43m \u001b[49m\u001b[43mfeed_dict\u001b[49m\u001b[43m,\u001b[49m\u001b[43m \u001b[49m\u001b[43mfetch_list\u001b[49m\u001b[43m,\u001b[49m\n\u001b[0;32m   1362\u001b[0m \u001b[43m                                \u001b[49m\u001b[43mtarget_list\u001b[49m\u001b[43m,\u001b[49m\u001b[43m \u001b[49m\u001b[43mrun_metadata\u001b[49m\u001b[43m)\u001b[49m\n",
      "File \u001b[1;32m~\\New folder\\lib\\site-packages\\tensorflow\\python\\client\\session.py:1454\u001b[0m, in \u001b[0;36mBaseSession._call_tf_sessionrun\u001b[1;34m(self, options, feed_dict, fetch_list, target_list, run_metadata)\u001b[0m\n\u001b[0;32m   1452\u001b[0m \u001b[38;5;28;01mdef\u001b[39;00m \u001b[38;5;21m_call_tf_sessionrun\u001b[39m(\u001b[38;5;28mself\u001b[39m, options, feed_dict, fetch_list, target_list,\n\u001b[0;32m   1453\u001b[0m                         run_metadata):\n\u001b[1;32m-> 1454\u001b[0m   \u001b[38;5;28;01mreturn\u001b[39;00m \u001b[43mtf_session\u001b[49m\u001b[38;5;241;43m.\u001b[39;49m\u001b[43mTF_SessionRun_wrapper\u001b[49m\u001b[43m(\u001b[49m\u001b[38;5;28;43mself\u001b[39;49m\u001b[38;5;241;43m.\u001b[39;49m\u001b[43m_session\u001b[49m\u001b[43m,\u001b[49m\u001b[43m \u001b[49m\u001b[43moptions\u001b[49m\u001b[43m,\u001b[49m\u001b[43m \u001b[49m\u001b[43mfeed_dict\u001b[49m\u001b[43m,\u001b[49m\n\u001b[0;32m   1455\u001b[0m \u001b[43m                                          \u001b[49m\u001b[43mfetch_list\u001b[49m\u001b[43m,\u001b[49m\u001b[43m \u001b[49m\u001b[43mtarget_list\u001b[49m\u001b[43m,\u001b[49m\n\u001b[0;32m   1456\u001b[0m \u001b[43m                                          \u001b[49m\u001b[43mrun_metadata\u001b[49m\u001b[43m)\u001b[49m\n",
      "\u001b[1;31mFailedPreconditionError\u001b[0m: Attempting to use uninitialized value beta1_power\n\t [[{{node beta1_power/read}}]]",
      "\nDuring handling of the above exception, another exception occurred:\n",
      "\u001b[1;31mFailedPreconditionError\u001b[0m                   Traceback (most recent call last)",
      "Cell \u001b[1;32mIn[84], line 3\u001b[0m\n\u001b[0;32m      1\u001b[0m optimizer \u001b[38;5;241m=\u001b[39m tf\u001b[38;5;241m.\u001b[39mtrain\u001b[38;5;241m.\u001b[39mAdamOptimizer(learning_rate\u001b[38;5;241m=\u001b[39m\u001b[38;5;241m0.001\u001b[39m)\n\u001b[0;32m      2\u001b[0m optimize \u001b[38;5;241m=\u001b[39m optimizer\u001b[38;5;241m.\u001b[39mminimize(cost)\n\u001b[1;32m----> 3\u001b[0m \u001b[43msess\u001b[49m\u001b[38;5;241;43m.\u001b[39;49m\u001b[43mrun\u001b[49m\u001b[43m(\u001b[49m\u001b[43m[\u001b[49m\u001b[43moptimize\u001b[49m\u001b[43m]\u001b[49m\u001b[43m,\u001b[49m\u001b[43mfeed_dict\u001b[49m\u001b[38;5;241;43m=\u001b[39;49m\u001b[43m{\u001b[49m\u001b[43mx\u001b[49m\u001b[43m:\u001b[49m\u001b[43mx_train\u001b[49m\u001b[43m,\u001b[49m\u001b[43my\u001b[49m\u001b[43m:\u001b[49m\u001b[43my_train\u001b[49m\u001b[43m}\u001b[49m\u001b[43m)\u001b[49m\n",
      "File \u001b[1;32m~\\New folder\\lib\\site-packages\\tensorflow\\python\\client\\session.py:968\u001b[0m, in \u001b[0;36mBaseSession.run\u001b[1;34m(self, fetches, feed_dict, options, run_metadata)\u001b[0m\n\u001b[0;32m    965\u001b[0m run_metadata_ptr \u001b[38;5;241m=\u001b[39m tf_session\u001b[38;5;241m.\u001b[39mTF_NewBuffer() \u001b[38;5;28;01mif\u001b[39;00m run_metadata \u001b[38;5;28;01melse\u001b[39;00m \u001b[38;5;28;01mNone\u001b[39;00m\n\u001b[0;32m    967\u001b[0m \u001b[38;5;28;01mtry\u001b[39;00m:\n\u001b[1;32m--> 968\u001b[0m   result \u001b[38;5;241m=\u001b[39m \u001b[38;5;28;43mself\u001b[39;49m\u001b[38;5;241;43m.\u001b[39;49m\u001b[43m_run\u001b[49m\u001b[43m(\u001b[49m\u001b[38;5;28;43;01mNone\u001b[39;49;00m\u001b[43m,\u001b[49m\u001b[43m \u001b[49m\u001b[43mfetches\u001b[49m\u001b[43m,\u001b[49m\u001b[43m \u001b[49m\u001b[43mfeed_dict\u001b[49m\u001b[43m,\u001b[49m\u001b[43m \u001b[49m\u001b[43moptions_ptr\u001b[49m\u001b[43m,\u001b[49m\n\u001b[0;32m    969\u001b[0m \u001b[43m                     \u001b[49m\u001b[43mrun_metadata_ptr\u001b[49m\u001b[43m)\u001b[49m\n\u001b[0;32m    970\u001b[0m   \u001b[38;5;28;01mif\u001b[39;00m run_metadata:\n\u001b[0;32m    971\u001b[0m     proto_data \u001b[38;5;241m=\u001b[39m tf_session\u001b[38;5;241m.\u001b[39mTF_GetBuffer(run_metadata_ptr)\n",
      "File \u001b[1;32m~\\New folder\\lib\\site-packages\\tensorflow\\python\\client\\session.py:1191\u001b[0m, in \u001b[0;36mBaseSession._run\u001b[1;34m(self, handle, fetches, feed_dict, options, run_metadata)\u001b[0m\n\u001b[0;32m   1188\u001b[0m \u001b[38;5;66;03m# We only want to really perform the run if fetches or targets are provided,\u001b[39;00m\n\u001b[0;32m   1189\u001b[0m \u001b[38;5;66;03m# or if the call is a partial run that specifies feeds.\u001b[39;00m\n\u001b[0;32m   1190\u001b[0m \u001b[38;5;28;01mif\u001b[39;00m final_fetches \u001b[38;5;129;01mor\u001b[39;00m final_targets \u001b[38;5;129;01mor\u001b[39;00m (handle \u001b[38;5;129;01mand\u001b[39;00m feed_dict_tensor):\n\u001b[1;32m-> 1191\u001b[0m   results \u001b[38;5;241m=\u001b[39m \u001b[38;5;28;43mself\u001b[39;49m\u001b[38;5;241;43m.\u001b[39;49m\u001b[43m_do_run\u001b[49m\u001b[43m(\u001b[49m\u001b[43mhandle\u001b[49m\u001b[43m,\u001b[49m\u001b[43m \u001b[49m\u001b[43mfinal_targets\u001b[49m\u001b[43m,\u001b[49m\u001b[43m \u001b[49m\u001b[43mfinal_fetches\u001b[49m\u001b[43m,\u001b[49m\n\u001b[0;32m   1192\u001b[0m \u001b[43m                         \u001b[49m\u001b[43mfeed_dict_tensor\u001b[49m\u001b[43m,\u001b[49m\u001b[43m \u001b[49m\u001b[43moptions\u001b[49m\u001b[43m,\u001b[49m\u001b[43m \u001b[49m\u001b[43mrun_metadata\u001b[49m\u001b[43m)\u001b[49m\n\u001b[0;32m   1193\u001b[0m \u001b[38;5;28;01melse\u001b[39;00m:\n\u001b[0;32m   1194\u001b[0m   results \u001b[38;5;241m=\u001b[39m []\n",
      "File \u001b[1;32m~\\New folder\\lib\\site-packages\\tensorflow\\python\\client\\session.py:1371\u001b[0m, in \u001b[0;36mBaseSession._do_run\u001b[1;34m(self, handle, target_list, fetch_list, feed_dict, options, run_metadata)\u001b[0m\n\u001b[0;32m   1368\u001b[0m   \u001b[38;5;28;01mreturn\u001b[39;00m \u001b[38;5;28mself\u001b[39m\u001b[38;5;241m.\u001b[39m_call_tf_sessionprun(handle, feed_dict, fetch_list)\n\u001b[0;32m   1370\u001b[0m \u001b[38;5;28;01mif\u001b[39;00m handle \u001b[38;5;129;01mis\u001b[39;00m \u001b[38;5;28;01mNone\u001b[39;00m:\n\u001b[1;32m-> 1371\u001b[0m   \u001b[38;5;28;01mreturn\u001b[39;00m \u001b[38;5;28;43mself\u001b[39;49m\u001b[38;5;241;43m.\u001b[39;49m\u001b[43m_do_call\u001b[49m\u001b[43m(\u001b[49m\u001b[43m_run_fn\u001b[49m\u001b[43m,\u001b[49m\u001b[43m \u001b[49m\u001b[43mfeeds\u001b[49m\u001b[43m,\u001b[49m\u001b[43m \u001b[49m\u001b[43mfetches\u001b[49m\u001b[43m,\u001b[49m\u001b[43m \u001b[49m\u001b[43mtargets\u001b[49m\u001b[43m,\u001b[49m\u001b[43m \u001b[49m\u001b[43moptions\u001b[49m\u001b[43m,\u001b[49m\n\u001b[0;32m   1372\u001b[0m \u001b[43m                       \u001b[49m\u001b[43mrun_metadata\u001b[49m\u001b[43m)\u001b[49m\n\u001b[0;32m   1373\u001b[0m \u001b[38;5;28;01melse\u001b[39;00m:\n\u001b[0;32m   1374\u001b[0m   \u001b[38;5;28;01mreturn\u001b[39;00m \u001b[38;5;28mself\u001b[39m\u001b[38;5;241m.\u001b[39m_do_call(_prun_fn, handle, feeds, fetches)\n",
      "File \u001b[1;32m~\\New folder\\lib\\site-packages\\tensorflow\\python\\client\\session.py:1397\u001b[0m, in \u001b[0;36mBaseSession._do_call\u001b[1;34m(self, fn, *args)\u001b[0m\n\u001b[0;32m   1392\u001b[0m \u001b[38;5;28;01mif\u001b[39;00m \u001b[38;5;124m'\u001b[39m\u001b[38;5;124monly supports NHWC tensor format\u001b[39m\u001b[38;5;124m'\u001b[39m \u001b[38;5;129;01min\u001b[39;00m message:\n\u001b[0;32m   1393\u001b[0m   message \u001b[38;5;241m+\u001b[39m\u001b[38;5;241m=\u001b[39m (\u001b[38;5;124m'\u001b[39m\u001b[38;5;130;01m\\n\u001b[39;00m\u001b[38;5;124mA possible workaround: Try disabling Grappler optimizer\u001b[39m\u001b[38;5;124m'\u001b[39m\n\u001b[0;32m   1394\u001b[0m               \u001b[38;5;124m'\u001b[39m\u001b[38;5;130;01m\\n\u001b[39;00m\u001b[38;5;124mby modifying the config for creating the session eg.\u001b[39m\u001b[38;5;124m'\u001b[39m\n\u001b[0;32m   1395\u001b[0m               \u001b[38;5;124m'\u001b[39m\u001b[38;5;130;01m\\n\u001b[39;00m\u001b[38;5;124msession_config.graph_options.rewrite_options.\u001b[39m\u001b[38;5;124m'\u001b[39m\n\u001b[0;32m   1396\u001b[0m               \u001b[38;5;124m'\u001b[39m\u001b[38;5;124mdisable_meta_optimizer = True\u001b[39m\u001b[38;5;124m'\u001b[39m)\n\u001b[1;32m-> 1397\u001b[0m \u001b[38;5;28;01mraise\u001b[39;00m \u001b[38;5;28mtype\u001b[39m(e)(node_def, op, message)\n",
      "\u001b[1;31mFailedPreconditionError\u001b[0m: Graph execution error:\n\nDetected at node 'beta1_power/read' defined at (most recent call last):\n    File \"C:\\Users\\yashw\\New folder\\lib\\runpy.py\", line 197, in _run_module_as_main\n      return _run_code(code, main_globals, None,\n    File \"C:\\Users\\yashw\\New folder\\lib\\runpy.py\", line 87, in _run_code\n      exec(code, run_globals)\n    File \"C:\\Users\\yashw\\New folder\\lib\\site-packages\\ipykernel_launcher.py\", line 17, in <module>\n      app.launch_new_instance()\n    File \"C:\\Users\\yashw\\New folder\\lib\\site-packages\\traitlets\\config\\application.py\", line 992, in launch_instance\n      app.start()\n    File \"C:\\Users\\yashw\\New folder\\lib\\site-packages\\ipykernel\\kernelapp.py\", line 711, in start\n      self.io_loop.start()\n    File \"C:\\Users\\yashw\\New folder\\lib\\site-packages\\tornado\\platform\\asyncio.py\", line 215, in start\n      self.asyncio_loop.run_forever()\n    File \"C:\\Users\\yashw\\New folder\\lib\\asyncio\\base_events.py\", line 601, in run_forever\n      self._run_once()\n    File \"C:\\Users\\yashw\\New folder\\lib\\asyncio\\base_events.py\", line 1905, in _run_once\n      handle._run()\n    File \"C:\\Users\\yashw\\New folder\\lib\\asyncio\\events.py\", line 80, in _run\n      self._context.run(self._callback, *self._args)\n    File \"C:\\Users\\yashw\\New folder\\lib\\site-packages\\ipykernel\\kernelbase.py\", line 510, in dispatch_queue\n      await self.process_one()\n    File \"C:\\Users\\yashw\\New folder\\lib\\site-packages\\ipykernel\\kernelbase.py\", line 499, in process_one\n      await dispatch(*args)\n    File \"C:\\Users\\yashw\\New folder\\lib\\site-packages\\ipykernel\\kernelbase.py\", line 406, in dispatch_shell\n      await result\n    File \"C:\\Users\\yashw\\New folder\\lib\\site-packages\\ipykernel\\kernelbase.py\", line 729, in execute_request\n      reply_content = await reply_content\n    File \"C:\\Users\\yashw\\New folder\\lib\\site-packages\\ipykernel\\ipkernel.py\", line 411, in do_execute\n      res = shell.run_cell(\n    File \"C:\\Users\\yashw\\New folder\\lib\\site-packages\\ipykernel\\zmqshell.py\", line 531, in run_cell\n      return super().run_cell(*args, **kwargs)\n    File \"C:\\Users\\yashw\\New folder\\lib\\site-packages\\IPython\\core\\interactiveshell.py\", line 3006, in run_cell\n      result = self._run_cell(\n    File \"C:\\Users\\yashw\\New folder\\lib\\site-packages\\IPython\\core\\interactiveshell.py\", line 3061, in _run_cell\n      result = runner(coro)\n    File \"C:\\Users\\yashw\\New folder\\lib\\site-packages\\IPython\\core\\async_helpers.py\", line 129, in _pseudo_sync_runner\n      coro.send(None)\n    File \"C:\\Users\\yashw\\New folder\\lib\\site-packages\\IPython\\core\\interactiveshell.py\", line 3266, in run_cell_async\n      has_raised = await self.run_ast_nodes(code_ast.body, cell_name,\n    File \"C:\\Users\\yashw\\New folder\\lib\\site-packages\\IPython\\core\\interactiveshell.py\", line 3445, in run_ast_nodes\n      if await self.run_code(code, result, async_=asy):\n    File \"C:\\Users\\yashw\\New folder\\lib\\site-packages\\IPython\\core\\interactiveshell.py\", line 3505, in run_code\n      exec(code_obj, self.user_global_ns, self.user_ns)\n    File \"C:\\Users\\yashw\\AppData\\Local\\Temp\\ipykernel_4460\\3825576681.py\", line 2, in <module>\n      optimize = optimizer.minimize(cost)\nNode: 'beta1_power/read'\nAttempting to use uninitialized value beta1_power\n\t [[{{node beta1_power/read}}]]\n\nOriginal stack trace for 'beta1_power/read':\n  File \"C:\\Users\\yashw\\New folder\\lib\\runpy.py\", line 197, in _run_module_as_main\n    return _run_code(code, main_globals, None,\n  File \"C:\\Users\\yashw\\New folder\\lib\\runpy.py\", line 87, in _run_code\n    exec(code, run_globals)\n  File \"C:\\Users\\yashw\\New folder\\lib\\site-packages\\ipykernel_launcher.py\", line 17, in <module>\n    app.launch_new_instance()\n  File \"C:\\Users\\yashw\\New folder\\lib\\site-packages\\traitlets\\config\\application.py\", line 992, in launch_instance\n    app.start()\n  File \"C:\\Users\\yashw\\New folder\\lib\\site-packages\\ipykernel\\kernelapp.py\", line 711, in start\n    self.io_loop.start()\n  File \"C:\\Users\\yashw\\New folder\\lib\\site-packages\\tornado\\platform\\asyncio.py\", line 215, in start\n    self.asyncio_loop.run_forever()\n  File \"C:\\Users\\yashw\\New folder\\lib\\asyncio\\base_events.py\", line 601, in run_forever\n    self._run_once()\n  File \"C:\\Users\\yashw\\New folder\\lib\\asyncio\\base_events.py\", line 1905, in _run_once\n    handle._run()\n  File \"C:\\Users\\yashw\\New folder\\lib\\asyncio\\events.py\", line 80, in _run\n    self._context.run(self._callback, *self._args)\n  File \"C:\\Users\\yashw\\New folder\\lib\\site-packages\\ipykernel\\kernelbase.py\", line 510, in dispatch_queue\n    await self.process_one()\n  File \"C:\\Users\\yashw\\New folder\\lib\\site-packages\\ipykernel\\kernelbase.py\", line 499, in process_one\n    await dispatch(*args)\n  File \"C:\\Users\\yashw\\New folder\\lib\\site-packages\\ipykernel\\kernelbase.py\", line 406, in dispatch_shell\n    await result\n  File \"C:\\Users\\yashw\\New folder\\lib\\site-packages\\ipykernel\\kernelbase.py\", line 729, in execute_request\n    reply_content = await reply_content\n  File \"C:\\Users\\yashw\\New folder\\lib\\site-packages\\ipykernel\\ipkernel.py\", line 411, in do_execute\n    res = shell.run_cell(\n  File \"C:\\Users\\yashw\\New folder\\lib\\site-packages\\ipykernel\\zmqshell.py\", line 531, in run_cell\n    return super().run_cell(*args, **kwargs)\n  File \"C:\\Users\\yashw\\New folder\\lib\\site-packages\\IPython\\core\\interactiveshell.py\", line 3006, in run_cell\n    result = self._run_cell(\n  File \"C:\\Users\\yashw\\New folder\\lib\\site-packages\\IPython\\core\\interactiveshell.py\", line 3061, in _run_cell\n    result = runner(coro)\n  File \"C:\\Users\\yashw\\New folder\\lib\\site-packages\\IPython\\core\\async_helpers.py\", line 129, in _pseudo_sync_runner\n    coro.send(None)\n  File \"C:\\Users\\yashw\\New folder\\lib\\site-packages\\IPython\\core\\interactiveshell.py\", line 3266, in run_cell_async\n    has_raised = await self.run_ast_nodes(code_ast.body, cell_name,\n  File \"C:\\Users\\yashw\\New folder\\lib\\site-packages\\IPython\\core\\interactiveshell.py\", line 3445, in run_ast_nodes\n    if await self.run_code(code, result, async_=asy):\n  File \"C:\\Users\\yashw\\New folder\\lib\\site-packages\\IPython\\core\\interactiveshell.py\", line 3505, in run_code\n    exec(code_obj, self.user_global_ns, self.user_ns)\n  File \"C:\\Users\\yashw\\AppData\\Local\\Temp\\ipykernel_4460\\3825576681.py\", line 2, in <module>\n    optimize = optimizer.minimize(cost)\n  File \"C:\\Users\\yashw\\New folder\\lib\\site-packages\\tensorflow\\python\\training\\optimizer.py\", line 486, in minimize\n    return self.apply_gradients(grads_and_vars, global_step=global_step,\n  File \"C:\\Users\\yashw\\New folder\\lib\\site-packages\\tensorflow\\python\\training\\optimizer.py\", line 697, in apply_gradients\n    self._create_slots(var_list)\n  File \"C:\\Users\\yashw\\New folder\\lib\\site-packages\\tensorflow\\python\\training\\adam.py\", line 192, in _create_slots\n    self._create_non_slot_variable(\n  File \"C:\\Users\\yashw\\New folder\\lib\\site-packages\\tensorflow\\python\\training\\optimizer.py\", line 920, in _create_non_slot_variable\n    v = variable_scope.variable(\n  File \"C:\\Users\\yashw\\New folder\\lib\\site-packages\\tensorflow\\python\\util\\traceback_utils.py\", line 150, in error_handler\n    return fn(*args, **kwargs)\n  File \"C:\\Users\\yashw\\New folder\\lib\\site-packages\\tensorflow\\python\\ops\\variables.py\", line 285, in __call__\n    return cls._variable_v1_call(*args, **kwargs)\n  File \"C:\\Users\\yashw\\New folder\\lib\\site-packages\\tensorflow\\python\\ops\\variables.py\", line 226, in _variable_v1_call\n    return previous_getter(\n  File \"C:\\Users\\yashw\\New folder\\lib\\site-packages\\tensorflow\\python\\ops\\variables.py\", line 219, in <lambda>\n    previous_getter = lambda **kwargs: default_variable_creator(None, **kwargs)\n  File \"C:\\Users\\yashw\\New folder\\lib\\site-packages\\tensorflow\\python\\ops\\variable_scope.py\", line 2723, in default_variable_creator\n    return variables.RefVariable(\n  File \"C:\\Users\\yashw\\New folder\\lib\\site-packages\\tensorflow\\python\\util\\traceback_utils.py\", line 150, in error_handler\n    return fn(*args, **kwargs)\n  File \"C:\\Users\\yashw\\New folder\\lib\\site-packages\\tensorflow\\python\\ops\\variables.py\", line 289, in __call__\n    return super(VariableMetaclass, cls).__call__(*args, **kwargs)\n  File \"C:\\Users\\yashw\\New folder\\lib\\site-packages\\tensorflow\\python\\ops\\variables.py\", line 1679, in __init__\n    self._init_from_args(\n  File \"C:\\Users\\yashw\\New folder\\lib\\site-packages\\tensorflow\\python\\ops\\variables.py\", line 1886, in _init_from_args\n    self._snapshot = array_ops.identity(self._variable, name=\"read\")\n  File \"C:\\Users\\yashw\\New folder\\lib\\site-packages\\tensorflow\\python\\util\\traceback_utils.py\", line 150, in error_handler\n    return fn(*args, **kwargs)\n  File \"C:\\Users\\yashw\\New folder\\lib\\site-packages\\tensorflow\\python\\util\\dispatch.py\", line 1176, in op_dispatch_handler\n    return dispatch_target(*args, **kwargs)\n  File \"C:\\Users\\yashw\\New folder\\lib\\site-packages\\tensorflow\\python\\ops\\array_ops.py\", line 302, in identity\n    ret = gen_array_ops.identity(input, name=name)\n  File \"C:\\Users\\yashw\\New folder\\lib\\site-packages\\tensorflow\\python\\ops\\gen_array_ops.py\", line 4898, in identity\n    _, _, _op, _outputs = _op_def_library._apply_op_helper(\n  File \"C:\\Users\\yashw\\New folder\\lib\\site-packages\\tensorflow\\python\\framework\\op_def_library.py\", line 795, in _apply_op_helper\n    op = g._create_op_internal(op_type_name, inputs, dtypes=None,\n  File \"C:\\Users\\yashw\\New folder\\lib\\site-packages\\tensorflow\\python\\framework\\ops.py\", line 3814, in _create_op_internal\n    ret = Operation(\n"
     ]
    }
   ],
   "source": [
    "optimizer = tf.train.AdamOptimizer(learning_rate=0.001)\n",
    "optimize = optimizer.minimize(cost)\n",
    "sess.run([optimize],feed_dict={x:x_train,y:y_train})"
   ]
  },
  {
   "cell_type": "code",
   "execution_count": 26,
   "id": "27d1d485",
   "metadata": {},
   "outputs": [],
   "source": [
    "pred = forward_propagation(x,weights,biases)\n",
    "predictions = tf.argmax(pred,1)\n",
    "true_labels = tf.argmax(y,1)\n",
    "correct_predictions = tf.equal(predictions,true_labels)"
   ]
  },
  {
   "cell_type": "code",
   "execution_count": 27,
   "id": "b202a522",
   "metadata": {},
   "outputs": [
    {
     "data": {
      "text/plain": [
       "(array([9, 9, 6, ..., 5, 9, 2], dtype=int64),\n",
       " array([5, 0, 4, ..., 5, 6, 8], dtype=int64),\n",
       " array([False, False, False, ...,  True, False, False]))"
      ]
     },
     "execution_count": 27,
     "metadata": {},
     "output_type": "execute_result"
    }
   ],
   "source": [
    "predictions_eval,labels,correct_pred_train = sess.run([predictions,true_labels,correct_predictions],feed_dict={x:x_train,y:y_train})\n",
    "predictions_eval,labels,correct_pred_train"
   ]
  },
  {
   "cell_type": "code",
   "execution_count": 28,
   "id": "b74b1141",
   "metadata": {},
   "outputs": [
    {
     "name": "stdout",
     "output_type": "stream",
     "text": [
      "11.778333333333334\n"
     ]
    },
    {
     "data": {
      "text/plain": [
       "7067"
      ]
     },
     "execution_count": 28,
     "metadata": {},
     "output_type": "execute_result"
    }
   ],
   "source": [
    "correct_train = correct_pred_train.sum()\n",
    "print(correct_train/600)\n",
    "correct_train"
   ]
  },
  {
   "cell_type": "code",
   "execution_count": 29,
   "id": "c85a366b",
   "metadata": {},
   "outputs": [
    {
     "data": {
      "text/plain": [
       "(array([2, 3, 5, ..., 2, 7, 9], dtype=int64),\n",
       " array([7, 2, 1, ..., 4, 5, 6], dtype=int64),\n",
       " array([False, False, False, ..., False, False, False]))"
      ]
     },
     "execution_count": 29,
     "metadata": {},
     "output_type": "execute_result"
    }
   ],
   "source": [
    "predictions_eval,labels,correct_pred_test = sess.run([predictions,true_labels,correct_predictions],feed_dict={x:x_test,y:y_test})\n",
    "predictions_eval,labels,correct_pred_test"
   ]
  },
  {
   "cell_type": "code",
   "execution_count": 30,
   "id": "dd972276",
   "metadata": {},
   "outputs": [
    {
     "name": "stdout",
     "output_type": "stream",
     "text": [
      "11.68\n"
     ]
    },
    {
     "data": {
      "text/plain": [
       "1168"
      ]
     },
     "execution_count": 30,
     "metadata": {},
     "output_type": "execute_result"
    }
   ],
   "source": [
    "correct_test = correct_pred_test.sum()\n",
    "print(correct_test/100)\n",
    "correct_test"
   ]
  },
  {
   "cell_type": "code",
   "execution_count": null,
   "id": "00cd863b",
   "metadata": {},
   "outputs": [],
   "source": [
    "for i in range(25):\n",
    "    c, _ = sess.run([cost,optimize], feed_dict = {x:x_train,y:y_train})"
   ]
  },
  {
   "cell_type": "code",
   "execution_count": null,
   "id": "d17bc264",
   "metadata": {},
   "outputs": [],
   "source": []
  }
 ],
 "metadata": {
  "kernelspec": {
   "display_name": "Python 3 (ipykernel)",
   "language": "python",
   "name": "python3"
  },
  "language_info": {
   "codemirror_mode": {
    "name": "ipython",
    "version": 3
   },
   "file_extension": ".py",
   "mimetype": "text/x-python",
   "name": "python",
   "nbconvert_exporter": "python",
   "pygments_lexer": "ipython3",
   "version": "3.9.13"
  }
 },
 "nbformat": 4,
 "nbformat_minor": 5
}
